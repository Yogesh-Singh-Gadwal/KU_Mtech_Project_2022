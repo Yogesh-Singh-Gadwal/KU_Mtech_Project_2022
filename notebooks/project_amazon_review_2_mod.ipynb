{
 "cells": [
  {
   "cell_type": "markdown",
   "metadata": {
    "id": "Mw4uZNMcgu1P"
   },
   "source": [
    "### **In this study, I will apply feature extraction methods on Amazon Reviews dataset**"
   ]
  },
  {
   "cell_type": "markdown",
   "metadata": {
    "id": "MtIB4ZeYg8Ry"
   },
   "source": [
    "\n",
    "\n",
    "---\n",
    "\n",
    "\n",
    "\n",
    "---\n",
    "\n"
   ]
  },
  {
   "cell_type": "code",
   "execution_count": 1,
   "metadata": {
    "id": "N3atGC5iSK7L"
   },
   "outputs": [],
   "source": [
    "import pandas as pd\n",
    "import numpy as np\n",
    "import re"
   ]
  },
  {
   "cell_type": "code",
   "execution_count": 2,
   "metadata": {
    "colab": {
     "base_uri": "https://localhost:8080/",
     "height": 206
    },
    "id": "iuSRbmjVSLeF",
    "outputId": "218ad7b1-182e-4d98-e113-a4ef2a5d5928"
   },
   "outputs": [
    {
     "data": {
      "text/html": [
       "<div>\n",
       "<style scoped>\n",
       "    .dataframe tbody tr th:only-of-type {\n",
       "        vertical-align: middle;\n",
       "    }\n",
       "\n",
       "    .dataframe tbody tr th {\n",
       "        vertical-align: top;\n",
       "    }\n",
       "\n",
       "    .dataframe thead th {\n",
       "        text-align: right;\n",
       "    }\n",
       "</style>\n",
       "<table border=\"1\" class=\"dataframe\">\n",
       "  <thead>\n",
       "    <tr style=\"text-align: right;\">\n",
       "      <th></th>\n",
       "      <th>marketplace</th>\n",
       "      <th>customer_id</th>\n",
       "      <th>review_id</th>\n",
       "      <th>product_id</th>\n",
       "      <th>product_parent</th>\n",
       "      <th>product_title</th>\n",
       "      <th>product_category</th>\n",
       "      <th>star_rating</th>\n",
       "      <th>helpful_votes</th>\n",
       "      <th>total_votes</th>\n",
       "      <th>vine</th>\n",
       "      <th>verified_purchase</th>\n",
       "      <th>review_headline</th>\n",
       "      <th>review_body</th>\n",
       "      <th>review_date</th>\n",
       "      <th>review</th>\n",
       "      <th>polarities</th>\n",
       "      <th>sentiment_score</th>\n",
       "      <th>review_category</th>\n",
       "    </tr>\n",
       "  </thead>\n",
       "  <tbody>\n",
       "    <tr>\n",
       "      <th>0</th>\n",
       "      <td>US</td>\n",
       "      <td>53096575</td>\n",
       "      <td>R2I0T26SV0ELPP</td>\n",
       "      <td>0316219266</td>\n",
       "      <td>665813273</td>\n",
       "      <td>The Everything Store: Jeff Bezos and the Age o...</td>\n",
       "      <td>Books</td>\n",
       "      <td>1</td>\n",
       "      <td>4054</td>\n",
       "      <td>4756</td>\n",
       "      <td>N</td>\n",
       "      <td>Y</td>\n",
       "      <td>I wanted to like this book</td>\n",
       "      <td>In the first chapter, the book sets the stage ...</td>\n",
       "      <td>2013-11-04</td>\n",
       "      <td>I wanted to like this book In the first chapte...</td>\n",
       "      <td>{'neg': 0.055, 'neu': 0.78, 'pos': 0.164, 'com...</td>\n",
       "      <td>positive</td>\n",
       "      <td>product</td>\n",
       "    </tr>\n",
       "    <tr>\n",
       "      <th>1</th>\n",
       "      <td>US</td>\n",
       "      <td>12637794</td>\n",
       "      <td>RZGFXZ2HYHHRA</td>\n",
       "      <td>1780671067</td>\n",
       "      <td>509449366</td>\n",
       "      <td>Secret Garden: An Inky Treasure Hunt and Color...</td>\n",
       "      <td>Books</td>\n",
       "      <td>5</td>\n",
       "      <td>3416</td>\n",
       "      <td>3449</td>\n",
       "      <td>N</td>\n",
       "      <td>Y</td>\n",
       "      <td>CHOOSE  THE RIGHT  COLORING PENCILS</td>\n",
       "      <td>This is the list of items I use for coloring a...</td>\n",
       "      <td>2015-05-02</td>\n",
       "      <td>CHOOSE  THE RIGHT  COLORING PENCILS This is th...</td>\n",
       "      <td>{'neg': 0.036, 'neu': 0.882, 'pos': 0.082, 'co...</td>\n",
       "      <td>positive</td>\n",
       "      <td>product</td>\n",
       "    </tr>\n",
       "    <tr>\n",
       "      <th>2</th>\n",
       "      <td>US</td>\n",
       "      <td>30381644</td>\n",
       "      <td>R25ITJRIMQW92F</td>\n",
       "      <td>0805096663</td>\n",
       "      <td>647864157</td>\n",
       "      <td>Killing Kennedy: The End of Camelot</td>\n",
       "      <td>Books</td>\n",
       "      <td>1</td>\n",
       "      <td>2893</td>\n",
       "      <td>3589</td>\n",
       "      <td>N</td>\n",
       "      <td>Y</td>\n",
       "      <td>SORRY BILL</td>\n",
       "      <td>I was working in downtown Washington, D.C. on ...</td>\n",
       "      <td>2012-10-15</td>\n",
       "      <td>SORRY BILL I was working in downtown Washingto...</td>\n",
       "      <td>{'neg': 0.17, 'neu': 0.779, 'pos': 0.052, 'com...</td>\n",
       "      <td>negetive</td>\n",
       "      <td>product</td>\n",
       "    </tr>\n",
       "    <tr>\n",
       "      <th>3</th>\n",
       "      <td>US</td>\n",
       "      <td>26445230</td>\n",
       "      <td>R2I37K23W0YCC9</td>\n",
       "      <td>1623363586</td>\n",
       "      <td>465642569</td>\n",
       "      <td>Thug Kitchen: The Official Cookbook: Eat Like ...</td>\n",
       "      <td>Books</td>\n",
       "      <td>5</td>\n",
       "      <td>2746</td>\n",
       "      <td>2841</td>\n",
       "      <td>N</td>\n",
       "      <td>Y</td>\n",
       "      <td>Great Taste, A Little Complicated</td>\n",
       "      <td>I'll start by saying, the food in this book is...</td>\n",
       "      <td>2014-11-02</td>\n",
       "      <td>Great Taste, A Little Complicated I'll start b...</td>\n",
       "      <td>{'neg': 0.0, 'neu': 0.841, 'pos': 0.159, 'comp...</td>\n",
       "      <td>positive</td>\n",
       "      <td>product</td>\n",
       "    </tr>\n",
       "    <tr>\n",
       "      <th>4</th>\n",
       "      <td>US</td>\n",
       "      <td>52830381</td>\n",
       "      <td>R2ATIJCX4DJWBB</td>\n",
       "      <td>1400069289</td>\n",
       "      <td>136914857</td>\n",
       "      <td>The Power of Habit: Why We Do What We Do in Li...</td>\n",
       "      <td>Books</td>\n",
       "      <td>1</td>\n",
       "      <td>2551</td>\n",
       "      <td>3021</td>\n",
       "      <td>N</td>\n",
       "      <td>Y</td>\n",
       "      <td>One or two chapters of interest, the rest filler</td>\n",
       "      <td>The first two chapters weren't bad. They made ...</td>\n",
       "      <td>2012-05-04</td>\n",
       "      <td>One or two chapters of interest, the rest fill...</td>\n",
       "      <td>{'neg': 0.048, 'neu': 0.827, 'pos': 0.126, 'co...</td>\n",
       "      <td>positive</td>\n",
       "      <td>product</td>\n",
       "    </tr>\n",
       "  </tbody>\n",
       "</table>\n",
       "</div>"
      ],
      "text/plain": [
       "  marketplace  customer_id       review_id  product_id  product_parent  \\\n",
       "0          US     53096575  R2I0T26SV0ELPP  0316219266       665813273   \n",
       "1          US     12637794   RZGFXZ2HYHHRA  1780671067       509449366   \n",
       "2          US     30381644  R25ITJRIMQW92F  0805096663       647864157   \n",
       "3          US     26445230  R2I37K23W0YCC9  1623363586       465642569   \n",
       "4          US     52830381  R2ATIJCX4DJWBB  1400069289       136914857   \n",
       "\n",
       "                                       product_title product_category  \\\n",
       "0  The Everything Store: Jeff Bezos and the Age o...            Books   \n",
       "1  Secret Garden: An Inky Treasure Hunt and Color...            Books   \n",
       "2                Killing Kennedy: The End of Camelot            Books   \n",
       "3  Thug Kitchen: The Official Cookbook: Eat Like ...            Books   \n",
       "4  The Power of Habit: Why We Do What We Do in Li...            Books   \n",
       "\n",
       "   star_rating  helpful_votes  total_votes vine verified_purchase  \\\n",
       "0            1           4054         4756    N                 Y   \n",
       "1            5           3416         3449    N                 Y   \n",
       "2            1           2893         3589    N                 Y   \n",
       "3            5           2746         2841    N                 Y   \n",
       "4            1           2551         3021    N                 Y   \n",
       "\n",
       "                                    review_headline  \\\n",
       "0                        I wanted to like this book   \n",
       "1               CHOOSE  THE RIGHT  COLORING PENCILS   \n",
       "2                                        SORRY BILL   \n",
       "3                 Great Taste, A Little Complicated   \n",
       "4  One or two chapters of interest, the rest filler   \n",
       "\n",
       "                                         review_body review_date  \\\n",
       "0  In the first chapter, the book sets the stage ...  2013-11-04   \n",
       "1  This is the list of items I use for coloring a...  2015-05-02   \n",
       "2  I was working in downtown Washington, D.C. on ...  2012-10-15   \n",
       "3  I'll start by saying, the food in this book is...  2014-11-02   \n",
       "4  The first two chapters weren't bad. They made ...  2012-05-04   \n",
       "\n",
       "                                              review  \\\n",
       "0  I wanted to like this book In the first chapte...   \n",
       "1  CHOOSE  THE RIGHT  COLORING PENCILS This is th...   \n",
       "2  SORRY BILL I was working in downtown Washingto...   \n",
       "3  Great Taste, A Little Complicated I'll start b...   \n",
       "4  One or two chapters of interest, the rest fill...   \n",
       "\n",
       "                                          polarities sentiment_score  \\\n",
       "0  {'neg': 0.055, 'neu': 0.78, 'pos': 0.164, 'com...        positive   \n",
       "1  {'neg': 0.036, 'neu': 0.882, 'pos': 0.082, 'co...        positive   \n",
       "2  {'neg': 0.17, 'neu': 0.779, 'pos': 0.052, 'com...        negetive   \n",
       "3  {'neg': 0.0, 'neu': 0.841, 'pos': 0.159, 'comp...        positive   \n",
       "4  {'neg': 0.048, 'neu': 0.827, 'pos': 0.126, 'co...        positive   \n",
       "\n",
       "  review_category  \n",
       "0         product  \n",
       "1         product  \n",
       "2         product  \n",
       "3         product  \n",
       "4         product  "
      ]
     },
     "execution_count": 2,
     "metadata": {},
     "output_type": "execute_result"
    }
   ],
   "source": [
    "df = pd.read_csv('output/Amazon_reviews_categorised.csv')\n",
    "df.head()"
   ]
  },
  {
   "cell_type": "markdown",
   "metadata": {},
   "source": [
    "**Let's convert the 'review_date' column to a meaningful time format**  "
   ]
  },
  {
   "cell_type": "code",
   "execution_count": 3,
   "metadata": {},
   "outputs": [],
   "source": [
    "df['review_date'] = pd.to_datetime(df['review_date'])"
   ]
  },
  {
   "cell_type": "code",
   "execution_count": 4,
   "metadata": {
    "colab": {
     "base_uri": "https://localhost:8080/",
     "height": 341
    },
    "id": "2GYBRwiySVwX",
    "outputId": "644ad6c4-89c5-4494-d4d8-482e63b29a11"
   },
   "outputs": [
    {
     "name": "stdout",
     "output_type": "stream",
     "text": [
      "<class 'pandas.core.frame.DataFrame'>\n",
      "RangeIndex: 1143230 entries, 0 to 1143229\n",
      "Data columns (total 19 columns):\n",
      " #   Column             Non-Null Count    Dtype         \n",
      "---  ------             --------------    -----         \n",
      " 0   marketplace        1143230 non-null  object        \n",
      " 1   customer_id        1143230 non-null  int64         \n",
      " 2   review_id          1143230 non-null  object        \n",
      " 3   product_id         1143230 non-null  object        \n",
      " 4   product_parent     1143230 non-null  int64         \n",
      " 5   product_title      1143230 non-null  object        \n",
      " 6   product_category   1143230 non-null  object        \n",
      " 7   star_rating        1143230 non-null  int64         \n",
      " 8   helpful_votes      1143230 non-null  int64         \n",
      " 9   total_votes        1143230 non-null  int64         \n",
      " 10  vine               1143230 non-null  object        \n",
      " 11  verified_purchase  1143230 non-null  object        \n",
      " 12  review_headline    1143230 non-null  object        \n",
      " 13  review_body        1143230 non-null  object        \n",
      " 14  review_date        1143230 non-null  datetime64[ns]\n",
      " 15  review             1143230 non-null  object        \n",
      " 16  polarities         1143230 non-null  object        \n",
      " 17  sentiment_score    1143230 non-null  object        \n",
      " 18  review_category    1143230 non-null  object        \n",
      "dtypes: datetime64[ns](1), int64(5), object(13)\n",
      "memory usage: 165.7+ MB\n"
     ]
    }
   ],
   "source": [
    "df.info()"
   ]
  },
  {
   "cell_type": "code",
   "execution_count": 5,
   "metadata": {
    "colab": {
     "base_uri": "https://localhost:8080/",
     "height": 300
    },
    "id": "CWybHT2yS0qk",
    "outputId": "762f31c7-85d3-4989-af20-d0a887214064"
   },
   "outputs": [
    {
     "data": {
      "text/html": [
       "<div>\n",
       "<style scoped>\n",
       "    .dataframe tbody tr th:only-of-type {\n",
       "        vertical-align: middle;\n",
       "    }\n",
       "\n",
       "    .dataframe tbody tr th {\n",
       "        vertical-align: top;\n",
       "    }\n",
       "\n",
       "    .dataframe thead th {\n",
       "        text-align: right;\n",
       "    }\n",
       "</style>\n",
       "<table border=\"1\" class=\"dataframe\">\n",
       "  <thead>\n",
       "    <tr style=\"text-align: right;\">\n",
       "      <th></th>\n",
       "      <th>customer_id</th>\n",
       "      <th>product_parent</th>\n",
       "      <th>star_rating</th>\n",
       "      <th>helpful_votes</th>\n",
       "      <th>total_votes</th>\n",
       "    </tr>\n",
       "  </thead>\n",
       "  <tbody>\n",
       "    <tr>\n",
       "      <th>count</th>\n",
       "      <td>1143230.0</td>\n",
       "      <td>1143230.0</td>\n",
       "      <td>1143230.0</td>\n",
       "      <td>1143230.0</td>\n",
       "      <td>1143230.0</td>\n",
       "    </tr>\n",
       "    <tr>\n",
       "      <th>mean</th>\n",
       "      <td>29796857.7</td>\n",
       "      <td>500246947.5</td>\n",
       "      <td>3.0</td>\n",
       "      <td>5.1</td>\n",
       "      <td>7.0</td>\n",
       "    </tr>\n",
       "    <tr>\n",
       "      <th>std</th>\n",
       "      <td>15315084.8</td>\n",
       "      <td>288002921.2</td>\n",
       "      <td>1.4</td>\n",
       "      <td>19.2</td>\n",
       "      <td>22.0</td>\n",
       "    </tr>\n",
       "    <tr>\n",
       "      <th>min</th>\n",
       "      <td>10135.0</td>\n",
       "      <td>5710.0</td>\n",
       "      <td>1.0</td>\n",
       "      <td>0.0</td>\n",
       "      <td>0.0</td>\n",
       "    </tr>\n",
       "    <tr>\n",
       "      <th>25%</th>\n",
       "      <td>15775476.5</td>\n",
       "      <td>251905084.0</td>\n",
       "      <td>2.0</td>\n",
       "      <td>1.0</td>\n",
       "      <td>1.0</td>\n",
       "    </tr>\n",
       "    <tr>\n",
       "      <th>50%</th>\n",
       "      <td>29348325.0</td>\n",
       "      <td>501126142.0</td>\n",
       "      <td>3.0</td>\n",
       "      <td>2.0</td>\n",
       "      <td>3.0</td>\n",
       "    </tr>\n",
       "    <tr>\n",
       "      <th>75%</th>\n",
       "      <td>44172192.8</td>\n",
       "      <td>748573501.0</td>\n",
       "      <td>4.0</td>\n",
       "      <td>5.0</td>\n",
       "      <td>7.0</td>\n",
       "    </tr>\n",
       "    <tr>\n",
       "      <th>max</th>\n",
       "      <td>53096584.0</td>\n",
       "      <td>999997596.0</td>\n",
       "      <td>5.0</td>\n",
       "      <td>4054.0</td>\n",
       "      <td>4756.0</td>\n",
       "    </tr>\n",
       "  </tbody>\n",
       "</table>\n",
       "</div>"
      ],
      "text/plain": [
       "       customer_id  product_parent  star_rating  helpful_votes  total_votes\n",
       "count    1143230.0       1143230.0    1143230.0      1143230.0    1143230.0\n",
       "mean    29796857.7     500246947.5          3.0            5.1          7.0\n",
       "std     15315084.8     288002921.2          1.4           19.2         22.0\n",
       "min        10135.0          5710.0          1.0            0.0          0.0\n",
       "25%     15775476.5     251905084.0          2.0            1.0          1.0\n",
       "50%     29348325.0     501126142.0          3.0            2.0          3.0\n",
       "75%     44172192.8     748573501.0          4.0            5.0          7.0\n",
       "max     53096584.0     999997596.0          5.0         4054.0       4756.0"
      ]
     },
     "execution_count": 5,
     "metadata": {},
     "output_type": "execute_result"
    }
   ],
   "source": [
    "df.describe().round(1)"
   ]
  },
  {
   "cell_type": "markdown",
   "metadata": {
    "id": "uMQnlxMoZrCC"
   },
   "source": [
    "# Basic Feature Extraction - 1"
   ]
  },
  {
   "cell_type": "markdown",
   "metadata": {
    "id": "3qzq7Z2XZt4v"
   },
   "source": [
    "Normally, I tried to make data cleaning first. Then, I realized that while making data cleaning, I am losing some of characters that can help data cleaning. Therefore, there will be two part of feature extraction. Here, I will extract features that can't be exracted after data cleaning."
   ]
  },
  {
   "cell_type": "markdown",
   "metadata": {
    "id": "AyuO7pdDZznX"
   },
   "source": [
    "### 1) Number of stopwords"
   ]
  },
  {
   "cell_type": "code",
   "execution_count": 6,
   "metadata": {
    "colab": {
     "base_uri": "https://localhost:8080/",
     "height": 188
    },
    "id": "FXCED1U_ZzCD",
    "outputId": "e7232253-654f-4f50-c42d-69a98cb531aa"
   },
   "outputs": [
    {
     "name": "stderr",
     "output_type": "stream",
     "text": [
      "[nltk_data] Downloading package stopwords to\n",
      "[nltk_data]     C:\\Users\\Yogesh\\AppData\\Roaming\\nltk_data...\n",
      "[nltk_data]   Package stopwords is already up-to-date!\n",
      "[nltk_data] Downloading package wordnet to\n",
      "[nltk_data]     C:\\Users\\Yogesh\\AppData\\Roaming\\nltk_data...\n",
      "[nltk_data]   Package wordnet is already up-to-date!\n",
      "[nltk_data] Downloading package punkt to\n",
      "[nltk_data]     C:\\Users\\Yogesh\\AppData\\Roaming\\nltk_data...\n",
      "[nltk_data]   Package punkt is already up-to-date!\n",
      "[nltk_data] Downloading package averaged_perceptron_tagger to\n",
      "[nltk_data]     C:\\Users\\Yogesh\\AppData\\Roaming\\nltk_data...\n",
      "[nltk_data]   Package averaged_perceptron_tagger is already up-to-\n",
      "[nltk_data]       date!\n"
     ]
    }
   ],
   "source": [
    "!pip install -q wordcloud\n",
    "import wordcloud\n",
    "from nltk.corpus import stopwords\n",
    "import nltk\n",
    "import string\n",
    "nltk.download('stopwords')\n",
    "nltk.download('wordnet')\n",
    "nltk.download('punkt')\n",
    "nltk.download('averaged_perceptron_tagger')\n",
    "stop = stopwords.words('english')"
   ]
  },
  {
   "cell_type": "code",
   "execution_count": 7,
   "metadata": {
    "colab": {
     "base_uri": "https://localhost:8080/",
     "height": 206
    },
    "id": "I-aTbPcnSUfP",
    "outputId": "206e5be3-dbdf-4b92-9532-ee63f9ffe271"
   },
   "outputs": [],
   "source": [
    "df['stopwords'] = df['review'].apply(lambda x: len([x for x in x.split() if x in stop]))"
   ]
  },
  {
   "cell_type": "code",
   "execution_count": 8,
   "metadata": {},
   "outputs": [
    {
     "data": {
      "text/html": [
       "<div>\n",
       "<style scoped>\n",
       "    .dataframe tbody tr th:only-of-type {\n",
       "        vertical-align: middle;\n",
       "    }\n",
       "\n",
       "    .dataframe tbody tr th {\n",
       "        vertical-align: top;\n",
       "    }\n",
       "\n",
       "    .dataframe thead th {\n",
       "        text-align: right;\n",
       "    }\n",
       "</style>\n",
       "<table border=\"1\" class=\"dataframe\">\n",
       "  <thead>\n",
       "    <tr style=\"text-align: right;\">\n",
       "      <th></th>\n",
       "      <th>review</th>\n",
       "      <th>stopwords</th>\n",
       "    </tr>\n",
       "  </thead>\n",
       "  <tbody>\n",
       "    <tr>\n",
       "      <th>0</th>\n",
       "      <td>I wanted to like this book In the first chapte...</td>\n",
       "      <td>505</td>\n",
       "    </tr>\n",
       "    <tr>\n",
       "      <th>1</th>\n",
       "      <td>CHOOSE  THE RIGHT  COLORING PENCILS This is th...</td>\n",
       "      <td>95</td>\n",
       "    </tr>\n",
       "    <tr>\n",
       "      <th>2</th>\n",
       "      <td>SORRY BILL I was working in downtown Washingto...</td>\n",
       "      <td>680</td>\n",
       "    </tr>\n",
       "    <tr>\n",
       "      <th>3</th>\n",
       "      <td>Great Taste, A Little Complicated I'll start b...</td>\n",
       "      <td>100</td>\n",
       "    </tr>\n",
       "    <tr>\n",
       "      <th>4</th>\n",
       "      <td>One or two chapters of interest, the rest fill...</td>\n",
       "      <td>118</td>\n",
       "    </tr>\n",
       "  </tbody>\n",
       "</table>\n",
       "</div>"
      ],
      "text/plain": [
       "                                              review  stopwords\n",
       "0  I wanted to like this book In the first chapte...        505\n",
       "1  CHOOSE  THE RIGHT  COLORING PENCILS This is th...         95\n",
       "2  SORRY BILL I was working in downtown Washingto...        680\n",
       "3  Great Taste, A Little Complicated I'll start b...        100\n",
       "4  One or two chapters of interest, the rest fill...        118"
      ]
     },
     "execution_count": 8,
     "metadata": {},
     "output_type": "execute_result"
    }
   ],
   "source": [
    "df[['review','stopwords']].head()"
   ]
  },
  {
   "cell_type": "code",
   "execution_count": 9,
   "metadata": {},
   "outputs": [
    {
     "data": {
      "text/plain": [
       "1118818"
      ]
     },
     "execution_count": 9,
     "metadata": {},
     "output_type": "execute_result"
    }
   ],
   "source": [
    "df.stopwords.loc[df.stopwords != 0].count()"
   ]
  },
  {
   "cell_type": "markdown",
   "metadata": {
    "id": "jOimT9DYhbUb"
   },
   "source": [
    "### 2) Number of Punctuation"
   ]
  },
  {
   "cell_type": "code",
   "execution_count": 10,
   "metadata": {
    "id": "lRtk9lil9VCx"
   },
   "outputs": [],
   "source": [
    "def count_punct(text):\n",
    "    count = sum([1 for char in text if char in string.punctuation])\n",
    "    return count\n",
    "\n",
    "df['punctuation'] = df['review'].apply(lambda x: count_punct(x))"
   ]
  },
  {
   "cell_type": "code",
   "execution_count": 11,
   "metadata": {
    "colab": {
     "base_uri": "https://localhost:8080/",
     "height": 206
    },
    "id": "Rwdr0fiRa6i1",
    "outputId": "2c042567-ccc7-4f19-d328-111b537463ed"
   },
   "outputs": [
    {
     "data": {
      "text/html": [
       "<div>\n",
       "<style scoped>\n",
       "    .dataframe tbody tr th:only-of-type {\n",
       "        vertical-align: middle;\n",
       "    }\n",
       "\n",
       "    .dataframe tbody tr th {\n",
       "        vertical-align: top;\n",
       "    }\n",
       "\n",
       "    .dataframe thead th {\n",
       "        text-align: right;\n",
       "    }\n",
       "</style>\n",
       "<table border=\"1\" class=\"dataframe\">\n",
       "  <thead>\n",
       "    <tr style=\"text-align: right;\">\n",
       "      <th></th>\n",
       "      <th>review</th>\n",
       "      <th>punctuation</th>\n",
       "    </tr>\n",
       "  </thead>\n",
       "  <tbody>\n",
       "    <tr>\n",
       "      <th>0</th>\n",
       "      <td>I wanted to like this book In the first chapte...</td>\n",
       "      <td>151</td>\n",
       "    </tr>\n",
       "    <tr>\n",
       "      <th>1</th>\n",
       "      <td>CHOOSE  THE RIGHT  COLORING PENCILS This is th...</td>\n",
       "      <td>33</td>\n",
       "    </tr>\n",
       "    <tr>\n",
       "      <th>2</th>\n",
       "      <td>SORRY BILL I was working in downtown Washingto...</td>\n",
       "      <td>421</td>\n",
       "    </tr>\n",
       "    <tr>\n",
       "      <th>3</th>\n",
       "      <td>Great Taste, A Little Complicated I'll start b...</td>\n",
       "      <td>67</td>\n",
       "    </tr>\n",
       "    <tr>\n",
       "      <th>4</th>\n",
       "      <td>One or two chapters of interest, the rest fill...</td>\n",
       "      <td>87</td>\n",
       "    </tr>\n",
       "  </tbody>\n",
       "</table>\n",
       "</div>"
      ],
      "text/plain": [
       "                                              review  punctuation\n",
       "0  I wanted to like this book In the first chapte...          151\n",
       "1  CHOOSE  THE RIGHT  COLORING PENCILS This is th...           33\n",
       "2  SORRY BILL I was working in downtown Washingto...          421\n",
       "3  Great Taste, A Little Complicated I'll start b...           67\n",
       "4  One or two chapters of interest, the rest fill...           87"
      ]
     },
     "execution_count": 11,
     "metadata": {},
     "output_type": "execute_result"
    }
   ],
   "source": [
    "df[['review','punctuation']].head()"
   ]
  },
  {
   "cell_type": "code",
   "execution_count": 12,
   "metadata": {},
   "outputs": [
    {
     "data": {
      "text/plain": [
       "1112075"
      ]
     },
     "execution_count": 12,
     "metadata": {},
     "output_type": "execute_result"
    }
   ],
   "source": [
    "df.punctuation.loc[df.punctuation != 0].count()"
   ]
  },
  {
   "cell_type": "markdown",
   "metadata": {
    "id": "se2IozmTaOQf"
   },
   "source": [
    "### 3) Number of hashtag characters\n",
    "\n",
    "One more interesting feature which we can extract from a review is calculating the number of hashtags or mentions present in it. This also helps in extracting extra information from our text data."
   ]
  },
  {
   "cell_type": "code",
   "execution_count": 13,
   "metadata": {
    "colab": {
     "base_uri": "https://localhost:8080/",
     "height": 206
    },
    "id": "heKqiw6c9VG0",
    "outputId": "97924133-d8ba-40d2-b391-403e2b9f8701"
   },
   "outputs": [
    {
     "data": {
      "text/html": [
       "<div>\n",
       "<style scoped>\n",
       "    .dataframe tbody tr th:only-of-type {\n",
       "        vertical-align: middle;\n",
       "    }\n",
       "\n",
       "    .dataframe tbody tr th {\n",
       "        vertical-align: top;\n",
       "    }\n",
       "\n",
       "    .dataframe thead th {\n",
       "        text-align: right;\n",
       "    }\n",
       "</style>\n",
       "<table border=\"1\" class=\"dataframe\">\n",
       "  <thead>\n",
       "    <tr style=\"text-align: right;\">\n",
       "      <th></th>\n",
       "      <th>review</th>\n",
       "      <th>hastags</th>\n",
       "    </tr>\n",
       "  </thead>\n",
       "  <tbody>\n",
       "    <tr>\n",
       "      <th>0</th>\n",
       "      <td>I wanted to like this book In the first chapte...</td>\n",
       "      <td>0</td>\n",
       "    </tr>\n",
       "    <tr>\n",
       "      <th>1</th>\n",
       "      <td>CHOOSE  THE RIGHT  COLORING PENCILS This is th...</td>\n",
       "      <td>1</td>\n",
       "    </tr>\n",
       "    <tr>\n",
       "      <th>2</th>\n",
       "      <td>SORRY BILL I was working in downtown Washingto...</td>\n",
       "      <td>0</td>\n",
       "    </tr>\n",
       "    <tr>\n",
       "      <th>3</th>\n",
       "      <td>Great Taste, A Little Complicated I'll start b...</td>\n",
       "      <td>0</td>\n",
       "    </tr>\n",
       "    <tr>\n",
       "      <th>4</th>\n",
       "      <td>One or two chapters of interest, the rest fill...</td>\n",
       "      <td>0</td>\n",
       "    </tr>\n",
       "  </tbody>\n",
       "</table>\n",
       "</div>"
      ],
      "text/plain": [
       "                                              review  hastags\n",
       "0  I wanted to like this book In the first chapte...        0\n",
       "1  CHOOSE  THE RIGHT  COLORING PENCILS This is th...        1\n",
       "2  SORRY BILL I was working in downtown Washingto...        0\n",
       "3  Great Taste, A Little Complicated I'll start b...        0\n",
       "4  One or two chapters of interest, the rest fill...        0"
      ]
     },
     "execution_count": 13,
     "metadata": {},
     "output_type": "execute_result"
    }
   ],
   "source": [
    "df['hastags'] = df['review'].apply(lambda x: len([x for x in x.split() if x.startswith('#')]))\n",
    "df[['review','hastags']].head()"
   ]
  },
  {
   "cell_type": "code",
   "execution_count": 14,
   "metadata": {
    "colab": {
     "base_uri": "https://localhost:8080/",
     "height": 36
    },
    "id": "q3MbnNH1bA5H",
    "outputId": "85f99f99-7a73-434c-df93-9b0284db2813"
   },
   "outputs": [
    {
     "data": {
      "text/plain": [
       "4314"
      ]
     },
     "execution_count": 14,
     "metadata": {},
     "output_type": "execute_result"
    }
   ],
   "source": [
    "df.hastags.loc[df.hastags != 0].count()"
   ]
  },
  {
   "cell_type": "markdown",
   "metadata": {
    "id": "UQ67amRYamFu"
   },
   "source": [
    "### 4) Number of numerics\n",
    "Calculate the number of numerics which are present in the tweets can be useful. At least, it doesn't hurt to have such a data!"
   ]
  },
  {
   "cell_type": "code",
   "execution_count": 15,
   "metadata": {
    "colab": {
     "base_uri": "https://localhost:8080/"
    },
    "id": "-Sy3VyUNamhv",
    "outputId": "314385f9-b20c-4fb3-dcee-139104635e6b"
   },
   "outputs": [
    {
     "data": {
      "text/html": [
       "<div>\n",
       "<style scoped>\n",
       "    .dataframe tbody tr th:only-of-type {\n",
       "        vertical-align: middle;\n",
       "    }\n",
       "\n",
       "    .dataframe tbody tr th {\n",
       "        vertical-align: top;\n",
       "    }\n",
       "\n",
       "    .dataframe thead th {\n",
       "        text-align: right;\n",
       "    }\n",
       "</style>\n",
       "<table border=\"1\" class=\"dataframe\">\n",
       "  <thead>\n",
       "    <tr style=\"text-align: right;\">\n",
       "      <th></th>\n",
       "      <th>review</th>\n",
       "      <th>numerics</th>\n",
       "    </tr>\n",
       "  </thead>\n",
       "  <tbody>\n",
       "    <tr>\n",
       "      <th>0</th>\n",
       "      <td>I wanted to like this book In the first chapte...</td>\n",
       "      <td>3</td>\n",
       "    </tr>\n",
       "    <tr>\n",
       "      <th>1</th>\n",
       "      <td>CHOOSE  THE RIGHT  COLORING PENCILS This is th...</td>\n",
       "      <td>6</td>\n",
       "    </tr>\n",
       "    <tr>\n",
       "      <th>2</th>\n",
       "      <td>SORRY BILL I was working in downtown Washingto...</td>\n",
       "      <td>13</td>\n",
       "    </tr>\n",
       "    <tr>\n",
       "      <th>3</th>\n",
       "      <td>Great Taste, A Little Complicated I'll start b...</td>\n",
       "      <td>0</td>\n",
       "    </tr>\n",
       "    <tr>\n",
       "      <th>4</th>\n",
       "      <td>One or two chapters of interest, the rest fill...</td>\n",
       "      <td>0</td>\n",
       "    </tr>\n",
       "  </tbody>\n",
       "</table>\n",
       "</div>"
      ],
      "text/plain": [
       "                                              review  numerics\n",
       "0  I wanted to like this book In the first chapte...         3\n",
       "1  CHOOSE  THE RIGHT  COLORING PENCILS This is th...         6\n",
       "2  SORRY BILL I was working in downtown Washingto...        13\n",
       "3  Great Taste, A Little Complicated I'll start b...         0\n",
       "4  One or two chapters of interest, the rest fill...         0"
      ]
     },
     "execution_count": 15,
     "metadata": {},
     "output_type": "execute_result"
    }
   ],
   "source": [
    "df['numerics'] = df['review'].apply(lambda x: len([x for x in x.split() if x.isdigit()]))\n",
    "df[['review','numerics']].head()"
   ]
  },
  {
   "cell_type": "code",
   "execution_count": 16,
   "metadata": {},
   "outputs": [
    {
     "data": {
      "text/plain": [
       "210534"
      ]
     },
     "execution_count": 16,
     "metadata": {},
     "output_type": "execute_result"
    }
   ],
   "source": [
    "df.numerics.loc[df.numerics != 0].count()"
   ]
  },
  {
   "cell_type": "markdown",
   "metadata": {
    "id": "n0s4Y9KmaqvA"
   },
   "source": [
    "### 5) Number of Uppercase words\n",
    "Anger or rage is quite often expressed by writing in UPPERCASE words which makes this a necessary operation to identify those words."
   ]
  },
  {
   "cell_type": "code",
   "execution_count": 17,
   "metadata": {
    "colab": {
     "base_uri": "https://localhost:8080/"
    },
    "id": "AI4aA43ka2Vo",
    "outputId": "0902c309-2889-4769-80ce-6cf2fc9e3adc"
   },
   "outputs": [
    {
     "data": {
      "text/html": [
       "<div>\n",
       "<style scoped>\n",
       "    .dataframe tbody tr th:only-of-type {\n",
       "        vertical-align: middle;\n",
       "    }\n",
       "\n",
       "    .dataframe tbody tr th {\n",
       "        vertical-align: top;\n",
       "    }\n",
       "\n",
       "    .dataframe thead th {\n",
       "        text-align: right;\n",
       "    }\n",
       "</style>\n",
       "<table border=\"1\" class=\"dataframe\">\n",
       "  <thead>\n",
       "    <tr style=\"text-align: right;\">\n",
       "      <th></th>\n",
       "      <th>review</th>\n",
       "      <th>upper</th>\n",
       "    </tr>\n",
       "  </thead>\n",
       "  <tbody>\n",
       "    <tr>\n",
       "      <th>0</th>\n",
       "      <td>I wanted to like this book In the first chapte...</td>\n",
       "      <td>22</td>\n",
       "    </tr>\n",
       "    <tr>\n",
       "      <th>1</th>\n",
       "      <td>CHOOSE  THE RIGHT  COLORING PENCILS This is th...</td>\n",
       "      <td>15</td>\n",
       "    </tr>\n",
       "    <tr>\n",
       "      <th>2</th>\n",
       "      <td>SORRY BILL I was working in downtown Washingto...</td>\n",
       "      <td>37</td>\n",
       "    </tr>\n",
       "    <tr>\n",
       "      <th>3</th>\n",
       "      <td>Great Taste, A Little Complicated I'll start b...</td>\n",
       "      <td>7</td>\n",
       "    </tr>\n",
       "    <tr>\n",
       "      <th>4</th>\n",
       "      <td>One or two chapters of interest, the rest fill...</td>\n",
       "      <td>10</td>\n",
       "    </tr>\n",
       "  </tbody>\n",
       "</table>\n",
       "</div>"
      ],
      "text/plain": [
       "                                              review  upper\n",
       "0  I wanted to like this book In the first chapte...     22\n",
       "1  CHOOSE  THE RIGHT  COLORING PENCILS This is th...     15\n",
       "2  SORRY BILL I was working in downtown Washingto...     37\n",
       "3  Great Taste, A Little Complicated I'll start b...      7\n",
       "4  One or two chapters of interest, the rest fill...     10"
      ]
     },
     "execution_count": 17,
     "metadata": {},
     "output_type": "execute_result"
    }
   ],
   "source": [
    "df['upper'] = df['review'].apply(lambda x: len([x for x in x.split() if x.isupper()]))\n",
    "df[['review','upper']].head()"
   ]
  },
  {
   "cell_type": "code",
   "execution_count": 18,
   "metadata": {},
   "outputs": [
    {
     "data": {
      "text/plain": [
       "859296"
      ]
     },
     "execution_count": 18,
     "metadata": {},
     "output_type": "execute_result"
    }
   ],
   "source": [
    "df.upper.loc[df.upper != 0].count()"
   ]
  },
  {
   "cell_type": "markdown",
   "metadata": {},
   "source": [
    "### 6) Number of Emojis\n",
    "Emojis can be indictor of some emotions that can be related to being customer satisfaction."
   ]
  },
  {
   "cell_type": "code",
   "execution_count": 19,
   "metadata": {},
   "outputs": [
    {
     "name": "stdout",
     "output_type": "stream",
     "text": [
      "Requirement already satisfied: emot in c:\\users\\yogesh\\anaconda3\\lib\\site-packages (3.1)\n"
     ]
    },
    {
     "data": {
      "text/html": [
       "<div>\n",
       "<style scoped>\n",
       "    .dataframe tbody tr th:only-of-type {\n",
       "        vertical-align: middle;\n",
       "    }\n",
       "\n",
       "    .dataframe tbody tr th {\n",
       "        vertical-align: top;\n",
       "    }\n",
       "\n",
       "    .dataframe thead th {\n",
       "        text-align: right;\n",
       "    }\n",
       "</style>\n",
       "<table border=\"1\" class=\"dataframe\">\n",
       "  <thead>\n",
       "    <tr style=\"text-align: right;\">\n",
       "      <th></th>\n",
       "      <th>review</th>\n",
       "      <th>emoji</th>\n",
       "    </tr>\n",
       "  </thead>\n",
       "  <tbody>\n",
       "    <tr>\n",
       "      <th>0</th>\n",
       "      <td>I wanted to like this book In the first chapte...</td>\n",
       "      <td>0</td>\n",
       "    </tr>\n",
       "    <tr>\n",
       "      <th>1</th>\n",
       "      <td>CHOOSE  THE RIGHT  COLORING PENCILS This is th...</td>\n",
       "      <td>0</td>\n",
       "    </tr>\n",
       "    <tr>\n",
       "      <th>2</th>\n",
       "      <td>SORRY BILL I was working in downtown Washingto...</td>\n",
       "      <td>0</td>\n",
       "    </tr>\n",
       "    <tr>\n",
       "      <th>3</th>\n",
       "      <td>Great Taste, A Little Complicated I'll start b...</td>\n",
       "      <td>0</td>\n",
       "    </tr>\n",
       "    <tr>\n",
       "      <th>4</th>\n",
       "      <td>One or two chapters of interest, the rest fill...</td>\n",
       "      <td>0</td>\n",
       "    </tr>\n",
       "  </tbody>\n",
       "</table>\n",
       "</div>"
      ],
      "text/plain": [
       "                                              review  emoji\n",
       "0  I wanted to like this book In the first chapte...      0\n",
       "1  CHOOSE  THE RIGHT  COLORING PENCILS This is th...      0\n",
       "2  SORRY BILL I was working in downtown Washingto...      0\n",
       "3  Great Taste, A Little Complicated I'll start b...      0\n",
       "4  One or two chapters of interest, the rest fill...      0"
      ]
     },
     "execution_count": 19,
     "metadata": {},
     "output_type": "execute_result"
    }
   ],
   "source": [
    "!pip install emot\n",
    "\n",
    "import emot \n",
    "emot_obj = emot.core.emot() \n",
    "\n",
    "df['emoji'] = df['review'].apply(lambda x: len(emot_obj.emoji(x)[\"value\"]))\n",
    "df[['review','emoji']].head()"
   ]
  },
  {
   "cell_type": "code",
   "execution_count": 20,
   "metadata": {},
   "outputs": [
    {
     "data": {
      "text/plain": [
       "827"
      ]
     },
     "execution_count": 20,
     "metadata": {},
     "output_type": "execute_result"
    }
   ],
   "source": [
    "df.emoji.loc[df.emoji != 0].count()"
   ]
  },
  {
   "cell_type": "markdown",
   "metadata": {},
   "source": [
    "### 7) Number of Emoticons\n",
    "\n",
    "***What is the difference between emoji and emoticons?***\n",
    "\n",
    "*   :-) is an emoticon\n",
    "*   😜 → emoji."
   ]
  },
  {
   "cell_type": "code",
   "execution_count": 21,
   "metadata": {},
   "outputs": [
    {
     "data": {
      "text/html": [
       "<div>\n",
       "<style scoped>\n",
       "    .dataframe tbody tr th:only-of-type {\n",
       "        vertical-align: middle;\n",
       "    }\n",
       "\n",
       "    .dataframe tbody tr th {\n",
       "        vertical-align: top;\n",
       "    }\n",
       "\n",
       "    .dataframe thead th {\n",
       "        text-align: right;\n",
       "    }\n",
       "</style>\n",
       "<table border=\"1\" class=\"dataframe\">\n",
       "  <thead>\n",
       "    <tr style=\"text-align: right;\">\n",
       "      <th></th>\n",
       "      <th>review</th>\n",
       "      <th>emoticon</th>\n",
       "    </tr>\n",
       "  </thead>\n",
       "  <tbody>\n",
       "    <tr>\n",
       "      <th>0</th>\n",
       "      <td>I wanted to like this book In the first chapte...</td>\n",
       "      <td>0</td>\n",
       "    </tr>\n",
       "    <tr>\n",
       "      <th>1</th>\n",
       "      <td>CHOOSE  THE RIGHT  COLORING PENCILS This is th...</td>\n",
       "      <td>0</td>\n",
       "    </tr>\n",
       "    <tr>\n",
       "      <th>2</th>\n",
       "      <td>SORRY BILL I was working in downtown Washingto...</td>\n",
       "      <td>2</td>\n",
       "    </tr>\n",
       "    <tr>\n",
       "      <th>3</th>\n",
       "      <td>Great Taste, A Little Complicated I'll start b...</td>\n",
       "      <td>1</td>\n",
       "    </tr>\n",
       "    <tr>\n",
       "      <th>4</th>\n",
       "      <td>One or two chapters of interest, the rest fill...</td>\n",
       "      <td>0</td>\n",
       "    </tr>\n",
       "  </tbody>\n",
       "</table>\n",
       "</div>"
      ],
      "text/plain": [
       "                                              review  emoticon\n",
       "0  I wanted to like this book In the first chapte...         0\n",
       "1  CHOOSE  THE RIGHT  COLORING PENCILS This is th...         0\n",
       "2  SORRY BILL I was working in downtown Washingto...         2\n",
       "3  Great Taste, A Little Complicated I'll start b...         1\n",
       "4  One or two chapters of interest, the rest fill...         0"
      ]
     },
     "execution_count": 21,
     "metadata": {},
     "output_type": "execute_result"
    }
   ],
   "source": [
    "import emot \n",
    "emot_obj = emot.core.emot() \n",
    "\n",
    "df['emoticon'] = df['review'].apply(lambda x: len(emot_obj.emoticons(x)[\"value\"]))\n",
    "df[['review','emoticon']].head()"
   ]
  },
  {
   "cell_type": "code",
   "execution_count": 22,
   "metadata": {},
   "outputs": [
    {
     "data": {
      "text/plain": [
       "48216"
      ]
     },
     "execution_count": 22,
     "metadata": {},
     "output_type": "execute_result"
    }
   ],
   "source": [
    "df.emoticon.loc[df.emoticon != 0].count()"
   ]
  },
  {
   "cell_type": "markdown",
   "metadata": {
    "id": "BTJuoOSjcP7P"
   },
   "source": [
    "\n",
    "\n",
    "---\n",
    "\n",
    "\n",
    "\n",
    "---\n",
    "\n",
    "\n",
    "\n",
    "---\n",
    "\n"
   ]
  },
  {
   "cell_type": "markdown",
   "metadata": {
    "id": "1IsIT-gjJHC-"
   },
   "source": [
    "**Now, let's save this extracted data as CSV file** "
   ]
  },
  {
   "cell_type": "code",
   "execution_count": 23,
   "metadata": {
    "id": "W33GaarNHljs"
   },
   "outputs": [],
   "source": [
    "df.to_csv('output/Amazon_reviews_processed_1.csv', index=False)"
   ]
  }
 ],
 "metadata": {
  "colab": {
   "collapsed_sections": [
    "UQ67amRYamFu",
    "n0s4Y9KmaqvA",
    "PsQrL9pYcaCD",
    "oRuQsr1jcpyd",
    "dvQHrvdARMMK",
    "wVqAJNvIUF9I"
   ],
   "name": "1_Data_cleaning_and_feature_extraction.ipynb",
   "provenance": []
  },
  "kernelspec": {
   "display_name": "Python 3 (ipykernel)",
   "language": "python",
   "name": "python3"
  },
  "language_info": {
   "codemirror_mode": {
    "name": "ipython",
    "version": 3
   },
   "file_extension": ".py",
   "mimetype": "text/x-python",
   "name": "python",
   "nbconvert_exporter": "python",
   "pygments_lexer": "ipython3",
   "version": "3.9.12"
  }
 },
 "nbformat": 4,
 "nbformat_minor": 1
}
