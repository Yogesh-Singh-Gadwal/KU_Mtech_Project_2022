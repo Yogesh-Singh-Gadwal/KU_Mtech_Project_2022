{
 "cells": [
  {
   "cell_type": "code",
   "execution_count": 1,
   "id": "1f218074",
   "metadata": {},
   "outputs": [],
   "source": [
    "# General Imports\n",
    "import pickle\n",
    "import numpy as np\n",
    "import pandas as pd\n",
    "from tqdm import tqdm,trange\n",
    "import time\n",
    "\n",
    "\n",
    "# Classifier Imports\n",
    "from sklearn.model_selection import train_test_split, GridSearchCV \n",
    "from sklearn.metrics import classification_report,confusion_matrix\n",
    "from sklearn.pipeline import Pipeline, FeatureUnion\n",
    "from sklearn.feature_extraction.text import CountVectorizer, TfidfTransformer\n",
    "from sklearn.multioutput import MultiOutputClassifier\n",
    "from sklearn.ensemble import RandomForestClassifier "
   ]
  },
  {
   "cell_type": "code",
   "execution_count": 2,
   "id": "9504c7f7",
   "metadata": {},
   "outputs": [
    {
     "data": {
      "text/html": [
       "<div>\n",
       "<style scoped>\n",
       "    .dataframe tbody tr th:only-of-type {\n",
       "        vertical-align: middle;\n",
       "    }\n",
       "\n",
       "    .dataframe tbody tr th {\n",
       "        vertical-align: top;\n",
       "    }\n",
       "\n",
       "    .dataframe thead th {\n",
       "        text-align: right;\n",
       "    }\n",
       "</style>\n",
       "<table border=\"1\" class=\"dataframe\">\n",
       "  <thead>\n",
       "    <tr style=\"text-align: right;\">\n",
       "      <th></th>\n",
       "      <th>text</th>\n",
       "      <th>star_rating</th>\n",
       "      <th>sentiment_class</th>\n",
       "      <th>category_class</th>\n",
       "    </tr>\n",
       "  </thead>\n",
       "  <tbody>\n",
       "    <tr>\n",
       "      <th>0</th>\n",
       "      <td>choose right list item beautiful intricate det...</td>\n",
       "      <td>5.0</td>\n",
       "      <td>Positive</td>\n",
       "      <td>product</td>\n",
       "    </tr>\n",
       "    <tr>\n",
       "      <th>1</th>\n",
       "      <td>sorry bill work downtown washington november j...</td>\n",
       "      <td>1.0</td>\n",
       "      <td>Negative</td>\n",
       "      <td>product</td>\n",
       "    </tr>\n",
       "    <tr>\n",
       "      <th>2</th>\n",
       "      <td>great taste start say book amazing world good ...</td>\n",
       "      <td>5.0</td>\n",
       "      <td>Positive</td>\n",
       "      <td>product</td>\n",
       "    </tr>\n",
       "    <tr>\n",
       "      <th>3</th>\n",
       "      <td>beyond religion endorsement support another su...</td>\n",
       "      <td>5.0</td>\n",
       "      <td>Positive</td>\n",
       "      <td>product</td>\n",
       "    </tr>\n",
       "    <tr>\n",
       "      <th>4</th>\n",
       "      <td>unique work generation edit would point ridicu...</td>\n",
       "      <td>5.0</td>\n",
       "      <td>Positive</td>\n",
       "      <td>product</td>\n",
       "    </tr>\n",
       "  </tbody>\n",
       "</table>\n",
       "</div>"
      ],
      "text/plain": [
       "                                                text star_rating  \\\n",
       "0  choose right list item beautiful intricate det...         5.0   \n",
       "1  sorry bill work downtown washington november j...         1.0   \n",
       "2  great taste start say book amazing world good ...         5.0   \n",
       "3  beyond religion endorsement support another su...         5.0   \n",
       "4  unique work generation edit would point ridicu...         5.0   \n",
       "\n",
       "  sentiment_class category_class  \n",
       "0        Positive        product  \n",
       "1        Negative        product  \n",
       "2        Positive        product  \n",
       "3        Positive        product  \n",
       "4        Positive        product  "
      ]
     },
     "execution_count": 2,
     "metadata": {},
     "output_type": "execute_result"
    }
   ],
   "source": [
    "data = pd.read_csv('output/Amazon_reviews_mid_f1.csv', dtype=str,)\n",
    "data.head()"
   ]
  },
  {
   "cell_type": "code",
   "execution_count": 3,
   "id": "96d93752",
   "metadata": {},
   "outputs": [],
   "source": [
    "X = data[\"text\"].values\n",
    "category_names = ['star_rating','sentiment_class', 'category_class']\n",
    "Y = data[category_names].values"
   ]
  },
  {
   "cell_type": "code",
   "execution_count": 4,
   "id": "a14461f4",
   "metadata": {},
   "outputs": [],
   "source": [
    "X_train, X_test, Y_train, Y_test = train_test_split(X, Y, test_size=0.1 )\n",
    "X_train, X_val, Y_train, Y_val = train_test_split(X_train, Y_train, test_size=0.1)"
   ]
  },
  {
   "cell_type": "code",
   "execution_count": 5,
   "id": "d5c0869d",
   "metadata": {},
   "outputs": [
    {
     "name": "stdout",
     "output_type": "stream",
     "text": [
      "X_train: (44651,) | X_val: (4962,) | X_test: (5513,) | \n",
      "y_train: (44651, 3) | y_val: (4962, 3) | y_test: (5513, 3) | \n"
     ]
    }
   ],
   "source": [
    "print(f\"X_train: {X_train.shape} | X_val: {X_val.shape} | X_test: {X_test.shape} | \\n\" + \n",
    "          f\"y_train: {Y_train.shape} | y_val: {Y_val.shape} | y_test: {Y_test.shape} | \")"
   ]
  },
  {
   "cell_type": "code",
   "execution_count": 12,
   "id": "4eebf6e0",
   "metadata": {},
   "outputs": [],
   "source": [
    "pipeline = Pipeline([('features', FeatureUnion([\n",
    "        ('text_pipeline', Pipeline([\n",
    "            ('vect', CountVectorizer()),\n",
    "            ('tfidf', TfidfTransformer())\n",
    "        ]))\n",
    "    ])),\n",
    "    ('clf', MultiOutputClassifier(estimator = RandomForestClassifier()))\n",
    "    ])\n"
   ]
  },
  {
   "cell_type": "code",
   "execution_count": 13,
   "id": "6d863d9d",
   "metadata": {},
   "outputs": [],
   "source": [
    "parameters = {'clf__estimator__n_estimators': [10, 20, 30, 40, 50]}"
   ]
  },
  {
   "cell_type": "code",
   "execution_count": 14,
   "id": "057970f1",
   "metadata": {},
   "outputs": [],
   "source": [
    "model = GridSearchCV(pipeline, param_grid=parameters, n_jobs=4)"
   ]
  },
  {
   "cell_type": "code",
   "execution_count": 15,
   "id": "a2fd327f",
   "metadata": {},
   "outputs": [
    {
     "data": {
      "text/plain": [
       "GridSearchCV(estimator=Pipeline(steps=[('features',\n",
       "                                        FeatureUnion(transformer_list=[('text_pipeline',\n",
       "                                                                        Pipeline(steps=[('vect',\n",
       "                                                                                         CountVectorizer()),\n",
       "                                                                                        ('tfidf',\n",
       "                                                                                         TfidfTransformer())]))])),\n",
       "                                       ('clf',\n",
       "                                        MultiOutputClassifier(estimator=RandomForestClassifier()))]),\n",
       "             n_jobs=4,\n",
       "             param_grid={'clf__estimator__n_estimators': [10, 20, 30, 40, 50]})"
      ]
     },
     "execution_count": 15,
     "metadata": {},
     "output_type": "execute_result"
    }
   ],
   "source": [
    "model.fit(X_train, Y_train)"
   ]
  },
  {
   "cell_type": "code",
   "execution_count": 16,
   "id": "682c24f0",
   "metadata": {
    "scrolled": true
   },
   "outputs": [],
   "source": [
    "Y_pred = model.predict(X_test)"
   ]
  },
  {
   "cell_type": "code",
   "execution_count": 17,
   "id": "1398fb63",
   "metadata": {},
   "outputs": [
    {
     "name": "stdout",
     "output_type": "stream",
     "text": [
      "Best Parameters: {'clf__estimator__n_estimators': 50}\n"
     ]
    }
   ],
   "source": [
    "print(\"Best Parameters:\", model.best_params_)"
   ]
  },
  {
   "cell_type": "code",
   "execution_count": 25,
   "id": "bf971f45",
   "metadata": {},
   "outputs": [
    {
     "name": "stdout",
     "output_type": "stream",
     "text": [
      "Column name: star_rating\n",
      "classification_report: \n",
      "               precision    recall  f1-score   support\n",
      "\n",
      "         1.0   0.658683  0.176565  0.278481       623\n",
      "         2.0   0.434160  0.441319  0.437710      1031\n",
      "         3.0   0.430769  0.101449  0.164223       552\n",
      "         4.0   0.443775  0.614230  0.515272      1799\n",
      "         5.0   0.577473  0.642573  0.608286      1508\n",
      "\n",
      "    accuracy                       0.488845      5513\n",
      "   macro avg   0.508972  0.395227  0.400794      5513\n",
      "weighted avg   0.501532  0.488845  0.464301      5513\n",
      "\n",
      "Column name: sentiment_class\n",
      "classification_report: \n",
      "               precision    recall  f1-score   support\n",
      "\n",
      "    Negative   0.865882  0.313725  0.460576      1173\n",
      "     Neutral   0.789346  0.838046  0.812968      1556\n",
      "    Positive   0.786088  0.970187  0.868489      2784\n",
      "\n",
      "    accuracy                       0.793216      5513\n",
      "   macro avg   0.813772  0.707320  0.714011      5513\n",
      "weighted avg   0.803986  0.793216  0.766027      5513\n",
      "\n",
      "Column name: category_class\n",
      "classification_report: \n",
      "               precision    recall  f1-score   support\n",
      "\n",
      "    delivery   0.987775  0.700781  0.819888      1153\n",
      "   packaging   0.964626  0.787778  0.867278       900\n",
      "     product   0.870960  0.996821  0.929650      3460\n",
      "\n",
      "    accuracy                       0.900780      5513\n",
      "   macro avg   0.941120  0.828460  0.872272      5513\n",
      "weighted avg   0.910682  0.900780  0.896512      5513\n",
      "\n"
     ]
    }
   ],
   "source": [
    "for column in range(Y_test.shape[1]):\n",
    "    print(\"Column name: {}\".format(category_names[column]))\n",
    "    print(\"classification_report: \\n\",classification_report(Y_test[:,column],Y_pred[:,column],digits=6))\n",
    "#     print(\"confusion_matrix: \\n\",confusion_matrix(Y_test[:,column],Y_pred[:,column]))"
   ]
  },
  {
   "cell_type": "code",
   "execution_count": 19,
   "id": "d90a690e",
   "metadata": {},
   "outputs": [],
   "source": [
    "# store the model as pickle object\n",
    "pickle.dump(model, open(\"output/model/RFC_final.pkl\", 'wb'))"
   ]
  },
  {
   "cell_type": "code",
   "execution_count": 20,
   "id": "4d51df6b",
   "metadata": {},
   "outputs": [],
   "source": [
    "# load the model from disk\n",
    "loaded_model = pickle.load(open(\"output/model/RFC_final.pkl\", 'rb'))"
   ]
  },
  {
   "cell_type": "code",
   "execution_count": 21,
   "id": "53056615",
   "metadata": {},
   "outputs": [
    {
     "name": "stdout",
     "output_type": "stream",
     "text": [
      "Validation of models :\n"
     ]
    }
   ],
   "source": [
    "print(\"Validation of models :\")"
   ]
  },
  {
   "cell_type": "code",
   "execution_count": 22,
   "id": "815f923c",
   "metadata": {},
   "outputs": [
    {
     "name": "stdout",
     "output_type": "stream",
     "text": [
      "text is: \n",
      " ['awesome complex crime thriller book dense great complex character awesome plot twist keep late night turn page absolute pleasure read kenyon tough small town sheriff detective single mother girl call upon investigate entire family nearby farmhouse discovers adopt miss becomes prime suspect handle go farmhouse subsequently destroy tornado daughter jenna miss suspect investigation desperate search daughter intensifies uncovers twist lie past murder center ruthless serial killer novel well write deftly handle plot twist plenty master flesh various character psychology motivation write woman incredibly well embitter haunt compassionate likeable kenyon serial killer groupie bonnie tina show later book flashback incredible everything come together puts brilliant clever twist suicide story thing seem long time crime thriller reader find novel incredibly satisfy cannot wait read rest fiction'\n",
      " 'close expect finger chart year regular write need know read disappointed']\n"
     ]
    }
   ],
   "source": [
    "print(\"text is: \\n\",X_val[:2] )"
   ]
  },
  {
   "cell_type": "code",
   "execution_count": 23,
   "id": "92db09ba",
   "metadata": {},
   "outputs": [
    {
     "name": "stdout",
     "output_type": "stream",
     "text": [
      "Actual result is: \n",
      " [['5.0' 'Positive' 'product']\n",
      " ['2.0' 'Negative' 'product']]\n"
     ]
    }
   ],
   "source": [
    "print(\"Actual result is: \\n\", Y_val[:2])"
   ]
  },
  {
   "cell_type": "code",
   "execution_count": 24,
   "id": "3eae58df",
   "metadata": {},
   "outputs": [
    {
     "name": "stdout",
     "output_type": "stream",
     "text": [
      "Predicted result is: \n",
      " [['5.0' 'Positive' 'product']\n",
      " ['4.0' 'Neutral' 'product']]\n"
     ]
    }
   ],
   "source": [
    "res=loaded_model.predict(X_val[:2])\n",
    "print(\"Predicted result is: \\n\", res[:2])"
   ]
  },
  {
   "cell_type": "code",
   "execution_count": null,
   "id": "d193524d",
   "metadata": {},
   "outputs": [],
   "source": []
  }
 ],
 "metadata": {
  "kernelspec": {
   "display_name": "Python 3 (ipykernel)",
   "language": "python",
   "name": "python3"
  },
  "language_info": {
   "codemirror_mode": {
    "name": "ipython",
    "version": 3
   },
   "file_extension": ".py",
   "mimetype": "text/x-python",
   "name": "python",
   "nbconvert_exporter": "python",
   "pygments_lexer": "ipython3",
   "version": "3.9.12"
  }
 },
 "nbformat": 4,
 "nbformat_minor": 5
}
