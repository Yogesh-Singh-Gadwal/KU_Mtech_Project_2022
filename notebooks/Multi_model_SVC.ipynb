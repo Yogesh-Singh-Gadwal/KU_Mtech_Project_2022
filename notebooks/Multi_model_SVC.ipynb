{
 "cells": [
  {
   "cell_type": "code",
   "execution_count": 1,
   "id": "1f218074",
   "metadata": {},
   "outputs": [],
   "source": [
    "# General Imports\n",
    "import pickle\n",
    "import numpy as np\n",
    "import pandas as pd\n",
    "from tqdm import tqdm,trange\n",
    "import time\n",
    "\n",
    "\n",
    "# Classifier Imports\n",
    "from sklearn.model_selection import train_test_split, GridSearchCV \n",
    "from sklearn.metrics import classification_report,confusion_matrix\n",
    "from sklearn.pipeline import Pipeline, FeatureUnion\n",
    "from sklearn.feature_extraction.text import CountVectorizer, TfidfTransformer\n",
    "from sklearn.multioutput import MultiOutputClassifier\n",
    "from sklearn.svm import SVC"
   ]
  },
  {
   "cell_type": "code",
   "execution_count": 2,
   "id": "9504c7f7",
   "metadata": {},
   "outputs": [
    {
     "data": {
      "text/html": [
       "<div>\n",
       "<style scoped>\n",
       "    .dataframe tbody tr th:only-of-type {\n",
       "        vertical-align: middle;\n",
       "    }\n",
       "\n",
       "    .dataframe tbody tr th {\n",
       "        vertical-align: top;\n",
       "    }\n",
       "\n",
       "    .dataframe thead th {\n",
       "        text-align: right;\n",
       "    }\n",
       "</style>\n",
       "<table border=\"1\" class=\"dataframe\">\n",
       "  <thead>\n",
       "    <tr style=\"text-align: right;\">\n",
       "      <th></th>\n",
       "      <th>text</th>\n",
       "      <th>star_rating</th>\n",
       "      <th>sentiment_class</th>\n",
       "      <th>category_class</th>\n",
       "    </tr>\n",
       "  </thead>\n",
       "  <tbody>\n",
       "    <tr>\n",
       "      <th>0</th>\n",
       "      <td>choose right list item beautiful intricate det...</td>\n",
       "      <td>5.0</td>\n",
       "      <td>Positive</td>\n",
       "      <td>product</td>\n",
       "    </tr>\n",
       "    <tr>\n",
       "      <th>1</th>\n",
       "      <td>sorry bill work downtown washington november j...</td>\n",
       "      <td>1.0</td>\n",
       "      <td>Negative</td>\n",
       "      <td>product</td>\n",
       "    </tr>\n",
       "    <tr>\n",
       "      <th>2</th>\n",
       "      <td>great taste start say book amazing world good ...</td>\n",
       "      <td>5.0</td>\n",
       "      <td>Positive</td>\n",
       "      <td>product</td>\n",
       "    </tr>\n",
       "    <tr>\n",
       "      <th>3</th>\n",
       "      <td>beyond religion endorsement support another su...</td>\n",
       "      <td>5.0</td>\n",
       "      <td>Positive</td>\n",
       "      <td>product</td>\n",
       "    </tr>\n",
       "    <tr>\n",
       "      <th>4</th>\n",
       "      <td>unique work generation edit would point ridicu...</td>\n",
       "      <td>5.0</td>\n",
       "      <td>Positive</td>\n",
       "      <td>product</td>\n",
       "    </tr>\n",
       "  </tbody>\n",
       "</table>\n",
       "</div>"
      ],
      "text/plain": [
       "                                                text star_rating  \\\n",
       "0  choose right list item beautiful intricate det...         5.0   \n",
       "1  sorry bill work downtown washington november j...         1.0   \n",
       "2  great taste start say book amazing world good ...         5.0   \n",
       "3  beyond religion endorsement support another su...         5.0   \n",
       "4  unique work generation edit would point ridicu...         5.0   \n",
       "\n",
       "  sentiment_class category_class  \n",
       "0        Positive        product  \n",
       "1        Negative        product  \n",
       "2        Positive        product  \n",
       "3        Positive        product  \n",
       "4        Positive        product  "
      ]
     },
     "execution_count": 2,
     "metadata": {},
     "output_type": "execute_result"
    }
   ],
   "source": [
    "data = pd.read_csv('output/Amazon_reviews_mid_f1.csv', dtype=str,)\n",
    "data.head()"
   ]
  },
  {
   "cell_type": "code",
   "execution_count": 3,
   "id": "96d93752",
   "metadata": {},
   "outputs": [],
   "source": [
    "X = data[\"text\"].values\n",
    "category_names = ['star_rating','sentiment_class', 'category_class']\n",
    "Y = data[category_names].values"
   ]
  },
  {
   "cell_type": "code",
   "execution_count": 4,
   "id": "a14461f4",
   "metadata": {},
   "outputs": [],
   "source": [
    "X_train, X_test, Y_train, Y_test = train_test_split(X, Y, test_size=0.1 )\n",
    "X_train, X_val, Y_train, Y_val = train_test_split(X_train, Y_train, test_size=0.1)"
   ]
  },
  {
   "cell_type": "code",
   "execution_count": 5,
   "id": "d5c0869d",
   "metadata": {},
   "outputs": [
    {
     "name": "stdout",
     "output_type": "stream",
     "text": [
      "X_train: (44651,) | X_val: (4962,) | X_test: (5513,) | \n",
      "y_train: (44651, 3) | y_val: (4962, 3) | y_test: (5513, 3) | \n"
     ]
    }
   ],
   "source": [
    "print(f\"X_train: {X_train.shape} | X_val: {X_val.shape} | X_test: {X_test.shape} | \\n\" + \n",
    "          f\"y_train: {Y_train.shape} | y_val: {Y_val.shape} | y_test: {Y_test.shape} | \")"
   ]
  },
  {
   "cell_type": "code",
   "execution_count": 8,
   "id": "057970f1",
   "metadata": {},
   "outputs": [],
   "source": [
    "model = Pipeline([('features', FeatureUnion([\n",
    "        ('text_pipeline', Pipeline([\n",
    "            ('vect', CountVectorizer()),\n",
    "            ('tfidf', TfidfTransformer())\n",
    "        ]))\n",
    "    ])),\n",
    "    ('clf', MultiOutputClassifier(estimator = SVC(gamma=\"scale\")))])"
   ]
  },
  {
   "cell_type": "code",
   "execution_count": 9,
   "id": "a2fd327f",
   "metadata": {},
   "outputs": [
    {
     "data": {
      "text/plain": [
       "Pipeline(steps=[('features',\n",
       "                 FeatureUnion(transformer_list=[('text_pipeline',\n",
       "                                                 Pipeline(steps=[('vect',\n",
       "                                                                  CountVectorizer()),\n",
       "                                                                 ('tfidf',\n",
       "                                                                  TfidfTransformer())]))])),\n",
       "                ('clf', MultiOutputClassifier(estimator=SVC()))])"
      ]
     },
     "execution_count": 9,
     "metadata": {},
     "output_type": "execute_result"
    }
   ],
   "source": [
    "model.fit(X_train, Y_train)"
   ]
  },
  {
   "cell_type": "code",
   "execution_count": 10,
   "id": "ff2755e7",
   "metadata": {},
   "outputs": [],
   "source": [
    "Y_pred = model.predict(X_test)"
   ]
  },
  {
   "cell_type": "code",
   "execution_count": 18,
   "id": "bf971f45",
   "metadata": {},
   "outputs": [
    {
     "name": "stdout",
     "output_type": "stream",
     "text": [
      "Column name: star_rating\n",
      "classification_report: \n",
      "               precision    recall  f1-score   support\n",
      "\n",
      "         1.0   0.655087  0.463158  0.542652       570\n",
      "         2.0   0.541298  0.643295  0.587905      1141\n",
      "         3.0   0.427350  0.103306  0.166389       484\n",
      "         4.0   0.584836  0.685637  0.631238      1845\n",
      "         5.0   0.706242  0.706721  0.706481      1473\n",
      "\n",
      "    accuracy                       0.608380      5513\n",
      "   macro avg   0.582963  0.520423  0.526933      5513\n",
      "weighted avg   0.601700  0.608380  0.592404      5513\n",
      "\n",
      "Column name: sentiment_class\n",
      "classification_report: \n",
      "               precision    recall  f1-score   support\n",
      "\n",
      "    Negative   0.807163  0.745547  0.775132      1179\n",
      "     Neutral   0.805521  0.826255  0.815756      1554\n",
      "    Positive   0.940283  0.957194  0.948663      2780\n",
      "\n",
      "    accuracy                       0.875023      5513\n",
      "   macro avg   0.850989  0.842999  0.846517      5513\n",
      "weighted avg   0.873827  0.875023  0.874088      5513\n",
      "\n",
      "Column name: category_class\n",
      "classification_report: \n",
      "               precision    recall  f1-score   support\n",
      "\n",
      "    delivery   0.995211  0.923556  0.958045      1125\n",
      "   packaging   0.989064  0.922902  0.954839       882\n",
      "     product   0.961327  0.999715  0.980145      3506\n",
      "\n",
      "    accuracy                       0.971885      5513\n",
      "   macro avg   0.981868  0.948724  0.964343      5513\n",
      "weighted avg   0.972679  0.971885  0.971587      5513\n",
      "\n"
     ]
    }
   ],
   "source": [
    "for column in range(Y_test.shape[1]):\n",
    "    print(\"Column name: {}\".format(category_names[column]))\n",
    "    print(\"classification_report: \\n\",classification_report(Y_test[:,column],Y_pred[:,column],digits=6))\n",
    "#     print(\"confusion_matrix: \\n\",confusion_matrix(Y_test[:,column],Y_pred[:,column]))"
   ]
  },
  {
   "cell_type": "code",
   "execution_count": 12,
   "id": "d90a690e",
   "metadata": {},
   "outputs": [],
   "source": [
    "# store the model as pickle object\n",
    "pickle.dump(model, open(\"output/model/SVC_final.pkl\", 'wb'))"
   ]
  },
  {
   "cell_type": "code",
   "execution_count": 6,
   "id": "4d51df6b",
   "metadata": {},
   "outputs": [],
   "source": [
    "# load the model from disk\n",
    "loaded_model = pickle.load(open(\"output/model/SVC_final.pkl\", 'rb'))"
   ]
  },
  {
   "cell_type": "code",
   "execution_count": 7,
   "id": "53056615",
   "metadata": {},
   "outputs": [
    {
     "name": "stdout",
     "output_type": "stream",
     "text": [
      "Validation of models :\n"
     ]
    }
   ],
   "source": [
    "print(\"Validation of models :\")"
   ]
  },
  {
   "cell_type": "code",
   "execution_count": 13,
   "id": "815f923c",
   "metadata": {},
   "outputs": [
    {
     "name": "stdout",
     "output_type": "stream",
     "text": [
      "text is: \n",
      " unfortunately content rather bland lack substantive research recommendation every chapter sound\n"
     ]
    }
   ],
   "source": [
    "print(\"text is: \\n\",X_val[1] )"
   ]
  },
  {
   "cell_type": "code",
   "execution_count": 14,
   "id": "92db09ba",
   "metadata": {},
   "outputs": [
    {
     "name": "stdout",
     "output_type": "stream",
     "text": [
      "Actual result is: \n",
      " ['2.0' 'Negative' 'product']\n"
     ]
    }
   ],
   "source": [
    "print(\"Actual result is: \\n\", Y_val[1])"
   ]
  },
  {
   "cell_type": "code",
   "execution_count": 15,
   "id": "3eae58df",
   "metadata": {},
   "outputs": [
    {
     "name": "stdout",
     "output_type": "stream",
     "text": [
      "Predicted result is: \n",
      " ['2.0' 'Negative' 'product']\n"
     ]
    }
   ],
   "source": [
    "res=loaded_model.predict(X_val[:2])\n",
    "print(\"Predicted result is: \\n\", res[1])"
   ]
  },
  {
   "cell_type": "code",
   "execution_count": 25,
   "id": "d193524d",
   "metadata": {},
   "outputs": [],
   "source": [
    "res=loaded_model.predict([\"This product is great, delivery got delayed, packaging was average\"])"
   ]
  },
  {
   "cell_type": "code",
   "execution_count": 26,
   "id": "a1ef4bb0",
   "metadata": {},
   "outputs": [
    {
     "name": "stdout",
     "output_type": "stream",
     "text": [
      "Predicted result is: \n",
      " ['4.0' 'Positive' 'delivery']\n"
     ]
    }
   ],
   "source": [
    "print(\"Predicted result is: \\n\", res[0])"
   ]
  },
  {
   "cell_type": "code",
   "execution_count": null,
   "id": "a8217a16",
   "metadata": {},
   "outputs": [],
   "source": []
  }
 ],
 "metadata": {
  "kernelspec": {
   "display_name": "Python 3 (ipykernel)",
   "language": "python",
   "name": "python3"
  },
  "language_info": {
   "codemirror_mode": {
    "name": "ipython",
    "version": 3
   },
   "file_extension": ".py",
   "mimetype": "text/x-python",
   "name": "python",
   "nbconvert_exporter": "python",
   "pygments_lexer": "ipython3",
   "version": "3.9.12"
  }
 },
 "nbformat": 4,
 "nbformat_minor": 5
}
