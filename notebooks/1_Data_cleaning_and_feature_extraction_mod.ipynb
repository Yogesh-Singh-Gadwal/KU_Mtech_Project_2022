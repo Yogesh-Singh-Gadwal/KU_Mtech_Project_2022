{
 "cells": [
  {
   "cell_type": "markdown",
   "metadata": {
    "id": "Mw4uZNMcgu1P"
   },
   "source": [
    "### **In this study, I will apply data cleaning and feature extraction methods on Amazon Reviews dataset**"
   ]
  },
  {
   "cell_type": "code",
   "execution_count": 1,
   "metadata": {
    "id": "N3atGC5iSK7L"
   },
   "outputs": [],
   "source": [
    "import pandas as pd\n",
    "import numpy as np\n",
    "import re"
   ]
  },
  {
   "cell_type": "code",
   "execution_count": 2,
   "metadata": {
    "colab": {
     "base_uri": "https://localhost:8080/",
     "height": 206
    },
    "id": "iuSRbmjVSLeF",
    "outputId": "218ad7b1-182e-4d98-e113-a4ef2a5d5928",
    "scrolled": true
   },
   "outputs": [
    {
     "data": {
      "text/html": [
       "<div>\n",
       "<style scoped>\n",
       "    .dataframe tbody tr th:only-of-type {\n",
       "        vertical-align: middle;\n",
       "    }\n",
       "\n",
       "    .dataframe tbody tr th {\n",
       "        vertical-align: top;\n",
       "    }\n",
       "\n",
       "    .dataframe thead th {\n",
       "        text-align: right;\n",
       "    }\n",
       "</style>\n",
       "<table border=\"1\" class=\"dataframe\">\n",
       "  <thead>\n",
       "    <tr style=\"text-align: right;\">\n",
       "      <th></th>\n",
       "      <th>customer_id</th>\n",
       "      <th>product_id</th>\n",
       "      <th>star_rating</th>\n",
       "      <th>helpful_votes</th>\n",
       "      <th>total_votes</th>\n",
       "      <th>vine</th>\n",
       "      <th>verified_purchase</th>\n",
       "      <th>review_headline</th>\n",
       "      <th>review_body</th>\n",
       "      <th>review_date</th>\n",
       "    </tr>\n",
       "  </thead>\n",
       "  <tbody>\n",
       "    <tr>\n",
       "      <th>0</th>\n",
       "      <td>25933450</td>\n",
       "      <td>0439873800</td>\n",
       "      <td>5</td>\n",
       "      <td>0</td>\n",
       "      <td>0</td>\n",
       "      <td>N</td>\n",
       "      <td>Y</td>\n",
       "      <td>Five Stars</td>\n",
       "      <td>I love it and so does my students!</td>\n",
       "      <td>2015-08-31</td>\n",
       "    </tr>\n",
       "    <tr>\n",
       "      <th>1</th>\n",
       "      <td>1801372</td>\n",
       "      <td>1623953553</td>\n",
       "      <td>5</td>\n",
       "      <td>0</td>\n",
       "      <td>0</td>\n",
       "      <td>N</td>\n",
       "      <td>Y</td>\n",
       "      <td>Please buy \"I Saw a Friend\"! Your children wil...</td>\n",
       "      <td>My wife and I ordered 2 books and gave them as...</td>\n",
       "      <td>2015-08-31</td>\n",
       "    </tr>\n",
       "    <tr>\n",
       "      <th>2</th>\n",
       "      <td>5782091</td>\n",
       "      <td>142151981X</td>\n",
       "      <td>5</td>\n",
       "      <td>0</td>\n",
       "      <td>0</td>\n",
       "      <td>N</td>\n",
       "      <td>Y</td>\n",
       "      <td>Shipped fast.</td>\n",
       "      <td>Great book just like all the others in the ser...</td>\n",
       "      <td>2015-08-31</td>\n",
       "    </tr>\n",
       "    <tr>\n",
       "      <th>3</th>\n",
       "      <td>32715830</td>\n",
       "      <td>014241543X</td>\n",
       "      <td>5</td>\n",
       "      <td>0</td>\n",
       "      <td>0</td>\n",
       "      <td>N</td>\n",
       "      <td>N</td>\n",
       "      <td>Five Stars</td>\n",
       "      <td>So beautiful</td>\n",
       "      <td>2015-08-31</td>\n",
       "    </tr>\n",
       "    <tr>\n",
       "      <th>4</th>\n",
       "      <td>14005703</td>\n",
       "      <td>1604600527</td>\n",
       "      <td>5</td>\n",
       "      <td>2</td>\n",
       "      <td>2</td>\n",
       "      <td>N</td>\n",
       "      <td>Y</td>\n",
       "      <td>Five Stars</td>\n",
       "      <td>Enjoyed the author's story and his quilts are ...</td>\n",
       "      <td>2015-08-31</td>\n",
       "    </tr>\n",
       "  </tbody>\n",
       "</table>\n",
       "</div>"
      ],
      "text/plain": [
       "   customer_id  product_id  star_rating  helpful_votes  total_votes vine  \\\n",
       "0     25933450  0439873800            5              0            0    N   \n",
       "1      1801372  1623953553            5              0            0    N   \n",
       "2      5782091  142151981X            5              0            0    N   \n",
       "3     32715830  014241543X            5              0            0    N   \n",
       "4     14005703  1604600527            5              2            2    N   \n",
       "\n",
       "  verified_purchase                                    review_headline  \\\n",
       "0                 Y                                         Five Stars   \n",
       "1                 Y  Please buy \"I Saw a Friend\"! Your children wil...   \n",
       "2                 Y                                      Shipped fast.   \n",
       "3                 N                                         Five Stars   \n",
       "4                 Y                                         Five Stars   \n",
       "\n",
       "                                         review_body review_date  \n",
       "0                 I love it and so does my students!  2015-08-31  \n",
       "1  My wife and I ordered 2 books and gave them as...  2015-08-31  \n",
       "2  Great book just like all the others in the ser...  2015-08-31  \n",
       "3                                       So beautiful  2015-08-31  \n",
       "4  Enjoyed the author's story and his quilts are ...  2015-08-31  "
      ]
     },
     "execution_count": 2,
     "metadata": {},
     "output_type": "execute_result"
    }
   ],
   "source": [
    "# df = pd.read_csv('output/vacuum_cleaner_complete_reviews.csv')\n",
    "# cols = pd.read_table(file_name, nrows=1,).columns\n",
    "file_name=\"output/amazon_reviews_us_Books_v1_00.tsv\"\n",
    "cols=['product_id', 'customer_id', 'helpful_votes', 'total_votes', \n",
    "      'star_rating', 'review_date', 'review_headline', 'review_body', \n",
    "      'vine', 'verified_purchase' ]\n",
    "df = pd.read_table(file_name, usecols=cols, dtype={'star_rating':'int64'}, \n",
    "                   on_bad_lines='warn', quoting = 3, encoding=\"utf-8\")\n",
    "df.head()"
   ]
  },
  {
   "cell_type": "markdown",
   "metadata": {},
   "source": [
    "**Let's convert the 'review_date' column to a meaningful time format**  "
   ]
  },
  {
   "cell_type": "code",
   "execution_count": 3,
   "metadata": {},
   "outputs": [
    {
     "data": {
      "text/html": [
       "<div>\n",
       "<style scoped>\n",
       "    .dataframe tbody tr th:only-of-type {\n",
       "        vertical-align: middle;\n",
       "    }\n",
       "\n",
       "    .dataframe tbody tr th {\n",
       "        vertical-align: top;\n",
       "    }\n",
       "\n",
       "    .dataframe thead th {\n",
       "        text-align: right;\n",
       "    }\n",
       "</style>\n",
       "<table border=\"1\" class=\"dataframe\">\n",
       "  <thead>\n",
       "    <tr style=\"text-align: right;\">\n",
       "      <th></th>\n",
       "      <th>customer_id</th>\n",
       "      <th>product_id</th>\n",
       "      <th>star_rating</th>\n",
       "      <th>helpful_votes</th>\n",
       "      <th>total_votes</th>\n",
       "      <th>vine</th>\n",
       "      <th>verified_purchase</th>\n",
       "      <th>review_headline</th>\n",
       "      <th>review_body</th>\n",
       "      <th>review_date</th>\n",
       "    </tr>\n",
       "  </thead>\n",
       "  <tbody>\n",
       "    <tr>\n",
       "      <th>0</th>\n",
       "      <td>25933450</td>\n",
       "      <td>0439873800</td>\n",
       "      <td>5</td>\n",
       "      <td>0</td>\n",
       "      <td>0</td>\n",
       "      <td>N</td>\n",
       "      <td>Y</td>\n",
       "      <td>Five Stars</td>\n",
       "      <td>I love it and so does my students!</td>\n",
       "      <td>2015-08-31</td>\n",
       "    </tr>\n",
       "    <tr>\n",
       "      <th>1</th>\n",
       "      <td>1801372</td>\n",
       "      <td>1623953553</td>\n",
       "      <td>5</td>\n",
       "      <td>0</td>\n",
       "      <td>0</td>\n",
       "      <td>N</td>\n",
       "      <td>Y</td>\n",
       "      <td>Please buy \"I Saw a Friend\"! Your children wil...</td>\n",
       "      <td>My wife and I ordered 2 books and gave them as...</td>\n",
       "      <td>2015-08-31</td>\n",
       "    </tr>\n",
       "    <tr>\n",
       "      <th>2</th>\n",
       "      <td>5782091</td>\n",
       "      <td>142151981X</td>\n",
       "      <td>5</td>\n",
       "      <td>0</td>\n",
       "      <td>0</td>\n",
       "      <td>N</td>\n",
       "      <td>Y</td>\n",
       "      <td>Shipped fast.</td>\n",
       "      <td>Great book just like all the others in the ser...</td>\n",
       "      <td>2015-08-31</td>\n",
       "    </tr>\n",
       "    <tr>\n",
       "      <th>3</th>\n",
       "      <td>32715830</td>\n",
       "      <td>014241543X</td>\n",
       "      <td>5</td>\n",
       "      <td>0</td>\n",
       "      <td>0</td>\n",
       "      <td>N</td>\n",
       "      <td>N</td>\n",
       "      <td>Five Stars</td>\n",
       "      <td>So beautiful</td>\n",
       "      <td>2015-08-31</td>\n",
       "    </tr>\n",
       "    <tr>\n",
       "      <th>4</th>\n",
       "      <td>14005703</td>\n",
       "      <td>1604600527</td>\n",
       "      <td>5</td>\n",
       "      <td>2</td>\n",
       "      <td>2</td>\n",
       "      <td>N</td>\n",
       "      <td>Y</td>\n",
       "      <td>Five Stars</td>\n",
       "      <td>Enjoyed the author's story and his quilts are ...</td>\n",
       "      <td>2015-08-31</td>\n",
       "    </tr>\n",
       "  </tbody>\n",
       "</table>\n",
       "</div>"
      ],
      "text/plain": [
       "   customer_id  product_id  star_rating  helpful_votes  total_votes vine  \\\n",
       "0     25933450  0439873800            5              0            0    N   \n",
       "1      1801372  1623953553            5              0            0    N   \n",
       "2      5782091  142151981X            5              0            0    N   \n",
       "3     32715830  014241543X            5              0            0    N   \n",
       "4     14005703  1604600527            5              2            2    N   \n",
       "\n",
       "  verified_purchase                                    review_headline  \\\n",
       "0                 Y                                         Five Stars   \n",
       "1                 Y  Please buy \"I Saw a Friend\"! Your children wil...   \n",
       "2                 Y                                      Shipped fast.   \n",
       "3                 N                                         Five Stars   \n",
       "4                 Y                                         Five Stars   \n",
       "\n",
       "                                         review_body review_date  \n",
       "0                 I love it and so does my students!  2015-08-31  \n",
       "1  My wife and I ordered 2 books and gave them as...  2015-08-31  \n",
       "2  Great book just like all the others in the ser...  2015-08-31  \n",
       "3                                       So beautiful  2015-08-31  \n",
       "4  Enjoyed the author's story and his quilts are ...  2015-08-31  "
      ]
     },
     "execution_count": 3,
     "metadata": {},
     "output_type": "execute_result"
    }
   ],
   "source": [
    "df['review_date'] = pd.to_datetime(df['review_date'])\n",
    "df.head()"
   ]
  },
  {
   "cell_type": "code",
   "execution_count": 4,
   "metadata": {
    "colab": {
     "base_uri": "https://localhost:8080/",
     "height": 341
    },
    "id": "2GYBRwiySVwX",
    "outputId": "644ad6c4-89c5-4494-d4d8-482e63b29a11"
   },
   "outputs": [
    {
     "name": "stdout",
     "output_type": "stream",
     "text": [
      "<class 'pandas.core.frame.DataFrame'>\n",
      "RangeIndex: 10319090 entries, 0 to 10319089\n",
      "Data columns (total 10 columns):\n",
      " #   Column             Dtype         \n",
      "---  ------             -----         \n",
      " 0   customer_id        int64         \n",
      " 1   product_id         object        \n",
      " 2   star_rating        int64         \n",
      " 3   helpful_votes      int64         \n",
      " 4   total_votes        int64         \n",
      " 5   vine               object        \n",
      " 6   verified_purchase  object        \n",
      " 7   review_headline    object        \n",
      " 8   review_body        object        \n",
      " 9   review_date        datetime64[ns]\n",
      "dtypes: datetime64[ns](1), int64(4), object(5)\n",
      "memory usage: 787.3+ MB\n"
     ]
    }
   ],
   "source": [
    "df.info()"
   ]
  },
  {
   "cell_type": "code",
   "execution_count": 5,
   "metadata": {
    "colab": {
     "base_uri": "https://localhost:8080/",
     "height": 300
    },
    "id": "CWybHT2yS0qk",
    "outputId": "762f31c7-85d3-4989-af20-d0a887214064"
   },
   "outputs": [
    {
     "data": {
      "text/html": [
       "<div>\n",
       "<style scoped>\n",
       "    .dataframe tbody tr th:only-of-type {\n",
       "        vertical-align: middle;\n",
       "    }\n",
       "\n",
       "    .dataframe tbody tr th {\n",
       "        vertical-align: top;\n",
       "    }\n",
       "\n",
       "    .dataframe thead th {\n",
       "        text-align: right;\n",
       "    }\n",
       "</style>\n",
       "<table border=\"1\" class=\"dataframe\">\n",
       "  <thead>\n",
       "    <tr style=\"text-align: right;\">\n",
       "      <th></th>\n",
       "      <th>customer_id</th>\n",
       "      <th>star_rating</th>\n",
       "      <th>helpful_votes</th>\n",
       "      <th>total_votes</th>\n",
       "    </tr>\n",
       "  </thead>\n",
       "  <tbody>\n",
       "    <tr>\n",
       "      <th>count</th>\n",
       "      <td>10319090.0</td>\n",
       "      <td>10319090.0</td>\n",
       "      <td>10319090.0</td>\n",
       "      <td>10319090.0</td>\n",
       "    </tr>\n",
       "    <tr>\n",
       "      <th>mean</th>\n",
       "      <td>28816859.3</td>\n",
       "      <td>4.4</td>\n",
       "      <td>1.5</td>\n",
       "      <td>2.2</td>\n",
       "    </tr>\n",
       "    <tr>\n",
       "      <th>std</th>\n",
       "      <td>15369516.0</td>\n",
       "      <td>1.0</td>\n",
       "      <td>11.7</td>\n",
       "      <td>14.1</td>\n",
       "    </tr>\n",
       "    <tr>\n",
       "      <th>min</th>\n",
       "      <td>10024.0</td>\n",
       "      <td>1.0</td>\n",
       "      <td>0.0</td>\n",
       "      <td>0.0</td>\n",
       "    </tr>\n",
       "    <tr>\n",
       "      <th>25%</th>\n",
       "      <td>15049018.0</td>\n",
       "      <td>4.0</td>\n",
       "      <td>0.0</td>\n",
       "      <td>0.0</td>\n",
       "    </tr>\n",
       "    <tr>\n",
       "      <th>50%</th>\n",
       "      <td>27943498.0</td>\n",
       "      <td>5.0</td>\n",
       "      <td>0.0</td>\n",
       "      <td>0.0</td>\n",
       "    </tr>\n",
       "    <tr>\n",
       "      <th>75%</th>\n",
       "      <td>43242666.2</td>\n",
       "      <td>5.0</td>\n",
       "      <td>1.0</td>\n",
       "      <td>2.0</td>\n",
       "    </tr>\n",
       "    <tr>\n",
       "      <th>max</th>\n",
       "      <td>53096584.0</td>\n",
       "      <td>5.0</td>\n",
       "      <td>6244.0</td>\n",
       "      <td>6534.0</td>\n",
       "    </tr>\n",
       "  </tbody>\n",
       "</table>\n",
       "</div>"
      ],
      "text/plain": [
       "       customer_id  star_rating  helpful_votes  total_votes\n",
       "count   10319090.0   10319090.0     10319090.0   10319090.0\n",
       "mean    28816859.3          4.4            1.5          2.2\n",
       "std     15369516.0          1.0           11.7         14.1\n",
       "min        10024.0          1.0            0.0          0.0\n",
       "25%     15049018.0          4.0            0.0          0.0\n",
       "50%     27943498.0          5.0            0.0          0.0\n",
       "75%     43242666.2          5.0            1.0          2.0\n",
       "max     53096584.0          5.0         6244.0       6534.0"
      ]
     },
     "execution_count": 5,
     "metadata": {},
     "output_type": "execute_result"
    }
   ],
   "source": [
    "df.describe().round(1)"
   ]
  },
  {
   "cell_type": "code",
   "execution_count": 6,
   "metadata": {
    "colab": {
     "base_uri": "https://localhost:8080/",
     "height": 363
    },
    "id": "VYpgB2tPS9uR",
    "outputId": "34b3b236-9af0-410a-babe-8b142d114b64"
   },
   "outputs": [
    {
     "data": {
      "text/html": [
       "<div>\n",
       "<style scoped>\n",
       "    .dataframe tbody tr th:only-of-type {\n",
       "        vertical-align: middle;\n",
       "    }\n",
       "\n",
       "    .dataframe tbody tr th {\n",
       "        vertical-align: top;\n",
       "    }\n",
       "\n",
       "    .dataframe thead th {\n",
       "        text-align: right;\n",
       "    }\n",
       "</style>\n",
       "<table border=\"1\" class=\"dataframe\">\n",
       "  <thead>\n",
       "    <tr style=\"text-align: right;\">\n",
       "      <th></th>\n",
       "      <th>null</th>\n",
       "      <th>percent</th>\n",
       "    </tr>\n",
       "  </thead>\n",
       "  <tbody>\n",
       "    <tr>\n",
       "      <th>review_body</th>\n",
       "      <td>197</td>\n",
       "      <td>0.002</td>\n",
       "    </tr>\n",
       "    <tr>\n",
       "      <th>review_headline</th>\n",
       "      <td>71</td>\n",
       "      <td>0.001</td>\n",
       "    </tr>\n",
       "    <tr>\n",
       "      <th>customer_id</th>\n",
       "      <td>0</td>\n",
       "      <td>0.000</td>\n",
       "    </tr>\n",
       "    <tr>\n",
       "      <th>product_id</th>\n",
       "      <td>0</td>\n",
       "      <td>0.000</td>\n",
       "    </tr>\n",
       "    <tr>\n",
       "      <th>star_rating</th>\n",
       "      <td>0</td>\n",
       "      <td>0.000</td>\n",
       "    </tr>\n",
       "    <tr>\n",
       "      <th>helpful_votes</th>\n",
       "      <td>0</td>\n",
       "      <td>0.000</td>\n",
       "    </tr>\n",
       "    <tr>\n",
       "      <th>total_votes</th>\n",
       "      <td>0</td>\n",
       "      <td>0.000</td>\n",
       "    </tr>\n",
       "    <tr>\n",
       "      <th>vine</th>\n",
       "      <td>0</td>\n",
       "      <td>0.000</td>\n",
       "    </tr>\n",
       "    <tr>\n",
       "      <th>verified_purchase</th>\n",
       "      <td>0</td>\n",
       "      <td>0.000</td>\n",
       "    </tr>\n",
       "    <tr>\n",
       "      <th>review_date</th>\n",
       "      <td>0</td>\n",
       "      <td>0.000</td>\n",
       "    </tr>\n",
       "  </tbody>\n",
       "</table>\n",
       "</div>"
      ],
      "text/plain": [
       "                   null  percent\n",
       "review_body         197    0.002\n",
       "review_headline      71    0.001\n",
       "customer_id           0    0.000\n",
       "product_id            0    0.000\n",
       "star_rating           0    0.000\n",
       "helpful_votes         0    0.000\n",
       "total_votes           0    0.000\n",
       "vine                  0    0.000\n",
       "verified_purchase     0    0.000\n",
       "review_date           0    0.000"
      ]
     },
     "execution_count": 6,
     "metadata": {},
     "output_type": "execute_result"
    }
   ],
   "source": [
    "# Determine how many missing values exist in the collection, in which case you can use .sum() chained onto is.na()\n",
    "null_values=df.isna().sum()\n",
    "null_values=pd.DataFrame(null_values,columns=['null'])\n",
    "sum_tot=len(df)\n",
    "null_values['percent']=null_values['null']/sum_tot*100\n",
    "round(null_values,3).sort_values('percent',ascending=False)"
   ]
  },
  {
   "cell_type": "markdown",
   "metadata": {
    "id": "f9Pj6bFjZk_K"
   },
   "source": [
    "**If we have any missing values. We can drop them completely.**"
   ]
  },
  {
   "cell_type": "code",
   "execution_count": 7,
   "metadata": {
    "colab": {
     "base_uri": "https://localhost:8080/",
     "height": 36
    },
    "id": "wSlkx8rBY4q1",
    "outputId": "441cd552-63af-4d08-b4b1-bec55ebd1fbe"
   },
   "outputs": [
    {
     "data": {
      "text/plain": [
       "(10318823, 10)"
      ]
     },
     "execution_count": 7,
     "metadata": {},
     "output_type": "execute_result"
    }
   ],
   "source": [
    "df= df.dropna()\n",
    "df.shape"
   ]
  },
  {
   "cell_type": "code",
   "execution_count": 8,
   "metadata": {},
   "outputs": [
    {
     "data": {
      "text/plain": [
       "(100000, 10)"
      ]
     },
     "execution_count": 8,
     "metadata": {},
     "output_type": "execute_result"
    }
   ],
   "source": [
    "df=df.sample(100000)\n",
    "df.shape"
   ]
  },
  {
   "cell_type": "markdown",
   "metadata": {
    "id": "uMQnlxMoZrCC"
   },
   "source": [
    "# Basic Feature Extraction - 1"
   ]
  },
  {
   "cell_type": "markdown",
   "metadata": {
    "id": "3qzq7Z2XZt4v"
   },
   "source": [
    "Normally, I tried to make data cleaning first. Then, I realized that while making data cleaning, I am losing some of characters that can help data cleaning. Therefore, there will be two part of feature extraction. Here, I will extract features that can't be exracted after data cleaning."
   ]
  },
  {
   "cell_type": "markdown",
   "metadata": {
    "id": "AyuO7pdDZznX"
   },
   "source": [
    "### 1) Number of stopwords"
   ]
  },
  {
   "cell_type": "code",
   "execution_count": 9,
   "metadata": {
    "colab": {
     "base_uri": "https://localhost:8080/",
     "height": 188
    },
    "id": "FXCED1U_ZzCD",
    "outputId": "e7232253-654f-4f50-c42d-69a98cb531aa"
   },
   "outputs": [
    {
     "name": "stderr",
     "output_type": "stream",
     "text": [
      "[nltk_data] Downloading package stopwords to\n",
      "[nltk_data]     C:\\Users\\Yogesh\\AppData\\Roaming\\nltk_data...\n",
      "[nltk_data]   Package stopwords is already up-to-date!\n",
      "[nltk_data] Downloading package wordnet to\n",
      "[nltk_data]     C:\\Users\\Yogesh\\AppData\\Roaming\\nltk_data...\n",
      "[nltk_data]   Package wordnet is already up-to-date!\n",
      "[nltk_data] Downloading package punkt to\n",
      "[nltk_data]     C:\\Users\\Yogesh\\AppData\\Roaming\\nltk_data...\n",
      "[nltk_data]   Package punkt is already up-to-date!\n",
      "[nltk_data] Downloading package averaged_perceptron_tagger to\n",
      "[nltk_data]     C:\\Users\\Yogesh\\AppData\\Roaming\\nltk_data...\n",
      "[nltk_data]   Package averaged_perceptron_tagger is already up-to-\n",
      "[nltk_data]       date!\n"
     ]
    }
   ],
   "source": [
    "!pip install -q wordcloud\n",
    "import wordcloud\n",
    "from nltk.corpus import stopwords\n",
    "import nltk\n",
    "import string\n",
    "nltk.download('stopwords')\n",
    "nltk.download('wordnet')\n",
    "nltk.download('punkt')\n",
    "nltk.download('averaged_perceptron_tagger')\n",
    "stop = stopwords.words('english')"
   ]
  },
  {
   "cell_type": "code",
   "execution_count": 10,
   "metadata": {
    "colab": {
     "base_uri": "https://localhost:8080/",
     "height": 206
    },
    "id": "I-aTbPcnSUfP",
    "outputId": "206e5be3-dbdf-4b92-9532-ee63f9ffe271"
   },
   "outputs": [
    {
     "data": {
      "text/html": [
       "<div>\n",
       "<style scoped>\n",
       "    .dataframe tbody tr th:only-of-type {\n",
       "        vertical-align: middle;\n",
       "    }\n",
       "\n",
       "    .dataframe tbody tr th {\n",
       "        vertical-align: top;\n",
       "    }\n",
       "\n",
       "    .dataframe thead th {\n",
       "        text-align: right;\n",
       "    }\n",
       "</style>\n",
       "<table border=\"1\" class=\"dataframe\">\n",
       "  <thead>\n",
       "    <tr style=\"text-align: right;\">\n",
       "      <th></th>\n",
       "      <th>review_body</th>\n",
       "      <th>stopwords</th>\n",
       "    </tr>\n",
       "  </thead>\n",
       "  <tbody>\n",
       "    <tr>\n",
       "      <th>8056458</th>\n",
       "      <td>I enjoyed the layout to help me understand Lin...</td>\n",
       "      <td>14</td>\n",
       "    </tr>\n",
       "    <tr>\n",
       "      <th>6671483</th>\n",
       "      <td>I'm learning a lot about structural issues in ...</td>\n",
       "      <td>45</td>\n",
       "    </tr>\n",
       "    <tr>\n",
       "      <th>4593153</th>\n",
       "      <td>My son loves this book!  A great buy!</td>\n",
       "      <td>1</td>\n",
       "    </tr>\n",
       "    <tr>\n",
       "      <th>6392189</th>\n",
       "      <td>The product was listed as &amp;#34;Like New Condit...</td>\n",
       "      <td>21</td>\n",
       "    </tr>\n",
       "    <tr>\n",
       "      <th>3184725</th>\n",
       "      <td>gift</td>\n",
       "      <td>0</td>\n",
       "    </tr>\n",
       "  </tbody>\n",
       "</table>\n",
       "</div>"
      ],
      "text/plain": [
       "                                               review_body  stopwords\n",
       "8056458  I enjoyed the layout to help me understand Lin...         14\n",
       "6671483  I'm learning a lot about structural issues in ...         45\n",
       "4593153              My son loves this book!  A great buy!          1\n",
       "6392189  The product was listed as &#34;Like New Condit...         21\n",
       "3184725                                               gift          0"
      ]
     },
     "execution_count": 10,
     "metadata": {},
     "output_type": "execute_result"
    }
   ],
   "source": [
    "df['stopwords'] = df['review_body'].apply(lambda x: len([x for x in x.split() if x in stop]))\n",
    "df[['review_body','stopwords']].head()"
   ]
  },
  {
   "cell_type": "code",
   "execution_count": 11,
   "metadata": {},
   "outputs": [
    {
     "data": {
      "text/plain": [
       "91955"
      ]
     },
     "execution_count": 11,
     "metadata": {},
     "output_type": "execute_result"
    }
   ],
   "source": [
    "df.stopwords.loc[df.stopwords != 0].count()"
   ]
  },
  {
   "cell_type": "markdown",
   "metadata": {
    "id": "jOimT9DYhbUb"
   },
   "source": [
    "### 2) Number of Punctuation"
   ]
  },
  {
   "cell_type": "code",
   "execution_count": 12,
   "metadata": {
    "id": "lRtk9lil9VCx"
   },
   "outputs": [],
   "source": [
    "def count_punct(text):\n",
    "    count = sum([1 for char in text if char in string.punctuation])\n",
    "    return count\n",
    "\n",
    "df['punctuation'] = df['review_body'].apply(lambda x: count_punct(x))"
   ]
  },
  {
   "cell_type": "code",
   "execution_count": 13,
   "metadata": {
    "colab": {
     "base_uri": "https://localhost:8080/",
     "height": 206
    },
    "id": "Rwdr0fiRa6i1",
    "outputId": "2c042567-ccc7-4f19-d328-111b537463ed"
   },
   "outputs": [
    {
     "data": {
      "text/html": [
       "<div>\n",
       "<style scoped>\n",
       "    .dataframe tbody tr th:only-of-type {\n",
       "        vertical-align: middle;\n",
       "    }\n",
       "\n",
       "    .dataframe tbody tr th {\n",
       "        vertical-align: top;\n",
       "    }\n",
       "\n",
       "    .dataframe thead th {\n",
       "        text-align: right;\n",
       "    }\n",
       "</style>\n",
       "<table border=\"1\" class=\"dataframe\">\n",
       "  <thead>\n",
       "    <tr style=\"text-align: right;\">\n",
       "      <th></th>\n",
       "      <th>review_body</th>\n",
       "      <th>punctuation</th>\n",
       "    </tr>\n",
       "  </thead>\n",
       "  <tbody>\n",
       "    <tr>\n",
       "      <th>8056458</th>\n",
       "      <td>I enjoyed the layout to help me understand Lin...</td>\n",
       "      <td>3</td>\n",
       "    </tr>\n",
       "    <tr>\n",
       "      <th>6671483</th>\n",
       "      <td>I'm learning a lot about structural issues in ...</td>\n",
       "      <td>19</td>\n",
       "    </tr>\n",
       "    <tr>\n",
       "      <th>4593153</th>\n",
       "      <td>My son loves this book!  A great buy!</td>\n",
       "      <td>2</td>\n",
       "    </tr>\n",
       "    <tr>\n",
       "      <th>6392189</th>\n",
       "      <td>The product was listed as &amp;#34;Like New Condit...</td>\n",
       "      <td>25</td>\n",
       "    </tr>\n",
       "    <tr>\n",
       "      <th>3184725</th>\n",
       "      <td>gift</td>\n",
       "      <td>0</td>\n",
       "    </tr>\n",
       "  </tbody>\n",
       "</table>\n",
       "</div>"
      ],
      "text/plain": [
       "                                               review_body  punctuation\n",
       "8056458  I enjoyed the layout to help me understand Lin...            3\n",
       "6671483  I'm learning a lot about structural issues in ...           19\n",
       "4593153              My son loves this book!  A great buy!            2\n",
       "6392189  The product was listed as &#34;Like New Condit...           25\n",
       "3184725                                               gift            0"
      ]
     },
     "execution_count": 13,
     "metadata": {},
     "output_type": "execute_result"
    }
   ],
   "source": [
    "df[['review_body','punctuation']].head()"
   ]
  },
  {
   "cell_type": "code",
   "execution_count": 14,
   "metadata": {},
   "outputs": [
    {
     "data": {
      "text/plain": [
       "92832"
      ]
     },
     "execution_count": 14,
     "metadata": {},
     "output_type": "execute_result"
    }
   ],
   "source": [
    "df.punctuation.loc[df.punctuation != 0].count()"
   ]
  },
  {
   "cell_type": "markdown",
   "metadata": {
    "id": "se2IozmTaOQf"
   },
   "source": [
    "### 3) Number of hashtag characters\n",
    "\n",
    "One more interesting feature which we can extract from a review is calculating the number of hashtags or mentions present in it. This also helps in extracting extra information from our text data."
   ]
  },
  {
   "cell_type": "code",
   "execution_count": 15,
   "metadata": {
    "colab": {
     "base_uri": "https://localhost:8080/",
     "height": 206
    },
    "id": "heKqiw6c9VG0",
    "outputId": "97924133-d8ba-40d2-b391-403e2b9f8701"
   },
   "outputs": [
    {
     "data": {
      "text/html": [
       "<div>\n",
       "<style scoped>\n",
       "    .dataframe tbody tr th:only-of-type {\n",
       "        vertical-align: middle;\n",
       "    }\n",
       "\n",
       "    .dataframe tbody tr th {\n",
       "        vertical-align: top;\n",
       "    }\n",
       "\n",
       "    .dataframe thead th {\n",
       "        text-align: right;\n",
       "    }\n",
       "</style>\n",
       "<table border=\"1\" class=\"dataframe\">\n",
       "  <thead>\n",
       "    <tr style=\"text-align: right;\">\n",
       "      <th></th>\n",
       "      <th>review_body</th>\n",
       "      <th>hastags</th>\n",
       "    </tr>\n",
       "  </thead>\n",
       "  <tbody>\n",
       "    <tr>\n",
       "      <th>8056458</th>\n",
       "      <td>I enjoyed the layout to help me understand Lin...</td>\n",
       "      <td>0</td>\n",
       "    </tr>\n",
       "    <tr>\n",
       "      <th>6671483</th>\n",
       "      <td>I'm learning a lot about structural issues in ...</td>\n",
       "      <td>0</td>\n",
       "    </tr>\n",
       "    <tr>\n",
       "      <th>4593153</th>\n",
       "      <td>My son loves this book!  A great buy!</td>\n",
       "      <td>0</td>\n",
       "    </tr>\n",
       "    <tr>\n",
       "      <th>6392189</th>\n",
       "      <td>The product was listed as &amp;#34;Like New Condit...</td>\n",
       "      <td>0</td>\n",
       "    </tr>\n",
       "    <tr>\n",
       "      <th>3184725</th>\n",
       "      <td>gift</td>\n",
       "      <td>0</td>\n",
       "    </tr>\n",
       "  </tbody>\n",
       "</table>\n",
       "</div>"
      ],
      "text/plain": [
       "                                               review_body  hastags\n",
       "8056458  I enjoyed the layout to help me understand Lin...        0\n",
       "6671483  I'm learning a lot about structural issues in ...        0\n",
       "4593153              My son loves this book!  A great buy!        0\n",
       "6392189  The product was listed as &#34;Like New Condit...        0\n",
       "3184725                                               gift        0"
      ]
     },
     "execution_count": 15,
     "metadata": {},
     "output_type": "execute_result"
    }
   ],
   "source": [
    "df['hastags'] = df['review_body'].apply(lambda x: len([x for x in x.split() if x.startswith('#')]))\n",
    "df[['review_body','hastags']].head()"
   ]
  },
  {
   "cell_type": "code",
   "execution_count": 16,
   "metadata": {
    "colab": {
     "base_uri": "https://localhost:8080/",
     "height": 36
    },
    "id": "q3MbnNH1bA5H",
    "outputId": "85f99f99-7a73-434c-df93-9b0284db2813"
   },
   "outputs": [
    {
     "data": {
      "text/plain": [
       "321"
      ]
     },
     "execution_count": 16,
     "metadata": {},
     "output_type": "execute_result"
    }
   ],
   "source": [
    "df.hastags.loc[df.hastags != 0].count()"
   ]
  },
  {
   "cell_type": "markdown",
   "metadata": {
    "id": "UQ67amRYamFu"
   },
   "source": [
    "### 4) Number of numerics\n",
    "Calculate the number of numerics which are present in the tweets can be useful. At least, it doesn't hurt to have such a data!"
   ]
  },
  {
   "cell_type": "code",
   "execution_count": 17,
   "metadata": {
    "colab": {
     "base_uri": "https://localhost:8080/"
    },
    "id": "-Sy3VyUNamhv",
    "outputId": "314385f9-b20c-4fb3-dcee-139104635e6b"
   },
   "outputs": [
    {
     "data": {
      "text/html": [
       "<div>\n",
       "<style scoped>\n",
       "    .dataframe tbody tr th:only-of-type {\n",
       "        vertical-align: middle;\n",
       "    }\n",
       "\n",
       "    .dataframe tbody tr th {\n",
       "        vertical-align: top;\n",
       "    }\n",
       "\n",
       "    .dataframe thead th {\n",
       "        text-align: right;\n",
       "    }\n",
       "</style>\n",
       "<table border=\"1\" class=\"dataframe\">\n",
       "  <thead>\n",
       "    <tr style=\"text-align: right;\">\n",
       "      <th></th>\n",
       "      <th>review_body</th>\n",
       "      <th>numerics</th>\n",
       "    </tr>\n",
       "  </thead>\n",
       "  <tbody>\n",
       "    <tr>\n",
       "      <th>8056458</th>\n",
       "      <td>I enjoyed the layout to help me understand Lin...</td>\n",
       "      <td>0</td>\n",
       "    </tr>\n",
       "    <tr>\n",
       "      <th>6671483</th>\n",
       "      <td>I'm learning a lot about structural issues in ...</td>\n",
       "      <td>0</td>\n",
       "    </tr>\n",
       "    <tr>\n",
       "      <th>4593153</th>\n",
       "      <td>My son loves this book!  A great buy!</td>\n",
       "      <td>0</td>\n",
       "    </tr>\n",
       "    <tr>\n",
       "      <th>6392189</th>\n",
       "      <td>The product was listed as &amp;#34;Like New Condit...</td>\n",
       "      <td>0</td>\n",
       "    </tr>\n",
       "    <tr>\n",
       "      <th>3184725</th>\n",
       "      <td>gift</td>\n",
       "      <td>0</td>\n",
       "    </tr>\n",
       "  </tbody>\n",
       "</table>\n",
       "</div>"
      ],
      "text/plain": [
       "                                               review_body  numerics\n",
       "8056458  I enjoyed the layout to help me understand Lin...         0\n",
       "6671483  I'm learning a lot about structural issues in ...         0\n",
       "4593153              My son loves this book!  A great buy!         0\n",
       "6392189  The product was listed as &#34;Like New Condit...         0\n",
       "3184725                                               gift         0"
      ]
     },
     "execution_count": 17,
     "metadata": {},
     "output_type": "execute_result"
    }
   ],
   "source": [
    "df['numerics'] = df['review_body'].apply(lambda x: len([x for x in x.split() if x.isdigit()]))\n",
    "df[['review_body','numerics']].head()"
   ]
  },
  {
   "cell_type": "code",
   "execution_count": 18,
   "metadata": {},
   "outputs": [
    {
     "data": {
      "text/plain": [
       "12886"
      ]
     },
     "execution_count": 18,
     "metadata": {},
     "output_type": "execute_result"
    }
   ],
   "source": [
    "df.numerics.loc[df.numerics != 0].count()"
   ]
  },
  {
   "cell_type": "markdown",
   "metadata": {
    "id": "n0s4Y9KmaqvA"
   },
   "source": [
    "### 5) Number of Uppercase words\n",
    "Anger or rage is quite often expressed by writing in UPPERCASE words which makes this a necessary operation to identify those words."
   ]
  },
  {
   "cell_type": "code",
   "execution_count": 19,
   "metadata": {
    "colab": {
     "base_uri": "https://localhost:8080/"
    },
    "id": "AI4aA43ka2Vo",
    "outputId": "0902c309-2889-4769-80ce-6cf2fc9e3adc"
   },
   "outputs": [
    {
     "data": {
      "text/html": [
       "<div>\n",
       "<style scoped>\n",
       "    .dataframe tbody tr th:only-of-type {\n",
       "        vertical-align: middle;\n",
       "    }\n",
       "\n",
       "    .dataframe tbody tr th {\n",
       "        vertical-align: top;\n",
       "    }\n",
       "\n",
       "    .dataframe thead th {\n",
       "        text-align: right;\n",
       "    }\n",
       "</style>\n",
       "<table border=\"1\" class=\"dataframe\">\n",
       "  <thead>\n",
       "    <tr style=\"text-align: right;\">\n",
       "      <th></th>\n",
       "      <th>review_body</th>\n",
       "      <th>upper</th>\n",
       "    </tr>\n",
       "  </thead>\n",
       "  <tbody>\n",
       "    <tr>\n",
       "      <th>8056458</th>\n",
       "      <td>I enjoyed the layout to help me understand Lin...</td>\n",
       "      <td>2</td>\n",
       "    </tr>\n",
       "    <tr>\n",
       "      <th>6671483</th>\n",
       "      <td>I'm learning a lot about structural issues in ...</td>\n",
       "      <td>2</td>\n",
       "    </tr>\n",
       "    <tr>\n",
       "      <th>4593153</th>\n",
       "      <td>My son loves this book!  A great buy!</td>\n",
       "      <td>1</td>\n",
       "    </tr>\n",
       "    <tr>\n",
       "      <th>6392189</th>\n",
       "      <td>The product was listed as &amp;#34;Like New Condit...</td>\n",
       "      <td>0</td>\n",
       "    </tr>\n",
       "    <tr>\n",
       "      <th>3184725</th>\n",
       "      <td>gift</td>\n",
       "      <td>0</td>\n",
       "    </tr>\n",
       "  </tbody>\n",
       "</table>\n",
       "</div>"
      ],
      "text/plain": [
       "                                               review_body  upper\n",
       "8056458  I enjoyed the layout to help me understand Lin...      2\n",
       "6671483  I'm learning a lot about structural issues in ...      2\n",
       "4593153              My son loves this book!  A great buy!      1\n",
       "6392189  The product was listed as &#34;Like New Condit...      0\n",
       "3184725                                               gift      0"
      ]
     },
     "execution_count": 19,
     "metadata": {},
     "output_type": "execute_result"
    }
   ],
   "source": [
    "df['upper'] = df['review_body'].apply(lambda x: len([x for x in x.split() if x.isupper()]))\n",
    "df[['review_body','upper']].head()"
   ]
  },
  {
   "cell_type": "code",
   "execution_count": 20,
   "metadata": {},
   "outputs": [
    {
     "data": {
      "text/plain": [
       "61810"
      ]
     },
     "execution_count": 20,
     "metadata": {},
     "output_type": "execute_result"
    }
   ],
   "source": [
    "df.upper.loc[df.upper != 0].count()"
   ]
  },
  {
   "cell_type": "markdown",
   "metadata": {},
   "source": [
    "### 6) Number of Emojis\n",
    "Emojis can be indictor of some emotions that can be related to being customer satisfaction."
   ]
  },
  {
   "cell_type": "code",
   "execution_count": 21,
   "metadata": {},
   "outputs": [
    {
     "name": "stdout",
     "output_type": "stream",
     "text": [
      "Requirement already satisfied: emot in c:\\users\\yogesh\\anaconda3\\lib\\site-packages (3.1)\n"
     ]
    },
    {
     "data": {
      "text/html": [
       "<div>\n",
       "<style scoped>\n",
       "    .dataframe tbody tr th:only-of-type {\n",
       "        vertical-align: middle;\n",
       "    }\n",
       "\n",
       "    .dataframe tbody tr th {\n",
       "        vertical-align: top;\n",
       "    }\n",
       "\n",
       "    .dataframe thead th {\n",
       "        text-align: right;\n",
       "    }\n",
       "</style>\n",
       "<table border=\"1\" class=\"dataframe\">\n",
       "  <thead>\n",
       "    <tr style=\"text-align: right;\">\n",
       "      <th></th>\n",
       "      <th>review_body</th>\n",
       "      <th>emoji</th>\n",
       "    </tr>\n",
       "  </thead>\n",
       "  <tbody>\n",
       "    <tr>\n",
       "      <th>8056458</th>\n",
       "      <td>I enjoyed the layout to help me understand Lin...</td>\n",
       "      <td>0</td>\n",
       "    </tr>\n",
       "    <tr>\n",
       "      <th>6671483</th>\n",
       "      <td>I'm learning a lot about structural issues in ...</td>\n",
       "      <td>0</td>\n",
       "    </tr>\n",
       "    <tr>\n",
       "      <th>4593153</th>\n",
       "      <td>My son loves this book!  A great buy!</td>\n",
       "      <td>0</td>\n",
       "    </tr>\n",
       "    <tr>\n",
       "      <th>6392189</th>\n",
       "      <td>The product was listed as &amp;#34;Like New Condit...</td>\n",
       "      <td>0</td>\n",
       "    </tr>\n",
       "    <tr>\n",
       "      <th>3184725</th>\n",
       "      <td>gift</td>\n",
       "      <td>0</td>\n",
       "    </tr>\n",
       "  </tbody>\n",
       "</table>\n",
       "</div>"
      ],
      "text/plain": [
       "                                               review_body  emoji\n",
       "8056458  I enjoyed the layout to help me understand Lin...      0\n",
       "6671483  I'm learning a lot about structural issues in ...      0\n",
       "4593153              My son loves this book!  A great buy!      0\n",
       "6392189  The product was listed as &#34;Like New Condit...      0\n",
       "3184725                                               gift      0"
      ]
     },
     "execution_count": 21,
     "metadata": {},
     "output_type": "execute_result"
    }
   ],
   "source": [
    "!pip install emot\n",
    "\n",
    "import emot \n",
    "emot_obj = emot.core.emot() \n",
    "\n",
    "df['emoji'] = df['review_body'].apply(lambda x: len(emot_obj.emoji(x)[\"value\"]))\n",
    "df[['review_body','emoji']].head()"
   ]
  },
  {
   "cell_type": "code",
   "execution_count": 22,
   "metadata": {},
   "outputs": [
    {
     "data": {
      "text/plain": [
       "139"
      ]
     },
     "execution_count": 22,
     "metadata": {},
     "output_type": "execute_result"
    }
   ],
   "source": [
    "df.emoji.loc[df.emoji != 0].count()"
   ]
  },
  {
   "cell_type": "markdown",
   "metadata": {},
   "source": [
    "### 7) Number of Emoticons\n",
    "\n",
    "***What is the difference between emoji and emoticons?***\n",
    "\n",
    "*   :-) is an emoticon\n",
    "*   😜 → emoji."
   ]
  },
  {
   "cell_type": "code",
   "execution_count": 23,
   "metadata": {},
   "outputs": [
    {
     "data": {
      "text/html": [
       "<div>\n",
       "<style scoped>\n",
       "    .dataframe tbody tr th:only-of-type {\n",
       "        vertical-align: middle;\n",
       "    }\n",
       "\n",
       "    .dataframe tbody tr th {\n",
       "        vertical-align: top;\n",
       "    }\n",
       "\n",
       "    .dataframe thead th {\n",
       "        text-align: right;\n",
       "    }\n",
       "</style>\n",
       "<table border=\"1\" class=\"dataframe\">\n",
       "  <thead>\n",
       "    <tr style=\"text-align: right;\">\n",
       "      <th></th>\n",
       "      <th>review_body</th>\n",
       "      <th>emoticon</th>\n",
       "    </tr>\n",
       "  </thead>\n",
       "  <tbody>\n",
       "    <tr>\n",
       "      <th>8056458</th>\n",
       "      <td>I enjoyed the layout to help me understand Lin...</td>\n",
       "      <td>0</td>\n",
       "    </tr>\n",
       "    <tr>\n",
       "      <th>6671483</th>\n",
       "      <td>I'm learning a lot about structural issues in ...</td>\n",
       "      <td>0</td>\n",
       "    </tr>\n",
       "    <tr>\n",
       "      <th>4593153</th>\n",
       "      <td>My son loves this book!  A great buy!</td>\n",
       "      <td>0</td>\n",
       "    </tr>\n",
       "    <tr>\n",
       "      <th>6392189</th>\n",
       "      <td>The product was listed as &amp;#34;Like New Condit...</td>\n",
       "      <td>0</td>\n",
       "    </tr>\n",
       "    <tr>\n",
       "      <th>3184725</th>\n",
       "      <td>gift</td>\n",
       "      <td>0</td>\n",
       "    </tr>\n",
       "  </tbody>\n",
       "</table>\n",
       "</div>"
      ],
      "text/plain": [
       "                                               review_body  emoticon\n",
       "8056458  I enjoyed the layout to help me understand Lin...         0\n",
       "6671483  I'm learning a lot about structural issues in ...         0\n",
       "4593153              My son loves this book!  A great buy!         0\n",
       "6392189  The product was listed as &#34;Like New Condit...         0\n",
       "3184725                                               gift         0"
      ]
     },
     "execution_count": 23,
     "metadata": {},
     "output_type": "execute_result"
    }
   ],
   "source": [
    "df['emoticon'] = df['review_body'].apply(lambda x: len(emot_obj.emoticons(x)[\"value\"]))\n",
    "df[['review_body','emoticon']].head()"
   ]
  },
  {
   "cell_type": "code",
   "execution_count": 24,
   "metadata": {},
   "outputs": [
    {
     "data": {
      "text/plain": [
       "3474"
      ]
     },
     "execution_count": 24,
     "metadata": {},
     "output_type": "execute_result"
    }
   ],
   "source": [
    "df.emoticon.loc[df.emoticon != 0].count()"
   ]
  },
  {
   "cell_type": "markdown",
   "metadata": {
    "id": "BTJuoOSjcP7P"
   },
   "source": [
    "\n",
    "\n",
    "---\n",
    "\n",
    "\n",
    "\n",
    "---\n",
    "\n",
    "\n",
    "\n",
    "---\n",
    "\n"
   ]
  },
  {
   "cell_type": "markdown",
   "metadata": {
    "id": "dmLGGqN1a0_a"
   },
   "source": [
    "# **Text cleaning techniques** "
   ]
  },
  {
   "cell_type": "markdown",
   "metadata": {
    "id": "PsQrL9pYcaCD"
   },
   "source": [
    "### 1) Make all text lower case"
   ]
  },
  {
   "cell_type": "markdown",
   "metadata": {
    "id": "rxgqwFY3ccu4"
   },
   "source": [
    "The first pre-processing step which we will do is transform our reviews into lower case. This avoids having multiple copies of the same words. For example, while calculating the word count, ‘Analytics’ and ‘analytics’ will be taken as different words."
   ]
  },
  {
   "cell_type": "code",
   "execution_count": 25,
   "metadata": {
    "colab": {
     "base_uri": "https://localhost:8080/",
     "height": 131
    },
    "id": "ypjQgucycSqE",
    "outputId": "03ef3837-5236-4b32-91d1-046b73a5fc29"
   },
   "outputs": [
    {
     "data": {
      "text/plain": [
       "8056458    i enjoyed the layout to help me understand lin...\n",
       "6671483    i'm learning a lot about structural issues in ...\n",
       "4593153                 my son loves this book! a great buy!\n",
       "6392189    the product was listed as &#34;like new condit...\n",
       "3184725                                                 gift\n",
       "Name: Text, dtype: object"
      ]
     },
     "execution_count": 25,
     "metadata": {},
     "output_type": "execute_result"
    }
   ],
   "source": [
    "df['Text'] = df['review_body'].apply(lambda x: \" \".join(x.lower() for x in x.split()))\n",
    "df['Text'].head()"
   ]
  },
  {
   "cell_type": "markdown",
   "metadata": {
    "id": "oRuQsr1jcpyd"
   },
   "source": [
    "### 2) Removing Punctuation"
   ]
  },
  {
   "cell_type": "code",
   "execution_count": 26,
   "metadata": {
    "colab": {
     "base_uri": "https://localhost:8080/",
     "height": 131
    },
    "id": "_XQbtgSpcYsw",
    "outputId": "b2ca0d8a-6134-4988-f476-dcf471896494"
   },
   "outputs": [
    {
     "name": "stderr",
     "output_type": "stream",
     "text": [
      "C:\\Users\\Yogesh\\AppData\\Local\\Temp\\ipykernel_23428\\3478321024.py:1: FutureWarning: The default value of regex will change from True to False in a future version.\n",
      "  df['Text'] = df['Text'].str.replace('[^\\w\\s]',' ')\n"
     ]
    },
    {
     "data": {
      "text/plain": [
       "8056458    i enjoyed the layout to help me understand lin...\n",
       "6671483    i m learning a lot about structural issues in ...\n",
       "4593153                 my son loves this book  a great buy \n",
       "6392189    the product was listed as   34 like new condit...\n",
       "3184725                                                 gift\n",
       "Name: Text, dtype: object"
      ]
     },
     "execution_count": 26,
     "metadata": {},
     "output_type": "execute_result"
    }
   ],
   "source": [
    "df['Text'] = df['Text'].str.replace('[^\\w\\s]',' ')\n",
    "df['Text'].head()"
   ]
  },
  {
   "cell_type": "markdown",
   "metadata": {
    "id": "cDNg_BGaenXo"
   },
   "source": [
    "### 3) Removal of Stop Words"
   ]
  },
  {
   "cell_type": "code",
   "execution_count": 27,
   "metadata": {
    "colab": {
     "base_uri": "https://localhost:8080/",
     "height": 226
    },
    "id": "LpAwkZQMemjb",
    "outputId": "f06b746a-349e-4dbc-dd03-226157e637a7"
   },
   "outputs": [
    {
     "data": {
      "text/plain": [
       "7904209    taught assessment course included children adu...\n",
       "5311033    great book cool pop outs grandson loves book m...\n",
       "8270003    james r white one best best theologians apolog...\n",
       "6529530        love read put book love author reading pieces\n",
       "751207                     excellently done meet expectation\n",
       "9623660    excellent condition missing pages pages marked...\n",
       "223638     enjoyed debbie mason stories people charming c...\n",
       "4307308    thoroughly enjoyed easy read book found excell...\n",
       "4304118    first began reading print version novel found ...\n",
       "3590913    kind novel bindloss specialty young englishman...\n",
       "Name: Text, dtype: object"
      ]
     },
     "execution_count": 27,
     "metadata": {},
     "output_type": "execute_result"
    }
   ],
   "source": [
    "from nltk.corpus import stopwords\n",
    "stop = stopwords.words('english')\n",
    "df['Text'] = df['Text'].apply(lambda x: \" \".join(x for x in x.split() if x not in stop))\n",
    "df['Text'].sample(10)"
   ]
  },
  {
   "cell_type": "markdown",
   "metadata": {
    "id": "2MAvQ09NQ5As"
   },
   "source": [
    "### 4) Removing URLs"
   ]
  },
  {
   "cell_type": "code",
   "execution_count": 28,
   "metadata": {
    "id": "kLJa1rgQQo8P"
   },
   "outputs": [],
   "source": [
    "def remove_url(text):\n",
    "    url = re.compile(r'https?://\\S+|www\\.\\S+')\n",
    "    return url.sub(r'', text)"
   ]
  },
  {
   "cell_type": "code",
   "execution_count": 29,
   "metadata": {
    "id": "DkJYkkCNQsyj"
   },
   "outputs": [],
   "source": [
    "# remove all urls from df\n",
    "import re\n",
    "import string\n",
    "\n",
    "df['Text'] = df['Text'].apply(lambda x: remove_url(x))"
   ]
  },
  {
   "cell_type": "markdown",
   "metadata": {
    "id": "gnKhvH09ewO7"
   },
   "source": [
    "### 5) Remove html tags"
   ]
  },
  {
   "cell_type": "code",
   "execution_count": 30,
   "metadata": {
    "id": "bRcdtF6EQ-HU"
   },
   "outputs": [],
   "source": [
    "def remove_html(text):\n",
    "    html=re.compile(r'<.*?>')\n",
    "    return html.sub(r'',text)"
   ]
  },
  {
   "cell_type": "code",
   "execution_count": 31,
   "metadata": {
    "id": "pqKhOD-YRCer"
   },
   "outputs": [],
   "source": [
    "# remove all html tags from df\n",
    "df['Text'] = df['Text'].apply(lambda x: remove_html(x))"
   ]
  },
  {
   "cell_type": "markdown",
   "metadata": {
    "id": "dvQHrvdARMMK"
   },
   "source": [
    " ### 6) Removing Emojis\n",
    "Emojis can be indictor of some emotions that can be related to being customer satisfaction. Unfortunately, we need to remove the emojis in our text analysis"
   ]
  },
  {
   "cell_type": "code",
   "execution_count": 32,
   "metadata": {
    "id": "r2YZxgFMRpDS"
   },
   "outputs": [],
   "source": [
    "# Reference : https://gist.github.com/slowkow/7a7f61f495e3dbb7e3d767f97bd7304b\n",
    "def remove_emoji(text):\n",
    "    emoji_pattern = re.compile(\"[\"\n",
    "                               u\"\\U0001F600-\\U0001F64F\"  # emoticons\n",
    "                               u\"\\U0001F300-\\U0001F5FF\"  # symbols & pictographs\n",
    "                               u\"\\U0001F680-\\U0001F6FF\"  # transport & map symbols\n",
    "                               u\"\\U0001F1E0-\\U0001F1FF\"  # flags (iOS)\n",
    "                               u\"\\U00002500-\\U00002BEF\"  # chinese char\n",
    "                               u\"\\U00002702-\\U000027B0\"\n",
    "                               u\"\\U00002702-\\U000027B0\"\n",
    "                               u\"\\U000024C2-\\U0001F251\"\n",
    "                               u\"\\U0001f926-\\U0001f937\"\n",
    "                               u\"\\U00010000-\\U0010ffff\"\n",
    "                               u\"\\u2640-\\u2642\"\n",
    "                               u\"\\u2600-\\u2B55\"\n",
    "                               u\"\\u200d\"\n",
    "                               u\"\\u23cf\"\n",
    "                               u\"\\u23e9\"\n",
    "                               u\"\\u231a\"\n",
    "                               u\"\\ufe0f\"  # dingbats\n",
    "                               u\"\\u3030\"\n",
    "                               \"]+\", flags=re.UNICODE)\n",
    "    return emoji_pattern.sub(r'', text)"
   ]
  },
  {
   "cell_type": "code",
   "execution_count": 33,
   "metadata": {
    "colab": {
     "base_uri": "https://localhost:8080/"
    },
    "id": "V-0FGg4-RthN",
    "outputId": "b7a505e1-e111-4dc0-c49b-17dadaef7b5b"
   },
   "outputs": [
    {
     "data": {
      "text/plain": [
       "'Omg another Earthquake '"
      ]
     },
     "execution_count": 33,
     "metadata": {},
     "output_type": "execute_result"
    }
   ],
   "source": [
    "#Example\n",
    "remove_emoji(\"Omg another Earthquake 😔😔\")"
   ]
  },
  {
   "cell_type": "code",
   "execution_count": 34,
   "metadata": {
    "id": "I0Qy59gKRxPY"
   },
   "outputs": [],
   "source": [
    "# remove all emojis from df\n",
    "df['Text'] = df['Text'].apply(lambda x: remove_emoji(x))"
   ]
  },
  {
   "cell_type": "markdown",
   "metadata": {
    "id": "wVqAJNvIUF9I"
   },
   "source": [
    "### 7) Remove Emoticons\n",
    "\n",
    "In previous steps, we have removed emoji. Now, going to remove emoticons. \n",
    "\n",
    "***What is the difference between emoji and emoticons?***\n",
    "\n",
    "*   :-) is an emoticon\n",
    "*   😜 → emoji."
   ]
  },
  {
   "cell_type": "code",
   "execution_count": 35,
   "metadata": {
    "colab": {
     "base_uri": "https://localhost:8080/",
     "height": 93
    },
    "id": "PUMYo_l3VplO",
    "outputId": "00aefcfb-532b-4d50-b998-7e34320f8685"
   },
   "outputs": [],
   "source": [
    "# Reference : https://gist.github.com/Mylloon/e63f90e27b7e933779794cf6e39b758b\n",
    "\n",
    "regex = r\" *?[^\\w\\s]+\"\n",
    "\n",
    "def remove_emoticons(text):\n",
    "    text = re.sub(regex, ' ', text)\n",
    "    return text"
   ]
  },
  {
   "cell_type": "code",
   "execution_count": 36,
   "metadata": {
    "colab": {
     "base_uri": "https://localhost:8080/",
     "height": 36
    },
    "id": "GAQlHX3XUzH7",
    "outputId": "85513e16-8bf5-4de5-f198-e9cdf7252085"
   },
   "outputs": [
    {
     "data": {
      "text/plain": [
       "' Hello  '"
      ]
     },
     "execution_count": 36,
     "metadata": {},
     "output_type": "execute_result"
    }
   ],
   "source": [
    "#Example\n",
    "remove_emoticons(\" Hello :-) \")"
   ]
  },
  {
   "cell_type": "code",
   "execution_count": 37,
   "metadata": {
    "id": "tHILrciOU_-O"
   },
   "outputs": [],
   "source": [
    "df['Text'] = df['Text'].apply(lambda x: remove_emoticons(x))"
   ]
  },
  {
   "cell_type": "markdown",
   "metadata": {
    "id": "Hp-rANfLe5dr"
   },
   "source": [
    "### Spell Correction\n",
    "\n",
    "We’ve all seen reviews with a plethora of spelling mistakes. Product reviews are often filled with hastly written text that are barely legible at times.\n",
    "\n",
    "In that regard, spelling correction is a useful pre-processing step because this also will help us in reducing multiple copies of words. For example, “Analytics” and “analytcs” will be treated as different words even if they are used in the same sense.\n",
    "\n",
    "To achieve this we will use the textblob library. "
   ]
  },
  {
   "cell_type": "code",
   "execution_count": 38,
   "metadata": {
    "colab": {
     "base_uri": "https://localhost:8080/",
     "height": 131
    },
    "id": "AFMenvnHe6er",
    "outputId": "1e79c968-287c-47c3-ba79-8dfb1b4bbff7"
   },
   "outputs": [
    {
     "data": {
      "text/plain": [
       "8056458    enjoyed layout help understand line time poor ...\n",
       "6671483    learning lot structural issues architecture bo...\n",
       "4593153                             son loves book great buy\n",
       "6392189    product listed 34 like new condition 34 certai...\n",
       "3184725                                                 gift\n",
       "Name: Text, dtype: object"
      ]
     },
     "execution_count": 38,
     "metadata": {},
     "output_type": "execute_result"
    }
   ],
   "source": [
    "from textblob import TextBlob\n",
    "df['Text'][:5].apply(lambda x: str(TextBlob(x).correct()))"
   ]
  },
  {
   "cell_type": "code",
   "execution_count": 39,
   "metadata": {
    "id": "yYQJwam5fFgW"
   },
   "outputs": [],
   "source": [
    "# We could do some of the cleaning steps as a sum of opreation like this:\n",
    "\n",
    "# Apply a first round of text cleaning techniques\n",
    "import string\n",
    "\n",
    "def clean_text_round1(text):\n",
    "    '''Make text lowercase, remove text in square brackets, remove punctuation and remove words containing numbers.'''\n",
    "    text = text.lower()\n",
    "    text = re.sub('\\[.*?\\]', '', text)\n",
    "    text = re.sub('[%s]' % re.escape(string.punctuation), '', text)\n",
    "    text = re.sub('\\w*\\d\\w*', '', text)\n",
    "    return text\n",
    "\n",
    "round1 = lambda x: clean_text_round1(x)"
   ]
  },
  {
   "cell_type": "code",
   "execution_count": 40,
   "metadata": {
    "colab": {
     "base_uri": "https://localhost:8080/",
     "height": 245
    },
    "id": "mJGy_q3Af1fU",
    "outputId": "5af5956b-734e-46b2-ac05-e84e21f7fae6"
   },
   "outputs": [
    {
     "data": {
      "text/plain": [
       "8056458    enjoyed layout help understand linux time poor...\n",
       "6671483    learning lot structural issues architecture bo...\n",
       "4593153                             son loves book great buy\n",
       "6392189    product listed  like new condition  certainly ...\n",
       "3184725                                                 gift\n",
       "                                 ...                        \n",
       "7183971    max boot expert military warfare book fascinat...\n",
       "282851                information found net opinionated text\n",
       "8125376    highly recommended first time parents basic ne...\n",
       "783860                                            great read\n",
       "5670992    first time mom book lifesaver given gift purch...\n",
       "Name: Text, Length: 100000, dtype: object"
      ]
     },
     "execution_count": 40,
     "metadata": {},
     "output_type": "execute_result"
    }
   ],
   "source": [
    "df['Text'] = df.Text.apply(round1)\n",
    "df.Text"
   ]
  },
  {
   "cell_type": "code",
   "execution_count": 41,
   "metadata": {
    "id": "x9pQHdIhFAoX"
   },
   "outputs": [],
   "source": [
    "# Apply a second round of cleaning\n",
    "def clean_text_round2(text):\n",
    "    '''Get rid of some additional punctuation and non-sensical text that was missed the first time around.'''\n",
    "    text = re.sub('[‘’“”…]', '', text)\n",
    "    text = re.sub('\\n', '', text)\n",
    "    return text\n",
    "\n",
    "round2 = lambda x: clean_text_round2(x)"
   ]
  },
  {
   "cell_type": "code",
   "execution_count": 42,
   "metadata": {
    "colab": {
     "base_uri": "https://localhost:8080/",
     "height": 245
    },
    "id": "f3DTSvZwFGaB",
    "outputId": "587729e0-6ee2-42a4-f44c-f47ca9ed5e34"
   },
   "outputs": [
    {
     "data": {
      "text/plain": [
       "8056458    enjoyed layout help understand linux time poor...\n",
       "6671483    learning lot structural issues architecture bo...\n",
       "4593153                             son loves book great buy\n",
       "6392189    product listed  like new condition  certainly ...\n",
       "3184725                                                 gift\n",
       "                                 ...                        \n",
       "7183971    max boot expert military warfare book fascinat...\n",
       "282851                information found net opinionated text\n",
       "8125376    highly recommended first time parents basic ne...\n",
       "783860                                            great read\n",
       "5670992    first time mom book lifesaver given gift purch...\n",
       "Name: Text, Length: 100000, dtype: object"
      ]
     },
     "execution_count": 42,
     "metadata": {},
     "output_type": "execute_result"
    }
   ],
   "source": [
    "df['Text'] = df.Text.apply(round2)\n",
    "df.Text"
   ]
  },
  {
   "cell_type": "markdown",
   "metadata": {
    "id": "ZLM2wykAFO6c"
   },
   "source": [
    "Let's check whether the frequent words make sense or not"
   ]
  },
  {
   "cell_type": "code",
   "execution_count": 43,
   "metadata": {
    "colab": {
     "base_uri": "https://localhost:8080/",
     "height": 417
    },
    "id": "n7NhgmICFK8M",
    "outputId": "765569d6-c92a-4c88-b057-e69ff99a133a"
   },
   "outputs": [
    {
     "data": {
      "text/plain": [
       "br         130435\n",
       "book       118979\n",
       "read        40832\n",
       "one         32877\n",
       "great       27080\n",
       "story       23666\n",
       "like        23475\n",
       "good        22393\n",
       "would       20526\n",
       "love        19214\n",
       "well        18314\n",
       "books       17444\n",
       "time        17340\n",
       "life        15956\n",
       "really      15933\n",
       "much        14804\n",
       "reading     14596\n",
       "many        14243\n",
       "also        14191\n",
       "first       13441\n",
       "dtype: int64"
      ]
     },
     "execution_count": 43,
     "metadata": {},
     "output_type": "execute_result"
    }
   ],
   "source": [
    "freq = pd.Series(' '.join(df['Text']).split()).value_counts()[:20]\n",
    "freq"
   ]
  },
  {
   "cell_type": "markdown",
   "metadata": {
    "id": "k_WoqQR9FXok"
   },
   "source": [
    "# Basic Feature Extraction - 2"
   ]
  },
  {
   "cell_type": "markdown",
   "metadata": {
    "id": "aIXunJcIFbgg"
   },
   "source": [
    "###  Number of Words"
   ]
  },
  {
   "cell_type": "code",
   "execution_count": 44,
   "metadata": {
    "colab": {
     "base_uri": "https://localhost:8080/",
     "height": 206
    },
    "id": "RbIMvtdNFXEb",
    "outputId": "ab6cea0f-45a4-4548-827a-583a2796893e"
   },
   "outputs": [
    {
     "data": {
      "text/html": [
       "<div>\n",
       "<style scoped>\n",
       "    .dataframe tbody tr th:only-of-type {\n",
       "        vertical-align: middle;\n",
       "    }\n",
       "\n",
       "    .dataframe tbody tr th {\n",
       "        vertical-align: top;\n",
       "    }\n",
       "\n",
       "    .dataframe thead th {\n",
       "        text-align: right;\n",
       "    }\n",
       "</style>\n",
       "<table border=\"1\" class=\"dataframe\">\n",
       "  <thead>\n",
       "    <tr style=\"text-align: right;\">\n",
       "      <th></th>\n",
       "      <th>Text</th>\n",
       "      <th>word_count</th>\n",
       "    </tr>\n",
       "  </thead>\n",
       "  <tbody>\n",
       "    <tr>\n",
       "      <th>8056458</th>\n",
       "      <td>enjoyed layout help understand linux time poor...</td>\n",
       "      <td>15</td>\n",
       "    </tr>\n",
       "    <tr>\n",
       "      <th>6671483</th>\n",
       "      <td>learning lot structural issues architecture bo...</td>\n",
       "      <td>52</td>\n",
       "    </tr>\n",
       "    <tr>\n",
       "      <th>4593153</th>\n",
       "      <td>son loves book great buy</td>\n",
       "      <td>5</td>\n",
       "    </tr>\n",
       "    <tr>\n",
       "      <th>6392189</th>\n",
       "      <td>product listed  like new condition  certainly ...</td>\n",
       "      <td>38</td>\n",
       "    </tr>\n",
       "    <tr>\n",
       "      <th>3184725</th>\n",
       "      <td>gift</td>\n",
       "      <td>1</td>\n",
       "    </tr>\n",
       "  </tbody>\n",
       "</table>\n",
       "</div>"
      ],
      "text/plain": [
       "                                                      Text  word_count\n",
       "8056458  enjoyed layout help understand linux time poor...          15\n",
       "6671483  learning lot structural issues architecture bo...          52\n",
       "4593153                           son loves book great buy           5\n",
       "6392189  product listed  like new condition  certainly ...          38\n",
       "3184725                                               gift           1"
      ]
     },
     "execution_count": 44,
     "metadata": {},
     "output_type": "execute_result"
    }
   ],
   "source": [
    "df['word_count'] = df['Text'].apply(lambda x: len(str(x).split(\" \")))\n",
    "df[['Text','word_count']].head()"
   ]
  },
  {
   "cell_type": "markdown",
   "metadata": {
    "id": "nqwX7mM_FyKd"
   },
   "source": [
    "Again, let's check the data and number of null values"
   ]
  },
  {
   "cell_type": "code",
   "execution_count": 45,
   "metadata": {
    "colab": {
     "base_uri": "https://localhost:8080/",
     "height": 551
    },
    "id": "qz_bkz3iFtQY",
    "outputId": "88d1abbc-4883-47ec-b4f4-2bad84a374a6"
   },
   "outputs": [
    {
     "data": {
      "text/html": [
       "<div>\n",
       "<style scoped>\n",
       "    .dataframe tbody tr th:only-of-type {\n",
       "        vertical-align: middle;\n",
       "    }\n",
       "\n",
       "    .dataframe tbody tr th {\n",
       "        vertical-align: top;\n",
       "    }\n",
       "\n",
       "    .dataframe thead th {\n",
       "        text-align: right;\n",
       "    }\n",
       "</style>\n",
       "<table border=\"1\" class=\"dataframe\">\n",
       "  <thead>\n",
       "    <tr style=\"text-align: right;\">\n",
       "      <th></th>\n",
       "      <th>null</th>\n",
       "      <th>percent</th>\n",
       "    </tr>\n",
       "  </thead>\n",
       "  <tbody>\n",
       "    <tr>\n",
       "      <th>customer_id</th>\n",
       "      <td>0</td>\n",
       "      <td>0.0</td>\n",
       "    </tr>\n",
       "    <tr>\n",
       "      <th>stopwords</th>\n",
       "      <td>0</td>\n",
       "      <td>0.0</td>\n",
       "    </tr>\n",
       "    <tr>\n",
       "      <th>Text</th>\n",
       "      <td>0</td>\n",
       "      <td>0.0</td>\n",
       "    </tr>\n",
       "    <tr>\n",
       "      <th>emoticon</th>\n",
       "      <td>0</td>\n",
       "      <td>0.0</td>\n",
       "    </tr>\n",
       "    <tr>\n",
       "      <th>emoji</th>\n",
       "      <td>0</td>\n",
       "      <td>0.0</td>\n",
       "    </tr>\n",
       "    <tr>\n",
       "      <th>upper</th>\n",
       "      <td>0</td>\n",
       "      <td>0.0</td>\n",
       "    </tr>\n",
       "    <tr>\n",
       "      <th>numerics</th>\n",
       "      <td>0</td>\n",
       "      <td>0.0</td>\n",
       "    </tr>\n",
       "    <tr>\n",
       "      <th>hastags</th>\n",
       "      <td>0</td>\n",
       "      <td>0.0</td>\n",
       "    </tr>\n",
       "    <tr>\n",
       "      <th>punctuation</th>\n",
       "      <td>0</td>\n",
       "      <td>0.0</td>\n",
       "    </tr>\n",
       "    <tr>\n",
       "      <th>review_date</th>\n",
       "      <td>0</td>\n",
       "      <td>0.0</td>\n",
       "    </tr>\n",
       "    <tr>\n",
       "      <th>product_id</th>\n",
       "      <td>0</td>\n",
       "      <td>0.0</td>\n",
       "    </tr>\n",
       "    <tr>\n",
       "      <th>review_body</th>\n",
       "      <td>0</td>\n",
       "      <td>0.0</td>\n",
       "    </tr>\n",
       "    <tr>\n",
       "      <th>review_headline</th>\n",
       "      <td>0</td>\n",
       "      <td>0.0</td>\n",
       "    </tr>\n",
       "    <tr>\n",
       "      <th>verified_purchase</th>\n",
       "      <td>0</td>\n",
       "      <td>0.0</td>\n",
       "    </tr>\n",
       "    <tr>\n",
       "      <th>vine</th>\n",
       "      <td>0</td>\n",
       "      <td>0.0</td>\n",
       "    </tr>\n",
       "    <tr>\n",
       "      <th>total_votes</th>\n",
       "      <td>0</td>\n",
       "      <td>0.0</td>\n",
       "    </tr>\n",
       "    <tr>\n",
       "      <th>helpful_votes</th>\n",
       "      <td>0</td>\n",
       "      <td>0.0</td>\n",
       "    </tr>\n",
       "    <tr>\n",
       "      <th>star_rating</th>\n",
       "      <td>0</td>\n",
       "      <td>0.0</td>\n",
       "    </tr>\n",
       "    <tr>\n",
       "      <th>word_count</th>\n",
       "      <td>0</td>\n",
       "      <td>0.0</td>\n",
       "    </tr>\n",
       "  </tbody>\n",
       "</table>\n",
       "</div>"
      ],
      "text/plain": [
       "                   null  percent\n",
       "customer_id           0      0.0\n",
       "stopwords             0      0.0\n",
       "Text                  0      0.0\n",
       "emoticon              0      0.0\n",
       "emoji                 0      0.0\n",
       "upper                 0      0.0\n",
       "numerics              0      0.0\n",
       "hastags               0      0.0\n",
       "punctuation           0      0.0\n",
       "review_date           0      0.0\n",
       "product_id            0      0.0\n",
       "review_body           0      0.0\n",
       "review_headline       0      0.0\n",
       "verified_purchase     0      0.0\n",
       "vine                  0      0.0\n",
       "total_votes           0      0.0\n",
       "helpful_votes         0      0.0\n",
       "star_rating           0      0.0\n",
       "word_count            0      0.0"
      ]
     },
     "execution_count": 45,
     "metadata": {},
     "output_type": "execute_result"
    }
   ],
   "source": [
    "null_values=df.isna().sum()\n",
    "null_values=pd.DataFrame(null_values,columns=['null'])\n",
    "sum_tot=len(df)\n",
    "null_values['percent']=null_values['null']/sum_tot*100\n",
    "round(null_values,3).sort_values('percent',ascending=False)"
   ]
  },
  {
   "cell_type": "markdown",
   "metadata": {
    "id": "ZlakthaIF7w0"
   },
   "source": [
    "### Number of characters"
   ]
  },
  {
   "cell_type": "code",
   "execution_count": 46,
   "metadata": {
    "colab": {
     "base_uri": "https://localhost:8080/",
     "height": 206
    },
    "id": "U6aAk1ZbF8GI",
    "outputId": "b1731dfb-f32e-48fb-aaa1-59f9dbc963f4"
   },
   "outputs": [
    {
     "data": {
      "text/html": [
       "<div>\n",
       "<style scoped>\n",
       "    .dataframe tbody tr th:only-of-type {\n",
       "        vertical-align: middle;\n",
       "    }\n",
       "\n",
       "    .dataframe tbody tr th {\n",
       "        vertical-align: top;\n",
       "    }\n",
       "\n",
       "    .dataframe thead th {\n",
       "        text-align: right;\n",
       "    }\n",
       "</style>\n",
       "<table border=\"1\" class=\"dataframe\">\n",
       "  <thead>\n",
       "    <tr style=\"text-align: right;\">\n",
       "      <th></th>\n",
       "      <th>Text</th>\n",
       "      <th>char_count</th>\n",
       "    </tr>\n",
       "  </thead>\n",
       "  <tbody>\n",
       "    <tr>\n",
       "      <th>8056458</th>\n",
       "      <td>enjoyed layout help understand linux time poor...</td>\n",
       "      <td>92</td>\n",
       "    </tr>\n",
       "    <tr>\n",
       "      <th>6671483</th>\n",
       "      <td>learning lot structural issues architecture bo...</td>\n",
       "      <td>417</td>\n",
       "    </tr>\n",
       "    <tr>\n",
       "      <th>4593153</th>\n",
       "      <td>son loves book great buy</td>\n",
       "      <td>24</td>\n",
       "    </tr>\n",
       "    <tr>\n",
       "      <th>6392189</th>\n",
       "      <td>product listed  like new condition  certainly ...</td>\n",
       "      <td>236</td>\n",
       "    </tr>\n",
       "    <tr>\n",
       "      <th>3184725</th>\n",
       "      <td>gift</td>\n",
       "      <td>4</td>\n",
       "    </tr>\n",
       "  </tbody>\n",
       "</table>\n",
       "</div>"
      ],
      "text/plain": [
       "                                                      Text  char_count\n",
       "8056458  enjoyed layout help understand linux time poor...          92\n",
       "6671483  learning lot structural issues architecture bo...         417\n",
       "4593153                           son loves book great buy          24\n",
       "6392189  product listed  like new condition  certainly ...         236\n",
       "3184725                                               gift           4"
      ]
     },
     "execution_count": 46,
     "metadata": {},
     "output_type": "execute_result"
    }
   ],
   "source": [
    "df['char_count'] = df['Text'].str.len() ## this also includes spaces\n",
    "df[['Text','char_count']].head()"
   ]
  },
  {
   "cell_type": "markdown",
   "metadata": {
    "id": "3h8V9jEOGCpc"
   },
   "source": [
    "### 3) Average Word Length"
   ]
  },
  {
   "cell_type": "code",
   "execution_count": 47,
   "metadata": {
    "id": "ygPPuLWqF_jh"
   },
   "outputs": [],
   "source": [
    "def avg_word(sentence):\n",
    "  words = sentence.split()\n",
    "  return (sum(len(word) for word in words)/(len(words)+0.000001))"
   ]
  },
  {
   "cell_type": "code",
   "execution_count": 48,
   "metadata": {
    "colab": {
     "base_uri": "https://localhost:8080/",
     "height": 206
    },
    "id": "KV066OIPGG_M",
    "outputId": "701ef693-57fa-4283-d964-7f283498a30d"
   },
   "outputs": [
    {
     "data": {
      "text/html": [
       "<div>\n",
       "<style scoped>\n",
       "    .dataframe tbody tr th:only-of-type {\n",
       "        vertical-align: middle;\n",
       "    }\n",
       "\n",
       "    .dataframe tbody tr th {\n",
       "        vertical-align: top;\n",
       "    }\n",
       "\n",
       "    .dataframe thead th {\n",
       "        text-align: right;\n",
       "    }\n",
       "</style>\n",
       "<table border=\"1\" class=\"dataframe\">\n",
       "  <thead>\n",
       "    <tr style=\"text-align: right;\">\n",
       "      <th></th>\n",
       "      <th>Text</th>\n",
       "      <th>avg_word</th>\n",
       "    </tr>\n",
       "  </thead>\n",
       "  <tbody>\n",
       "    <tr>\n",
       "      <th>8056458</th>\n",
       "      <td>enjoyed layout help understand linux time poor...</td>\n",
       "      <td>5.2</td>\n",
       "    </tr>\n",
       "    <tr>\n",
       "      <th>6671483</th>\n",
       "      <td>learning lot structural issues architecture bo...</td>\n",
       "      <td>7.0</td>\n",
       "    </tr>\n",
       "    <tr>\n",
       "      <th>4593153</th>\n",
       "      <td>son loves book great buy</td>\n",
       "      <td>4.0</td>\n",
       "    </tr>\n",
       "    <tr>\n",
       "      <th>6392189</th>\n",
       "      <td>product listed  like new condition  certainly ...</td>\n",
       "      <td>5.9</td>\n",
       "    </tr>\n",
       "    <tr>\n",
       "      <th>3184725</th>\n",
       "      <td>gift</td>\n",
       "      <td>4.0</td>\n",
       "    </tr>\n",
       "  </tbody>\n",
       "</table>\n",
       "</div>"
      ],
      "text/plain": [
       "                                                      Text  avg_word\n",
       "8056458  enjoyed layout help understand linux time poor...       5.2\n",
       "6671483  learning lot structural issues architecture bo...       7.0\n",
       "4593153                           son loves book great buy       4.0\n",
       "6392189  product listed  like new condition  certainly ...       5.9\n",
       "3184725                                               gift       4.0"
      ]
     },
     "execution_count": 48,
     "metadata": {},
     "output_type": "execute_result"
    }
   ],
   "source": [
    "df['avg_word'] = df['Text'].apply(lambda x: avg_word(x)).round(1)\n",
    "df[['Text','avg_word']].head()"
   ]
  },
  {
   "cell_type": "code",
   "execution_count": 49,
   "metadata": {
    "colab": {
     "base_uri": "https://localhost:8080/",
     "height": 341
    },
    "id": "Dj-dFcLnHhSS",
    "outputId": "0106ad41-2df1-493d-ad05-ae23140afcde"
   },
   "outputs": [
    {
     "data": {
      "text/plain": [
       "['customer_id',\n",
       " 'product_id',\n",
       " 'star_rating',\n",
       " 'helpful_votes',\n",
       " 'total_votes',\n",
       " 'vine',\n",
       " 'verified_purchase',\n",
       " 'review_headline',\n",
       " 'review_body',\n",
       " 'review_date',\n",
       " 'stopwords',\n",
       " 'punctuation',\n",
       " 'hastags',\n",
       " 'numerics',\n",
       " 'upper',\n",
       " 'emoji',\n",
       " 'emoticon',\n",
       " 'Text',\n",
       " 'word_count',\n",
       " 'char_count',\n",
       " 'avg_word']"
      ]
     },
     "execution_count": 49,
     "metadata": {},
     "output_type": "execute_result"
    }
   ],
   "source": [
    "list(df)"
   ]
  },
  {
   "cell_type": "code",
   "execution_count": 50,
   "metadata": {
    "colab": {
     "base_uri": "https://localhost:8080/",
     "height": 293
    },
    "id": "-fit5NF3KG0n",
    "outputId": "64e09f9c-1b24-4831-cc9a-8675dd3c771d"
   },
   "outputs": [
    {
     "data": {
      "text/html": [
       "<div>\n",
       "<style scoped>\n",
       "    .dataframe tbody tr th:only-of-type {\n",
       "        vertical-align: middle;\n",
       "    }\n",
       "\n",
       "    .dataframe tbody tr th {\n",
       "        vertical-align: top;\n",
       "    }\n",
       "\n",
       "    .dataframe thead th {\n",
       "        text-align: right;\n",
       "    }\n",
       "</style>\n",
       "<table border=\"1\" class=\"dataframe\">\n",
       "  <thead>\n",
       "    <tr style=\"text-align: right;\">\n",
       "      <th></th>\n",
       "      <th>customer_id</th>\n",
       "      <th>product_id</th>\n",
       "      <th>star_rating</th>\n",
       "      <th>helpful_votes</th>\n",
       "      <th>total_votes</th>\n",
       "      <th>vine</th>\n",
       "      <th>verified_purchase</th>\n",
       "      <th>review_headline</th>\n",
       "      <th>review_body</th>\n",
       "      <th>review_date</th>\n",
       "      <th>...</th>\n",
       "      <th>punctuation</th>\n",
       "      <th>hastags</th>\n",
       "      <th>numerics</th>\n",
       "      <th>upper</th>\n",
       "      <th>emoji</th>\n",
       "      <th>emoticon</th>\n",
       "      <th>Text</th>\n",
       "      <th>word_count</th>\n",
       "      <th>char_count</th>\n",
       "      <th>avg_word</th>\n",
       "    </tr>\n",
       "  </thead>\n",
       "  <tbody>\n",
       "    <tr>\n",
       "      <th>5718638</th>\n",
       "      <td>47376068</td>\n",
       "      <td>0307987035</td>\n",
       "      <td>5</td>\n",
       "      <td>2</td>\n",
       "      <td>2</td>\n",
       "      <td>N</td>\n",
       "      <td>Y</td>\n",
       "      <td>A must read for foodies</td>\n",
       "      <td>If you are interested in an honest look at mod...</td>\n",
       "      <td>2014-03-03</td>\n",
       "      <td>...</td>\n",
       "      <td>5</td>\n",
       "      <td>0</td>\n",
       "      <td>0</td>\n",
       "      <td>0</td>\n",
       "      <td>0</td>\n",
       "      <td>0</td>\n",
       "      <td>interested honest look modern agricultural pro...</td>\n",
       "      <td>22</td>\n",
       "      <td>154</td>\n",
       "      <td>6.0</td>\n",
       "    </tr>\n",
       "    <tr>\n",
       "      <th>5254922</th>\n",
       "      <td>12171199</td>\n",
       "      <td>1621940101</td>\n",
       "      <td>5</td>\n",
       "      <td>0</td>\n",
       "      <td>0</td>\n",
       "      <td>N</td>\n",
       "      <td>Y</td>\n",
       "      <td>Joy, no matter the situation!</td>\n",
       "      <td>Excellent study of this great letter from the ...</td>\n",
       "      <td>2014-05-01</td>\n",
       "      <td>...</td>\n",
       "      <td>6</td>\n",
       "      <td>0</td>\n",
       "      <td>1</td>\n",
       "      <td>1</td>\n",
       "      <td>0</td>\n",
       "      <td>0</td>\n",
       "      <td>excellent study great letter apostle paul faci...</td>\n",
       "      <td>17</td>\n",
       "      <td>112</td>\n",
       "      <td>6.0</td>\n",
       "    </tr>\n",
       "    <tr>\n",
       "      <th>9744858</th>\n",
       "      <td>38562832</td>\n",
       "      <td>1582346100</td>\n",
       "      <td>4</td>\n",
       "      <td>0</td>\n",
       "      <td>0</td>\n",
       "      <td>N</td>\n",
       "      <td>N</td>\n",
       "      <td>Voluptuous Prose</td>\n",
       "      <td>Yes, the characters indulge in all sorts of si...</td>\n",
       "      <td>2012-09-30</td>\n",
       "      <td>...</td>\n",
       "      <td>17</td>\n",
       "      <td>0</td>\n",
       "      <td>0</td>\n",
       "      <td>2</td>\n",
       "      <td>0</td>\n",
       "      <td>0</td>\n",
       "      <td>yes characters indulge sorts sins casual sex s...</td>\n",
       "      <td>48</td>\n",
       "      <td>363</td>\n",
       "      <td>6.6</td>\n",
       "    </tr>\n",
       "    <tr>\n",
       "      <th>1467360</th>\n",
       "      <td>20111189</td>\n",
       "      <td>0802405576</td>\n",
       "      <td>5</td>\n",
       "      <td>0</td>\n",
       "      <td>0</td>\n",
       "      <td>N</td>\n",
       "      <td>Y</td>\n",
       "      <td>Five Stars</td>\n",
       "      <td>Very helpful and reminds us we aren't alone.</td>\n",
       "      <td>2015-04-17</td>\n",
       "      <td>...</td>\n",
       "      <td>2</td>\n",
       "      <td>0</td>\n",
       "      <td>0</td>\n",
       "      <td>0</td>\n",
       "      <td>0</td>\n",
       "      <td>0</td>\n",
       "      <td>helpful reminds us alone</td>\n",
       "      <td>4</td>\n",
       "      <td>24</td>\n",
       "      <td>5.2</td>\n",
       "    </tr>\n",
       "    <tr>\n",
       "      <th>2499975</th>\n",
       "      <td>25952696</td>\n",
       "      <td>0802473806</td>\n",
       "      <td>5</td>\n",
       "      <td>0</td>\n",
       "      <td>0</td>\n",
       "      <td>N</td>\n",
       "      <td>Y</td>\n",
       "      <td>It is in excellent condition and the best pack...</td>\n",
       "      <td>My husband Sonny loves the the Ryrie Study Bib...</td>\n",
       "      <td>2015-01-22</td>\n",
       "      <td>...</td>\n",
       "      <td>9</td>\n",
       "      <td>0</td>\n",
       "      <td>0</td>\n",
       "      <td>0</td>\n",
       "      <td>0</td>\n",
       "      <td>0</td>\n",
       "      <td>husband sonny loves ryrie study bible excellen...</td>\n",
       "      <td>23</td>\n",
       "      <td>152</td>\n",
       "      <td>5.7</td>\n",
       "    </tr>\n",
       "  </tbody>\n",
       "</table>\n",
       "<p>5 rows × 21 columns</p>\n",
       "</div>"
      ],
      "text/plain": [
       "         customer_id  product_id  star_rating  helpful_votes  total_votes  \\\n",
       "5718638     47376068  0307987035            5              2            2   \n",
       "5254922     12171199  1621940101            5              0            0   \n",
       "9744858     38562832  1582346100            4              0            0   \n",
       "1467360     20111189  0802405576            5              0            0   \n",
       "2499975     25952696  0802473806            5              0            0   \n",
       "\n",
       "        vine verified_purchase  \\\n",
       "5718638    N                 Y   \n",
       "5254922    N                 Y   \n",
       "9744858    N                 N   \n",
       "1467360    N                 Y   \n",
       "2499975    N                 Y   \n",
       "\n",
       "                                           review_headline  \\\n",
       "5718638                            A must read for foodies   \n",
       "5254922                      Joy, no matter the situation!   \n",
       "9744858                                   Voluptuous Prose   \n",
       "1467360                                         Five Stars   \n",
       "2499975  It is in excellent condition and the best pack...   \n",
       "\n",
       "                                               review_body review_date  ...  \\\n",
       "5718638  If you are interested in an honest look at mod...  2014-03-03  ...   \n",
       "5254922  Excellent study of this great letter from the ...  2014-05-01  ...   \n",
       "9744858  Yes, the characters indulge in all sorts of si...  2012-09-30  ...   \n",
       "1467360       Very helpful and reminds us we aren't alone.  2015-04-17  ...   \n",
       "2499975  My husband Sonny loves the the Ryrie Study Bib...  2015-01-22  ...   \n",
       "\n",
       "         punctuation  hastags  numerics  upper  emoji  emoticon  \\\n",
       "5718638            5        0         0      0      0         0   \n",
       "5254922            6        0         1      1      0         0   \n",
       "9744858           17        0         0      2      0         0   \n",
       "1467360            2        0         0      0      0         0   \n",
       "2499975            9        0         0      0      0         0   \n",
       "\n",
       "                                                      Text word_count  \\\n",
       "5718638  interested honest look modern agricultural pro...         22   \n",
       "5254922  excellent study great letter apostle paul faci...         17   \n",
       "9744858  yes characters indulge sorts sins casual sex s...         48   \n",
       "1467360                           helpful reminds us alone          4   \n",
       "2499975  husband sonny loves ryrie study bible excellen...         23   \n",
       "\n",
       "         char_count  avg_word  \n",
       "5718638         154       6.0  \n",
       "5254922         112       6.0  \n",
       "9744858         363       6.6  \n",
       "1467360          24       5.2  \n",
       "2499975         152       5.7  \n",
       "\n",
       "[5 rows x 21 columns]"
      ]
     },
     "execution_count": 50,
     "metadata": {},
     "output_type": "execute_result"
    }
   ],
   "source": [
    "df.sample(5)"
   ]
  },
  {
   "cell_type": "markdown",
   "metadata": {
    "id": "sxN2Ifh_M2qM"
   },
   "source": [
    "\n",
    "\n",
    "---\n",
    "## **Now, let's apply round 1 and round 2 data cleaning processes on 'Summary' column**\n"
   ]
  },
  {
   "cell_type": "markdown",
   "metadata": {
    "id": "_QVdtbLrNR-f"
   },
   "source": [
    "Keep in mind that round1 operations make text lowercase, remove text in square brackets, remove punctuation and remove words containing numbers."
   ]
  },
  {
   "cell_type": "code",
   "execution_count": 51,
   "metadata": {
    "colab": {
     "base_uri": "https://localhost:8080/",
     "height": 245
    },
    "id": "t_CdpuzhNGiP",
    "outputId": "ccbb84a0-979a-46f7-8804-140c330c8a27"
   },
   "outputs": [
    {
     "data": {
      "text/plain": [
       "8056458                                   linux a better way\n",
       "6671483                  fantastic book for amateurs like me\n",
       "4593153                                     a happy customer\n",
       "6392189                                    not as advertised\n",
       "3184725                                           five stars\n",
       "                                 ...                        \n",
       "7183971    sweeping epic longitudinalstudy of guerillawar...\n",
       "282851                                           three stars\n",
       "8125376                                very interesting book\n",
       "783860                                                 great\n",
       "5670992                                           great book\n",
       "Name: review_headline, Length: 100000, dtype: object"
      ]
     },
     "execution_count": 51,
     "metadata": {},
     "output_type": "execute_result"
    }
   ],
   "source": [
    "df['review_headline'] = df.review_headline.apply(round1)\n",
    "df.review_headline"
   ]
  },
  {
   "cell_type": "markdown",
   "metadata": {
    "id": "vtMJedmlNTtn"
   },
   "source": [
    "And, round2 operations get rid of some additional punctuation and non-sensical text that was missed the first time around."
   ]
  },
  {
   "cell_type": "code",
   "execution_count": 52,
   "metadata": {
    "colab": {
     "base_uri": "https://localhost:8080/",
     "height": 245
    },
    "id": "hS6ks3u9NT26",
    "outputId": "92d0c9b0-b208-4353-924b-c4a8c518e233"
   },
   "outputs": [
    {
     "data": {
      "text/plain": [
       "8056458                                   linux a better way\n",
       "6671483                  fantastic book for amateurs like me\n",
       "4593153                                     a happy customer\n",
       "6392189                                    not as advertised\n",
       "3184725                                           five stars\n",
       "                                 ...                        \n",
       "7183971    sweeping epic longitudinalstudy of guerillawar...\n",
       "282851                                           three stars\n",
       "8125376                                very interesting book\n",
       "783860                                                 great\n",
       "5670992                                           great book\n",
       "Name: review_headline, Length: 100000, dtype: object"
      ]
     },
     "execution_count": 52,
     "metadata": {},
     "output_type": "execute_result"
    }
   ],
   "source": [
    "df['review_headline'] = df.review_headline.apply(round2)\n",
    "df.review_headline"
   ]
  },
  {
   "cell_type": "markdown",
   "metadata": {
    "id": "s16YIKS0qh7m"
   },
   "source": [
    "Let's check whether most frequent words make make. We can add our own stopwords depending on it"
   ]
  },
  {
   "cell_type": "code",
   "execution_count": 53,
   "metadata": {
    "colab": {
     "base_uri": "https://localhost:8080/",
     "height": 988
    },
    "id": "hMEiy3cYqylo",
    "outputId": "ef860e74-e7de-4008-e2d8-b7040575e7bd"
   },
   "outputs": [
    {
     "data": {
      "text/plain": [
       "br            130435\n",
       "book          118979\n",
       "read           40832\n",
       "one            32877\n",
       "great          27080\n",
       "story          23666\n",
       "like           23475\n",
       "good           22393\n",
       "would          20526\n",
       "love           19214\n",
       "well           18314\n",
       "books          17444\n",
       "time           17340\n",
       "life           15956\n",
       "really         15933\n",
       "much           14804\n",
       "reading        14596\n",
       "many           14243\n",
       "also           14191\n",
       "first          13441\n",
       "author         13162\n",
       "get            13123\n",
       "way            12629\n",
       "even           12407\n",
       "people         11637\n",
       "new            11448\n",
       "know           10535\n",
       "characters     10077\n",
       "could           9946\n",
       "series          9518\n",
       "make            9495\n",
       "written         9470\n",
       "world           9289\n",
       "recommend       9089\n",
       "little          8978\n",
       "think           8842\n",
       "find            8824\n",
       "work            8653\n",
       "us              8632\n",
       "see             8393\n",
       "years           7951\n",
       "found           7878\n",
       "two             7797\n",
       "want            7700\n",
       "easy            7617\n",
       "loved           7467\n",
       "back            7404\n",
       "things          7375\n",
       "never           7296\n",
       "every           7173\n",
       "dtype: int64"
      ]
     },
     "execution_count": 53,
     "metadata": {},
     "output_type": "execute_result"
    }
   ],
   "source": [
    "freq = pd.Series(' '.join(df['Text']).split()).value_counts()[:50]\n",
    "freq"
   ]
  },
  {
   "cell_type": "markdown",
   "metadata": {
    "id": "vHMdbivzx2nu"
   },
   "source": [
    "# Adding own stopwords"
   ]
  },
  {
   "cell_type": "code",
   "execution_count": 54,
   "metadata": {
    "id": "hNiadYLxqhX2"
   },
   "outputs": [],
   "source": [
    "# Adding common words from our document to stop_words\n",
    "\n",
    "add_words = [\"br\"]\n",
    "\n",
    "stop_words = set(stopwords.words(\"english\"))\n",
    "stop_added = stop_words.union(add_words)"
   ]
  },
  {
   "cell_type": "code",
   "execution_count": 55,
   "metadata": {
    "colab": {
     "base_uri": "https://localhost:8080/",
     "height": 226
    },
    "id": "THFDe1ctrqmt",
    "outputId": "4f45366a-6b96-4b5b-c13c-b4830f8c0646"
   },
   "outputs": [
    {
     "data": {
      "text/plain": [
       "7913466    recommended gourmet magazine cookbook gold sta...\n",
       "3264982          followed patricia bray years think best yet\n",
       "7749457    person rarely picks book found book excellent ...\n",
       "6680382    insider tells grew world managed become part t...\n",
       "6854610    losing wonderful feline boy tigger friend loan...\n",
       "2073566    book fine enjoyable great tsa comments little ...\n",
       "4430464                              great book great writer\n",
       "5141223    specialised book assume reader expert even glo...\n",
       "1390873        great bio history fans xtc well worth reading\n",
       "9095430    ph physicist teaching university level yoga me...\n",
       "Name: Text, dtype: object"
      ]
     },
     "execution_count": 55,
     "metadata": {},
     "output_type": "execute_result"
    }
   ],
   "source": [
    "df['Text'] = df['Text'].apply(lambda x: \" \".join(x for x in x.split() if x not in stop_added))\n",
    "df['Text'].sample(10)"
   ]
  },
  {
   "cell_type": "code",
   "execution_count": 56,
   "metadata": {
    "id": "YXIflGp5YbMw"
   },
   "outputs": [],
   "source": [
    "df1= df"
   ]
  },
  {
   "cell_type": "code",
   "execution_count": 57,
   "metadata": {
    "id": "FXqsBVeGvJDV"
   },
   "outputs": [],
   "source": [
    "mask = df1.Text.str.endswith('br') \n",
    "df1.loc[mask, 'Text'] = df1.loc[mask, 'Text'].str[:-2]"
   ]
  },
  {
   "cell_type": "code",
   "execution_count": 58,
   "metadata": {
    "id": "Y8AhhLGRkP4q"
   },
   "outputs": [],
   "source": [
    "df1['Text'] = df1['Text'].str.rstrip('tty')"
   ]
  },
  {
   "cell_type": "code",
   "execution_count": 59,
   "metadata": {
    "colab": {
     "base_uri": "https://localhost:8080/",
     "height": 245
    },
    "id": "zMevwHjdm8xx",
    "outputId": "b84b9884-bb4f-429e-a7d4-6264bf55504a"
   },
   "outputs": [
    {
     "data": {
      "text/plain": [
       "8056458    enjoyed layout help understand linux time poor...\n",
       "6671483    learning lot structural issues architecture bo...\n",
       "4593153                              son loves book great bu\n",
       "6392189    product listed like new condition certainly fa...\n",
       "3184725                                                  gif\n",
       "                                 ...                        \n",
       "7183971    max boot expert military warfare book fascinat...\n",
       "282851                 information found net opinionated tex\n",
       "8125376    highly recommended first time parents basic ne...\n",
       "783860                                            great read\n",
       "5670992    first time mom book lifesaver given gift purch...\n",
       "Name: Text, Length: 100000, dtype: object"
      ]
     },
     "execution_count": 59,
     "metadata": {},
     "output_type": "execute_result"
    }
   ],
   "source": [
    "df1['Text'].apply(lambda x: x[:-2] if x.endswith('tty') else x)"
   ]
  },
  {
   "cell_type": "code",
   "execution_count": 60,
   "metadata": {
    "colab": {
     "base_uri": "https://localhost:8080/",
     "height": 36
    },
    "id": "mS-2xaZCmN7j",
    "outputId": "7ffbe3e7-5ff6-476b-b976-ccb9215888f5"
   },
   "outputs": [
    {
     "data": {
      "text/plain": [
       "Series([], Name: Text, dtype: object)"
      ]
     },
     "execution_count": 60,
     "metadata": {},
     "output_type": "execute_result"
    }
   ],
   "source": [
    "df1.loc[df1.Text.str.endswith('br'), 'Text']"
   ]
  },
  {
   "cell_type": "code",
   "execution_count": 61,
   "metadata": {
    "colab": {
     "base_uri": "https://localhost:8080/",
     "height": 227
    },
    "id": "JlOI_uqLmsie",
    "outputId": "12f0b212-a1a3-4b5e-c882-3208809d20bd"
   },
   "outputs": [
    {
     "data": {
      "text/plain": [
       "['admit greta christina book atheists angry things piss godless many ways better expected greta good writer anger expressed much reason rant pith well pique begins book list things tick surprised find agreed greta also smart enough know listing atrocities rightly adds list could far longer enough make even moral case religion knows moral case would prove religion wrong recognizes people jerks without help olympus recognizes anger destructive psychologically street points anger also often harnessed productively important reform movements come think true fact atheists angry seen nice little rebuttal pluralism attempt always look bright side religious life ta da ta da da da da da like radical critics pluralism however greta tacks opposite extreme book also read rah rah screed secular humanism greta gang thick pz myers simple minded enlightenment exclusivists gavin costa puts think points wrong christianity slavery christianity status women galileo bruno persecuted think also wrong supposed lack comfort religious faith brings dying seen gospel comforting dying seen positively enobling serious problems book go much deeper greta notions religion utter failure make serious argument position finally even important place real argument really knowing much anything religion like many new atheists invests everything false notion christians mean faith takes notion faith sense blind trust clueless windbags religion started reading atheists angry wrote two questions back page private notation expand greta think religion systematic evidence offer proposition religion mine particular harmful helpful former question much disputed scholars peter berger divides definitions religion two categories substantive functional example functional definition paul tillich definition religion ultimate concern emile durkheim description religion terms role plays bonding community like gnus greta finally gets around defining talking takes substantive definition religion granted religion substance belief believing supernatural thing uniquely defines religion belief unverifiable supernatural entities course fogs question added adjective unverifiable get later point present greta new atheists religion involves beliefs supernatural entities extent definition probably reflects greta ignorance things greta would call religions care much supernatural entities forms buddhism believe hinduism instance point definition wildly popular among gnus atheism religion mutually incompatible means greta cannot possibly religion believe gods allies apparently free intellectual fault religious liable admit plausible way define word think also used trick new atheists retreat behind castle chosen dogmas psychological fixations try claim moment sallying forth like knights disinterested sun open minded reasoning religious us nobody us objective rational truth seeking enlightenment chickens peck peck peck religion rabble outside gate course usual exclusivist defensive posture one reason like exclusivism tends separate saved sinners little firmly taste ii systematic evidence greta produce show christianity harmful end cough really one funny things new atheists get worked scientific method reason evidence almost never find hearts offer partly conflate science reason bother learn much history action want prove religion harmful helpful test tubes particle accelerators absolutely useless comes showing effect christianity world need find good historians greta offer long gossipy list religious sins yes could made lot longer heck could make longer list screwups one christian tedious game anyone play without control confirmation bias human tendency pick choose bits data vast fields human activity confirm whatever theory want believe really prove religion general one religion particular harmful think something like prove christianity helped women robert woodberry show protestant missions aided development free democratic societies enough find reason think religion hurts people greta methodology next section enough tell stories experience add historical anecdotes sprinkle like pixie dust prejudices would need roughly follows think define religion coherently plausibly preferably including ultimate concern definition comparisons made b survey includes religious non religious societies embracing wide variety cultures languages continents economic historical circumstances using reliable relevant international data bases show non religious societies systematically consistently friendly human flourishing religious societies c offer theory theories causes difference critical pounce first thought enters brain describe history liberation enrichment geographical regions show historically indeed turn away religion worked magic e explain away link anti religious ideology misery one third world went communist try brush away blank assertions soviet experiment political stalin fault even countries never visited deal actual historical research question david aikman careful atheism marxist tradition accounts anti religious statements actions communist governments f also need come grips equally clear link gospel jesus christ liberation others shown around world variety ways conditions greta achieve one bit done homework know talking instead offering genuine systematic evidence even refuting arguments showing gospel helped us even world greta plays trick readers waves magic wand call blind faith meme priori logic saves hard work making actual historical argument magic wand brittle stick dry rot eaten old cottonwood iii magic faith greta wants justify anger religion string anecdotes smart enough know anyone play game probably suspects recent uncivil wars ranks brights given power crowd would better imagine good folks pharyngula charge country yet people greta cites praises book tell hatred like many new atheists greta latches gnu myth original sin call blind faith meme get angry believers glorify religious faith e believing supernatural world good evidence supporting believe positive virtue character trait makes people good noble major part many religious doctrines trusting tenets faith without evidence acceptable positive virtue believed seen blessed seen yet believe john greta excuse bit real historical sociological research back buck naked assertion feathered anecdotal fig leaves religion harm good research done prove blind faith meme get anecdotes greta claims religious people driven wall peerless logic arguments dismantled squeeked take faith see getting little hot collar often refute nonsense often explain greta interpretation john also dawkins bogus pointed true reason first notice jesus gave thomas evidence asked second trusting close friends thomas became less reasonable retreating third level faith faith mere senses mind taking short step along unabomber path rabbit hutch montana jesus recognized social creatures reasonably depend one another facts live third john gives many testimonies may know else could sony video recorder human testimony way establish truth historical claims whenever anyone tells weak listen talk ten minutes contradict appealing human testimony everything else says day things learned class books web radio fourth miracles continued pure act laziness greta christina would pass proof text without dealing obvioius objections readers gettingit doubt richard dawkins like one gifts shire hobbits pass one another birthdays read new testament whole argue chapter clearly norm christians appeal evidence back supernatural claims survey christian thinkers general centuries even ask modern christians believe appeal reason evidence overwhelming norm see christians lost minds truth behind new atheism summary alister mcgrath leading authority history christian theology wrote book large part correct richard dawkins mutual point ignorance greta avail new atheists hold onto meme amazing tenacity teeth evidence dawkins put greta like craig james religion virus upfront enough admit lie magic wand shortcut moral victory excuse refusing offer serious argument back bias religion general christianity particular aikman careful atheism marxist tradition accounts anti religious statements actions communist governments f also need come grips equally clear link gospel jesus christ liberation others shown around world variety ways conditions greta achieve one bit done homework know talking instead offering genuine systematic evidence even refuting arguments showing gospel helped us even world greta plays trick readers waves magic wand call blind faith meme priori logic saves hard work making actual historical argument magic wand brittle stick dry rot eaten old cottonwood iii magic faith greta wants justify anger religion string anecdotes smart enough know anyone play game probably suspects recent uncivil wars ranks brights given power crowd would better imagine good folks pharyngula charge country yet people greta cites praises book tell hatred like many new atheists greta latches gnu myth original sin call blind faith meme get angry believers glorify religious faith e believing supernatural world good evidence supporting believe positive virtue character trait makes people good noble major part many religious doctrines trusting tenets faith without evidence acceptable positive virtue believed seen blessed arethose seen yet believe john greta excuse bit real historical sociological research back buck naked assertion feathered anecdotal fig leaves religion harm good research done prove blind faith meme get anecdotes greta claims religious people driven wall peerless logic arguments dismantled squeeked take faith see getting little hot collar often refute nonsense often explain greta interpretation john also dawkins bogus pointed true reason first notice jesus gave thomas evidence asked second trusting close friends thomas became less reasonable retreating third level faith faith mere senses mind taking short step along unabomber path rabbit hutch montana jesus recognized social creatures reasonably depend one another facts live third john gives many testimonies may know else could sony video recorder human testimony way establish truth historical claims whenever anyone tells weak listen talk ten minutes contradict appealing human testimony everything else says day things learned class books web radio fourth miracles continued pure act laziness greta christina would pass proof text without dealing obvioius objections readers gettingit doubt richard dawkins like one gifts shire hobbits pass one another birthdays read new testament whole argue chapter clearly norm christians appeal evidence back supernatural claims survey christian thinkers general centuries even ask modern christians believe appeal reason evidence overwhelming norm see christians lost minds truth behind new atheism summary alister mcgrath leading authority history christian theology wrote book large part correct richard dawkins mutual point ignorance greta avail new atheists hold onto meme amazing tenacity teeth evidence dawkins put greta like craig james religion virus upfront enough admit lie magic wand shortcut moral victory excuse refusing offer serious argument back bias religion general christianity particular',\n",
       " 'contrary hype book lt b jesus worth lt b cannot recommend books like important study bible every christian books like radical might get published first place nutshell focus radical view way much working god little emphasis actually knowing god growing maturing love christ focus fruit without growing tree first otherwise good works god even know desire steadfast love sacrifice knowledge god rather burnt offerings hosea david pastor radical experiment brook hills excellent preacher good pastor opinion beginning family enthusiastic participants radical years later subconsciously come believe jesus died sin must good works radical order remain worthy salvation supposed sell stuff give poor go overseas missions adopt foster children serve homeless shelters etc comments like one pg lt b lives reflect radical compassion poor reason wonder christ really us lt b exacerbated anxiety especially heard pulpit every sunday several years finally enough enough walk christ whittled exhausting list good works left spiritually famished family left brook hills protest radical david offers one one problem sees plaguing local churches us american dream treats american dream nothing sinful materialism disguised personal opportunity correct ignores pays mere lip service good things come via american dream example impoverished families work way prosperity opportunities historically available parts world david also seems forget many benefits reaped american dream multiple post grad degrees megachurch pastor imb president bestselling author age etc attacks american dream inimical understand spiritual cancer robbing christians life christ opportunity consumerism people abuse american dream pursue sinful wants blame cars car accidents lt b problem lt u sin lt u american dream lt b undercuts entire premise radical main complaint radical however lack sound biblical exegesis lot scripture radical referring text enough use matters david claims jesus created lt b us lt b take gospel ends earth anything less radical devotion unbiblical christianity david applies great commission command carried lt u every single believer lt u lt u individual lt u level thus leave place origin share gospel abroad disobeying god jesus lt b merely called lt b us go nations lt b commanded us go lt b nations taken command though reduced calling something lt b people lt b receive apparently never ask god lives everyone scripture exactly support acts church antioch prophets teachers worshiping lord fasting lt b holy spirit said set apart barnabas saul work called lt b fasting praying laid hands lt b sent lt b men expressly identified called go passage specifically says sent indicating go disobedient even though holy spirit called barnabas paul radical completely silent scripture indicates gc lt u corporate lt u command church lt u body lt u believers role play according holy spirit instruction see acts sent lt b holy spirit lt b went seleucia sailed cyprus also cor apostles every individual called go david says holy spirit call specific people bible others david similarly misapplies luke using rich young ruler warning materialism point story money per se latent idolatry keeping person lt b rich poor lt b separated god particular man struggled idolatry toward money know came jesus asking salvation misunderstood depth need saying fully obeyed god life mk contrast rom jesus understood money particular stumbling block man preventing fully loving god pursuant ex deut told man sell everything follow man went away sad could even keep first commandment jesus explains hard rich enter kingdom god indeed easier camel go eye needle someone rich enter kingdom god lk words impossible rich person enter heaven lt b merits lt b end story verse people ask lt b saved lt b notice ask rich person saved saved point applies rich poor problem money sin david withholds mention jesus important answer lt u impossible man possible god lt u indeed lt b jesus radical enough please god behalf lt b know reading radical instead might tempted think opposite true jesus death cross beginning salvation finish good works material sacrifice path legalism burnout david offers occasional caveat cannot earn salvation concludes rich man lt b wealth lt b inherent propensity sin rich poor would keep separated god way us fix sin sell everything correct important remember jesus tell lt u everyone lt u give possessions order follow lengthy discourse nicodemus john jesus even mention money though nicodemus likely wealthy man like rich young man came jesus learn path god david also ignores abraham job see jas king david solomon boaz lydia lazarus joseph arimathea etc contrary radical bible indicates wealthy persons incapable loving god lt b money lt b problem lt b lt b money lt b loving lt b mt ti confronted concerns david explains radical salvation lt u lt u works lt u evidence lt u salvation sounds like valid distinction lt u practice lt u line blurs easily bible already clear evidence salvation see e g gal bothers radical david seems put cart horse emphasizing fruit bear walk christ creates fruit us jerry bridges explains lt u fruitful life lt u lt focus outward structure character conduct without taking time build inward foundation devotion god fail us eventually results cold morality legalism even worse self righteousness spiritual pride must develop inner outer aspects godliness simultaneously lt radical focuses almost entirely outer life either assuming reader already strong developing inner life ignoring inner life altogether one need read comments critical reviews radical see consequences unbalanced approach christian life finger pointing phariseeism thrive people emphasize appearance sacrificial holiness without trusting holy spirit create strength heart needed support outer structure god intends david seem recognize another reviewer radical explains lt believe speakers including david radical understand people change seem imply primary thing needed lukewarm people become full disciples willpower discussion centers getting readers see fully committed teachings jesus encouraging become fully committed little discussion dynamics spiritual change roadblocks processes means person becomes fruitful christian living sacrificial lifestyle words overwhelming focus call change roadmap change lt see comment daniel jepsen come radicals christianity today dated march words david focuses christians especially american fully committed disciples christ warns us dangers change presumption seems must create change effort brook hills resulted people putting homes sale downsizing vehicles adopting children overseas traveling abroad mission radical try little harder give little good works god pleased need fear salvation roadmap spiritual burnout emphasis us christ specifically tells us apart nothing entirely possible look radical outside completely spiritually dead inside vitally important jerry bridges explains lt u fruitful life lt u often try develop christian character conduct without taking time develop god centered devotion try please god without taking time walk develop relationship lt u impossible lt u emphasis added continues lt obvious god centered lifestyle cannot developed maintained apart solid foundation devotion god strong personalrelationship living god keep commitment becoming oppressive legalistic john writes god commands burdensome see john godly life wearisome true godly person first devoted god devotion motivation christian behavior pleasing god lt see hos cor short believe radical necessarily unbiblical overemphasizes one facet christian life expense others bible christian life described different ways appropriate depending circumstances sometimes warrior athlete slave family farmer apprentice etc unfortunately hype radical led many people fear saved unless radical david describes proportion calls book time bible offers much nuanced approach christian life holy spirit help us navigate jn david misses much explained cor hos thes rom mt apply radical would different book altogether important lt b study bible lt b god given everything need pt need radical may better without death cross beginning salvation finish good works material sacrifice path legalism burnout david offers occasional caveat cannot earn salvation concludes rich man b wealth b inherent propensity sin rich poor would keep separated god way us fix sin sell everything correct important remember jesus tell u everyone u give possessions order follow lengthy discourse nicodemus john jesus even mention money though nicodemus likely wealthy man like rich young man came jesus learn path god david also ignores abraham job see jas king david solomon boaz lydia lazarus joseph arimathea etc contrary radical bible indicates wealthy persons incapable loving god b money b problem b b money b loving b mt ti david also ignores many practical concerns radical laments nearly half world struggling find food money spend french fries implying world hunger would end christians gave countries suffering lack american wealth somehow holier suffer free rule law upheld due corrupt governments money alone solve mean ignore poor cannot assume giving fix problems also cannot assume suffering america fault based survivor guilt important however spiritual ramifications radical david particular disdain local churches us tone throughout book harsh condemning bordering judgmental seems think churches verge destruction claiming care parking lots helping poor brook hills people responded selling homes adopting fostering children going missions overseas spending free time serving homeless shelters david praises radical gives warning burnout pride poverty legalism result working become radical also fails warn readers exchanging one idol materialism another good works confronted concerns david explains radical salvation u u works u evidence u salvation sounds like valid distinction u practice u line blurs easily bible already clear evidence salvation e g gal hype radical led many people fear saved unless radical bible offers much nuanced approach christian life holy spirit help us navigate jn david misses much explained cor hos thes rom mt apply radical would different book altogether important b study bible b god given everything need pt need radical may better withou',\n",
       " 'dr jayson mira calton huge service nutrition world put focus macronutrients micronutrients book asin naked calories back discussing critical importance go choosing best food quality healthy low carb lifestyle one biggest criticisms people eating low carb diet heard years low carb sacrifices choosing best quality foods favor simple process cutting carbohydrates might true past anymore days think reality us low carbers actually surveyed blog readers overwhelming majority noted buy grass fed pastured meats low carb lifestyle however challenge face carb conscious consumers balancing desire control amount carbohydrates consume need obtain nutrition foods eat caltons help us practical solutions making happen brand new book rich food poor food dynamic health duo back better ever super exciting new book serves virtual guide go shopping without getting confused slick marketing mumbo jumbo put big food companies offer great tips finding best quality foods major food categories help find affordable prices meet virtually budget whether seasoned savvy healthy supermarket shopper brand new let dr jayson mira calton help guide like gps rich quality real whole foods away poor crappy fake processed foods low fat plastered along front packaging make healthy key concepts find rich food poor food trained look macronutrients enough need look organic grass fed pastured etc wanted provide resource help people find good foods convenience led big business food industry really bad science low fat corrupted food system literally boxed corner packaged foods food scientists heart conversation research found consumers like brightly colored food eyes tell brain foods good eat smell taste manipulated make eat time food science advanced create frankenfood public gotten point know real food real food necessarily come box great companies right lots tips lower costs real food maybe split half cow farmer group build relationship local farmer farmer market nobody putting coupons real food manufacturers book giving coupons rich food resource center web site yes eat ketogenic diet get best nutrition jump feet going time really take serious look slowly start one aisle food product time one stick go backwards start slowly difference cafo beef grass fed profound grass fed meats much higher micronutrient content eating grass fed cows eating gmo foods lot good manufacturers breaking mainstream showing wal mart costco around pound choose cheap cafo beef vs sad diet grass fed beef expensive choosing tuna pay later toxic foods consume eggs great way get high quality food diet people try rationalize important justify times places stuck dedicated book people supplying quality food make community strong healthy support low carb high fat gives amazing benefits gonna happen matter food quality real danger eating poor food time toxic overload inferior food choices value low carb high fat food quality people switch sad food quality see benefit lot people boxed foods crappy price pay basically pound meat take things cart afford chemically changed foods make hungrier amazing many poor ingredients products cheat times need aware food quality years ago food supply bad today gmos pesticides exponentially greater ever low carb high fat diet foundation eating plan let start work food quality diet dialed pay attention natural flavors vanilla flavoring actually beaver say something brightly colored liquid good sucralose best sinister sugar substitutes stevia much recommended artificial sweeteners natural like plant like beaver natural horrendous marketing term popular even word organic phrase made also means made without healthy generally defined something low fat people succumb allure marketing labels label may good maybe strict guidelines determining good food entire book sugar free wheat free mayonnaise almost impossible find soybean oil somebody right virtually every category like asin eat type books fat salt calories taken consideration gps book helps people navigate stores low carbers love cheese great ones go brand name go fancy cheese store foreign country quality tends better cheese becomes shredded potato starch added buy block shred avoid mold inhibitors clear plastic bags rob micronutrients cheese velveeta real cheese try hide cheese real cheese either steer clear brands dislike ingredients kraft horrific food ingredients cheese products hydrolyzed anything translated msg use variety different names ingredients soybean oil replaced canola oil better dressings really really hard thing find giving power back people get good foods rich food request list book hand list local store manager buy willnot carry real food providers need us demand products let grocery stores determine products rules persistent foods want greek yogurt low fat fat hard find always add fat low fat greek yogurt canadian products going similar us foods similar policies regarding gmo united states canola oil actually canada oil rapeseed products banned countries usa rich food resource center tote bags free tips bag get coupons request lists wallet size fab terrible foods foods buy organic terrible foods usually give kids pesticide residue want buy organic yellow squash zucchini almost always genetically modified potatoes terrible sweet potatoes fab videos make quality foods home growing sugar sugar anymore sugar beets get sugar gmo takes minutes make mayonnaise home one popular recipes paleo low carb bacon mayo non low carb people devour good sauces wheat free movement supporting low carb lifestyle paleo primal brothers low carb room science really backing low carb lifestyle dr william davis asin wheat belly fame wrote foreword new book mark sisson behind asin primal blueprint penned introduction rich food poor foodrs natural like plant like beaver natural horrendous marketing term popular even word organic phrase made also means made without healthy generally defined something low fat people succumb allure marketing labels label may good maybe strict guidelines determining good food entire book sugar free wheat free mayonnaise almost impossible find soybean oil somebody right virtually every category like asin eat type books fat salt calories taken consideration gps book helps people navigate stores low carbers love cheese great ones go brand name go fancy cheese store foreign country quality tends better cheese becomes shredded potato starch added buy block shred avoid mold inhibitors clear plastic bags rob micronutrients cheese velveeta real cheese try hide cheese real cheese either steer clear brands dislike ingredients kraft horrific food ingredients cheese products hydrolyzed anything translated msg use variety different names ingredients soybean oil replaced canola oil better dressings really really hard thing find giving power back people get good foods rich food request list book hand list local store manager buy willnot carry real food providers need us demand products let grocery stores determine products rules persistent foods want greek yogurt low fat fat hard find always add fat low fat greek yogurt canadian products going similar us foods similar policies regarding gmo united states canola oil actually canada oil rapeseed products banned countries usa rich food resource center tote bags free tips bag get coupons request lists wallet size fab terrible foods foods buy organic terrible foods usually give kids pesticide residue want buy organic yellow squash zucchini almost always genetically modified potatoes terrible sweet potatoes fab videos make quality foods home growing sugar sugar anymore sugar beets get sugar gmo takes minutes make mayonnaise home one popular recipes paleo low carb bacon mayo non low carb people devour good sauces wheat free movement supporting low carb lifestyle paleo primal brothers low carb room science really backing low carb lifestyle dr william davis asin wheat belly fame wrote foreword new book mark sisson behind asin primal blueprint penned introduction rich food poor food',\n",
       " 'first good loads air combat action book preliminaries dispensed pages pages full clostermann combat flying think many people like fun read books slow get action one bad got two issues book one despite success clostermann set good example disciplined fighter pilot wingman leader depend enemy aircraft shoot clostermann ditch leader surprised open two book full inaccuracies faulty analysis errors blatant find wondering possible author editor publisher bother even basic fact checking best guess clostermann wanted spice book making achievements seem even impressive actually else explain blatant errors big mistake since clostermann actual achievements need enhancement rest review long list wingman accuracy analysis issues found book consider authority want point clostermann claims take issue hate think newcomer reading book accepting everything truth lot people seem given high ratings book receives frankly think big show highly overrated due factual errors reading issues book encourage fact checking draw conclusions unreliable wingman page bantam paperback sky filled hurtling spitfires seemed suddenly empty disappeared never mind going lose focke wulf clostermann first mission lt martell page flabbergasted shot two huns two huns time bursting pride trembling suppressed jitters nerves jangled martel happened would think left lurch sky empty clostermann second mission july wingman lt martell pages commandant mouchotte hun opened fire tracers passed yards wing tips decidedly unhealthy opened throttle wide pulled desperately stick follow mouchotte tight turn climbing almost vertically pulled hard engine cut one precious second hung nose air first huns began flash like thunderbolts sections engine picked terrific jerk late lost contact section could see yards climbing spiral helped wide barrel roll brought within yards focke wulf let loose long burst degree correction seconds later heard last time commandant mouchotte voice calling alone flying squadron commander wingman clostermann loses mouchotte isolated killed time claims engine cut one second excuse losing leader believe previous incidents page meanwhile jacques contrary settled habits followed sutherland heels like faithful hounds pleasure seeing liquidate another yards range clostermann freely admits settled habit stay leader inaccuracies faulty analyses page richthofen pilots hand picked commanded one aces german air force major von graff page complete picture heard german radio three days later major von graff iron cross swords oak leaves diamonds wounded course heroic combat enemy force superior numbers cannot find reference major von graff historical record would hard believe pilot knight cross oak leaves swords diamonds germany highest decoration knights cross gold presented rudel assume clostermann referring hermann graf jg commander decoration described however hermann graf never commander jg richthofen shot clostermann tempest unit list commanders jg include anyone named graff graf victories scored jg eastern front january graf came western front instructor pilot june took command began creating high altitude fighter unit eventually designated jg november graf given command jg flying jg march graf shot p mustang confusion dog fight collided another mustang managed bail injured spend time hospital graf eventually returned eastern front jg commander october jg last wartime commander choosing graf astounding victory tally opponent clostermann trying impress pages right fortress holed like sieve flying left red nosed mustang limped along england atlast inland could make four crashed fortresses fields landed manston fortress exhausted drained parked mustang introductions pilot renowned major beeson commander mustang squadron last mission due repatriated states week schweinfurt factory razed ground fortresses still airworthy clostermann describing escort duties second schweinfurt raid october time second schweinfurt raid beeson lieutenant major fighter squadron commander squadron furthermore flying thunderbolt mustang time beeson fly mustang february finally red noses authorized mid march clostermann way facts second schweinfurt raid b lost damaged returned leaving undamaged damaged b could repaired scrapped damaged b still flyable could repaired put back service b returned second schweinfurt undamaged b could considered airworthy airworthy b big exaggeration page allied expeditionary air forces could pit exactly first line fighters r f day air force fighter groups air force fighter groups total fighter groups squadrons group squadron puting aircraft yields u fighters clostermann implies u fighters day say exact number think safe say clostermann little light u contribution seems clostermann penchant minimizing u contribution general page emergencies could boost nearly h p revs speed went p h dive tempest aircraft reach without interfering handling qualities marked extent sub sonic speeds e p h clostermann refers tempest tempest definitely high performance aircraft day would see data would believe mph detriment handling qualities dive page another costly raid fortresses laid never came back clostermann referring raid wiener neustadt second raid schweinfurt u bomber raid highest losses bombers lost clostermann claim bombers lost raid wiener neustadt far high page messerschmitt tricky fly wing loading lbs per square foot landing speed p h difficult take turbines also gave trouble certainly high losses accidents jg instance losing pilots three months read british report captured reports touchdown speed kilometers per hour translates mph clostermann landing speed double mph landing speed would real handful jg never flew flew exclusively throughout war also jg never combat clostermann unit jg fought eastern front starting invasion soviet union end war last days war german lines collapsed jg based austria czechoslovakia time jg isolated combats allied bomber escorts page average standard german fighter pilots much higher turn year time since explained apart possible considerations morale defence fatherland fact crack fighter units absolute priority everything including personnel also handing fuel lubricants therefore likely meet combat nothing experienced pilots early rotation pilots western russian fronts often brought us contact units middling worth later concentrated exclusively eastern front principle russian front rest cure luftwaffe quantity mattering quality best units kept reserve face r f protect german towns american daylight bombing grosso modo situation luftwaffe end clostermann claim german pilot proficiency peak end beginning complete opposition everything read subject understanding german fighter force low ebb sustaining serious losses previous year february part european strategic bombing campaign united states strategic air forces usstaf launched operation argument series missions german held territory became known big week course big week german fighter force lost percent pilots nearly killed big week frequently described watershed event losses experienced german fighter pilots severe one week forcenever recovered went steady decline end war intense air combat attrition eastern front course allied invasion europe made bad situation even worse course experienced german fighter pilots still flying individuals dangerous ever numbers dropped passing day german fighter force made newer pilots generally significantly less experience allied opponents clostermann claim flies face virtually every source perhaps wants opponents appear powerful actually order impress readers page operation brilliantly worked superbly executed allied public opinion would dealt staggering blow known american censorship press services flat spin tried present attack great allied victory publishing peculiar figures pilots still laughing three months later clostermann referring operation bodenplatte clostermann assessment bodelplatte opposition read operation bodenplatte achieved surprise tactical success ultimately failure great many allied aircraft destroyed ground losses quickly replaced since majority allied losses empty planes sitting ground allied aircrew casualties quite small conversely germans lost many fighter pilots could replace luftwaffe lost pilots killed missing captured wounded including three geschwaderkommodore five gruppenkommandeure staffelkapitäne largest single day loss luftwaffe clearly many pilots lost experienced leaders veterans thus bodenplatte short term success buta long term failure allied losses soon made luftwaffe pilots lost irreplaceable german historian gerhard weinberg wrote left germans weaker ever incapable mounting major attack page closed discussion conclusive argument always annoyed spitfire pilots considerably e landing speed almost greater cruising speed said joke conclusive argument might worth laugh however maintaining spitfire top speed around mph cruise speed barely tempest mph landing speed ridiculous page rheine hopsten nowotny sole charge jagdgeschwader dispersed various satellites nordhorn plantlunne neuenkirchen luned hesepe bramsche jg effectives comprised focke wulf jet messerschmitt staffel junkers night fighters attached represented tactical reserve fighter planes orders twenty two year old lieutenant colonel page hurtling air like bullet bob clark miraculously went wall flack without hit fired long burst silvery final phase approach messerschmitt crashed flames edge airfield fortnight later learnt cross checking captured document prisoners reports piloted nowotny jg flew exclusively throughout war fw ju claimed clostermann mentioned earlier jg fought eastern front never faced clostermann unit think clostermann trying build opponent jg renowned successful fighter wing worldwar two aerial victories claimed suspect clostermann claims fought jg impress readers walter nowotny never commanded jg luftwaffe highest scoring ace victories spent entire eastern front combat time jg briefly commanded jg fighter training school kommando nowotny flying nowotny years old nowotny scored victories killed flying november remains unclear whether nowotny killed due engine failure whether shot united states army air forces usaaf captain ernest fiebelkorn fighter group lieutenant edward buddy haydon fighter group east hesepe clear nowotny shot clostermann tempest squadron suspect clostermann chosen claim nowotny shoot impress readers page planes shooting bombing advanced columns considerably hampering progress supply echelons never heard ss fighter bomber units ss ground units reputation combat prowess fanaticism believe clostermann invented ss air units impress readers long list egregious errors clostermann believe lazy writer bother research facts conclude felt need embellish story impress readers bad unvarnished truth impressive enough still fun book read put much stock facts figures opinions way much better fighter pilot memoirs raf interest try spitfire pilot roger hall first light geoffrey wellum nine lives alan deere flying start hugh dundas fight sky douglas bader fly life robert stanford tuck tale guinea pig geoffrey page good reads believable',\n",
       " 'sorting contradictions nebulous references book probably better exercise brain sudoku would take sizable book unravel scratch surface give idea expect problems arise confused levels explanation suppose go job interview interviewer says tell little self reply subpersonal level self nothing true false illusions one could illusions p kindle edition values goals exist subpersonal level nothing universe possesses inherent value goal p gave reply chances getting job would slim unless interviewing metzinger philosophy department perhaps point although subpersonal level explanation basis metzinger saying self even anyone could illusion self book phenomena level written level organism whole p make mistakes illusions illusion directly contact world p search kindle edition illusion find matches many cases people including metzinger rubber hand illusion prime example also find people values pursuing goals one main problems book metzinger switches one level explanation another without warning sometimes one paragraph next live conscious life ego tunnel p cannot leave ego tunnel nobody could leave p someone living first quote level live use language talk things illusions second quote subpersonal level language one could live life bunch neurons argument self subpersonal level would like saying level cpu applications computer billions transistors either open closed fortunately interact computer level cpu interact level icons cursors randomly switching levels explanation confusing enough complications result using multiple terms things phenomenal ego phenomenal self interchangeable p conscious self apparent self p confusion arises metzinger need say something shocking original thing self p entity could illusion self p two basic rules help keep metzinger levels explanation straight uses talking human beings organisms make mistakes illusions uses nobody entity one subpersonal level persons mistakes illusions truth falsity agree strictly speaking essence within us stays across time nothing could principle divided parts substantial self could exist independently body p still uses term self often book seems useful sort really saying says saying theory behind book self model theory subjectivity self model term uses lot need understand scientific philosophical model hard experience world direct light entering eyes stops hits retina point represented neural impulses longer light per se brain uses neural impulses create highly processed experience light experience light brain representation light model model representation something target since thing always kind approximation sensory organs react contact real world brain uses reactions construct approximation real world good enough useful finding way around getting needs met also constructs model organism whole part model conscious one time metzinger calls phenomenal self model organism currently consciously represented brain p although metzinger say brain always representing organism even dreamless sleep otherwise wake middle night pee thirsty representations become conscious awake even brain ongoing representations conscious conscious another place metzinger goes astray starts well conscious overall process perceiving learning living creates context reality turns lived reality pp far good brings bernard baars global workspace theory conscious information exactly information must made available every single one cognitive capacities time critical information must remain active different modules brain mechanisms access simultaneously p problem consciousness provides access idea based work libet others way around rather consciousness allowing different modules brain mechanisms access information simultaneously consciousness indicates different modules brain mechanisms already accessing information simultaneously similar observation applies statement conscious information exactly set information currently active brains deliberately direct high level attention p would accurate say conscious information exactly set information toward brains already directing high level attention feeling conscious selves directing attention illusory since brains rather conscious selves directing attention direct toward anything memory current environment imagination everything brain always available high level attention vast possibilities emerges consciousness brain currently attending go far anthropomorphizing brain point metzinger gets one right note neither mind self model little man head one creating comparing deciding dynamical systems theory correct case dynamical self organization brain p words brain know directing attention evolved automatically metzinger knows yet book cart horse bring go back revise theory point least capable recognizing phenomenal ego experiential content human self model clearly disagrees scientific worldview p written book scientific worldview dynamical self organization core could much worthwhile although comes late following excellent statement reality situation certain processing stages elevated level conscious experience bound self model active brain experience thoughts decisions urges act properties belong person whole also clear events popping conscious self necessarily appear spontaneous uncaused first link chain cross border unconscious conscious brain processes impression appeared mind blue speak unconscious precursor invisible link exists fact conscious experience intention sliver complicated process brain since fact appear us robust experience able spontaneously initiate causal chains mental physical realm p robust experience illusory self model model represent metzinger states things selves exist world biological organism self p suppose consider biological organism including memories past experiences aspirations future complete human name address organism whole p organism target system self model refers organism self self includes everything experienced might experience cannot conscious self entirety neurons firing conscious level conscious self model always fragmentary addition sure brain current representation self accurate inherited lot misinformation non scientific ancestors memory fallible prone self deception realizing conscious experience constructed brain based knows may give brains incentive learn make self models evidence based spite testimony free evidence free metzinger help try find utility description hypothetical robot society says would robots develop new causal properties falsely believing freedom practice ascribing moral responsibility even based delusional psms would create decisive real functional property group interests would become effective robot behavior price egotism would rise pp fact opposite true delusional freedom justifies taking egotistical pride actions since supposed authors deride others achieving less also ill considered concern disenchantment self one many dangers process remove magic image may also remove image others p magic concerned magic conscious control ignores profound protean real magic inscrutable neural processes give rise ongoing conscious experience whenour brains learn work stop taking granted open wonder awe really yet book cart horse bring go back revise theory point least capable recognizing phenomenal ego experiential content human self model clearly disagrees scientific worldview p written book scientific worldview dynamical self organization core could much worthwhile although comes late following excellent statement reality situation certain processing stages elevated level conscious experience bound self model active brain experience thoughts decisions urges act properties belong person whole also clear events popping conscious self necessarily appear spontaneous uncaused first link chain cross border unconscious conscious brain processes impression appeared mind blue speak unconscious precursor invisible link exists fact conscious experience intention sliver complicated process brain since fact appear us robust experience able spontaneously initiate causal chains mental physical realm p robust experience illusory self model model represent metzinger states things selves exist world biological organism self p suppose consider biological organism including memories past experiences aspirations future complete human name address organism whole p organism target system self model refers organism self self includes everything experienced might experience cannot conscious self entirety neurons firing conscious level conscious self model always fragmentary addition sure brain current representation self accurate inherited lot misinformation non scientific ancestors memory fallible prone self deception realizing conscious experience constructed brain based knows may give brains incentive learn make self models evidence based spite testimony free evidence free metzinger help try find utility description hypothetical robot society says would robots develop new causal properties falsely believing freedom practice ascribing moral responsibility even based delusional psms would create decisive real functional property group interests would become effective robot behavior price egotism would rise pp fact opposite true delusional freedom justifies taking egotistical pride actions since supposed authors deride others achieving less also ill considered concern disenchantment self one many dangers process remove magic image may also remove image others p magic concerned magic conscious control ignores profound protean real magic inscrutable neural processes give rise ongoing conscious experience whenour brains learn work stop taking granted open wonder awe reall',\n",
       " 'book worth million motivational gifts mentioned romans god gives us gives us different gifts nobody gifts jesus gifts make body christ us represent different part function people one primary gift people parts gifts whichever gift god chose give benefit others nobody arrogant gift god gave god chose choose gift better nobody arrogant one primary gift remember much given much expected one gift means lot work little speech way gifts part body represent description perceiver eyes people know things sometimes dreams come true server hands love things working hands especially people teacher mind loves research study good school asks questions exhorter mouth bubbly talkative makes friends easily gregarious confident body language least bit shy people gift gab usually someone exhorter score high server vice versa giver arms type good making saving managing money using good causes also generously gives things money administrator shoulders good organizing following leads projects causes compassion person heart genuinely care feel people love deep thick authors book took motivational gifts romans spent many years studying researching people gifts found traits type people grateful authors research loved book went discover god given gifts class church week course one day week week covering gift class overviewing gifts loved class much bought book read excited eager read book know book basically repeat class enjoyed book much worth repeat anyway gain things book pick class teacher made buy book read goes say primary gift teacher teacher characteristics describe perfectly characteristics accurate persistant eery characteristics describes perfectly example teachers love read read read even said often teachers prefer mystery novels know know much love mystery novels teachers diligent says teachers usually care sports indifferent pets attending class church reading book see teacher much even studied gifts would always one brought books magazines sick baby showers would give books well diapers baby clothes teachers ones usually bring books sick attended class read book even know teacher gift teacher activities teacher characteristics actually primary gifts order teacher compassion person giver server also parts administrativegift guess could considered secondary gift scored really low one gifts scored almost perfect score teacher compassion person tie breaker teacher teacher barely tipped scales teacher compassion one example compassion person usually animal lover teacher indifferent animals animal lover list occupations book marking ones good gifts every one ones listed perfect teacher ones dreamed becoming course never happened score high server occupations server suit like teacher occupations guess scored higher teacher server even though scored high fact teacher jobs suited much better jobs gifts goes show teacher outweighed compassion barely well giver server gift definitely teacher end class went around told top highest gifts mine teacher compassion person another example teacher tipped scales said teaching sunday school class class sure teacher would rather prepare materials server would rather already prepared materials would rather prepare materials goes prove teacher definitely gift primary gifts book said teacher giver would rather prepare materials server compassion person would rather already prepared materials case teacher giver tips scales compassion server fact loved prepare materials children church month rotate pastor wife recently changed given already prepared material go even enjoy children church anymore reason still love kids book helped understand better helped many people understand also helped understand people act well acted way various situations always loved nice things people gives great pleasure joy fact scored really high compassion giving serving explains since done studies looked certain things done ask compassion giver server sometimes usually combination give jesus credit gives heart desire nice things everybody least one gift however person accepted jesus gift might dormant cock eyed used full advantage still everybody knows personality even classes tests everybody idea gift knowing people usually easy detect gift even though nobody except jesus gifts gifts small extent act particular gift necessary even though might primary gift example someone house robbed say ask help scored low giver test go ask giver help help person regardless primary gift course giver probably give everybody else everybody give something help person house robbed book lists bible characters portray gifts also gives examples jesus acting gifts read book much excitement enthusiasm loved encourage read one thing want mention nothing book except helped understand particular cult like church went short time years ago say church mentioned earlier part body christ nobody gifts takes gifts make full body christ therefore god gave different people different gifts gift better another cult like church everybody required personality right personalities either kicked treated badly left church another characteristic particular church ounce love sight back studied gifts gift everybody required exhorter gift course back call exhorter gift said big mouth succeed church strongly believed important big mouth felt sin shy confident body language exhorters ones confident body language obviously nobody compassion gift gift dormant cockeyed ounce love sight compassion gift exhorter gift ones kicked pushed looking back ones exhorter gift ones succeeded church also administrator gift plenty people church love tell people therefore church mouth shoulders heart gifts think exhorter gift misused gift church also world general god gives people big mouth reason another word exhorter encourager warner people big mouths suppose encourage people warn good many big mouth people actually know lots big mouth people actually encourage people fact got much discouragement church went home upset time even exhorter gifts cockeyed encourage except maybe fellow exhorters discouraged mouths exhorter gift nobody gifts gift people therefore cannot exhorter gift even though church people think everybody supposed glad go different church knows appreciates importance gifts encourage read book discover god given gifts understand better discover certain things way also help understand people function way hope enjoy book much excitement joy look people characters try determine gifts personality way things fun determining year old granddaughter exhorter unless changes much talkative social kids pretty social talkative especially son never content play even watch video kids around sit play watch video kids content things plays well withother kids speaks everybody today went store speaks everybody sees clerk checked us boldly said nice time clerk pleased said thank granddaughter said nice time work clerk pleased exhorter closest thing ever one high school lots friends thought cool friends meant lot much older care ever make another friend life family enough cute little example gift would respond particular situation neighbor lady sick barely get bed perceiver go house pray also pray house server go house clean house cook meals walk dog whatever else needs done teacher bring books magazines read recovering exhorter come keep company encourage get better maybe even watch tv giver bring meals personal supplies tooth brushes soap administrator determine needs done delegate duty people compassion person come give love make sure situation cozy warm comfortable one thing gifts talking motivational gifts books also hits lightly manifestation ministry gifts says enough know difference three categories gifts mentioned bible get confused honest glad book mention say two types gifts wanted dig motivational gifts want big writeup categories calls books book therefore thank authors mentioning types gifts elaborating highly recommended zeal excitement book lists bible characters portray gifts also gives examples jesus acting gifts read book much excitement enthusiasm loved encourage read one thing want mention nothing book except helped understand particular cult like church went short time years ago say church mentioned earlier part body christ nobody gifts takes gifts make full body christ therefore god gave different people different gifts gift better another cult like church everybody required personality right personalities either kicked treated badly left church another characteristic particular church ounce love sight back studied gifts gift everybody required exhorter gift course back call exhorter gift said big mouth succeed church strongly believed important big mouth felt sin shy confident body language exhorters ones confident body language obviously nobody compassion gift gift dormant cockeyed ounce love sight compassion gift exhorter gift ones kicked pushed looking back ones exhorter gift ones succeeded church also administrator gift plenty people church love tell people therefore thechurch mouth shoulders heart gifts think exhorter gift misused gift church also world general god gives people big mouth reason another word exhorter encourager warner people big mouths suppose encourage people warn good many big mouth people actually know lots big mouth people actually encourage people fact got much discouragement church went home upset time even exhorter gifts cockeyed encourage except maybe fellow exhorters discouraged mouths exhorter gift nobody gifts gift people therefore cannot exhorter gift even though church people think everybody supposed glad go different church knows appreciates importance gifts encourage read book discover god given gifts understand better discover certain things way also help understand people function way hope enjoy book much excitement joy look people characters try determine gifts personality way things fun determining year old granddaughter exhorter unless changes much talkative social kids pretty social talkative especially son never content play even watch video kids around sit play watch video kids content things plays well withother kids speaks everybody today went store speaks everybody sees clerk checked us boldly said nice time clerk pleased said thank granddaughter said nice time work clerk pleased exhorter closest thing ever one high school lots friends thought cool friends meant lot much older care ever make another friend life family enough cute little example gift would respond particular situation neighbor lady sick barely get bed perceiver go house pray also pray house server go house clean house cook meals walk dog whatever else needs done teacher bring books magazines read recovering exhorter come keep company encourage get better maybe even watch tv giver bring meals personal supplies tooth brushes soap administrator determine needs done delegate duty people compassion person come give love make sure situation cozy warm comfortable one thing gifts talking motivational gifts books also hits lightly manifestation ministry gifts says enough know difference three categories gifts mentioned bible get confused honest glad book mention say two types gifts wanted dig motivational gifts want big writeup categories calls books book therefore thank authors mentioning types gifts elaborating highly recommended zeal excitemen',\n",
       " 'plodding hatchet job biography seeks instil reader mind message laid subtlety drone strike henry viii bad king everything unjust irresponsible downright unnecessary especially divorce english reformation quote dust jack bad man also bad ruler turning complex fascinatingly repellent individual clownish clich eacute bad enough author imperfect grasp tudor era know difference pole family family margaret pole countess salisbury daughter edward iv richard iii brother george duke clarence de la pole family descendants edward iv richard iii sister elizabeth married john de la pole duke suffolk large family including john de la pole earl lincoln killed battle stoke edmund de la pole executed richard de la pole killed battle pavia p matusiak states surely enough prelude war france henry would rival edmund pole summarily executed seven years helpless imprisonment tower men might learn importance loyalty king absence abroad actually edmund de la pole pronounced de la poole p writes upon hearing death english rival richard pole fighting battle pavia ordered wine messenger sprung tell queen catherine joyous news soon regaling sundry lofty plans final reckoning french deceased richard pole richard de la pole brother edmund de la pole executed pole family different family consisted margaret pole n eacute e plantagenet countess salisbury married sir richard pole widowed created countess salisbury right husband death since title belonged ancestors three sons played noteworthy party history reginald pole later cardinal pole sir geoffrey pole eldest son henry pole lord montague understandable people minimal grasp tudor era might mix two families dealing published author confused compressed one family p matusiak writes edmund pole already captive time henry accession quietly executed although exiled brother richard grandiosely styled white rose proclaimed king england louis xii france support claim abruptly withdrawn two years later french booted unceremoniously country peace made henry ultimately would end exile killed side francis battle pavia event caused henry declare confidently time enemies england gone certainly richard pole sons lord henry montague reginald pole sir geoffrey pole always irritants rather genuine threats oh dear henry pole lord montague lord henry montague brothers reginald pole sir geoffrey pole sons richard de la pole killed battle pavia sons margaret pole long dead husband sir richard pole might getting confusing rudimentary knowledge tudor nobility know mean two different families passed one man never married richard de la pole credited father cousin margaret pole children sir richard pole even index pole de la pole family members listed pole another familial mistake p two sons edward iv hapless brother duke clarence ever serious contenders throne sons duke clarence one son edward earl warwick margaret pole brother executed mistakes author gets date anne boleyn execution wrong may may incorrectly states lost second child june states great grandfather geoffrey boleyn lord mayor london instead also states henry viii called drafted late december henry died january jane seymour betrothed week passed married transpired new wife assured six months already p firstly henry jane betrothed may married may less week later secondly defy author produce scrap evidence henry viii jane seymour intending marry late november henry took jane seriously potential wife anne boleyn miscarriage january began court seriously author also makes statements religion seem bit partisan book published secular history eg yet long term repercussions henry folly much greater still yielding blandishments emperor thus helped plunge europe major war time christendom threatened within lutheran heresy without turk p church rome virgin incarnate neither altogether diabolically mired equally unconvincing claim henry viii eventually performed necessary task kicking decayed structure organisation stood condemned senses term days therefore king henry builder creator looks much like king henry appetent bull china shop p p indulges moralising henry decision annul marriage catherine aragon allegedly anne boleyn become mistress never mind court try marriage opened may late july still considering marrying renee france concludes notwithstanding token resistance henry course entirely liberty enjoy anne courtesan without encumbrance either matrimony political upheaval seek adultery regrettable demand would prove political terms far sinful still sinful politics new release history press lecture sunday school teacher commonplace derogatory statements anne boleyn offspring clan avaricious social climbers anne boleyn joined sister french court august incorrect learn subtleties deportment dancing polite conversation high fashion etiquette ladies awaiting sought new freedoms displayed new audacities though would become due course committed advocate new religious thinking would also learn shun austerity indeed anne boleyn french counterparts attending prayer books less keen apply thoughts altogether less edifying pages marguerite navarre heptameron fully gauged ways world could titillate captivate accordingly eventually early weeks mistress boleyn neatly installed queen catherine household fully equipped laugh dance way england history pp cudgel bluntness term henry treatment catherine aragon divorce author also refers anne boleyn grasping tribe relatives moves attempt denigrate anne boleyn ancestry laid thickly unprofessional boleyns described far inherently distinguished gained access elite society back door said stuck fast inauspicious bloodline neither rank estates money could fully make good sore deficiency case gratuitous snobbery belittlement enough henry viii enobles anne marquess pembroke told left choice conjure two notable ancestors one twelfth century norman lord fourteenth century picard hope would lend sheen sorts somewhat dowdy heraldic shield boleyn family author needs waste time internet particularly anne boleyn files website might found claire ridgway essay anne boleyn family tree also printed origins boleyn family asin anne boleyn collection ii anne boleyn boleyn family revised opinion ridgway makes convincing case boleyns really descended norman counts bolougne records show simon de boleyne appears grandson man named pharamus de bolougne family counts bolougne held lands salle norfolk close anne childhood home blickling hall thirteenth century one point even bluntly refers anne woman substance reputation presumably contrast honourable saintly catherine aragon whose dynasty mis spells trastamara trastmara however word criticism direct catherine pedigree even though descended peter cruel castile within days wedding blanche de bourbon repudiated wife eventually died mysterious circumstances went back mistress maria de padilla may already secretly married even though catherine great great great grandfather henry duke trastamara henry ii castile became king murdering half brother peter cruel although illegitimate right throne even though catherine maternal uncle henry iv castile granted papal dispensation commit bigamy condition children second wife must return first even though catherine mother isabel became queen castile disinheriting niece grounds bastard never actually proof henry iv biological father even though catherine father half sister eleanor imprisoned poisoned elder sister blanche throne navarre blanche inherited late mother would come son even though catherine paternal grandmother juana enriquez also alleged poisoned husband son first wife throne aragon would inherited son stepson record people might think makes boleyns even tudors look rather respectable probably guess whose side author divorce henry viii flailed knuckledusters determined challenge wife honesty lecture doctors church divinity bible exegesis tell pope job p audacity dared henry viii mere sixteenth century absolute hereditary monarch consider equal people suppose stood back let people better morals nicer personalities govern like sixteenth century absolute hereditary monarchs author thinks much henry viii advisers anne boleyn father earl wiltshire duke norfolk duke suffolk said merely washed government like much detritus tide misplaced ambition misplaced thomas cromwell introduced entered world wrapped anonymity burdened dead weight humble parentage son man many parts particularly worthy tone reports produced carried visitation monasteries described cheap nasty like men main produced cheap shots really marred book sarcastic comments go becomes almost unbearable like trapped someone stop cracking jokes actually funny although person making sure thinks telling reader think bad enough author even presents guesswork fact moreover november queen gave birth dead princess cruel knowledge mistress blount become pregnant henry p bessie blount son born full term june conceived september november bessie blount would therefore yet visibly pregnant would henry viii told wife knocked mistress bother trying find citation substantiate statement since book contains citations mistakes matusiak repeats fallacy catherine parr buried two elderly husbands marrying henry viii modern scholarship firmly opinion first husband edward burgh grandson elderly man previously assumed first husband two shared name also incorrectly claims catherine howard written culpeper stating would marry free henry never heard one henry viii learned catherine love letters culpeper thought one said become hysterical weeping violently lost control vomited table front cranmer advisers present called sword might kill catherine culpeper p henry said called sword threatened kill catherine never read bit threatening kill culpeper vomiting henry mannox catherine lecherous former music tutor also incorrectly stated suffered traitor death executed author expresses astonishment henry viii chose marry niece great pander duke norfolk failing mention henry one male heir might viewed norfolk young attractive presumably fertile niece good prospect father spare still could final complaint author takes task people think henry viii allegedly suffered general ignorance art negotiation almost pathological incapacity decisive action called reformation parliament due strategic thinking fact nobody time probably least king wholly clear idea precisely new parliament intended achieve p seem occurred ruler tests waters moulds policy fit reality might successful one makes strategic decision wishes rams ahead without regard whether acceptable subjects henry portrayed floundering ditherer clue begin would could control members parliament know advance far path religious reform would willing travel yet book treated fool moved slowly whatever criticisms people might make henry viii machiavellian personality cruelty toward individuals managed carry revolution changed country time since norman conquest remain relatively popular least south west die bed fondly remembered great harry could given credit ruler author could least address issue someone allegedly bad ruler overthrown people talent overthrowing unpopular rulers find sort analysis essay entitled defence louis xv response g p gooch highly critical biography louis xv nancy mitford wrote dr gooch one revered historians interested human beings occupied historical trends political events sees characters concerned stereotyped heroes villains fairy story great king bad king good prince always alas dies young princess charming book history reduced fairy tale bad king good queen upstart queen known place stayed set amidst historical trends events author appears disapprove mitford notes gooch takes death bed scene liancourt says king cowardice beyond description rather croy says exact opposite matusiak done something similar quoting traditional accounts king death referring account strikingly different edifying scenes provided chroniclers less edifying fashion king dies tormented soul hovering brink abyss wavering frantically fear fury raves deliriously monks clerics bellowing hopelessly lost matusiak mention name author account martin hume editor semi fictional work known spanish chronicle gives name rivadaneyra describes furious catholic footnote p edition matusiak acknowledges account doubtless less awash wishful thinking blander alternatives concludes still without residing value kind since one way least may satisfy posterity deeper needs myths facts absent surely better myths concerned fitting moral edge otherwise reader left unable know make statement seriously know think author even popular history considers myths acceptable substitute fact provided tell good morality tale want head probably best think want good book henry viii please seek one try ones jasper ridley lacey baldwin smith f pollard update rivadaneyra source author alternative account henry viii death appears pedro de ribadeneira spaniard jesuit propagandist wrote history reformation late sixteenth century although visited england mary reign nowhere near england time henry viii death sty mis spells trastamara trastmara however word criticism direct catherine pedigree even though descended peter cruel castile within days wedding blanche de bourbon repudiated wife eventually died mysterious circumstances went back mistress maria de padilla may already secretly married even though catherine great great great grandfather henry duke trastamara henry ii castile became king murdering half brother peter cruel although illegitimate right throne even though catherine maternal uncle henry iv castile granted papal dispensation commit bigamy condition children second wife must return first even though catherine mother isabel became queen castile disinheriting niece grounds bastard never actually proof henry iv biological father even though catherine father half sister eleanor imprisoned poisoned elder sister blanche throne navarre blanche inherited late mother would come son even though catherine paternal grandmother juana enriquez also alleged poisoned husband son first wife throne aragon would inherited son stepson record people might think makes boleyns even tudors look rather respectable probably guess whose side author divorce henry viii flailed knuckledusters determined challenge wife honesty lecture doctors church divinity bible exegesis tell pope job p audacity dared henry viii mere sixteenth century absolute hereditary monarch consider equal people suppose stood back let people better morals nicer personalities govern like sixteenth century absolute hereditary monarchs author thinks much henry viii advisers anne boleyn father earl wiltshire duke norfolk duke suffolk said merely washed government like much detritus tide misplaced ambition misplaced thomas cromwell introduced entered world wrapped anonymity burdened dead weight humble parentage son man many parts particularly worthy tone reports produced carried visitation monasteries described cheap nasty like men main produced cheap shots really marred book sarcastic comments go becomes almost unbearable like trapped someone stop cracking jokes actually funny although person making sure thinks telling reader think bad enough author even presents guesswork fact moreover november queen gave birth dead princess cruel knowledge mistress blount become pregnant henry p bessie blount son born full term june conceived september november bessie blount would therefore yet visibly pregnant would henry viii told wife knocked mistress bother trying find citation substantiate statement since book contains citations mistakes matusiak repeats fallacy catherine parr buried two elderly husbands marrying henry viii modern scholarship firmly opinion first husband edward burgh grandson elderly man previously assumed first husband two shared name also incorrectly claims catherine howard written culpeper stating would marry free henry never heard one henry viii learned catherine love letters culpeper thought one said become hysterical weeping violently lost control vomited table front cranmer advisers present called sword might kill catherine culpeper p henry said called sword threatened kill catherine never read bit threatening kill culpeper vomiting henry mannox catherine lecherous former music tutor also incorrectly stated suffered traitor death executed author expresses astonishment henry viii chose marry niece great pander duke norfolk failing mention henry one male heir might viewed norfolk young attractive presumably fertile niece good prospect father spare still could final complaint author takes task people think henry viii allegedly suffered general ignorance art negotiation almost pathological incapacity decisive action called reformation parliament due strategic thinking fact nobody time probably least king wholly clear idea precisely new parliament intended achieve p seem occurred ruler tests waters moulds policy fit reality might successful one makes strategic decision wishes rams ahead without regard whether acceptable subjects henry portrayed floundering ditherer clue begin would could control members parliament know advance far path religious reform would willing travel yet book treated fool moved slowly whatever criticisms people might make henry viii machiavellian personality cruelty toward individuals managed carry revolution changed country time since norman conquest remain relatively popular least south west die bed fondly remembered great harry could given credit ruler author could least address issue someone allegedly bad ruler overthrown people talent overthrowing unpopular rulers find sort analysis essay entitled defence louis xv response g p gooch highly critical biography louis xv nancy mitford wrote dr gooch one revered historians interested human beings occupied historical trends political events sees characters concerned stereotyped heroes villains fairy story great king bad king good prince always alas dies young princess charming book history reduced fairy tale bad king good queen upstart queen known place stayed set amidst historical trends events author appears disapprove mitford notes gooch takes death bed scene liancourt says king cowardice beyond description rather croy says exact opposite matusiak done something similar quoting traditional accounts king death referring account strikingly different edifying scenes provided chroniclers less edifying fashion king dies tormented soul hovering brink abyss wavering frantically fear fury raves deliriously monks clerics bellowing hopelessly lost matusiak mention name author account martin hume editor semi fictional work known spanish chronicle gives name rivadaneyra describes furious catholic footnote p edition matusiak acknowledges account doubtless less awash wishful thinking blander alternatives concludes still without residing value kind since one way least may satisfy posterity deeper needs myths facts absent surely better myths concerned fitting moral edge otherwise reader left unable know make statement seriously know think author even popular history considers myths acceptable substitute fact provided tell good morality tale want head probably best think want good book henry viii please seek one try ones jasper ridley lacey baldwin smith f pollard update rivadaneyra source author alternative account henry viii death appears pedro de ribadeneira spaniard jesuit propagandist wrote history reformation late sixteenth century although visited england mary reign nowhere near england time henry viii death',\n",
       " 'much swift exact paraphrased words comments italicized book spent interstate system built extracted bits energy material resources critiques system society life cars introduction miles long four plus lanes wide dwight eisenhower system interstate defense highways largest public works project history dwarfing egypt pyramids panama canal china great wall build forests felled mountains leveled overlaid three hundred million cubic yards concrete roads essential define physical united states taken granted almost invisible interstates nation road mileage carry trillion trillion miles americans travel year many vehicles heavy trucks hammer bridges pavements shortening road bridge lifespans much fix need spend billion year next years replacement cost three times much one four country nearly bridges structurally deficient obsolete designed last years averaged years old p peak oil makes roads vehicles obsolete fix swift says roads represent spectacular investment mode transport wither without new fuel sources page new fuel sources never repair roads would throw good money bad avoid hardest possible landing might want keep key local regional roads repaired let thousands miles interstate regions go replace cars buses flexible scalable easily routable cheap compared passenger trains since use existing roads lost horses main mode transportation american towns compact tightly settled roughly circular layout days horse buggy road served company cart joggled farmer field housewife porch could hail horse would stop almost accord chat would follow country road becomes highway filled fast traffic cars driven mostly strangers neighbors whole situation changed road ceases symbol sociability becomes largely curse john steinbeck observed travels charley search america get thruways across whole country must possible drive new york california without seeing single thing pilgrim centuries past would much report country traversed details flora fauna land shape character sounds smells village field would noticed moss tree bark fast moving stream lacework afternoon light forest floor might startled deer bear unalerted soft approach reveled bird song later traveler riding horseback might spoken views enjoyed would limited views next walker would moved faster clip thus missed tiny details surroundings leisurely pace revealed stagecoach passenger even tighter range experience beheld landscape road fixed path moving picture framed window description long trip would likely dwell less scenery discomforts stage bumps road passage trains erected pane glass traveler country insulated boosting speed modern car modern freeway modern traveler left practically nothing celebrate ever briefer time devote getting one place another sequestered setting fellow passengers insulated sound smells climate details surrounded blurred speed distant make distracting enjoy scenery held arm length beyond well manicured right way highways roads ruined nation messy sprawl u cities destruction neighborhoods clearing path interstates required taking properties boring predictable chains fast food motels outlet malls drive banks gutting tens thousands small town shopping districts kunstler describes downtown wastelands book city mind remember spring afternoon spent sole pedestrian downtown appleton wisconsin commercial activity shifted asteroid belt highway strips architectural garbage five miles outside town describes atlanta giant hairball suburbs edge cities connected highways become mess nothing done redeem human habitat shopping malls cookie cutter malls replaced downtown shopping districts destroying civic life exchange ugly warehouses vast parking lots public squares malls public citizenship private lonely consumption goods large corporations channel wealth top one percent society death new automobile rolled assembly line every six seconds alife lost one machines every sixteen minutes american way death mumford wrote americans prepared sacrifice lives every year maim often irreparably three million enormous waste resources decades petroleum cars gobbled vast stores steel lead zinc rubber corn beeswax every year auto industry consumed wool seventeen million sheep hides half million cattle billion spent barrels cement tons steel pounds explosives gallons petroleum products enough earth bury new jersy knee deep tons aggregate united states could mine enough rock rebuild interstates today america spent billion interstate highway system billion fixing boston big dig array tunnels bridges bridges many miles long maintaining miles highways cost billions traffic jams cost new yorkers billion year fuel engine wear lost productivity missed sales quarter gasoline consumed american cities burned said motorists sat traffic environmental destruction american highways occupied area size west virginia mile interstate devoured acres farmland iowa alone miles freeway devoured acres productive cropland square miles big roads played hell drainage patterns water quality concrete encouraged flooding salts oils carried runoff poisoned nearby ponds streams fostered growth invasive weeds rural interstates presented insurmountable barriers small mammals turtles andamphibians one study concluding lane divided highway much barrier small creatures body fresh water twice wide slaughter game auto approached would soon exceed hunting almost used atomic bombs speed construction atomic energy commission california state division highways started project carryall determine atomic bombs could used blow bristol mountains near barstow california highway railroad could built faster cheaper study group engineers scientists thought carefully placed atomic bombs would trick flash discount years going old way would times powerful hiroshima nagasaki bombs combined bomb packed kilotons explosive punch would vaporize million cubic yards mountain creating chain connected craters two miles long much feet deep feet wide bottom plenty big enough twin railroad tracks full size interstate bomb would blast reservoir desert collect runoff storms engineers promised need worry radioactivity fallout air blast ground shock would clean nuclear explosions construction crews could return days explosions lewis mumford detested highways mumford american historian sociologist philosopher technology literary critic particularly noted study cities urban architecture broad career writer cities worked balanced books kept crime streets picked garbage timely fashion fulfilled important function facilitating human interaction reason people gathered cities first place extension good architecture incorporated much sociology engineering design building scale orientation relationship neighbors mood created beheld could fuel neighborhood vitality hamper width streets presence trees press high rises important mumford came see expressways wasteful disruptive stupid absorbing funds badly needed schools hospitals libraries facilities berated highway engineers behaving motor transportation existed social vacuum building roads bridges tunnels motorcars may travel quickly remote destinations chaotic communities roads built motorists may escape newly soiled clotted environments transportation experts expert whittlers proof end product new urban form scattered mass human shavings instead curing congestion widen chaos mumford passionately believed organic aspect cities atmosphere personality feel new superhighways pumped ever heavier flow cars onto streets avenues designed new york story buildings effect piled three ten early manhattans top average height buildings twelve stories roadway sidewalks flanking according original ratio feet wide entire width standard new york block mumford attacked year old interstate system opening salvo would come called freeway revolt making darling day urban planners anti sprawl activists critics suburban lifestyle went straight jugular interstate program bound bring destruction salvation nation cities founded insufficient study highways rather transportation blunders one dimensional thinking would benefit fantastic insolent chariots jammed streets second mistress exists every household right alongside wife motor car want save cities forget roads solution mumford said lay restoring human scale urban life making possible pedestrian exist choice looming either motor car drive us cities cities drive motor car americans apply intelligence purposes life said concluding means eventually put motor car place wide swathes land devoted cloverleafs even complicated multi level interchanges expressways butcher precious urban space devoured open land real estate already occupied people homes perhaps age known future historian age bulldozer exterminator many parts country building highway result upon vegetation human structures passage tornado blast atom bomb hell disruption nothing ease congestion tool actually expands evil meant overcome would continue terminal point business industry originally gave rise congestion move city escape strangulation leaving waste expressways garages behind mumford concludes epitaph pyramid building vengeance tomb concrete roads ramps covering dead corpse city get blame detroit fat cats americans wanted cars americans loved everything cars loved driving loved impulsively going wherever chose without thought routes timetables loved lording surroundings cocooned protected world even free explore could ride silence radio blaring need never surrender personal space sweaty foul smelling stranger suffer inane chatter thrilled sensation sound movement buffet air open window big engine growl punch embraced status reflected chrome trim subtext model offered income station sex appeal americans took cars willingly gusto automotive life foisted buy homes far work forsake mass transit pave cities manipulated detroit fat cats government industry conspiracy anyone else subterfuge necessary people chose path wanted getting cities fought highways late san franciscans realized permitted terrible blunder place waterfront offered one breathtaking urban vistas world overlooking shimmering bay alcatraz island saw unadorned gray concrete barricade rising peak feet waterfront cast surroundings day twilight severed downtown docks birthed ran smack across face beloved landmark ferry building gathering spot generations survivor earthquake san franciscans embarcadero freeway seemed less highway vivisection petitions circulated protest groups bloomed public outrage shared city fathers january citing demolition homes destruction residential areas forced uprooting relocation individuals families business enterprises board supervisors approved resolution opposing freeways planned city including yet unbuilt western two thirds meant refusing million federal aid money unthinkable act eyes municipal officials vote heard around country effectively kill state ambitions lavish freeway grid town reverberated every american confronted expressways sure wanted baltimore older cities around country beset similar problems baltimore crumbling confluence national trends shifting mood governed historic preservation becoming cause beyond ranks intelligentsia vietnam created doubt government knew people best interests heart civil rights movement encouraged take grievances streets courts perhaps important environmental movement gained footing among widening swath america monotony motorists seeking relief monotony drive found system sameness limited right way handful years mom pop businesses moved main street joined national chains mercantile knots exits soon seemed cut stencil mom pop businesses superseded u highways watched customers vanish interstates continued crawl across continent florida trend magazine would cry interstate system diverts traffic away former arteries travel drains life blood established firms situated old highways leaves die small town shopping districts losing business exits bigger towns suddenly made closer new highways speed convenience assembly line food drew customers millions starters cheap answered growing demand speed simplicity motorist making good time interstate inclined spend time eating sit meal chains drive efficient mass production mirrored desire american public predictable quality preferring everyday familiar surprise good bad interstates making tentative inroads urban areas population america suburbs surpassed cities ringed new houses came fast cheap thanks mass production techniques stamped hundreds liberty ships thousands bombers war james w rouse baltimore developer described process farm sold begins raising houses instead potatoes another farm forests cut valleys filled streams buried storm sewers kids overflow schools new school built church traffic grows roads widened service stations hamburger stands pockmark highway relentlessly bits pieces city splattered across landscape americans owned world passenger cars drove billion miles made intercity trips road shame everyone smitten railroads still buses make much sense frank turner chief engineer interstate system keen mass transit long provided bus pointed rail based transitcould attract enough riders justify fortune would cost build adapted changing travel patterns cities spread far wide fixed rail take many people wanted go buses hand extremely flexible buses could move many people cars provide almost door door service follow routes could adjusted needed piggybacked roads already place requiring costly new infrastructure boosting number buses highways could actually reduce need highways like views enthusiasm bus supported research statistics could cite study showed buses subways moved people cost cents per person per mile buses far far cheaper put service could point research showed single express lane devoted buses could move number commuters four lanes freeway turner could fathom environmentalists press anti highway activists embrace bus smitten rail based transit infinite combinations routes schedules required today urban dwellers dictates transportation system must provide flexibility route destination schedules fixed route systems basically spoke lines attached downtown hub hard time financing fare box detested washington metro initially covered miles cost billion per household amount equal everything spent capital region roads since beginning settlement huge capital expenditure provide movement transportation load within washington metropolitan area annual interest debt would buy new buses every year whole life metro roads started demands bicyclists overland travel done train look state see tangles thick black lines converging major cities old maps depict single road hardly form think routes town america wholly unclassifiable almost impassable scarcely jackassable folks said especially spring fall rains transformed simple dirt tracks heavy muck glue earth people braved roads train back roll harvest farms nearest grain elevator trip beyond went rail first bicycles enormous front tiny rear wheels saddles perched high feet ground steep downhills best rider could brace feet handlebars crashed bike stopped cold calamitous results big front wheel encountered obstacle least go flying right side local bicycle ships meetings national organization league american wheelmen always conversation cycling urgent need roads ride bicycling jarring experience even city streets paved cobblestone brick uneven granite block snarled carts buggies horsemen outside business districts roads dwindled little wagon ruts sprinkling rain could turn bogs mud lay deep loose could suck boots farmer feet prompting travelers quit established path open fields muddy roads swallowed horses flanks unfortunate buggy ventured lane soon flailed past axles ooze even hard packed roads mud formed dark rooster tails behind surreys spattered long skirts caked shoes american business conducted mud soiled suits law medicine church services mixed mud liberal helping manure city country alike dependent horse cyclists thus found hobby pleasant could league american wheelmen committed something magazine good roads became influential mouthpiece road improvement articles widely reprinted attracted members even bikes eventually subscribers good roads movement big politicians ignore demand roads pedal powered national cause even first practical american car rolled chicopee massachusetts shop months ahead duryea motor wagon debut congress authorized secretary agriculture make inquiry regarding public roads investigate might improved october agriculture secretary j sterling morton created office road inquiry appointed head one gen roy stone civil war veteran civil engineer vociferous good roads booster new york appointment sort circular affair lobbyist pushing government action winds leading stone considered settled americans worst roads civilized world condition crushing tax whole people tax intolerable yields revenue spending nothing bad roads cost spending money make better argued squandered productivity spoiled crops high food prices america first overland routes started game trails america principal overland routes descended prehistory started game trails commandeered native american hunting parties later widened wagon roads white settlers decades use cleared stumps least big ones much engineering remained work buffalo elk improving easy matter roads bare dirt scars flanked deep weedy ditches newer ones high crowns edges sloping downhill centers drain water long mashed concavity diabolically rutted highways dragged meaning rain neighboring landowner would hitch horse rig split logs pull ruts flatten rebuilding road consisted shoveling dirt sides middle tamping grading horse drawn blade cause local celebration first roads built also see modern concrete falling apart concentration heavy freight wagons horse trucks forced cities pave business districts stone used purpose far expensive rural roads built maintained county local governments little income could tax citizens much rains turned rural roads quagmires even best country road early twentieth century primitive common improvement simply grade dirt road surface attempt smooth bumps fill ruts step sand clay construction mix two soils would imported spread earthen bed result theory surface drained well traffic achieved smooth hardness also broke quickly heavy loads little better gravel road river rock broken stone spread graded bed held better dirt especially horse traffic dressed regularly keep gravel scattering stripped bare skinny tires higher speeds cars trucks popular solution dilemma macadam pre dated automobile nearly years noticed gravel highways become smooth durable lot traffic compressed stone unified interlocking mass smooth dirt bed covered ten inch layer stone broken especially purpose workers armed small hammers passed rock heavy horse drawn roller sharp edged stones knitted tight bond american road builders refined system spreading thick layer large broken stone onto graded earth rolling covering second layer much smaller stone rolling surface rock dust hosed water rolled third time water bound macadam called performed well normal loads low speeds keep dust workers topped thin layer asphalt black sticky molasses like petroleum goop coal derived tar also kept rock place roads today asphaltic concrete blend asphalt tar aggregate filler commonly broken rock gravel people eager switch horses cars trucks horses required stabling feed health care nationally amounted billion year much cost maintain america railroads feeding typical horse consumed five acres tillable land year devoted food people nation feed producing cropland could support millions people horses slow keep going fast long need frequent rest food water horses work seven times hard dirt road hard smooth rock surface asphalt brick offered even easier going eisenhower deserve credit interstate system full review energyskeptic related articles trillion infrastructure usa trillion transportation expressways interstates designed last years century concrete nothing rubble transportation long adapt fall net energy cliff diesel tractors trucks less gas cars book review prime movers globalization history impact diesel engines gas turbines james howard kunstler jan feb cargo karma got asked orion magazine book geography nowhere rise decline america man made landscape captures destruction architecture civic life small towns way life best wickedly funny well',\n",
       " 'following amma organization last years amma mecca sacrifice amma personally sets example selfless service working days year last years amma hands wiped tears millions nothing even day sleeps bare floor seen eyes amma shown ignorant real meaning human life real purpose human life realize god serving poor needy protecting nature forgiving others forgoing hatred exchanging gentle smile providing helping hand spreading positive energy love amma senior disciples stand towering pillars self sacrifice love compassion forgo sleep basic comforts toil selflessly betterment world set examples us follow humble shortened list amma charitable work basic needs million meals every year amma fighting hunger years amma main ashram branch centers embracing world feeds million poor people every year throughout india first six months indian ocean tsunami six million free meals disaster survivors well tons uncooked rice help survivors make ends meet regular distribute rice milk uncooked staple foods remote tribal communities receive aid organization along food distribution amma centers often provide free specialized medical services treatment medicines provided free charge centers throughout india welcome poor guests serve hot meals way volunteers also get know people problems need assistance helped financial aid medical care housing tutoring basic needs fighting hunger united states canada since amma feeding hungry people usa mother kitchen groups cities north america prepare cook serve meals homeless hungry groups also collect distribute clothing household items food staples communities need basic needs feeding hungry children amrita children home nairobi kenya provides three nutritious meals day needy children kids beneficiaries pay forward every sunday open doors kids neighboring villages healthy lunch kids help serve food clean afterwards amma seeks teach children value sharing caring importance personal hygiene basic needs special delivery amma center outside granollers spain volunteers go area supermarkets collect donations staple foods vegetables fruit bread cheese milk yogurt pay house calls families need leaving care package family every week since care packages help families make week time severe economic hardship nationwide basic needs since amma volunteers france growing organic food distributing area food banks serve hungry providing healthy organic produce homeless hungry people feel fulfilled also enjoy getting hands dirty deepening connection nature produce close ton organic produce year feeding homeless la carpio amma volunteers feeding homeless costa rica since volunteers head la carpio slum armed plates delicious vegetarian soup bread juice dessert volunteers purchase food prepare food hand reach people struggling alcohol drug addiction often tell eaten week remember anyone showing much love care volunteers say feel honored blessed able serve way also usually bring along student volunteers come privileged backgrounds order help understand value giving reaching need la cocina de amma amma volunteers cancun got started feeding poor august busy building special kitchen purpose first ever meal service served food people neighboring community hearing stories people came receive square meal inspired find serving people hard work improve lives lives entire community hope warm food received volunteers gives little bit strength carry fight poverty plan start serving people every month shelter amma believes responsibility us strive hard ensure one day every human live dignity safety security peace homes homeless responding cries help women spent entire nights mopping rainwater thatched huts amma initiated house building project goal building homes throughout india date homes built locations average six people living houses means helped quarter million people move streets inadequate shelters safety comfort home constructing houses embracing world works build entire communities complete town halls roads electricity wells sewage systems clean drinking water part response indian ocean tsunami homes also constructed sri lanka andaman island orphanage children amma running orphanage children paripally kerala years nourishing food loving care encouragement receive dedicated staff children gain confidence strength move forward life holidays many children visit amma ashram developed deep bond amma say feel mother children attend amrita sanskrit higher secondary school run amma ashram consistently win state level awards sanskrit music sports dance one three go earn college degrees mumbai pune maharashtra new lease life relocating slumdwellers clean new apartments amma believes durable sustainable developments apartment blocks former slum dwellers built last sites construction amma provided temporary housing slum dwelling families well medical camps counseling date successfully relocated families abysmal slums clean new apartment blocks could begin life anew sunny hygienic spaces proper plumbing water electricity amrita children home spread across acres banks athi river amrita watoto boma children home provides food english medium education healthcare loving environment present home children expand serve children january children also take weekly yoga classes taught creative arts sewing permaculture home run assistance four teachers two cooks gardener volunteers children selected neighboring villages site visits volunteers identify truly needy children whose parents guardians cannot afford provide basic needs school library kept open every saturday two hours children neighboring villages read enjoy collection books various topics ranging science geography philosophy world languages general knowledge health care world class healthcare everyone since opening doors aims bed tertiary care hospital kochi kerala provided million worth charitable medical care million patients received completely free treatment aims offers sophisticated compassionate care serene beautiful atmosphere recognized one premier hospitals south asia amma commitment serving poor attracted dedicated team highly qualified medical professionals around world free health camps every year everyone make trip hospital kochi every year aims conducts free health camps remote impoverished areas treatment medicines given free charge patients also screened serious diseases referred aims furthertreatment necessary alone aims performed free cataract surgeries patients free cleft palate surgeries poor patients first identified candidates treatment medical camps bringing healthcare doorstep communities need aims runs five satellite charitable hospitals three kerala one mysore one andaman islands hospitals serve populations would otherwise easy access quality healthcare treatment given free charge deep concern indigenous population doctors also make rounds remote tribal hamlets open doors lifeline stigmatized population thiruvananthapuram kerala amma runs community care center dedicated helping people living hiv aids nearby government clinic provides anti retroviral drugs allowing care center focus providing material psychological support people living hiv aids culture disease still carries strong negative stigma apart quality healthcare services include psychological social spiritual counseling group therapy home care educational support children people living hiv aids vocational training outpatient clinic open daily provides free medicines medical treatment poor particularly geared toward supporting patients hiv aids targeted public health initiatives troubled populations amma provides family oriented health education run rural urban health centers train government employed community health workers hundreds tribal villagers trained basic nursing enabling promote health hygiene villages amma also working increase awareness diabetes promote preventive measures providing free insulin poor patients distance barrier consultations specialists video conference aims operates mobile telemedicine unit size city bus brings sophisticated medical care remote areas mobile telemedicine unit sent bihar train assist flood relief operations november mobile unit used treat patients throughout india aims telemedicine center part india pan african telemedicine network telemedicine network aims offers specialized medical consultations care centers hospitals rural areas throughout africa india slumdwellers amma volunteers kenya organize regular medical camps doctors going impoverished aid offering site medical examinations treatment far held camps kibera slum machakos thika amrita children home patients already treated camps six medical camps held various locations kenya amrita children home machakos kibera slum thika attracting patients may collaboration greater lions club nairobi brought seven member medical team spain perform free cataract surgeries poor thika hospital outskirts nairobi house calls pain management since amma doctors provided loving medical care psychological support impoverished patients terminal diseases doctors visit patients homes supply drugs counsel families supervise nursing care patients treated annually free charge cancer hospice since cancer hospice mumbai providing free care spiritual solace patients suffering terminal cancer separately hospice alsoprovides free medicine rice food items poor books also regularly distributed impoverished children education past years amma working hard help ensure everyone wants go school opportunity wold wide children never set foot classroom throughout developing world going school rarely free students required pay transportation costs purchase uniforms textbooks notebooks pencils children cannot afford basic costs cannot attend school families struggle stay poverty line additional expense school becomes unlikely investment universal education proven effective means eliminating endemic poverty individual level shown sustainable escape poverty clutches research shown every year school increases individual wages percent gains even greater developing countries scholarships fighting farmer suicide keeping kids school recent years suicide spreading like epidemic among farmers india suffer debt crop failure often seeing hope future generations whole families commit suicide together providing scholarships children farmers living poverty line embracing world aims lay stronger economic foundation upon families base lives scholarships give children new options break cycle poverty give hope whole family thereby working prevent suicide cost seeds many farmers india greater harvest amma embracing world currently providing scholarships children goal reach children throughout india award winning adult education support government funding amma runs literacy vocational training programs serving poorest tribal communities kerala tamil nadu historically tribal population exploited merchants illiterate learned basic arithmetic providing adult education program aims help tribal population achieve fair trade opportunities courses various occupations offered special focus traditional art forms danger forgotten younger generation graduates receive assistance learning market distribute products suitable outlets embracing world project sivakasi tamil nadu unesco nlm national award effective efficient administrator adult education funds india afterschool tutoring little extra help tribal children slumdwellers tribal district idduki kerala amma established number afterschool centers complement regular schooling tribal children pune maharashtra amma runs afterschool program children slumdwellers children illiterate parents unable help study home dropout rates high afterschool centers given supplementary tutoring ensure get support need stay school amma also provide students notebooks pens necessary school supplies school hearing impaired let seen heard teaching hearing impaired children speak amrita speech hearing improvement school one schools kerala scientifically teaches hearing impaired children speak school curriculum structured enable children interact others confidently lead full productive life children attend school children percent pass rate secondary school leaving certificate exam well obtaining employment school differently abled amrita institute differently abled dedicated providing education differently abled children including syndrome epilepsy autism intellectual developmental disability amrita university higher learning purpose driven life amrita university emerged one fastest growing institutions higher learning india university offers undergraduate postgraduate doctoral programs engineering medicine biotechnology social work nanosciences student population university accredited national assessment accreditation council grade professors encouraged come lab deploy research make difference lives less fortunate university working partnership leading universities worldwide including stanford mit university tokyo livelihood empowering women jobs women never one amma provided economically vulnerable women throughout india vocational training start capital marketing assistance well access microcredit loans government regulated banks affordable insurance plans women use assets form self help groups share microsavings accounts start home based businesses many women first job ever financial aid life lifetime pensions widows people disabilities women poverty since amma provided monthly pensions widows women poverty project expanded benefit physically mentally challenged serves total beneficiaries ultimately amma provide monthly pensions impoverished men women children struggling make ends meet recognizing disability loss family member consign developing world lifetime hardship amma pensions expiration date given life kerala india traditional arts school preserving dying art form creating jobs kerala india industrial training center preparing young adults enter workforce founded industrial training center provides training teenagers different trades school strives build youths confidence giving sense self reliance enter work force confidence center graduation rate highly regarded employers indian ocean tsunami center opened doors free charge hundreds local youths order help rebuild lives disaster nairobi kenya vocational training center amma vocational training center attached amrita children home launched april built serve population nearby slum settlement jam city center run association cap youth empowerment institute using computers hands classroom sessions center trains unemployed adults fields ranging tailoring housekeeping carpentry plumbing electrical trades far enrolled students course completion rate percent graduates started theirown businesses another graduates found work existing companies earn month well poverty line team building leadership skills integral part vocational training programs beyond training course participants say center become like second home emergencies dual focus rapid response extensive long term rehabilitation amma embracing world developed reputation first scene last leave long spotlight faded away japan earthquake tsunami million education children orphaned japan haiti earthquake immediate long term aid catastrophic earthquake struck haiti january amma shipped palettes medical supplies haiti received partners health amma also distributed staple foods refugees ground identified children lost parents close relatives disaster forced drop school amma providing scholarships children back classroom south india karnataka andhra pradesh floods houses displaced refugees million relief package flood survivors states north india bihar floods one million people rendered homeless bihar kosi river flowed banks amma pledged relief amma medical teams remained ground two months treating people amma also distributed thousands tents blankets tarpaulins along cooking stoves vessels food clothing school supplies government official commented volunteers wonder even sleeping night thankful accepting appeal rushing help us time need united states hurricane katrina million bush clinton katrina relief fund volunteers visited relief sites provided medical care emotional support amma also helped displaced locate one another via dedicated website built survivors december amma donated million bush clinton katrina fund south asia indian ocean tsunami million aid package tsunami survivors relief rehabilitation work conducted embracing world wake indian ocean tsunami stands today one multi faceted comprehensive sustained disaster relief projects ever undertaken nongovernmental organization made amma work unique holistic nature every aspect tsunami survivors lives considered improved end many survivors stated terms quality life economic independence better tragedy north india gujarat earthquake three villages rebuilt ground gujarat suffered devastating earthquake people lost lives amma dispatched disaster relief team doctors two ambulances student volunteers amrita university ultimately adopted three entire villages rebuilding homes ground well community centers church mosque temple million medical aid flood survivors mumbai torrential floods displaced millions especially slumdwellers whose makeshift houses washed away immediately provided food blankets refugees medical teams treated patients distributed million medicines medical aid cyclone refugees west bengal may cyclone aila hit west bengal bangladesh leaving people dead one million homeless medical camps ran days doctors treating approximately people dispensing usd worth free medicine amma volunteers also distributed approximately articles clothing blankets served free meals gave away two tons rice environment trees planted worldwide home community gardens project preserving heritage seeds grassroots approach fostering healthy lifestyle reducing reusing recycling project zero waste approach top bottom clean india beautiful india nationwide public health initiative environmental awareness campaign indeed campaign nature embracing world indeed campaign nature online framework built volunteers support people world putting amma practical suggestions way might use earth remaining resources way interact natural world practice lives communities far already garnered commitments make difference nature amma also offers workshops courses world topics like tree planting organic gardening beekeeping wildlife preservation sustainable communities throughout world embracing world main centers working become local models sustainable living several projects events formally recognized unesco part un decade education sustainable development centers host workshops sustainable living permaculture beekeeping conservation techniques residents visitors incorporate lessons learned daily life experiencinglive examples communities harmony nature visitors centers get inspired implement similar techniques homes eco building techniques used whenever possible centers employ rainwater harvesting produce food organic farms gardens orchards make organic fruit vegetables available local communities encouraging sustainability principles institutions amma volunteers sowing seeds better future research human computer interaction everyone pushing technology envelope embrace poor haptic technology provides tactile feedback electronic devices primarily used video game controllers mobile devices haptics also instrumental medical flight simulations embracing world researchers amrita university ammachi labs began asking question could haptic technology used fight poverty today ammachi labs using haptic technology augmented multimedia virtual reality bring vocational training life enrichment education remotest corners south india providing women underprivileged populations powerful new tools increase earning power gain voice families communities education everywhere virtual laboratories level playing field help bridge gap educational institutions afford high budget physical laboratories limited resources embracing world researchers amrita university developing virtual laboratories state art computer simulation technology virtual labs simulate real world scientific laboratory environments help eliminate logistical handicaps serve obstacles higher education poor researchers also built deployed cutting edge distance learning platform used raise india standard education nationwide large scale teacher training programs online classrooms enable top tier professors reach teach students remote areas limited budget amma devotees also working design accessible affordable educational technologies deployed primary secondary schools throughout india february amma launched initiative promote cultivation organic food kerala india distributed free seeds women grow organic vegetables feed families total acres land earmarked project also arranging training demonstration classes organic farmers wireless network landslide detection solving problems new applications wireless connectivity embracing world researchers amrita university center wireless networks applications deployed world first ever wireless sensor network system landslide detection munnar kerala area prone fatal landslides system uses wireless sensor technology provide advance warning impending landslide allowing early evacuation disaster management center also innovating wireless technology develop low cost approaches healthcare',\n",
       " 'judge dale hoax books articles fraudulently attributed judge dale also hoaxes including great american adventure shown people behind judge dale hoax already admitted online legal author pretends judge dale actually rodney dale class amateur legal theorist barely high school education never judge anywhere anytime online author non legal articles fraudulently attributed judge dale called dinar forgeries different fraudulent impersonator likewise never judge either despite never going college law school despite never actually becoming real lawyer real judge rodney dale class simply made entire amateur belief system law legal system presumes teach hundreds devoted amateur legal theorists rodney dale class amateur belief system law legal system separate version history separate version constitution separate version law applies apply legal effect separate legal definitions separate conclusions rodney dale class expert amateur belief system problem amateur belief system law real amateur belief system real legal system thing indeed polar opposites one another rodney dale class lost every single case ever involved despite false claims contrary amateur legal theories simply irrelevant inapplicable single one rodney dale class amateur legal theoriesor self glorifying war stories withstand even slightest amount factual legal verification contrary verifiably false falsity rodney dale class claims concern despite willing participant rodney dale class driving force behind judge dale hoax quarrel instead dispute people behind judge dale hoax people actually behind judge dale hoax professional hoaxers nothing create fake documents specialty use exclusively perpetuation online hoaxes particular case decided create entire hoax centered around rodney dale class amateur belief system law legal system decided peddle hoax series fake documents actually created specialty fraudulently told american people written retired federal judge named judge dale using rodney dale class middle name dale inside joke among fake documents people fraudulently told american people written fake retired federal judge include lawfully matrix us constitution great american adventure secrets america forgery depicted surprisingly people peddle judge dale forgeries personal websites almost legal dinar articles appear online fraudulently attributed fake judge dale actually mere prints section forgery entitled great american adventure depicted different names ex retired federal judge spills beans legal advice retired federal judge turned whistle blower etc rodney dale class lack education poor writing skills people behind judge dale hoax forced completely organize completely write scratch rodney dale class writings fraudulently attribute judge dale online order make look might actually written retired federal judge regard people jokingly refer judge dale editors editors indeed sense judge dale forgeries one author also sense one person fraudulently impersonating federal officer namely retired federal judge connection judge dale hoax result people behind judge dale hoax may placed rodney dale class precarious legal position getting pretend retired federal judge truth matter conspiracies real like federal reserve system example need professional hoaxers like behind judge dale hoax manufacture fake conspiracies sell american people order distract indeed fake conspiracies like judge dale hoax take collective eye american people real problems focusing benefit behind real conspiracies fake conspiracies like judge dale hoax result american people wasting time resources things simply real end result fake conspiracies like judge dale hoax real conspiracies go unopposed benefit behind real conspiracies people behind judge dale hoax nothing hatred contempt american people people lie respect people lie respect lying american people law legal system act treason treated accordingly reach whatever conclusion wish reach law legal system absolute right american law legal system fair game critism base conclusion pathetic internet hoax like judge dale hoax vicious attack american people google judge dale hoax footnotes dispute two different factions people firmly behind judge dale hoax one important webmaster affiliate published distributed judge dale forgeries believed people actually created judge dale hoax stepped toes retaliation publically banned judge dale forgeries posted website still satisfied later decided actually use fake name judge dale peddling online forgeries non legal subjects like dinar currency revaluation reset knew people behind judge dale hoax could complain done without revealing role judge dale hoax two different types judge dale forgeries posted online easy tell two fake judge dale real author particular online article online articles dinars currency revaluation reset appear written intelligent articulate educated literate author written rodney dale class online articles amateur belief system law legal system appear written high school student edited high school students written rodney dale class either way judge dale hoax either way judge dale books articles hoaxes either way rodney dale class namesake judge dales perhaps famous outrageous lie rodney dale class charlatans write ever told american one begins headline goes something like bombshell rod class obtains fourth administrative ruling proves governments government agencies private entities fact private profit corporations rod class forced courts admit blah blah blah rod class finally proved many us long suspected local state federal governments agencies private profit corporations blah blah blah way rodney dale class charlatans write get away pathetic lies american people bother look court rulings leaves vulnerable false claims self appointed pseudo legal gurus intentionally misrepresent law serve agenda expense american people truth claim follows rodney dale class filed two lawsuits cases rodney dale class sued legitimate governmental agencies private corporations case like cases rodney dale class files lost cases explaining rodney dale class lost judge opinion referred private corporation class sued private entity corporate appellees importantly neither judge referred governmental agencies rodney dale class sued private entities corporate appellees lying american people two losses court rodney dale class fraudulently told american people judges referring private corporation sued private entities corporate appellees judges instead referring government agencies sued thus rodney dale class fraudulently swithced judges characterization private corporations sued legitimate governmental agencies sued case order reach desired conclusion governments government agencies private entities fact private profit corporations rodney dale class charlatans write knew american people would bother look cases discover switch rulings cases people behind judge dale hoax behind number online hoaxes people peddle jim traficant speech hoax replaced real words speech jim traficant made house march words conform amateur belief system peddle fake written version speech official government document people behind nasa war document hoax forgery fake nasa letterhead every page reveals nasa kill us forgery claim found nasa website pdf metadata actually proves typed scratch two years later extensively revised forgery archives org actually proves never nasa website first place people also behind iron mountain report hoax report reveals government manipulate kill us report actually copyrighted book fiction published new york times best seller list report people peddle leaked government document people behind silent weapons quiet wars hoax forgery reveals quietly killed technology forgery people claim found used government photocopy machine sale used government office equipment prior yeah right suffice say people behind judge dale hoax professional hoaxers nothing hatred contempt american people']"
      ]
     },
     "execution_count": 61,
     "metadata": {},
     "output_type": "execute_result"
    }
   ],
   "source": [
    "df1.loc[df1.punctuation >= 1000].Text.tolist()"
   ]
  },
  {
   "cell_type": "code",
   "execution_count": 62,
   "metadata": {
    "colab": {
     "base_uri": "https://localhost:8080/",
     "height": 227
    },
    "id": "7zSIpcicmd9-",
    "outputId": "c903a655-92a4-4246-cf56-d54e125f37b9"
   },
   "outputs": [
    {
     "data": {
      "text/plain": [
       "['admit greta christina book atheists angry things piss godless many ways better expected greta good writer anger expressed much reason rant pith well pique begins book list things tick surprised find agreed greta also smart enough know listing atrocities rightly adds list could far longer enough make even moral case religion knows moral case would prove religion wrong recognizes people jerks without help olympus recognizes anger destructive psychologically street points anger also often harnessed productively important reform movements come think true fact atheists angry seen nice little rebuttal pluralism attempt always look bright side religious life ta da ta da da da da da like radical critics pluralism however greta tacks opposite extreme book also read rah rah screed secular humanism greta gang thick pz myers simple minded enlightenment exclusivists gavin costa puts think points wrong christianity slavery christianity status women galileo bruno persecuted think also wrong supposed lack comfort religious faith brings dying seen gospel comforting dying seen positively enobling serious problems book go much deeper greta notions religion utter failure make serious argument position finally even important place real argument really knowing much anything religion like many new atheists invests everything false notion christians mean faith takes notion faith sense blind trust clueless windbags religion started reading atheists angry wrote two questions back page private notation expand greta think religion systematic evidence offer proposition religion mine particular harmful helpful former question much disputed scholars peter berger divides definitions religion two categories substantive functional example functional definition paul tillich definition religion ultimate concern emile durkheim description religion terms role plays bonding community like gnus greta finally gets around defining talking takes substantive definition religion granted religion substance belief believing supernatural thing uniquely defines religion belief unverifiable supernatural entities course fogs question added adjective unverifiable get later point present greta new atheists religion involves beliefs supernatural entities extent definition probably reflects greta ignorance things greta would call religions care much supernatural entities forms buddhism believe hinduism instance point definition wildly popular among gnus atheism religion mutually incompatible means greta cannot possibly religion believe gods allies apparently free intellectual fault religious liable admit plausible way define word think also used trick new atheists retreat behind castle chosen dogmas psychological fixations try claim moment sallying forth like knights disinterested sun open minded reasoning religious us nobody us objective rational truth seeking enlightenment chickens peck peck peck religion rabble outside gate course usual exclusivist defensive posture one reason like exclusivism tends separate saved sinners little firmly taste ii systematic evidence greta produce show christianity harmful end cough really one funny things new atheists get worked scientific method reason evidence almost never find hearts offer partly conflate science reason bother learn much history action want prove religion harmful helpful test tubes particle accelerators absolutely useless comes showing effect christianity world need find good historians greta offer long gossipy list religious sins yes could made lot longer heck could make longer list screwups one christian tedious game anyone play without control confirmation bias human tendency pick choose bits data vast fields human activity confirm whatever theory want believe really prove religion general one religion particular harmful think something like prove christianity helped women robert woodberry show protestant missions aided development free democratic societies enough find reason think religion hurts people greta methodology next section enough tell stories experience add historical anecdotes sprinkle like pixie dust prejudices would need roughly follows think define religion coherently plausibly preferably including ultimate concern definition comparisons made b survey includes religious non religious societies embracing wide variety cultures languages continents economic historical circumstances using reliable relevant international data bases show non religious societies systematically consistently friendly human flourishing religious societies c offer theory theories causes difference critical pounce first thought enters brain describe history liberation enrichment geographical regions show historically indeed turn away religion worked magic e explain away link anti religious ideology misery one third world went communist try brush away blank assertions soviet experiment political stalin fault even countries never visited deal actual historical research question david aikman careful atheism marxist tradition accounts anti religious statements actions communist governments f also need come grips equally clear link gospel jesus christ liberation others shown around world variety ways conditions greta achieve one bit done homework know talking instead offering genuine systematic evidence even refuting arguments showing gospel helped us even world greta plays trick readers waves magic wand call blind faith meme priori logic saves hard work making actual historical argument magic wand brittle stick dry rot eaten old cottonwood iii magic faith greta wants justify anger religion string anecdotes smart enough know anyone play game probably suspects recent uncivil wars ranks brights given power crowd would better imagine good folks pharyngula charge country yet people greta cites praises book tell hatred like many new atheists greta latches gnu myth original sin call blind faith meme get angry believers glorify religious faith e believing supernatural world good evidence supporting believe positive virtue character trait makes people good noble major part many religious doctrines trusting tenets faith without evidence acceptable positive virtue believed seen blessed seen yet believe john greta excuse bit real historical sociological research back buck naked assertion feathered anecdotal fig leaves religion harm good research done prove blind faith meme get anecdotes greta claims religious people driven wall peerless logic arguments dismantled squeeked take faith see getting little hot collar often refute nonsense often explain greta interpretation john also dawkins bogus pointed true reason first notice jesus gave thomas evidence asked second trusting close friends thomas became less reasonable retreating third level faith faith mere senses mind taking short step along unabomber path rabbit hutch montana jesus recognized social creatures reasonably depend one another facts live third john gives many testimonies may know else could sony video recorder human testimony way establish truth historical claims whenever anyone tells weak listen talk ten minutes contradict appealing human testimony everything else says day things learned class books web radio fourth miracles continued pure act laziness greta christina would pass proof text without dealing obvioius objections readers gettingit doubt richard dawkins like one gifts shire hobbits pass one another birthdays read new testament whole argue chapter clearly norm christians appeal evidence back supernatural claims survey christian thinkers general centuries even ask modern christians believe appeal reason evidence overwhelming norm see christians lost minds truth behind new atheism summary alister mcgrath leading authority history christian theology wrote book large part correct richard dawkins mutual point ignorance greta avail new atheists hold onto meme amazing tenacity teeth evidence dawkins put greta like craig james religion virus upfront enough admit lie magic wand shortcut moral victory excuse refusing offer serious argument back bias religion general christianity particular aikman careful atheism marxist tradition accounts anti religious statements actions communist governments f also need come grips equally clear link gospel jesus christ liberation others shown around world variety ways conditions greta achieve one bit done homework know talking instead offering genuine systematic evidence even refuting arguments showing gospel helped us even world greta plays trick readers waves magic wand call blind faith meme priori logic saves hard work making actual historical argument magic wand brittle stick dry rot eaten old cottonwood iii magic faith greta wants justify anger religion string anecdotes smart enough know anyone play game probably suspects recent uncivil wars ranks brights given power crowd would better imagine good folks pharyngula charge country yet people greta cites praises book tell hatred like many new atheists greta latches gnu myth original sin call blind faith meme get angry believers glorify religious faith e believing supernatural world good evidence supporting believe positive virtue character trait makes people good noble major part many religious doctrines trusting tenets faith without evidence acceptable positive virtue believed seen blessed arethose seen yet believe john greta excuse bit real historical sociological research back buck naked assertion feathered anecdotal fig leaves religion harm good research done prove blind faith meme get anecdotes greta claims religious people driven wall peerless logic arguments dismantled squeeked take faith see getting little hot collar often refute nonsense often explain greta interpretation john also dawkins bogus pointed true reason first notice jesus gave thomas evidence asked second trusting close friends thomas became less reasonable retreating third level faith faith mere senses mind taking short step along unabomber path rabbit hutch montana jesus recognized social creatures reasonably depend one another facts live third john gives many testimonies may know else could sony video recorder human testimony way establish truth historical claims whenever anyone tells weak listen talk ten minutes contradict appealing human testimony everything else says day things learned class books web radio fourth miracles continued pure act laziness greta christina would pass proof text without dealing obvioius objections readers gettingit doubt richard dawkins like one gifts shire hobbits pass one another birthdays read new testament whole argue chapter clearly norm christians appeal evidence back supernatural claims survey christian thinkers general centuries even ask modern christians believe appeal reason evidence overwhelming norm see christians lost minds truth behind new atheism summary alister mcgrath leading authority history christian theology wrote book large part correct richard dawkins mutual point ignorance greta avail new atheists hold onto meme amazing tenacity teeth evidence dawkins put greta like craig james religion virus upfront enough admit lie magic wand shortcut moral victory excuse refusing offer serious argument back bias religion general christianity particular',\n",
       " 'contrary hype book lt b jesus worth lt b cannot recommend books like important study bible every christian books like radical might get published first place nutshell focus radical view way much working god little emphasis actually knowing god growing maturing love christ focus fruit without growing tree first otherwise good works god even know desire steadfast love sacrifice knowledge god rather burnt offerings hosea david pastor radical experiment brook hills excellent preacher good pastor opinion beginning family enthusiastic participants radical years later subconsciously come believe jesus died sin must good works radical order remain worthy salvation supposed sell stuff give poor go overseas missions adopt foster children serve homeless shelters etc comments like one pg lt b lives reflect radical compassion poor reason wonder christ really us lt b exacerbated anxiety especially heard pulpit every sunday several years finally enough enough walk christ whittled exhausting list good works left spiritually famished family left brook hills protest radical david offers one one problem sees plaguing local churches us american dream treats american dream nothing sinful materialism disguised personal opportunity correct ignores pays mere lip service good things come via american dream example impoverished families work way prosperity opportunities historically available parts world david also seems forget many benefits reaped american dream multiple post grad degrees megachurch pastor imb president bestselling author age etc attacks american dream inimical understand spiritual cancer robbing christians life christ opportunity consumerism people abuse american dream pursue sinful wants blame cars car accidents lt b problem lt u sin lt u american dream lt b undercuts entire premise radical main complaint radical however lack sound biblical exegesis lot scripture radical referring text enough use matters david claims jesus created lt b us lt b take gospel ends earth anything less radical devotion unbiblical christianity david applies great commission command carried lt u every single believer lt u lt u individual lt u level thus leave place origin share gospel abroad disobeying god jesus lt b merely called lt b us go nations lt b commanded us go lt b nations taken command though reduced calling something lt b people lt b receive apparently never ask god lives everyone scripture exactly support acts church antioch prophets teachers worshiping lord fasting lt b holy spirit said set apart barnabas saul work called lt b fasting praying laid hands lt b sent lt b men expressly identified called go passage specifically says sent indicating go disobedient even though holy spirit called barnabas paul radical completely silent scripture indicates gc lt u corporate lt u command church lt u body lt u believers role play according holy spirit instruction see acts sent lt b holy spirit lt b went seleucia sailed cyprus also cor apostles every individual called go david says holy spirit call specific people bible others david similarly misapplies luke using rich young ruler warning materialism point story money per se latent idolatry keeping person lt b rich poor lt b separated god particular man struggled idolatry toward money know came jesus asking salvation misunderstood depth need saying fully obeyed god life mk contrast rom jesus understood money particular stumbling block man preventing fully loving god pursuant ex deut told man sell everything follow man went away sad could even keep first commandment jesus explains hard rich enter kingdom god indeed easier camel go eye needle someone rich enter kingdom god lk words impossible rich person enter heaven lt b merits lt b end story verse people ask lt b saved lt b notice ask rich person saved saved point applies rich poor problem money sin david withholds mention jesus important answer lt u impossible man possible god lt u indeed lt b jesus radical enough please god behalf lt b know reading radical instead might tempted think opposite true jesus death cross beginning salvation finish good works material sacrifice path legalism burnout david offers occasional caveat cannot earn salvation concludes rich man lt b wealth lt b inherent propensity sin rich poor would keep separated god way us fix sin sell everything correct important remember jesus tell lt u everyone lt u give possessions order follow lengthy discourse nicodemus john jesus even mention money though nicodemus likely wealthy man like rich young man came jesus learn path god david also ignores abraham job see jas king david solomon boaz lydia lazarus joseph arimathea etc contrary radical bible indicates wealthy persons incapable loving god lt b money lt b problem lt b lt b money lt b loving lt b mt ti confronted concerns david explains radical salvation lt u lt u works lt u evidence lt u salvation sounds like valid distinction lt u practice lt u line blurs easily bible already clear evidence salvation see e g gal bothers radical david seems put cart horse emphasizing fruit bear walk christ creates fruit us jerry bridges explains lt u fruitful life lt u lt focus outward structure character conduct without taking time build inward foundation devotion god fail us eventually results cold morality legalism even worse self righteousness spiritual pride must develop inner outer aspects godliness simultaneously lt radical focuses almost entirely outer life either assuming reader already strong developing inner life ignoring inner life altogether one need read comments critical reviews radical see consequences unbalanced approach christian life finger pointing phariseeism thrive people emphasize appearance sacrificial holiness without trusting holy spirit create strength heart needed support outer structure god intends david seem recognize another reviewer radical explains lt believe speakers including david radical understand people change seem imply primary thing needed lukewarm people become full disciples willpower discussion centers getting readers see fully committed teachings jesus encouraging become fully committed little discussion dynamics spiritual change roadblocks processes means person becomes fruitful christian living sacrificial lifestyle words overwhelming focus call change roadmap change lt see comment daniel jepsen come radicals christianity today dated march words david focuses christians especially american fully committed disciples christ warns us dangers change presumption seems must create change effort brook hills resulted people putting homes sale downsizing vehicles adopting children overseas traveling abroad mission radical try little harder give little good works god pleased need fear salvation roadmap spiritual burnout emphasis us christ specifically tells us apart nothing entirely possible look radical outside completely spiritually dead inside vitally important jerry bridges explains lt u fruitful life lt u often try develop christian character conduct without taking time develop god centered devotion try please god without taking time walk develop relationship lt u impossible lt u emphasis added continues lt obvious god centered lifestyle cannot developed maintained apart solid foundation devotion god strong personalrelationship living god keep commitment becoming oppressive legalistic john writes god commands burdensome see john godly life wearisome true godly person first devoted god devotion motivation christian behavior pleasing god lt see hos cor short believe radical necessarily unbiblical overemphasizes one facet christian life expense others bible christian life described different ways appropriate depending circumstances sometimes warrior athlete slave family farmer apprentice etc unfortunately hype radical led many people fear saved unless radical david describes proportion calls book time bible offers much nuanced approach christian life holy spirit help us navigate jn david misses much explained cor hos thes rom mt apply radical would different book altogether important lt b study bible lt b god given everything need pt need radical may better without death cross beginning salvation finish good works material sacrifice path legalism burnout david offers occasional caveat cannot earn salvation concludes rich man b wealth b inherent propensity sin rich poor would keep separated god way us fix sin sell everything correct important remember jesus tell u everyone u give possessions order follow lengthy discourse nicodemus john jesus even mention money though nicodemus likely wealthy man like rich young man came jesus learn path god david also ignores abraham job see jas king david solomon boaz lydia lazarus joseph arimathea etc contrary radical bible indicates wealthy persons incapable loving god b money b problem b b money b loving b mt ti david also ignores many practical concerns radical laments nearly half world struggling find food money spend french fries implying world hunger would end christians gave countries suffering lack american wealth somehow holier suffer free rule law upheld due corrupt governments money alone solve mean ignore poor cannot assume giving fix problems also cannot assume suffering america fault based survivor guilt important however spiritual ramifications radical david particular disdain local churches us tone throughout book harsh condemning bordering judgmental seems think churches verge destruction claiming care parking lots helping poor brook hills people responded selling homes adopting fostering children going missions overseas spending free time serving homeless shelters david praises radical gives warning burnout pride poverty legalism result working become radical also fails warn readers exchanging one idol materialism another good works confronted concerns david explains radical salvation u u works u evidence u salvation sounds like valid distinction u practice u line blurs easily bible already clear evidence salvation e g gal hype radical led many people fear saved unless radical bible offers much nuanced approach christian life holy spirit help us navigate jn david misses much explained cor hos thes rom mt apply radical would different book altogether important b study bible b god given everything need pt need radical may better withou',\n",
       " 'dr jayson mira calton huge service nutrition world put focus macronutrients micronutrients book asin naked calories back discussing critical importance go choosing best food quality healthy low carb lifestyle one biggest criticisms people eating low carb diet heard years low carb sacrifices choosing best quality foods favor simple process cutting carbohydrates might true past anymore days think reality us low carbers actually surveyed blog readers overwhelming majority noted buy grass fed pastured meats low carb lifestyle however challenge face carb conscious consumers balancing desire control amount carbohydrates consume need obtain nutrition foods eat caltons help us practical solutions making happen brand new book rich food poor food dynamic health duo back better ever super exciting new book serves virtual guide go shopping without getting confused slick marketing mumbo jumbo put big food companies offer great tips finding best quality foods major food categories help find affordable prices meet virtually budget whether seasoned savvy healthy supermarket shopper brand new let dr jayson mira calton help guide like gps rich quality real whole foods away poor crappy fake processed foods low fat plastered along front packaging make healthy key concepts find rich food poor food trained look macronutrients enough need look organic grass fed pastured etc wanted provide resource help people find good foods convenience led big business food industry really bad science low fat corrupted food system literally boxed corner packaged foods food scientists heart conversation research found consumers like brightly colored food eyes tell brain foods good eat smell taste manipulated make eat time food science advanced create frankenfood public gotten point know real food real food necessarily come box great companies right lots tips lower costs real food maybe split half cow farmer group build relationship local farmer farmer market nobody putting coupons real food manufacturers book giving coupons rich food resource center web site yes eat ketogenic diet get best nutrition jump feet going time really take serious look slowly start one aisle food product time one stick go backwards start slowly difference cafo beef grass fed profound grass fed meats much higher micronutrient content eating grass fed cows eating gmo foods lot good manufacturers breaking mainstream showing wal mart costco around pound choose cheap cafo beef vs sad diet grass fed beef expensive choosing tuna pay later toxic foods consume eggs great way get high quality food diet people try rationalize important justify times places stuck dedicated book people supplying quality food make community strong healthy support low carb high fat gives amazing benefits gonna happen matter food quality real danger eating poor food time toxic overload inferior food choices value low carb high fat food quality people switch sad food quality see benefit lot people boxed foods crappy price pay basically pound meat take things cart afford chemically changed foods make hungrier amazing many poor ingredients products cheat times need aware food quality years ago food supply bad today gmos pesticides exponentially greater ever low carb high fat diet foundation eating plan let start work food quality diet dialed pay attention natural flavors vanilla flavoring actually beaver say something brightly colored liquid good sucralose best sinister sugar substitutes stevia much recommended artificial sweeteners natural like plant like beaver natural horrendous marketing term popular even word organic phrase made also means made without healthy generally defined something low fat people succumb allure marketing labels label may good maybe strict guidelines determining good food entire book sugar free wheat free mayonnaise almost impossible find soybean oil somebody right virtually every category like asin eat type books fat salt calories taken consideration gps book helps people navigate stores low carbers love cheese great ones go brand name go fancy cheese store foreign country quality tends better cheese becomes shredded potato starch added buy block shred avoid mold inhibitors clear plastic bags rob micronutrients cheese velveeta real cheese try hide cheese real cheese either steer clear brands dislike ingredients kraft horrific food ingredients cheese products hydrolyzed anything translated msg use variety different names ingredients soybean oil replaced canola oil better dressings really really hard thing find giving power back people get good foods rich food request list book hand list local store manager buy willnot carry real food providers need us demand products let grocery stores determine products rules persistent foods want greek yogurt low fat fat hard find always add fat low fat greek yogurt canadian products going similar us foods similar policies regarding gmo united states canola oil actually canada oil rapeseed products banned countries usa rich food resource center tote bags free tips bag get coupons request lists wallet size fab terrible foods foods buy organic terrible foods usually give kids pesticide residue want buy organic yellow squash zucchini almost always genetically modified potatoes terrible sweet potatoes fab videos make quality foods home growing sugar sugar anymore sugar beets get sugar gmo takes minutes make mayonnaise home one popular recipes paleo low carb bacon mayo non low carb people devour good sauces wheat free movement supporting low carb lifestyle paleo primal brothers low carb room science really backing low carb lifestyle dr william davis asin wheat belly fame wrote foreword new book mark sisson behind asin primal blueprint penned introduction rich food poor foodrs natural like plant like beaver natural horrendous marketing term popular even word organic phrase made also means made without healthy generally defined something low fat people succumb allure marketing labels label may good maybe strict guidelines determining good food entire book sugar free wheat free mayonnaise almost impossible find soybean oil somebody right virtually every category like asin eat type books fat salt calories taken consideration gps book helps people navigate stores low carbers love cheese great ones go brand name go fancy cheese store foreign country quality tends better cheese becomes shredded potato starch added buy block shred avoid mold inhibitors clear plastic bags rob micronutrients cheese velveeta real cheese try hide cheese real cheese either steer clear brands dislike ingredients kraft horrific food ingredients cheese products hydrolyzed anything translated msg use variety different names ingredients soybean oil replaced canola oil better dressings really really hard thing find giving power back people get good foods rich food request list book hand list local store manager buy willnot carry real food providers need us demand products let grocery stores determine products rules persistent foods want greek yogurt low fat fat hard find always add fat low fat greek yogurt canadian products going similar us foods similar policies regarding gmo united states canola oil actually canada oil rapeseed products banned countries usa rich food resource center tote bags free tips bag get coupons request lists wallet size fab terrible foods foods buy organic terrible foods usually give kids pesticide residue want buy organic yellow squash zucchini almost always genetically modified potatoes terrible sweet potatoes fab videos make quality foods home growing sugar sugar anymore sugar beets get sugar gmo takes minutes make mayonnaise home one popular recipes paleo low carb bacon mayo non low carb people devour good sauces wheat free movement supporting low carb lifestyle paleo primal brothers low carb room science really backing low carb lifestyle dr william davis asin wheat belly fame wrote foreword new book mark sisson behind asin primal blueprint penned introduction rich food poor food',\n",
       " 'first good loads air combat action book preliminaries dispensed pages pages full clostermann combat flying think many people like fun read books slow get action one bad got two issues book one despite success clostermann set good example disciplined fighter pilot wingman leader depend enemy aircraft shoot clostermann ditch leader surprised open two book full inaccuracies faulty analysis errors blatant find wondering possible author editor publisher bother even basic fact checking best guess clostermann wanted spice book making achievements seem even impressive actually else explain blatant errors big mistake since clostermann actual achievements need enhancement rest review long list wingman accuracy analysis issues found book consider authority want point clostermann claims take issue hate think newcomer reading book accepting everything truth lot people seem given high ratings book receives frankly think big show highly overrated due factual errors reading issues book encourage fact checking draw conclusions unreliable wingman page bantam paperback sky filled hurtling spitfires seemed suddenly empty disappeared never mind going lose focke wulf clostermann first mission lt martell page flabbergasted shot two huns two huns time bursting pride trembling suppressed jitters nerves jangled martel happened would think left lurch sky empty clostermann second mission july wingman lt martell pages commandant mouchotte hun opened fire tracers passed yards wing tips decidedly unhealthy opened throttle wide pulled desperately stick follow mouchotte tight turn climbing almost vertically pulled hard engine cut one precious second hung nose air first huns began flash like thunderbolts sections engine picked terrific jerk late lost contact section could see yards climbing spiral helped wide barrel roll brought within yards focke wulf let loose long burst degree correction seconds later heard last time commandant mouchotte voice calling alone flying squadron commander wingman clostermann loses mouchotte isolated killed time claims engine cut one second excuse losing leader believe previous incidents page meanwhile jacques contrary settled habits followed sutherland heels like faithful hounds pleasure seeing liquidate another yards range clostermann freely admits settled habit stay leader inaccuracies faulty analyses page richthofen pilots hand picked commanded one aces german air force major von graff page complete picture heard german radio three days later major von graff iron cross swords oak leaves diamonds wounded course heroic combat enemy force superior numbers cannot find reference major von graff historical record would hard believe pilot knight cross oak leaves swords diamonds germany highest decoration knights cross gold presented rudel assume clostermann referring hermann graf jg commander decoration described however hermann graf never commander jg richthofen shot clostermann tempest unit list commanders jg include anyone named graff graf victories scored jg eastern front january graf came western front instructor pilot june took command began creating high altitude fighter unit eventually designated jg november graf given command jg flying jg march graf shot p mustang confusion dog fight collided another mustang managed bail injured spend time hospital graf eventually returned eastern front jg commander october jg last wartime commander choosing graf astounding victory tally opponent clostermann trying impress pages right fortress holed like sieve flying left red nosed mustang limped along england atlast inland could make four crashed fortresses fields landed manston fortress exhausted drained parked mustang introductions pilot renowned major beeson commander mustang squadron last mission due repatriated states week schweinfurt factory razed ground fortresses still airworthy clostermann describing escort duties second schweinfurt raid october time second schweinfurt raid beeson lieutenant major fighter squadron commander squadron furthermore flying thunderbolt mustang time beeson fly mustang february finally red noses authorized mid march clostermann way facts second schweinfurt raid b lost damaged returned leaving undamaged damaged b could repaired scrapped damaged b still flyable could repaired put back service b returned second schweinfurt undamaged b could considered airworthy airworthy b big exaggeration page allied expeditionary air forces could pit exactly first line fighters r f day air force fighter groups air force fighter groups total fighter groups squadrons group squadron puting aircraft yields u fighters clostermann implies u fighters day say exact number think safe say clostermann little light u contribution seems clostermann penchant minimizing u contribution general page emergencies could boost nearly h p revs speed went p h dive tempest aircraft reach without interfering handling qualities marked extent sub sonic speeds e p h clostermann refers tempest tempest definitely high performance aircraft day would see data would believe mph detriment handling qualities dive page another costly raid fortresses laid never came back clostermann referring raid wiener neustadt second raid schweinfurt u bomber raid highest losses bombers lost clostermann claim bombers lost raid wiener neustadt far high page messerschmitt tricky fly wing loading lbs per square foot landing speed p h difficult take turbines also gave trouble certainly high losses accidents jg instance losing pilots three months read british report captured reports touchdown speed kilometers per hour translates mph clostermann landing speed double mph landing speed would real handful jg never flew flew exclusively throughout war also jg never combat clostermann unit jg fought eastern front starting invasion soviet union end war last days war german lines collapsed jg based austria czechoslovakia time jg isolated combats allied bomber escorts page average standard german fighter pilots much higher turn year time since explained apart possible considerations morale defence fatherland fact crack fighter units absolute priority everything including personnel also handing fuel lubricants therefore likely meet combat nothing experienced pilots early rotation pilots western russian fronts often brought us contact units middling worth later concentrated exclusively eastern front principle russian front rest cure luftwaffe quantity mattering quality best units kept reserve face r f protect german towns american daylight bombing grosso modo situation luftwaffe end clostermann claim german pilot proficiency peak end beginning complete opposition everything read subject understanding german fighter force low ebb sustaining serious losses previous year february part european strategic bombing campaign united states strategic air forces usstaf launched operation argument series missions german held territory became known big week course big week german fighter force lost percent pilots nearly killed big week frequently described watershed event losses experienced german fighter pilots severe one week forcenever recovered went steady decline end war intense air combat attrition eastern front course allied invasion europe made bad situation even worse course experienced german fighter pilots still flying individuals dangerous ever numbers dropped passing day german fighter force made newer pilots generally significantly less experience allied opponents clostermann claim flies face virtually every source perhaps wants opponents appear powerful actually order impress readers page operation brilliantly worked superbly executed allied public opinion would dealt staggering blow known american censorship press services flat spin tried present attack great allied victory publishing peculiar figures pilots still laughing three months later clostermann referring operation bodenplatte clostermann assessment bodelplatte opposition read operation bodenplatte achieved surprise tactical success ultimately failure great many allied aircraft destroyed ground losses quickly replaced since majority allied losses empty planes sitting ground allied aircrew casualties quite small conversely germans lost many fighter pilots could replace luftwaffe lost pilots killed missing captured wounded including three geschwaderkommodore five gruppenkommandeure staffelkapitäne largest single day loss luftwaffe clearly many pilots lost experienced leaders veterans thus bodenplatte short term success buta long term failure allied losses soon made luftwaffe pilots lost irreplaceable german historian gerhard weinberg wrote left germans weaker ever incapable mounting major attack page closed discussion conclusive argument always annoyed spitfire pilots considerably e landing speed almost greater cruising speed said joke conclusive argument might worth laugh however maintaining spitfire top speed around mph cruise speed barely tempest mph landing speed ridiculous page rheine hopsten nowotny sole charge jagdgeschwader dispersed various satellites nordhorn plantlunne neuenkirchen luned hesepe bramsche jg effectives comprised focke wulf jet messerschmitt staffel junkers night fighters attached represented tactical reserve fighter planes orders twenty two year old lieutenant colonel page hurtling air like bullet bob clark miraculously went wall flack without hit fired long burst silvery final phase approach messerschmitt crashed flames edge airfield fortnight later learnt cross checking captured document prisoners reports piloted nowotny jg flew exclusively throughout war fw ju claimed clostermann mentioned earlier jg fought eastern front never faced clostermann unit think clostermann trying build opponent jg renowned successful fighter wing worldwar two aerial victories claimed suspect clostermann claims fought jg impress readers walter nowotny never commanded jg luftwaffe highest scoring ace victories spent entire eastern front combat time jg briefly commanded jg fighter training school kommando nowotny flying nowotny years old nowotny scored victories killed flying november remains unclear whether nowotny killed due engine failure whether shot united states army air forces usaaf captain ernest fiebelkorn fighter group lieutenant edward buddy haydon fighter group east hesepe clear nowotny shot clostermann tempest squadron suspect clostermann chosen claim nowotny shoot impress readers page planes shooting bombing advanced columns considerably hampering progress supply echelons never heard ss fighter bomber units ss ground units reputation combat prowess fanaticism believe clostermann invented ss air units impress readers long list egregious errors clostermann believe lazy writer bother research facts conclude felt need embellish story impress readers bad unvarnished truth impressive enough still fun book read put much stock facts figures opinions way much better fighter pilot memoirs raf interest try spitfire pilot roger hall first light geoffrey wellum nine lives alan deere flying start hugh dundas fight sky douglas bader fly life robert stanford tuck tale guinea pig geoffrey page good reads believable',\n",
       " 'sorting contradictions nebulous references book probably better exercise brain sudoku would take sizable book unravel scratch surface give idea expect problems arise confused levels explanation suppose go job interview interviewer says tell little self reply subpersonal level self nothing true false illusions one could illusions p kindle edition values goals exist subpersonal level nothing universe possesses inherent value goal p gave reply chances getting job would slim unless interviewing metzinger philosophy department perhaps point although subpersonal level explanation basis metzinger saying self even anyone could illusion self book phenomena level written level organism whole p make mistakes illusions illusion directly contact world p search kindle edition illusion find matches many cases people including metzinger rubber hand illusion prime example also find people values pursuing goals one main problems book metzinger switches one level explanation another without warning sometimes one paragraph next live conscious life ego tunnel p cannot leave ego tunnel nobody could leave p someone living first quote level live use language talk things illusions second quote subpersonal level language one could live life bunch neurons argument self subpersonal level would like saying level cpu applications computer billions transistors either open closed fortunately interact computer level cpu interact level icons cursors randomly switching levels explanation confusing enough complications result using multiple terms things phenomenal ego phenomenal self interchangeable p conscious self apparent self p confusion arises metzinger need say something shocking original thing self p entity could illusion self p two basic rules help keep metzinger levels explanation straight uses talking human beings organisms make mistakes illusions uses nobody entity one subpersonal level persons mistakes illusions truth falsity agree strictly speaking essence within us stays across time nothing could principle divided parts substantial self could exist independently body p still uses term self often book seems useful sort really saying says saying theory behind book self model theory subjectivity self model term uses lot need understand scientific philosophical model hard experience world direct light entering eyes stops hits retina point represented neural impulses longer light per se brain uses neural impulses create highly processed experience light experience light brain representation light model model representation something target since thing always kind approximation sensory organs react contact real world brain uses reactions construct approximation real world good enough useful finding way around getting needs met also constructs model organism whole part model conscious one time metzinger calls phenomenal self model organism currently consciously represented brain p although metzinger say brain always representing organism even dreamless sleep otherwise wake middle night pee thirsty representations become conscious awake even brain ongoing representations conscious conscious another place metzinger goes astray starts well conscious overall process perceiving learning living creates context reality turns lived reality pp far good brings bernard baars global workspace theory conscious information exactly information must made available every single one cognitive capacities time critical information must remain active different modules brain mechanisms access simultaneously p problem consciousness provides access idea based work libet others way around rather consciousness allowing different modules brain mechanisms access information simultaneously consciousness indicates different modules brain mechanisms already accessing information simultaneously similar observation applies statement conscious information exactly set information currently active brains deliberately direct high level attention p would accurate say conscious information exactly set information toward brains already directing high level attention feeling conscious selves directing attention illusory since brains rather conscious selves directing attention direct toward anything memory current environment imagination everything brain always available high level attention vast possibilities emerges consciousness brain currently attending go far anthropomorphizing brain point metzinger gets one right note neither mind self model little man head one creating comparing deciding dynamical systems theory correct case dynamical self organization brain p words brain know directing attention evolved automatically metzinger knows yet book cart horse bring go back revise theory point least capable recognizing phenomenal ego experiential content human self model clearly disagrees scientific worldview p written book scientific worldview dynamical self organization core could much worthwhile although comes late following excellent statement reality situation certain processing stages elevated level conscious experience bound self model active brain experience thoughts decisions urges act properties belong person whole also clear events popping conscious self necessarily appear spontaneous uncaused first link chain cross border unconscious conscious brain processes impression appeared mind blue speak unconscious precursor invisible link exists fact conscious experience intention sliver complicated process brain since fact appear us robust experience able spontaneously initiate causal chains mental physical realm p robust experience illusory self model model represent metzinger states things selves exist world biological organism self p suppose consider biological organism including memories past experiences aspirations future complete human name address organism whole p organism target system self model refers organism self self includes everything experienced might experience cannot conscious self entirety neurons firing conscious level conscious self model always fragmentary addition sure brain current representation self accurate inherited lot misinformation non scientific ancestors memory fallible prone self deception realizing conscious experience constructed brain based knows may give brains incentive learn make self models evidence based spite testimony free evidence free metzinger help try find utility description hypothetical robot society says would robots develop new causal properties falsely believing freedom practice ascribing moral responsibility even based delusional psms would create decisive real functional property group interests would become effective robot behavior price egotism would rise pp fact opposite true delusional freedom justifies taking egotistical pride actions since supposed authors deride others achieving less also ill considered concern disenchantment self one many dangers process remove magic image may also remove image others p magic concerned magic conscious control ignores profound protean real magic inscrutable neural processes give rise ongoing conscious experience whenour brains learn work stop taking granted open wonder awe really yet book cart horse bring go back revise theory point least capable recognizing phenomenal ego experiential content human self model clearly disagrees scientific worldview p written book scientific worldview dynamical self organization core could much worthwhile although comes late following excellent statement reality situation certain processing stages elevated level conscious experience bound self model active brain experience thoughts decisions urges act properties belong person whole also clear events popping conscious self necessarily appear spontaneous uncaused first link chain cross border unconscious conscious brain processes impression appeared mind blue speak unconscious precursor invisible link exists fact conscious experience intention sliver complicated process brain since fact appear us robust experience able spontaneously initiate causal chains mental physical realm p robust experience illusory self model model represent metzinger states things selves exist world biological organism self p suppose consider biological organism including memories past experiences aspirations future complete human name address organism whole p organism target system self model refers organism self self includes everything experienced might experience cannot conscious self entirety neurons firing conscious level conscious self model always fragmentary addition sure brain current representation self accurate inherited lot misinformation non scientific ancestors memory fallible prone self deception realizing conscious experience constructed brain based knows may give brains incentive learn make self models evidence based spite testimony free evidence free metzinger help try find utility description hypothetical robot society says would robots develop new causal properties falsely believing freedom practice ascribing moral responsibility even based delusional psms would create decisive real functional property group interests would become effective robot behavior price egotism would rise pp fact opposite true delusional freedom justifies taking egotistical pride actions since supposed authors deride others achieving less also ill considered concern disenchantment self one many dangers process remove magic image may also remove image others p magic concerned magic conscious control ignores profound protean real magic inscrutable neural processes give rise ongoing conscious experience whenour brains learn work stop taking granted open wonder awe reall',\n",
       " 'book worth million motivational gifts mentioned romans god gives us gives us different gifts nobody gifts jesus gifts make body christ us represent different part function people one primary gift people parts gifts whichever gift god chose give benefit others nobody arrogant gift god gave god chose choose gift better nobody arrogant one primary gift remember much given much expected one gift means lot work little speech way gifts part body represent description perceiver eyes people know things sometimes dreams come true server hands love things working hands especially people teacher mind loves research study good school asks questions exhorter mouth bubbly talkative makes friends easily gregarious confident body language least bit shy people gift gab usually someone exhorter score high server vice versa giver arms type good making saving managing money using good causes also generously gives things money administrator shoulders good organizing following leads projects causes compassion person heart genuinely care feel people love deep thick authors book took motivational gifts romans spent many years studying researching people gifts found traits type people grateful authors research loved book went discover god given gifts class church week course one day week week covering gift class overviewing gifts loved class much bought book read excited eager read book know book basically repeat class enjoyed book much worth repeat anyway gain things book pick class teacher made buy book read goes say primary gift teacher teacher characteristics describe perfectly characteristics accurate persistant eery characteristics describes perfectly example teachers love read read read even said often teachers prefer mystery novels know know much love mystery novels teachers diligent says teachers usually care sports indifferent pets attending class church reading book see teacher much even studied gifts would always one brought books magazines sick baby showers would give books well diapers baby clothes teachers ones usually bring books sick attended class read book even know teacher gift teacher activities teacher characteristics actually primary gifts order teacher compassion person giver server also parts administrativegift guess could considered secondary gift scored really low one gifts scored almost perfect score teacher compassion person tie breaker teacher teacher barely tipped scales teacher compassion one example compassion person usually animal lover teacher indifferent animals animal lover list occupations book marking ones good gifts every one ones listed perfect teacher ones dreamed becoming course never happened score high server occupations server suit like teacher occupations guess scored higher teacher server even though scored high fact teacher jobs suited much better jobs gifts goes show teacher outweighed compassion barely well giver server gift definitely teacher end class went around told top highest gifts mine teacher compassion person another example teacher tipped scales said teaching sunday school class class sure teacher would rather prepare materials server would rather already prepared materials would rather prepare materials goes prove teacher definitely gift primary gifts book said teacher giver would rather prepare materials server compassion person would rather already prepared materials case teacher giver tips scales compassion server fact loved prepare materials children church month rotate pastor wife recently changed given already prepared material go even enjoy children church anymore reason still love kids book helped understand better helped many people understand also helped understand people act well acted way various situations always loved nice things people gives great pleasure joy fact scored really high compassion giving serving explains since done studies looked certain things done ask compassion giver server sometimes usually combination give jesus credit gives heart desire nice things everybody least one gift however person accepted jesus gift might dormant cock eyed used full advantage still everybody knows personality even classes tests everybody idea gift knowing people usually easy detect gift even though nobody except jesus gifts gifts small extent act particular gift necessary even though might primary gift example someone house robbed say ask help scored low giver test go ask giver help help person regardless primary gift course giver probably give everybody else everybody give something help person house robbed book lists bible characters portray gifts also gives examples jesus acting gifts read book much excitement enthusiasm loved encourage read one thing want mention nothing book except helped understand particular cult like church went short time years ago say church mentioned earlier part body christ nobody gifts takes gifts make full body christ therefore god gave different people different gifts gift better another cult like church everybody required personality right personalities either kicked treated badly left church another characteristic particular church ounce love sight back studied gifts gift everybody required exhorter gift course back call exhorter gift said big mouth succeed church strongly believed important big mouth felt sin shy confident body language exhorters ones confident body language obviously nobody compassion gift gift dormant cockeyed ounce love sight compassion gift exhorter gift ones kicked pushed looking back ones exhorter gift ones succeeded church also administrator gift plenty people church love tell people therefore church mouth shoulders heart gifts think exhorter gift misused gift church also world general god gives people big mouth reason another word exhorter encourager warner people big mouths suppose encourage people warn good many big mouth people actually know lots big mouth people actually encourage people fact got much discouragement church went home upset time even exhorter gifts cockeyed encourage except maybe fellow exhorters discouraged mouths exhorter gift nobody gifts gift people therefore cannot exhorter gift even though church people think everybody supposed glad go different church knows appreciates importance gifts encourage read book discover god given gifts understand better discover certain things way also help understand people function way hope enjoy book much excitement joy look people characters try determine gifts personality way things fun determining year old granddaughter exhorter unless changes much talkative social kids pretty social talkative especially son never content play even watch video kids around sit play watch video kids content things plays well withother kids speaks everybody today went store speaks everybody sees clerk checked us boldly said nice time clerk pleased said thank granddaughter said nice time work clerk pleased exhorter closest thing ever one high school lots friends thought cool friends meant lot much older care ever make another friend life family enough cute little example gift would respond particular situation neighbor lady sick barely get bed perceiver go house pray also pray house server go house clean house cook meals walk dog whatever else needs done teacher bring books magazines read recovering exhorter come keep company encourage get better maybe even watch tv giver bring meals personal supplies tooth brushes soap administrator determine needs done delegate duty people compassion person come give love make sure situation cozy warm comfortable one thing gifts talking motivational gifts books also hits lightly manifestation ministry gifts says enough know difference three categories gifts mentioned bible get confused honest glad book mention say two types gifts wanted dig motivational gifts want big writeup categories calls books book therefore thank authors mentioning types gifts elaborating highly recommended zeal excitement book lists bible characters portray gifts also gives examples jesus acting gifts read book much excitement enthusiasm loved encourage read one thing want mention nothing book except helped understand particular cult like church went short time years ago say church mentioned earlier part body christ nobody gifts takes gifts make full body christ therefore god gave different people different gifts gift better another cult like church everybody required personality right personalities either kicked treated badly left church another characteristic particular church ounce love sight back studied gifts gift everybody required exhorter gift course back call exhorter gift said big mouth succeed church strongly believed important big mouth felt sin shy confident body language exhorters ones confident body language obviously nobody compassion gift gift dormant cockeyed ounce love sight compassion gift exhorter gift ones kicked pushed looking back ones exhorter gift ones succeeded church also administrator gift plenty people church love tell people therefore thechurch mouth shoulders heart gifts think exhorter gift misused gift church also world general god gives people big mouth reason another word exhorter encourager warner people big mouths suppose encourage people warn good many big mouth people actually know lots big mouth people actually encourage people fact got much discouragement church went home upset time even exhorter gifts cockeyed encourage except maybe fellow exhorters discouraged mouths exhorter gift nobody gifts gift people therefore cannot exhorter gift even though church people think everybody supposed glad go different church knows appreciates importance gifts encourage read book discover god given gifts understand better discover certain things way also help understand people function way hope enjoy book much excitement joy look people characters try determine gifts personality way things fun determining year old granddaughter exhorter unless changes much talkative social kids pretty social talkative especially son never content play even watch video kids around sit play watch video kids content things plays well withother kids speaks everybody today went store speaks everybody sees clerk checked us boldly said nice time clerk pleased said thank granddaughter said nice time work clerk pleased exhorter closest thing ever one high school lots friends thought cool friends meant lot much older care ever make another friend life family enough cute little example gift would respond particular situation neighbor lady sick barely get bed perceiver go house pray also pray house server go house clean house cook meals walk dog whatever else needs done teacher bring books magazines read recovering exhorter come keep company encourage get better maybe even watch tv giver bring meals personal supplies tooth brushes soap administrator determine needs done delegate duty people compassion person come give love make sure situation cozy warm comfortable one thing gifts talking motivational gifts books also hits lightly manifestation ministry gifts says enough know difference three categories gifts mentioned bible get confused honest glad book mention say two types gifts wanted dig motivational gifts want big writeup categories calls books book therefore thank authors mentioning types gifts elaborating highly recommended zeal excitemen',\n",
       " 'plodding hatchet job biography seeks instil reader mind message laid subtlety drone strike henry viii bad king everything unjust irresponsible downright unnecessary especially divorce english reformation quote dust jack bad man also bad ruler turning complex fascinatingly repellent individual clownish clich eacute bad enough author imperfect grasp tudor era know difference pole family family margaret pole countess salisbury daughter edward iv richard iii brother george duke clarence de la pole family descendants edward iv richard iii sister elizabeth married john de la pole duke suffolk large family including john de la pole earl lincoln killed battle stoke edmund de la pole executed richard de la pole killed battle pavia p matusiak states surely enough prelude war france henry would rival edmund pole summarily executed seven years helpless imprisonment tower men might learn importance loyalty king absence abroad actually edmund de la pole pronounced de la poole p writes upon hearing death english rival richard pole fighting battle pavia ordered wine messenger sprung tell queen catherine joyous news soon regaling sundry lofty plans final reckoning french deceased richard pole richard de la pole brother edmund de la pole executed pole family different family consisted margaret pole n eacute e plantagenet countess salisbury married sir richard pole widowed created countess salisbury right husband death since title belonged ancestors three sons played noteworthy party history reginald pole later cardinal pole sir geoffrey pole eldest son henry pole lord montague understandable people minimal grasp tudor era might mix two families dealing published author confused compressed one family p matusiak writes edmund pole already captive time henry accession quietly executed although exiled brother richard grandiosely styled white rose proclaimed king england louis xii france support claim abruptly withdrawn two years later french booted unceremoniously country peace made henry ultimately would end exile killed side francis battle pavia event caused henry declare confidently time enemies england gone certainly richard pole sons lord henry montague reginald pole sir geoffrey pole always irritants rather genuine threats oh dear henry pole lord montague lord henry montague brothers reginald pole sir geoffrey pole sons richard de la pole killed battle pavia sons margaret pole long dead husband sir richard pole might getting confusing rudimentary knowledge tudor nobility know mean two different families passed one man never married richard de la pole credited father cousin margaret pole children sir richard pole even index pole de la pole family members listed pole another familial mistake p two sons edward iv hapless brother duke clarence ever serious contenders throne sons duke clarence one son edward earl warwick margaret pole brother executed mistakes author gets date anne boleyn execution wrong may may incorrectly states lost second child june states great grandfather geoffrey boleyn lord mayor london instead also states henry viii called drafted late december henry died january jane seymour betrothed week passed married transpired new wife assured six months already p firstly henry jane betrothed may married may less week later secondly defy author produce scrap evidence henry viii jane seymour intending marry late november henry took jane seriously potential wife anne boleyn miscarriage january began court seriously author also makes statements religion seem bit partisan book published secular history eg yet long term repercussions henry folly much greater still yielding blandishments emperor thus helped plunge europe major war time christendom threatened within lutheran heresy without turk p church rome virgin incarnate neither altogether diabolically mired equally unconvincing claim henry viii eventually performed necessary task kicking decayed structure organisation stood condemned senses term days therefore king henry builder creator looks much like king henry appetent bull china shop p p indulges moralising henry decision annul marriage catherine aragon allegedly anne boleyn become mistress never mind court try marriage opened may late july still considering marrying renee france concludes notwithstanding token resistance henry course entirely liberty enjoy anne courtesan without encumbrance either matrimony political upheaval seek adultery regrettable demand would prove political terms far sinful still sinful politics new release history press lecture sunday school teacher commonplace derogatory statements anne boleyn offspring clan avaricious social climbers anne boleyn joined sister french court august incorrect learn subtleties deportment dancing polite conversation high fashion etiquette ladies awaiting sought new freedoms displayed new audacities though would become due course committed advocate new religious thinking would also learn shun austerity indeed anne boleyn french counterparts attending prayer books less keen apply thoughts altogether less edifying pages marguerite navarre heptameron fully gauged ways world could titillate captivate accordingly eventually early weeks mistress boleyn neatly installed queen catherine household fully equipped laugh dance way england history pp cudgel bluntness term henry treatment catherine aragon divorce author also refers anne boleyn grasping tribe relatives moves attempt denigrate anne boleyn ancestry laid thickly unprofessional boleyns described far inherently distinguished gained access elite society back door said stuck fast inauspicious bloodline neither rank estates money could fully make good sore deficiency case gratuitous snobbery belittlement enough henry viii enobles anne marquess pembroke told left choice conjure two notable ancestors one twelfth century norman lord fourteenth century picard hope would lend sheen sorts somewhat dowdy heraldic shield boleyn family author needs waste time internet particularly anne boleyn files website might found claire ridgway essay anne boleyn family tree also printed origins boleyn family asin anne boleyn collection ii anne boleyn boleyn family revised opinion ridgway makes convincing case boleyns really descended norman counts bolougne records show simon de boleyne appears grandson man named pharamus de bolougne family counts bolougne held lands salle norfolk close anne childhood home blickling hall thirteenth century one point even bluntly refers anne woman substance reputation presumably contrast honourable saintly catherine aragon whose dynasty mis spells trastamara trastmara however word criticism direct catherine pedigree even though descended peter cruel castile within days wedding blanche de bourbon repudiated wife eventually died mysterious circumstances went back mistress maria de padilla may already secretly married even though catherine great great great grandfather henry duke trastamara henry ii castile became king murdering half brother peter cruel although illegitimate right throne even though catherine maternal uncle henry iv castile granted papal dispensation commit bigamy condition children second wife must return first even though catherine mother isabel became queen castile disinheriting niece grounds bastard never actually proof henry iv biological father even though catherine father half sister eleanor imprisoned poisoned elder sister blanche throne navarre blanche inherited late mother would come son even though catherine paternal grandmother juana enriquez also alleged poisoned husband son first wife throne aragon would inherited son stepson record people might think makes boleyns even tudors look rather respectable probably guess whose side author divorce henry viii flailed knuckledusters determined challenge wife honesty lecture doctors church divinity bible exegesis tell pope job p audacity dared henry viii mere sixteenth century absolute hereditary monarch consider equal people suppose stood back let people better morals nicer personalities govern like sixteenth century absolute hereditary monarchs author thinks much henry viii advisers anne boleyn father earl wiltshire duke norfolk duke suffolk said merely washed government like much detritus tide misplaced ambition misplaced thomas cromwell introduced entered world wrapped anonymity burdened dead weight humble parentage son man many parts particularly worthy tone reports produced carried visitation monasteries described cheap nasty like men main produced cheap shots really marred book sarcastic comments go becomes almost unbearable like trapped someone stop cracking jokes actually funny although person making sure thinks telling reader think bad enough author even presents guesswork fact moreover november queen gave birth dead princess cruel knowledge mistress blount become pregnant henry p bessie blount son born full term june conceived september november bessie blount would therefore yet visibly pregnant would henry viii told wife knocked mistress bother trying find citation substantiate statement since book contains citations mistakes matusiak repeats fallacy catherine parr buried two elderly husbands marrying henry viii modern scholarship firmly opinion first husband edward burgh grandson elderly man previously assumed first husband two shared name also incorrectly claims catherine howard written culpeper stating would marry free henry never heard one henry viii learned catherine love letters culpeper thought one said become hysterical weeping violently lost control vomited table front cranmer advisers present called sword might kill catherine culpeper p henry said called sword threatened kill catherine never read bit threatening kill culpeper vomiting henry mannox catherine lecherous former music tutor also incorrectly stated suffered traitor death executed author expresses astonishment henry viii chose marry niece great pander duke norfolk failing mention henry one male heir might viewed norfolk young attractive presumably fertile niece good prospect father spare still could final complaint author takes task people think henry viii allegedly suffered general ignorance art negotiation almost pathological incapacity decisive action called reformation parliament due strategic thinking fact nobody time probably least king wholly clear idea precisely new parliament intended achieve p seem occurred ruler tests waters moulds policy fit reality might successful one makes strategic decision wishes rams ahead without regard whether acceptable subjects henry portrayed floundering ditherer clue begin would could control members parliament know advance far path religious reform would willing travel yet book treated fool moved slowly whatever criticisms people might make henry viii machiavellian personality cruelty toward individuals managed carry revolution changed country time since norman conquest remain relatively popular least south west die bed fondly remembered great harry could given credit ruler author could least address issue someone allegedly bad ruler overthrown people talent overthrowing unpopular rulers find sort analysis essay entitled defence louis xv response g p gooch highly critical biography louis xv nancy mitford wrote dr gooch one revered historians interested human beings occupied historical trends political events sees characters concerned stereotyped heroes villains fairy story great king bad king good prince always alas dies young princess charming book history reduced fairy tale bad king good queen upstart queen known place stayed set amidst historical trends events author appears disapprove mitford notes gooch takes death bed scene liancourt says king cowardice beyond description rather croy says exact opposite matusiak done something similar quoting traditional accounts king death referring account strikingly different edifying scenes provided chroniclers less edifying fashion king dies tormented soul hovering brink abyss wavering frantically fear fury raves deliriously monks clerics bellowing hopelessly lost matusiak mention name author account martin hume editor semi fictional work known spanish chronicle gives name rivadaneyra describes furious catholic footnote p edition matusiak acknowledges account doubtless less awash wishful thinking blander alternatives concludes still without residing value kind since one way least may satisfy posterity deeper needs myths facts absent surely better myths concerned fitting moral edge otherwise reader left unable know make statement seriously know think author even popular history considers myths acceptable substitute fact provided tell good morality tale want head probably best think want good book henry viii please seek one try ones jasper ridley lacey baldwin smith f pollard update rivadaneyra source author alternative account henry viii death appears pedro de ribadeneira spaniard jesuit propagandist wrote history reformation late sixteenth century although visited england mary reign nowhere near england time henry viii death sty mis spells trastamara trastmara however word criticism direct catherine pedigree even though descended peter cruel castile within days wedding blanche de bourbon repudiated wife eventually died mysterious circumstances went back mistress maria de padilla may already secretly married even though catherine great great great grandfather henry duke trastamara henry ii castile became king murdering half brother peter cruel although illegitimate right throne even though catherine maternal uncle henry iv castile granted papal dispensation commit bigamy condition children second wife must return first even though catherine mother isabel became queen castile disinheriting niece grounds bastard never actually proof henry iv biological father even though catherine father half sister eleanor imprisoned poisoned elder sister blanche throne navarre blanche inherited late mother would come son even though catherine paternal grandmother juana enriquez also alleged poisoned husband son first wife throne aragon would inherited son stepson record people might think makes boleyns even tudors look rather respectable probably guess whose side author divorce henry viii flailed knuckledusters determined challenge wife honesty lecture doctors church divinity bible exegesis tell pope job p audacity dared henry viii mere sixteenth century absolute hereditary monarch consider equal people suppose stood back let people better morals nicer personalities govern like sixteenth century absolute hereditary monarchs author thinks much henry viii advisers anne boleyn father earl wiltshire duke norfolk duke suffolk said merely washed government like much detritus tide misplaced ambition misplaced thomas cromwell introduced entered world wrapped anonymity burdened dead weight humble parentage son man many parts particularly worthy tone reports produced carried visitation monasteries described cheap nasty like men main produced cheap shots really marred book sarcastic comments go becomes almost unbearable like trapped someone stop cracking jokes actually funny although person making sure thinks telling reader think bad enough author even presents guesswork fact moreover november queen gave birth dead princess cruel knowledge mistress blount become pregnant henry p bessie blount son born full term june conceived september november bessie blount would therefore yet visibly pregnant would henry viii told wife knocked mistress bother trying find citation substantiate statement since book contains citations mistakes matusiak repeats fallacy catherine parr buried two elderly husbands marrying henry viii modern scholarship firmly opinion first husband edward burgh grandson elderly man previously assumed first husband two shared name also incorrectly claims catherine howard written culpeper stating would marry free henry never heard one henry viii learned catherine love letters culpeper thought one said become hysterical weeping violently lost control vomited table front cranmer advisers present called sword might kill catherine culpeper p henry said called sword threatened kill catherine never read bit threatening kill culpeper vomiting henry mannox catherine lecherous former music tutor also incorrectly stated suffered traitor death executed author expresses astonishment henry viii chose marry niece great pander duke norfolk failing mention henry one male heir might viewed norfolk young attractive presumably fertile niece good prospect father spare still could final complaint author takes task people think henry viii allegedly suffered general ignorance art negotiation almost pathological incapacity decisive action called reformation parliament due strategic thinking fact nobody time probably least king wholly clear idea precisely new parliament intended achieve p seem occurred ruler tests waters moulds policy fit reality might successful one makes strategic decision wishes rams ahead without regard whether acceptable subjects henry portrayed floundering ditherer clue begin would could control members parliament know advance far path religious reform would willing travel yet book treated fool moved slowly whatever criticisms people might make henry viii machiavellian personality cruelty toward individuals managed carry revolution changed country time since norman conquest remain relatively popular least south west die bed fondly remembered great harry could given credit ruler author could least address issue someone allegedly bad ruler overthrown people talent overthrowing unpopular rulers find sort analysis essay entitled defence louis xv response g p gooch highly critical biography louis xv nancy mitford wrote dr gooch one revered historians interested human beings occupied historical trends political events sees characters concerned stereotyped heroes villains fairy story great king bad king good prince always alas dies young princess charming book history reduced fairy tale bad king good queen upstart queen known place stayed set amidst historical trends events author appears disapprove mitford notes gooch takes death bed scene liancourt says king cowardice beyond description rather croy says exact opposite matusiak done something similar quoting traditional accounts king death referring account strikingly different edifying scenes provided chroniclers less edifying fashion king dies tormented soul hovering brink abyss wavering frantically fear fury raves deliriously monks clerics bellowing hopelessly lost matusiak mention name author account martin hume editor semi fictional work known spanish chronicle gives name rivadaneyra describes furious catholic footnote p edition matusiak acknowledges account doubtless less awash wishful thinking blander alternatives concludes still without residing value kind since one way least may satisfy posterity deeper needs myths facts absent surely better myths concerned fitting moral edge otherwise reader left unable know make statement seriously know think author even popular history considers myths acceptable substitute fact provided tell good morality tale want head probably best think want good book henry viii please seek one try ones jasper ridley lacey baldwin smith f pollard update rivadaneyra source author alternative account henry viii death appears pedro de ribadeneira spaniard jesuit propagandist wrote history reformation late sixteenth century although visited england mary reign nowhere near england time henry viii death',\n",
       " 'much swift exact paraphrased words comments italicized book spent interstate system built extracted bits energy material resources critiques system society life cars introduction miles long four plus lanes wide dwight eisenhower system interstate defense highways largest public works project history dwarfing egypt pyramids panama canal china great wall build forests felled mountains leveled overlaid three hundred million cubic yards concrete roads essential define physical united states taken granted almost invisible interstates nation road mileage carry trillion trillion miles americans travel year many vehicles heavy trucks hammer bridges pavements shortening road bridge lifespans much fix need spend billion year next years replacement cost three times much one four country nearly bridges structurally deficient obsolete designed last years averaged years old p peak oil makes roads vehicles obsolete fix swift says roads represent spectacular investment mode transport wither without new fuel sources page new fuel sources never repair roads would throw good money bad avoid hardest possible landing might want keep key local regional roads repaired let thousands miles interstate regions go replace cars buses flexible scalable easily routable cheap compared passenger trains since use existing roads lost horses main mode transportation american towns compact tightly settled roughly circular layout days horse buggy road served company cart joggled farmer field housewife porch could hail horse would stop almost accord chat would follow country road becomes highway filled fast traffic cars driven mostly strangers neighbors whole situation changed road ceases symbol sociability becomes largely curse john steinbeck observed travels charley search america get thruways across whole country must possible drive new york california without seeing single thing pilgrim centuries past would much report country traversed details flora fauna land shape character sounds smells village field would noticed moss tree bark fast moving stream lacework afternoon light forest floor might startled deer bear unalerted soft approach reveled bird song later traveler riding horseback might spoken views enjoyed would limited views next walker would moved faster clip thus missed tiny details surroundings leisurely pace revealed stagecoach passenger even tighter range experience beheld landscape road fixed path moving picture framed window description long trip would likely dwell less scenery discomforts stage bumps road passage trains erected pane glass traveler country insulated boosting speed modern car modern freeway modern traveler left practically nothing celebrate ever briefer time devote getting one place another sequestered setting fellow passengers insulated sound smells climate details surrounded blurred speed distant make distracting enjoy scenery held arm length beyond well manicured right way highways roads ruined nation messy sprawl u cities destruction neighborhoods clearing path interstates required taking properties boring predictable chains fast food motels outlet malls drive banks gutting tens thousands small town shopping districts kunstler describes downtown wastelands book city mind remember spring afternoon spent sole pedestrian downtown appleton wisconsin commercial activity shifted asteroid belt highway strips architectural garbage five miles outside town describes atlanta giant hairball suburbs edge cities connected highways become mess nothing done redeem human habitat shopping malls cookie cutter malls replaced downtown shopping districts destroying civic life exchange ugly warehouses vast parking lots public squares malls public citizenship private lonely consumption goods large corporations channel wealth top one percent society death new automobile rolled assembly line every six seconds alife lost one machines every sixteen minutes american way death mumford wrote americans prepared sacrifice lives every year maim often irreparably three million enormous waste resources decades petroleum cars gobbled vast stores steel lead zinc rubber corn beeswax every year auto industry consumed wool seventeen million sheep hides half million cattle billion spent barrels cement tons steel pounds explosives gallons petroleum products enough earth bury new jersy knee deep tons aggregate united states could mine enough rock rebuild interstates today america spent billion interstate highway system billion fixing boston big dig array tunnels bridges bridges many miles long maintaining miles highways cost billions traffic jams cost new yorkers billion year fuel engine wear lost productivity missed sales quarter gasoline consumed american cities burned said motorists sat traffic environmental destruction american highways occupied area size west virginia mile interstate devoured acres farmland iowa alone miles freeway devoured acres productive cropland square miles big roads played hell drainage patterns water quality concrete encouraged flooding salts oils carried runoff poisoned nearby ponds streams fostered growth invasive weeds rural interstates presented insurmountable barriers small mammals turtles andamphibians one study concluding lane divided highway much barrier small creatures body fresh water twice wide slaughter game auto approached would soon exceed hunting almost used atomic bombs speed construction atomic energy commission california state division highways started project carryall determine atomic bombs could used blow bristol mountains near barstow california highway railroad could built faster cheaper study group engineers scientists thought carefully placed atomic bombs would trick flash discount years going old way would times powerful hiroshima nagasaki bombs combined bomb packed kilotons explosive punch would vaporize million cubic yards mountain creating chain connected craters two miles long much feet deep feet wide bottom plenty big enough twin railroad tracks full size interstate bomb would blast reservoir desert collect runoff storms engineers promised need worry radioactivity fallout air blast ground shock would clean nuclear explosions construction crews could return days explosions lewis mumford detested highways mumford american historian sociologist philosopher technology literary critic particularly noted study cities urban architecture broad career writer cities worked balanced books kept crime streets picked garbage timely fashion fulfilled important function facilitating human interaction reason people gathered cities first place extension good architecture incorporated much sociology engineering design building scale orientation relationship neighbors mood created beheld could fuel neighborhood vitality hamper width streets presence trees press high rises important mumford came see expressways wasteful disruptive stupid absorbing funds badly needed schools hospitals libraries facilities berated highway engineers behaving motor transportation existed social vacuum building roads bridges tunnels motorcars may travel quickly remote destinations chaotic communities roads built motorists may escape newly soiled clotted environments transportation experts expert whittlers proof end product new urban form scattered mass human shavings instead curing congestion widen chaos mumford passionately believed organic aspect cities atmosphere personality feel new superhighways pumped ever heavier flow cars onto streets avenues designed new york story buildings effect piled three ten early manhattans top average height buildings twelve stories roadway sidewalks flanking according original ratio feet wide entire width standard new york block mumford attacked year old interstate system opening salvo would come called freeway revolt making darling day urban planners anti sprawl activists critics suburban lifestyle went straight jugular interstate program bound bring destruction salvation nation cities founded insufficient study highways rather transportation blunders one dimensional thinking would benefit fantastic insolent chariots jammed streets second mistress exists every household right alongside wife motor car want save cities forget roads solution mumford said lay restoring human scale urban life making possible pedestrian exist choice looming either motor car drive us cities cities drive motor car americans apply intelligence purposes life said concluding means eventually put motor car place wide swathes land devoted cloverleafs even complicated multi level interchanges expressways butcher precious urban space devoured open land real estate already occupied people homes perhaps age known future historian age bulldozer exterminator many parts country building highway result upon vegetation human structures passage tornado blast atom bomb hell disruption nothing ease congestion tool actually expands evil meant overcome would continue terminal point business industry originally gave rise congestion move city escape strangulation leaving waste expressways garages behind mumford concludes epitaph pyramid building vengeance tomb concrete roads ramps covering dead corpse city get blame detroit fat cats americans wanted cars americans loved everything cars loved driving loved impulsively going wherever chose without thought routes timetables loved lording surroundings cocooned protected world even free explore could ride silence radio blaring need never surrender personal space sweaty foul smelling stranger suffer inane chatter thrilled sensation sound movement buffet air open window big engine growl punch embraced status reflected chrome trim subtext model offered income station sex appeal americans took cars willingly gusto automotive life foisted buy homes far work forsake mass transit pave cities manipulated detroit fat cats government industry conspiracy anyone else subterfuge necessary people chose path wanted getting cities fought highways late san franciscans realized permitted terrible blunder place waterfront offered one breathtaking urban vistas world overlooking shimmering bay alcatraz island saw unadorned gray concrete barricade rising peak feet waterfront cast surroundings day twilight severed downtown docks birthed ran smack across face beloved landmark ferry building gathering spot generations survivor earthquake san franciscans embarcadero freeway seemed less highway vivisection petitions circulated protest groups bloomed public outrage shared city fathers january citing demolition homes destruction residential areas forced uprooting relocation individuals families business enterprises board supervisors approved resolution opposing freeways planned city including yet unbuilt western two thirds meant refusing million federal aid money unthinkable act eyes municipal officials vote heard around country effectively kill state ambitions lavish freeway grid town reverberated every american confronted expressways sure wanted baltimore older cities around country beset similar problems baltimore crumbling confluence national trends shifting mood governed historic preservation becoming cause beyond ranks intelligentsia vietnam created doubt government knew people best interests heart civil rights movement encouraged take grievances streets courts perhaps important environmental movement gained footing among widening swath america monotony motorists seeking relief monotony drive found system sameness limited right way handful years mom pop businesses moved main street joined national chains mercantile knots exits soon seemed cut stencil mom pop businesses superseded u highways watched customers vanish interstates continued crawl across continent florida trend magazine would cry interstate system diverts traffic away former arteries travel drains life blood established firms situated old highways leaves die small town shopping districts losing business exits bigger towns suddenly made closer new highways speed convenience assembly line food drew customers millions starters cheap answered growing demand speed simplicity motorist making good time interstate inclined spend time eating sit meal chains drive efficient mass production mirrored desire american public predictable quality preferring everyday familiar surprise good bad interstates making tentative inroads urban areas population america suburbs surpassed cities ringed new houses came fast cheap thanks mass production techniques stamped hundreds liberty ships thousands bombers war james w rouse baltimore developer described process farm sold begins raising houses instead potatoes another farm forests cut valleys filled streams buried storm sewers kids overflow schools new school built church traffic grows roads widened service stations hamburger stands pockmark highway relentlessly bits pieces city splattered across landscape americans owned world passenger cars drove billion miles made intercity trips road shame everyone smitten railroads still buses make much sense frank turner chief engineer interstate system keen mass transit long provided bus pointed rail based transitcould attract enough riders justify fortune would cost build adapted changing travel patterns cities spread far wide fixed rail take many people wanted go buses hand extremely flexible buses could move many people cars provide almost door door service follow routes could adjusted needed piggybacked roads already place requiring costly new infrastructure boosting number buses highways could actually reduce need highways like views enthusiasm bus supported research statistics could cite study showed buses subways moved people cost cents per person per mile buses far far cheaper put service could point research showed single express lane devoted buses could move number commuters four lanes freeway turner could fathom environmentalists press anti highway activists embrace bus smitten rail based transit infinite combinations routes schedules required today urban dwellers dictates transportation system must provide flexibility route destination schedules fixed route systems basically spoke lines attached downtown hub hard time financing fare box detested washington metro initially covered miles cost billion per household amount equal everything spent capital region roads since beginning settlement huge capital expenditure provide movement transportation load within washington metropolitan area annual interest debt would buy new buses every year whole life metro roads started demands bicyclists overland travel done train look state see tangles thick black lines converging major cities old maps depict single road hardly form think routes town america wholly unclassifiable almost impassable scarcely jackassable folks said especially spring fall rains transformed simple dirt tracks heavy muck glue earth people braved roads train back roll harvest farms nearest grain elevator trip beyond went rail first bicycles enormous front tiny rear wheels saddles perched high feet ground steep downhills best rider could brace feet handlebars crashed bike stopped cold calamitous results big front wheel encountered obstacle least go flying right side local bicycle ships meetings national organization league american wheelmen always conversation cycling urgent need roads ride bicycling jarring experience even city streets paved cobblestone brick uneven granite block snarled carts buggies horsemen outside business districts roads dwindled little wagon ruts sprinkling rain could turn bogs mud lay deep loose could suck boots farmer feet prompting travelers quit established path open fields muddy roads swallowed horses flanks unfortunate buggy ventured lane soon flailed past axles ooze even hard packed roads mud formed dark rooster tails behind surreys spattered long skirts caked shoes american business conducted mud soiled suits law medicine church services mixed mud liberal helping manure city country alike dependent horse cyclists thus found hobby pleasant could league american wheelmen committed something magazine good roads became influential mouthpiece road improvement articles widely reprinted attracted members even bikes eventually subscribers good roads movement big politicians ignore demand roads pedal powered national cause even first practical american car rolled chicopee massachusetts shop months ahead duryea motor wagon debut congress authorized secretary agriculture make inquiry regarding public roads investigate might improved october agriculture secretary j sterling morton created office road inquiry appointed head one gen roy stone civil war veteran civil engineer vociferous good roads booster new york appointment sort circular affair lobbyist pushing government action winds leading stone considered settled americans worst roads civilized world condition crushing tax whole people tax intolerable yields revenue spending nothing bad roads cost spending money make better argued squandered productivity spoiled crops high food prices america first overland routes started game trails america principal overland routes descended prehistory started game trails commandeered native american hunting parties later widened wagon roads white settlers decades use cleared stumps least big ones much engineering remained work buffalo elk improving easy matter roads bare dirt scars flanked deep weedy ditches newer ones high crowns edges sloping downhill centers drain water long mashed concavity diabolically rutted highways dragged meaning rain neighboring landowner would hitch horse rig split logs pull ruts flatten rebuilding road consisted shoveling dirt sides middle tamping grading horse drawn blade cause local celebration first roads built also see modern concrete falling apart concentration heavy freight wagons horse trucks forced cities pave business districts stone used purpose far expensive rural roads built maintained county local governments little income could tax citizens much rains turned rural roads quagmires even best country road early twentieth century primitive common improvement simply grade dirt road surface attempt smooth bumps fill ruts step sand clay construction mix two soils would imported spread earthen bed result theory surface drained well traffic achieved smooth hardness also broke quickly heavy loads little better gravel road river rock broken stone spread graded bed held better dirt especially horse traffic dressed regularly keep gravel scattering stripped bare skinny tires higher speeds cars trucks popular solution dilemma macadam pre dated automobile nearly years noticed gravel highways become smooth durable lot traffic compressed stone unified interlocking mass smooth dirt bed covered ten inch layer stone broken especially purpose workers armed small hammers passed rock heavy horse drawn roller sharp edged stones knitted tight bond american road builders refined system spreading thick layer large broken stone onto graded earth rolling covering second layer much smaller stone rolling surface rock dust hosed water rolled third time water bound macadam called performed well normal loads low speeds keep dust workers topped thin layer asphalt black sticky molasses like petroleum goop coal derived tar also kept rock place roads today asphaltic concrete blend asphalt tar aggregate filler commonly broken rock gravel people eager switch horses cars trucks horses required stabling feed health care nationally amounted billion year much cost maintain america railroads feeding typical horse consumed five acres tillable land year devoted food people nation feed producing cropland could support millions people horses slow keep going fast long need frequent rest food water horses work seven times hard dirt road hard smooth rock surface asphalt brick offered even easier going eisenhower deserve credit interstate system full review energyskeptic related articles trillion infrastructure usa trillion transportation expressways interstates designed last years century concrete nothing rubble transportation long adapt fall net energy cliff diesel tractors trucks less gas cars book review prime movers globalization history impact diesel engines gas turbines james howard kunstler jan feb cargo karma got asked orion magazine book geography nowhere rise decline america man made landscape captures destruction architecture civic life small towns way life best wickedly funny well',\n",
       " 'following amma organization last years amma mecca sacrifice amma personally sets example selfless service working days year last years amma hands wiped tears millions nothing even day sleeps bare floor seen eyes amma shown ignorant real meaning human life real purpose human life realize god serving poor needy protecting nature forgiving others forgoing hatred exchanging gentle smile providing helping hand spreading positive energy love amma senior disciples stand towering pillars self sacrifice love compassion forgo sleep basic comforts toil selflessly betterment world set examples us follow humble shortened list amma charitable work basic needs million meals every year amma fighting hunger years amma main ashram branch centers embracing world feeds million poor people every year throughout india first six months indian ocean tsunami six million free meals disaster survivors well tons uncooked rice help survivors make ends meet regular distribute rice milk uncooked staple foods remote tribal communities receive aid organization along food distribution amma centers often provide free specialized medical services treatment medicines provided free charge centers throughout india welcome poor guests serve hot meals way volunteers also get know people problems need assistance helped financial aid medical care housing tutoring basic needs fighting hunger united states canada since amma feeding hungry people usa mother kitchen groups cities north america prepare cook serve meals homeless hungry groups also collect distribute clothing household items food staples communities need basic needs feeding hungry children amrita children home nairobi kenya provides three nutritious meals day needy children kids beneficiaries pay forward every sunday open doors kids neighboring villages healthy lunch kids help serve food clean afterwards amma seeks teach children value sharing caring importance personal hygiene basic needs special delivery amma center outside granollers spain volunteers go area supermarkets collect donations staple foods vegetables fruit bread cheese milk yogurt pay house calls families need leaving care package family every week since care packages help families make week time severe economic hardship nationwide basic needs since amma volunteers france growing organic food distributing area food banks serve hungry providing healthy organic produce homeless hungry people feel fulfilled also enjoy getting hands dirty deepening connection nature produce close ton organic produce year feeding homeless la carpio amma volunteers feeding homeless costa rica since volunteers head la carpio slum armed plates delicious vegetarian soup bread juice dessert volunteers purchase food prepare food hand reach people struggling alcohol drug addiction often tell eaten week remember anyone showing much love care volunteers say feel honored blessed able serve way also usually bring along student volunteers come privileged backgrounds order help understand value giving reaching need la cocina de amma amma volunteers cancun got started feeding poor august busy building special kitchen purpose first ever meal service served food people neighboring community hearing stories people came receive square meal inspired find serving people hard work improve lives lives entire community hope warm food received volunteers gives little bit strength carry fight poverty plan start serving people every month shelter amma believes responsibility us strive hard ensure one day every human live dignity safety security peace homes homeless responding cries help women spent entire nights mopping rainwater thatched huts amma initiated house building project goal building homes throughout india date homes built locations average six people living houses means helped quarter million people move streets inadequate shelters safety comfort home constructing houses embracing world works build entire communities complete town halls roads electricity wells sewage systems clean drinking water part response indian ocean tsunami homes also constructed sri lanka andaman island orphanage children amma running orphanage children paripally kerala years nourishing food loving care encouragement receive dedicated staff children gain confidence strength move forward life holidays many children visit amma ashram developed deep bond amma say feel mother children attend amrita sanskrit higher secondary school run amma ashram consistently win state level awards sanskrit music sports dance one three go earn college degrees mumbai pune maharashtra new lease life relocating slumdwellers clean new apartments amma believes durable sustainable developments apartment blocks former slum dwellers built last sites construction amma provided temporary housing slum dwelling families well medical camps counseling date successfully relocated families abysmal slums clean new apartment blocks could begin life anew sunny hygienic spaces proper plumbing water electricity amrita children home spread across acres banks athi river amrita watoto boma children home provides food english medium education healthcare loving environment present home children expand serve children january children also take weekly yoga classes taught creative arts sewing permaculture home run assistance four teachers two cooks gardener volunteers children selected neighboring villages site visits volunteers identify truly needy children whose parents guardians cannot afford provide basic needs school library kept open every saturday two hours children neighboring villages read enjoy collection books various topics ranging science geography philosophy world languages general knowledge health care world class healthcare everyone since opening doors aims bed tertiary care hospital kochi kerala provided million worth charitable medical care million patients received completely free treatment aims offers sophisticated compassionate care serene beautiful atmosphere recognized one premier hospitals south asia amma commitment serving poor attracted dedicated team highly qualified medical professionals around world free health camps every year everyone make trip hospital kochi every year aims conducts free health camps remote impoverished areas treatment medicines given free charge patients also screened serious diseases referred aims furthertreatment necessary alone aims performed free cataract surgeries patients free cleft palate surgeries poor patients first identified candidates treatment medical camps bringing healthcare doorstep communities need aims runs five satellite charitable hospitals three kerala one mysore one andaman islands hospitals serve populations would otherwise easy access quality healthcare treatment given free charge deep concern indigenous population doctors also make rounds remote tribal hamlets open doors lifeline stigmatized population thiruvananthapuram kerala amma runs community care center dedicated helping people living hiv aids nearby government clinic provides anti retroviral drugs allowing care center focus providing material psychological support people living hiv aids culture disease still carries strong negative stigma apart quality healthcare services include psychological social spiritual counseling group therapy home care educational support children people living hiv aids vocational training outpatient clinic open daily provides free medicines medical treatment poor particularly geared toward supporting patients hiv aids targeted public health initiatives troubled populations amma provides family oriented health education run rural urban health centers train government employed community health workers hundreds tribal villagers trained basic nursing enabling promote health hygiene villages amma also working increase awareness diabetes promote preventive measures providing free insulin poor patients distance barrier consultations specialists video conference aims operates mobile telemedicine unit size city bus brings sophisticated medical care remote areas mobile telemedicine unit sent bihar train assist flood relief operations november mobile unit used treat patients throughout india aims telemedicine center part india pan african telemedicine network telemedicine network aims offers specialized medical consultations care centers hospitals rural areas throughout africa india slumdwellers amma volunteers kenya organize regular medical camps doctors going impoverished aid offering site medical examinations treatment far held camps kibera slum machakos thika amrita children home patients already treated camps six medical camps held various locations kenya amrita children home machakos kibera slum thika attracting patients may collaboration greater lions club nairobi brought seven member medical team spain perform free cataract surgeries poor thika hospital outskirts nairobi house calls pain management since amma doctors provided loving medical care psychological support impoverished patients terminal diseases doctors visit patients homes supply drugs counsel families supervise nursing care patients treated annually free charge cancer hospice since cancer hospice mumbai providing free care spiritual solace patients suffering terminal cancer separately hospice alsoprovides free medicine rice food items poor books also regularly distributed impoverished children education past years amma working hard help ensure everyone wants go school opportunity wold wide children never set foot classroom throughout developing world going school rarely free students required pay transportation costs purchase uniforms textbooks notebooks pencils children cannot afford basic costs cannot attend school families struggle stay poverty line additional expense school becomes unlikely investment universal education proven effective means eliminating endemic poverty individual level shown sustainable escape poverty clutches research shown every year school increases individual wages percent gains even greater developing countries scholarships fighting farmer suicide keeping kids school recent years suicide spreading like epidemic among farmers india suffer debt crop failure often seeing hope future generations whole families commit suicide together providing scholarships children farmers living poverty line embracing world aims lay stronger economic foundation upon families base lives scholarships give children new options break cycle poverty give hope whole family thereby working prevent suicide cost seeds many farmers india greater harvest amma embracing world currently providing scholarships children goal reach children throughout india award winning adult education support government funding amma runs literacy vocational training programs serving poorest tribal communities kerala tamil nadu historically tribal population exploited merchants illiterate learned basic arithmetic providing adult education program aims help tribal population achieve fair trade opportunities courses various occupations offered special focus traditional art forms danger forgotten younger generation graduates receive assistance learning market distribute products suitable outlets embracing world project sivakasi tamil nadu unesco nlm national award effective efficient administrator adult education funds india afterschool tutoring little extra help tribal children slumdwellers tribal district idduki kerala amma established number afterschool centers complement regular schooling tribal children pune maharashtra amma runs afterschool program children slumdwellers children illiterate parents unable help study home dropout rates high afterschool centers given supplementary tutoring ensure get support need stay school amma also provide students notebooks pens necessary school supplies school hearing impaired let seen heard teaching hearing impaired children speak amrita speech hearing improvement school one schools kerala scientifically teaches hearing impaired children speak school curriculum structured enable children interact others confidently lead full productive life children attend school children percent pass rate secondary school leaving certificate exam well obtaining employment school differently abled amrita institute differently abled dedicated providing education differently abled children including syndrome epilepsy autism intellectual developmental disability amrita university higher learning purpose driven life amrita university emerged one fastest growing institutions higher learning india university offers undergraduate postgraduate doctoral programs engineering medicine biotechnology social work nanosciences student population university accredited national assessment accreditation council grade professors encouraged come lab deploy research make difference lives less fortunate university working partnership leading universities worldwide including stanford mit university tokyo livelihood empowering women jobs women never one amma provided economically vulnerable women throughout india vocational training start capital marketing assistance well access microcredit loans government regulated banks affordable insurance plans women use assets form self help groups share microsavings accounts start home based businesses many women first job ever financial aid life lifetime pensions widows people disabilities women poverty since amma provided monthly pensions widows women poverty project expanded benefit physically mentally challenged serves total beneficiaries ultimately amma provide monthly pensions impoverished men women children struggling make ends meet recognizing disability loss family member consign developing world lifetime hardship amma pensions expiration date given life kerala india traditional arts school preserving dying art form creating jobs kerala india industrial training center preparing young adults enter workforce founded industrial training center provides training teenagers different trades school strives build youths confidence giving sense self reliance enter work force confidence center graduation rate highly regarded employers indian ocean tsunami center opened doors free charge hundreds local youths order help rebuild lives disaster nairobi kenya vocational training center amma vocational training center attached amrita children home launched april built serve population nearby slum settlement jam city center run association cap youth empowerment institute using computers hands classroom sessions center trains unemployed adults fields ranging tailoring housekeeping carpentry plumbing electrical trades far enrolled students course completion rate percent graduates started theirown businesses another graduates found work existing companies earn month well poverty line team building leadership skills integral part vocational training programs beyond training course participants say center become like second home emergencies dual focus rapid response extensive long term rehabilitation amma embracing world developed reputation first scene last leave long spotlight faded away japan earthquake tsunami million education children orphaned japan haiti earthquake immediate long term aid catastrophic earthquake struck haiti january amma shipped palettes medical supplies haiti received partners health amma also distributed staple foods refugees ground identified children lost parents close relatives disaster forced drop school amma providing scholarships children back classroom south india karnataka andhra pradesh floods houses displaced refugees million relief package flood survivors states north india bihar floods one million people rendered homeless bihar kosi river flowed banks amma pledged relief amma medical teams remained ground two months treating people amma also distributed thousands tents blankets tarpaulins along cooking stoves vessels food clothing school supplies government official commented volunteers wonder even sleeping night thankful accepting appeal rushing help us time need united states hurricane katrina million bush clinton katrina relief fund volunteers visited relief sites provided medical care emotional support amma also helped displaced locate one another via dedicated website built survivors december amma donated million bush clinton katrina fund south asia indian ocean tsunami million aid package tsunami survivors relief rehabilitation work conducted embracing world wake indian ocean tsunami stands today one multi faceted comprehensive sustained disaster relief projects ever undertaken nongovernmental organization made amma work unique holistic nature every aspect tsunami survivors lives considered improved end many survivors stated terms quality life economic independence better tragedy north india gujarat earthquake three villages rebuilt ground gujarat suffered devastating earthquake people lost lives amma dispatched disaster relief team doctors two ambulances student volunteers amrita university ultimately adopted three entire villages rebuilding homes ground well community centers church mosque temple million medical aid flood survivors mumbai torrential floods displaced millions especially slumdwellers whose makeshift houses washed away immediately provided food blankets refugees medical teams treated patients distributed million medicines medical aid cyclone refugees west bengal may cyclone aila hit west bengal bangladesh leaving people dead one million homeless medical camps ran days doctors treating approximately people dispensing usd worth free medicine amma volunteers also distributed approximately articles clothing blankets served free meals gave away two tons rice environment trees planted worldwide home community gardens project preserving heritage seeds grassroots approach fostering healthy lifestyle reducing reusing recycling project zero waste approach top bottom clean india beautiful india nationwide public health initiative environmental awareness campaign indeed campaign nature embracing world indeed campaign nature online framework built volunteers support people world putting amma practical suggestions way might use earth remaining resources way interact natural world practice lives communities far already garnered commitments make difference nature amma also offers workshops courses world topics like tree planting organic gardening beekeeping wildlife preservation sustainable communities throughout world embracing world main centers working become local models sustainable living several projects events formally recognized unesco part un decade education sustainable development centers host workshops sustainable living permaculture beekeeping conservation techniques residents visitors incorporate lessons learned daily life experiencinglive examples communities harmony nature visitors centers get inspired implement similar techniques homes eco building techniques used whenever possible centers employ rainwater harvesting produce food organic farms gardens orchards make organic fruit vegetables available local communities encouraging sustainability principles institutions amma volunteers sowing seeds better future research human computer interaction everyone pushing technology envelope embrace poor haptic technology provides tactile feedback electronic devices primarily used video game controllers mobile devices haptics also instrumental medical flight simulations embracing world researchers amrita university ammachi labs began asking question could haptic technology used fight poverty today ammachi labs using haptic technology augmented multimedia virtual reality bring vocational training life enrichment education remotest corners south india providing women underprivileged populations powerful new tools increase earning power gain voice families communities education everywhere virtual laboratories level playing field help bridge gap educational institutions afford high budget physical laboratories limited resources embracing world researchers amrita university developing virtual laboratories state art computer simulation technology virtual labs simulate real world scientific laboratory environments help eliminate logistical handicaps serve obstacles higher education poor researchers also built deployed cutting edge distance learning platform used raise india standard education nationwide large scale teacher training programs online classrooms enable top tier professors reach teach students remote areas limited budget amma devotees also working design accessible affordable educational technologies deployed primary secondary schools throughout india february amma launched initiative promote cultivation organic food kerala india distributed free seeds women grow organic vegetables feed families total acres land earmarked project also arranging training demonstration classes organic farmers wireless network landslide detection solving problems new applications wireless connectivity embracing world researchers amrita university center wireless networks applications deployed world first ever wireless sensor network system landslide detection munnar kerala area prone fatal landslides system uses wireless sensor technology provide advance warning impending landslide allowing early evacuation disaster management center also innovating wireless technology develop low cost approaches healthcare',\n",
       " 'judge dale hoax books articles fraudulently attributed judge dale also hoaxes including great american adventure shown people behind judge dale hoax already admitted online legal author pretends judge dale actually rodney dale class amateur legal theorist barely high school education never judge anywhere anytime online author non legal articles fraudulently attributed judge dale called dinar forgeries different fraudulent impersonator likewise never judge either despite never going college law school despite never actually becoming real lawyer real judge rodney dale class simply made entire amateur belief system law legal system presumes teach hundreds devoted amateur legal theorists rodney dale class amateur belief system law legal system separate version history separate version constitution separate version law applies apply legal effect separate legal definitions separate conclusions rodney dale class expert amateur belief system problem amateur belief system law real amateur belief system real legal system thing indeed polar opposites one another rodney dale class lost every single case ever involved despite false claims contrary amateur legal theories simply irrelevant inapplicable single one rodney dale class amateur legal theoriesor self glorifying war stories withstand even slightest amount factual legal verification contrary verifiably false falsity rodney dale class claims concern despite willing participant rodney dale class driving force behind judge dale hoax quarrel instead dispute people behind judge dale hoax people actually behind judge dale hoax professional hoaxers nothing create fake documents specialty use exclusively perpetuation online hoaxes particular case decided create entire hoax centered around rodney dale class amateur belief system law legal system decided peddle hoax series fake documents actually created specialty fraudulently told american people written retired federal judge named judge dale using rodney dale class middle name dale inside joke among fake documents people fraudulently told american people written fake retired federal judge include lawfully matrix us constitution great american adventure secrets america forgery depicted surprisingly people peddle judge dale forgeries personal websites almost legal dinar articles appear online fraudulently attributed fake judge dale actually mere prints section forgery entitled great american adventure depicted different names ex retired federal judge spills beans legal advice retired federal judge turned whistle blower etc rodney dale class lack education poor writing skills people behind judge dale hoax forced completely organize completely write scratch rodney dale class writings fraudulently attribute judge dale online order make look might actually written retired federal judge regard people jokingly refer judge dale editors editors indeed sense judge dale forgeries one author also sense one person fraudulently impersonating federal officer namely retired federal judge connection judge dale hoax result people behind judge dale hoax may placed rodney dale class precarious legal position getting pretend retired federal judge truth matter conspiracies real like federal reserve system example need professional hoaxers like behind judge dale hoax manufacture fake conspiracies sell american people order distract indeed fake conspiracies like judge dale hoax take collective eye american people real problems focusing benefit behind real conspiracies fake conspiracies like judge dale hoax result american people wasting time resources things simply real end result fake conspiracies like judge dale hoax real conspiracies go unopposed benefit behind real conspiracies people behind judge dale hoax nothing hatred contempt american people people lie respect people lie respect lying american people law legal system act treason treated accordingly reach whatever conclusion wish reach law legal system absolute right american law legal system fair game critism base conclusion pathetic internet hoax like judge dale hoax vicious attack american people google judge dale hoax footnotes dispute two different factions people firmly behind judge dale hoax one important webmaster affiliate published distributed judge dale forgeries believed people actually created judge dale hoax stepped toes retaliation publically banned judge dale forgeries posted website still satisfied later decided actually use fake name judge dale peddling online forgeries non legal subjects like dinar currency revaluation reset knew people behind judge dale hoax could complain done without revealing role judge dale hoax two different types judge dale forgeries posted online easy tell two fake judge dale real author particular online article online articles dinars currency revaluation reset appear written intelligent articulate educated literate author written rodney dale class online articles amateur belief system law legal system appear written high school student edited high school students written rodney dale class either way judge dale hoax either way judge dale books articles hoaxes either way rodney dale class namesake judge dales perhaps famous outrageous lie rodney dale class charlatans write ever told american one begins headline goes something like bombshell rod class obtains fourth administrative ruling proves governments government agencies private entities fact private profit corporations rod class forced courts admit blah blah blah rod class finally proved many us long suspected local state federal governments agencies private profit corporations blah blah blah way rodney dale class charlatans write get away pathetic lies american people bother look court rulings leaves vulnerable false claims self appointed pseudo legal gurus intentionally misrepresent law serve agenda expense american people truth claim follows rodney dale class filed two lawsuits cases rodney dale class sued legitimate governmental agencies private corporations case like cases rodney dale class files lost cases explaining rodney dale class lost judge opinion referred private corporation class sued private entity corporate appellees importantly neither judge referred governmental agencies rodney dale class sued private entities corporate appellees lying american people two losses court rodney dale class fraudulently told american people judges referring private corporation sued private entities corporate appellees judges instead referring government agencies sued thus rodney dale class fraudulently swithced judges characterization private corporations sued legitimate governmental agencies sued case order reach desired conclusion governments government agencies private entities fact private profit corporations rodney dale class charlatans write knew american people would bother look cases discover switch rulings cases people behind judge dale hoax behind number online hoaxes people peddle jim traficant speech hoax replaced real words speech jim traficant made house march words conform amateur belief system peddle fake written version speech official government document people behind nasa war document hoax forgery fake nasa letterhead every page reveals nasa kill us forgery claim found nasa website pdf metadata actually proves typed scratch two years later extensively revised forgery archives org actually proves never nasa website first place people also behind iron mountain report hoax report reveals government manipulate kill us report actually copyrighted book fiction published new york times best seller list report people peddle leaked government document people behind silent weapons quiet wars hoax forgery reveals quietly killed technology forgery people claim found used government photocopy machine sale used government office equipment prior yeah right suffice say people behind judge dale hoax professional hoaxers nothing hatred contempt american people']"
      ]
     },
     "execution_count": 62,
     "metadata": {},
     "output_type": "execute_result"
    }
   ],
   "source": [
    "df.loc[df.punctuation >= 1000].Text.tolist()"
   ]
  },
  {
   "cell_type": "code",
   "execution_count": 63,
   "metadata": {
    "colab": {
     "base_uri": "https://localhost:8080/",
     "height": 988
    },
    "id": "7LjnxDCtxuQB",
    "outputId": "9cc0b834-9130-419a-ae35-47d8a2997da7"
   },
   "outputs": [
    {
     "data": {
      "text/plain": [
       "book          118979\n",
       "read           40852\n",
       "one            32877\n",
       "great          26205\n",
       "like           23475\n",
       "story          22990\n",
       "good           22393\n",
       "would          20526\n",
       "love           19214\n",
       "well           18314\n",
       "books          17444\n",
       "time           17340\n",
       "life           15956\n",
       "really         15895\n",
       "much           14804\n",
       "reading        14596\n",
       "many           14198\n",
       "also           14191\n",
       "first          13383\n",
       "author         13162\n",
       "get            12933\n",
       "even           12428\n",
       "way            12361\n",
       "people         11637\n",
       "new            11448\n",
       "know           10535\n",
       "characters     10077\n",
       "could           9946\n",
       "series          9518\n",
       "make            9495\n",
       "written         9470\n",
       "world           9289\n",
       "recommend       9089\n",
       "little          8978\n",
       "think           8842\n",
       "find            8824\n",
       "work            8653\n",
       "us              8632\n",
       "see             8393\n",
       "years           7951\n",
       "found           7878\n",
       "two             7797\n",
       "want            7631\n",
       "easy            7572\n",
       "loved           7467\n",
       "back            7404\n",
       "things          7375\n",
       "never           7296\n",
       "every           7163\n",
       "best            6967\n",
       "dtype: int64"
      ]
     },
     "execution_count": 63,
     "metadata": {},
     "output_type": "execute_result"
    }
   ],
   "source": [
    "freq = pd.Series(' '.join(df['Text']).split()).value_counts()[:50]\n",
    "freq"
   ]
  },
  {
   "cell_type": "markdown",
   "metadata": {
    "id": "1IsIT-gjJHC-"
   },
   "source": [
    "**Now, let's save this clened processed data as CSV file** "
   ]
  },
  {
   "cell_type": "code",
   "execution_count": 64,
   "metadata": {
    "id": "W33GaarNHljs"
   },
   "outputs": [],
   "source": [
    "df.to_csv('output/Amazon_reviews_processed_1.csv', index=False)"
   ]
  }
 ],
 "metadata": {
  "colab": {
   "collapsed_sections": [
    "UQ67amRYamFu",
    "n0s4Y9KmaqvA",
    "PsQrL9pYcaCD",
    "oRuQsr1jcpyd",
    "dvQHrvdARMMK",
    "wVqAJNvIUF9I"
   ],
   "name": "1_Data_cleaning_and_feature_extraction.ipynb",
   "provenance": []
  },
  "kernelspec": {
   "display_name": "Python 3 (ipykernel)",
   "language": "python",
   "name": "python3"
  },
  "language_info": {
   "codemirror_mode": {
    "name": "ipython",
    "version": 3
   },
   "file_extension": ".py",
   "mimetype": "text/x-python",
   "name": "python",
   "nbconvert_exporter": "python",
   "pygments_lexer": "ipython3",
   "version": "3.9.12"
  }
 },
 "nbformat": 4,
 "nbformat_minor": 1
}
