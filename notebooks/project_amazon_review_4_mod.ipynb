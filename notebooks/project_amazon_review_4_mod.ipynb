{
 "cells": [
  {
   "cell_type": "markdown",
   "metadata": {
    "id": "Mw4uZNMcgu1P"
   },
   "source": [
    "### **In this study, I will apply Text Cleaning on Amazon Reviews **"
   ]
  },
  {
   "cell_type": "markdown",
   "metadata": {
    "id": "MtIB4ZeYg8Ry"
   },
   "source": [
    "\n",
    "\n",
    "---\n",
    "\n",
    "\n",
    "\n",
    "---\n",
    "\n"
   ]
  },
  {
   "cell_type": "code",
   "execution_count": 1,
   "metadata": {
    "id": "N3atGC5iSK7L"
   },
   "outputs": [
    {
     "name": "stdout",
     "output_type": "stream",
     "text": [
      "Requirement already satisfied: emot in c:\\users\\yogesh\\anaconda3\\lib\\site-packages (3.1)\n",
      "Requirement already satisfied: emoji in c:\\users\\yogesh\\anaconda3\\lib\\site-packages (2.1.0)\n",
      "Requirement already satisfied: contractions in c:\\users\\yogesh\\anaconda3\\lib\\site-packages (0.1.72)\n",
      "Requirement already satisfied: textsearch>=0.0.21 in c:\\users\\yogesh\\anaconda3\\lib\\site-packages (from contractions) (0.0.24)\n",
      "Requirement already satisfied: anyascii in c:\\users\\yogesh\\anaconda3\\lib\\site-packages (from textsearch>=0.0.21->contractions) (0.3.1)\n",
      "Requirement already satisfied: pyahocorasick in c:\\users\\yogesh\\anaconda3\\lib\\site-packages (from textsearch>=0.0.21->contractions) (1.4.4)\n"
     ]
    },
    {
     "name": "stderr",
     "output_type": "stream",
     "text": [
      "[nltk_data] Downloading package stopwords to\n",
      "[nltk_data]     C:\\Users\\Yogesh\\AppData\\Roaming\\nltk_data...\n",
      "[nltk_data]   Package stopwords is already up-to-date!\n",
      "[nltk_data] Downloading package wordnet to\n",
      "[nltk_data]     C:\\Users\\Yogesh\\AppData\\Roaming\\nltk_data...\n",
      "[nltk_data]   Package wordnet is already up-to-date!\n",
      "[nltk_data] Downloading package omw-1.4 to\n",
      "[nltk_data]     C:\\Users\\Yogesh\\AppData\\Roaming\\nltk_data...\n",
      "[nltk_data]   Package omw-1.4 is already up-to-date!\n",
      "[nltk_data] Downloading package averaged_perceptron_tagger to\n",
      "[nltk_data]     C:\\Users\\Yogesh\\AppData\\Roaming\\nltk_data...\n",
      "[nltk_data]   Package averaged_perceptron_tagger is already up-to-\n",
      "[nltk_data]       date!\n"
     ]
    },
    {
     "name": "stdout",
     "output_type": "stream",
     "text": [
      "Requirement already satisfied: pyspellchecker in c:\\users\\yogesh\\anaconda3\\lib\\site-packages (0.7.0)\n"
     ]
    }
   ],
   "source": [
    "import pandas as pd\n",
    "import numpy as np\n",
    "import re\n",
    "import string\n",
    "!pip install emot --upgrade\n",
    "import emot\n",
    "!pip install emoji --upgrade\n",
    "import emoji\n",
    "from bs4 import BeautifulSoup\n",
    "!pip install contractions --upgrade\n",
    "import contractions\n",
    "import nltk\n",
    "nltk.download('stopwords')\n",
    "from nltk.corpus import stopwords\n",
    "from collections import Counter\n",
    "from nltk.stem.porter import PorterStemmer\n",
    "from nltk.stem import WordNetLemmatizer\n",
    "nltk.download('wordnet')\n",
    "nltk.download('omw-1.4')\n",
    "nltk.download('averaged_perceptron_tagger')\n",
    "from nltk.corpus import wordnet\n",
    "!pip install pyspellchecker --upgrade\n",
    "from spellchecker import SpellChecker"
   ]
  },
  {
   "cell_type": "code",
   "execution_count": 2,
   "metadata": {
    "colab": {
     "base_uri": "https://localhost:8080/",
     "height": 206
    },
    "id": "iuSRbmjVSLeF",
    "outputId": "218ad7b1-182e-4d98-e113-a4ef2a5d5928"
   },
   "outputs": [
    {
     "data": {
      "text/html": [
       "<div>\n",
       "<style scoped>\n",
       "    .dataframe tbody tr th:only-of-type {\n",
       "        vertical-align: middle;\n",
       "    }\n",
       "\n",
       "    .dataframe tbody tr th {\n",
       "        vertical-align: top;\n",
       "    }\n",
       "\n",
       "    .dataframe thead th {\n",
       "        text-align: right;\n",
       "    }\n",
       "</style>\n",
       "<table border=\"1\" class=\"dataframe\">\n",
       "  <thead>\n",
       "    <tr style=\"text-align: right;\">\n",
       "      <th></th>\n",
       "      <th>review_id</th>\n",
       "      <th>star_rating</th>\n",
       "      <th>review_date</th>\n",
       "      <th>review</th>\n",
       "      <th>sentiment_score</th>\n",
       "      <th>review_category</th>\n",
       "    </tr>\n",
       "  </thead>\n",
       "  <tbody>\n",
       "    <tr>\n",
       "      <th>0</th>\n",
       "      <td>RZGFXZ2HYHHRA</td>\n",
       "      <td>5</td>\n",
       "      <td>2015-05-02</td>\n",
       "      <td>CHOOSE  THE RIGHT  COLORING PENCILS This is th...</td>\n",
       "      <td>positive</td>\n",
       "      <td>product</td>\n",
       "    </tr>\n",
       "    <tr>\n",
       "      <th>1</th>\n",
       "      <td>R2I37K23W0YCC9</td>\n",
       "      <td>5</td>\n",
       "      <td>2014-11-02</td>\n",
       "      <td>Great Taste, A Little Complicated I'll start b...</td>\n",
       "      <td>positive</td>\n",
       "      <td>product</td>\n",
       "    </tr>\n",
       "    <tr>\n",
       "      <th>2</th>\n",
       "      <td>RPMW8FVG5H0ZW</td>\n",
       "      <td>5</td>\n",
       "      <td>2012-10-26</td>\n",
       "      <td>Beyond Science and Religion...Endorsement and ...</td>\n",
       "      <td>positive</td>\n",
       "      <td>product</td>\n",
       "    </tr>\n",
       "    <tr>\n",
       "      <th>3</th>\n",
       "      <td>R35SXKTW1A8AWO</td>\n",
       "      <td>5</td>\n",
       "      <td>2014-04-24</td>\n",
       "      <td>A truly unique work for this generation EDIT: ...</td>\n",
       "      <td>positive</td>\n",
       "      <td>product</td>\n",
       "    </tr>\n",
       "    <tr>\n",
       "      <th>4</th>\n",
       "      <td>R1KA9YCQ31E3C0</td>\n",
       "      <td>5</td>\n",
       "      <td>2013-08-14</td>\n",
       "      <td>Stop kissing frogs 🐸 🐸 🐸 🐸 I've been trying Pa...</td>\n",
       "      <td>positive</td>\n",
       "      <td>product</td>\n",
       "    </tr>\n",
       "  </tbody>\n",
       "</table>\n",
       "</div>"
      ],
      "text/plain": [
       "        review_id  star_rating review_date  \\\n",
       "0   RZGFXZ2HYHHRA            5  2015-05-02   \n",
       "1  R2I37K23W0YCC9            5  2014-11-02   \n",
       "2   RPMW8FVG5H0ZW            5  2012-10-26   \n",
       "3  R35SXKTW1A8AWO            5  2014-04-24   \n",
       "4  R1KA9YCQ31E3C0            5  2013-08-14   \n",
       "\n",
       "                                              review sentiment_score  \\\n",
       "0  CHOOSE  THE RIGHT  COLORING PENCILS This is th...        positive   \n",
       "1  Great Taste, A Little Complicated I'll start b...        positive   \n",
       "2  Beyond Science and Religion...Endorsement and ...        positive   \n",
       "3  A truly unique work for this generation EDIT: ...        positive   \n",
       "4  Stop kissing frogs 🐸 🐸 🐸 🐸 I've been trying Pa...        positive   \n",
       "\n",
       "  review_category  \n",
       "0         product  \n",
       "1         product  \n",
       "2         product  \n",
       "3         product  \n",
       "4         product  "
      ]
     },
     "execution_count": 2,
     "metadata": {},
     "output_type": "execute_result"
    }
   ],
   "source": [
    "df = pd.read_csv('output/Amazon_reviews_processed_2.csv')\n",
    "df.head()"
   ]
  },
  {
   "cell_type": "code",
   "execution_count": 3,
   "metadata": {},
   "outputs": [
    {
     "name": "stdout",
     "output_type": "stream",
     "text": [
      "<class 'pandas.core.frame.DataFrame'>\n",
      "RangeIndex: 582135 entries, 0 to 582134\n",
      "Data columns (total 4 columns):\n",
      " #   Column           Non-Null Count   Dtype \n",
      "---  ------           --------------   ----- \n",
      " 0   star_rating      582135 non-null  int64 \n",
      " 1   review           582135 non-null  object\n",
      " 2   sentiment_score  582135 non-null  object\n",
      " 3   review_category  582135 non-null  object\n",
      "dtypes: int64(1), object(3)\n",
      "memory usage: 17.8+ MB\n"
     ]
    }
   ],
   "source": [
    "cols = ['review_id',  'review_date',]\n",
    "df.drop(cols, axis=1, inplace=True)\n",
    "df.info()"
   ]
  },
  {
   "cell_type": "code",
   "execution_count": 4,
   "metadata": {},
   "outputs": [
    {
     "data": {
      "text/plain": [
       "'Stop kissing frogs 🐸 🐸 🐸 🐸 I\\'ve been trying Paleo/grain-free cookbooks since I first discovered this healthy way of eating earlier this year. . .and I\\'ve kissed a lot of frogs.<br /><br />One sold here on Amazon [[ASIN:0578116405 Satisfying Eats: Grain Free, Sugar Free & Hunger Free Cookbook]] has a strange warm-and-fuzzy cult following and an undeserved rating (from her groupies, I think) that I fell for.  First I bought the Kindle edition (for my iPad) that was so full of quirks and glitches that it was practically useless, so I ordered the hard copy only to learn that it (1st edition) was LOADED with mistakes.  The author posted an errata on her website that was just as confusing as the mistakes in the cookbook.  I should have sent it back. The few things I did make from the cookbook where an utter disaster, especially the bread/muffin/cookie things.<br /><br />I also got the Wheat Belly Cookbook that\\'s loaded with truly awful recipes, including the basic bread recipe that went directly into the trash after cutting the first slice.  I sent this one back [[ASIN:1936608863 Make it Paleo: Over 200 Grain Free Recipes For Any Occasion]] because it was nothing special and hopelessly repetitive.<br /><br />However, I\\'ve finally found my prince.  This cookbook is a gem.  The author\\'s \\\\\\\\\"World-Famous Sandwich Bread\\\\\\\\\" is the new benchmark for all grain-free everyday sandwich loaves - it\\'s as close to wheat flour bread as any I\\'ve tasted.  And I could happily live the rest of my life eating only \\\\\\\\\"Slow Cooker Sesame-Orange Chicken\\\\\\\\\" over \\\\\\\\\"Coconut-Lime Rice\\\\\\\\\" (cauliflower rice like no other - you\\'ll be fooled).  Best of all, the Kindle version on my iPad works perfectly - no quirks or glitches.  Every recipe has a picture, and even the index has a thumbnail picture of every single recipe.<br /><br />If you get only one Paleo cookbook, make it this one.<br /><br />PS -- A tip from me for a better-looking loaf of the \\\\\\\\\"World-Famous Sandwich Bread\\\\\\\\\" ==> [[ASIN:B0017Z0EW6 Fat Daddio\\'s Anodized Aluminum Bread Pan, 7.75 Inch x 3.75 Inch x 2.75 Inch]] is the PERFECT pan to bake the bread in - you\\'ll get small square slices, instead of wide/shallow rectangular slices.  Be sure to get the 7.75-inch x 3.75-inch x 2.75-inch size.7.75 Inch x 3.75 Inch x 2.75 Inch]] is the PERFECT pan to bake the bread in - you\\'ll get small square slices, instead of wide/shallow rectangular slices.  Be sure to get the 7.75-inch x 3.75-inch x 2.75-inch size.'"
      ]
     },
     "execution_count": 4,
     "metadata": {},
     "output_type": "execute_result"
    }
   ],
   "source": [
    "text = df.review[4]\n",
    "text"
   ]
  },
  {
   "cell_type": "markdown",
   "metadata": {},
   "source": [
    "-------------"
   ]
  },
  {
   "cell_type": "markdown",
   "metadata": {},
   "source": [
    "# **Text cleaning techniques** "
   ]
  },
  {
   "cell_type": "markdown",
   "metadata": {},
   "source": [
    "#### Parsing html to Text - removes URLS, HTML elements, tags"
   ]
  },
  {
   "cell_type": "code",
   "execution_count": 5,
   "metadata": {},
   "outputs": [
    {
     "data": {
      "text/plain": [
       "'Stop kissing frogs 🐸 🐸 🐸 🐸 I\\'ve been trying Paleo/grain-free cookbooks since I first discovered this healthy way of eating earlier this year. . .and I\\'ve kissed a lot of frogs.One sold here on Amazon [[ASIN:0578116405 Satisfying Eats: Grain Free, Sugar Free & Hunger Free Cookbook]] has a strange warm-and-fuzzy cult following and an undeserved rating (from her groupies, I think) that I fell for.  First I bought the Kindle edition (for my iPad) that was so full of quirks and glitches that it was practically useless, so I ordered the hard copy only to learn that it (1st edition) was LOADED with mistakes.  The author posted an errata on her website that was just as confusing as the mistakes in the cookbook.  I should have sent it back. The few things I did make from the cookbook where an utter disaster, especially the bread/muffin/cookie things.I also got the Wheat Belly Cookbook that\\'s loaded with truly awful recipes, including the basic bread recipe that went directly into the trash after cutting the first slice.  I sent this one back [[ASIN:1936608863 Make it Paleo: Over 200 Grain Free Recipes For Any Occasion]] because it was nothing special and hopelessly repetitive.However, I\\'ve finally found my prince.  This cookbook is a gem.  The author\\'s \\\\\\\\\"World-Famous Sandwich Bread\\\\\\\\\" is the new benchmark for all grain-free everyday sandwich loaves - it\\'s as close to wheat flour bread as any I\\'ve tasted.  And I could happily live the rest of my life eating only \\\\\\\\\"Slow Cooker Sesame-Orange Chicken\\\\\\\\\" over \\\\\\\\\"Coconut-Lime Rice\\\\\\\\\" (cauliflower rice like no other - you\\'ll be fooled).  Best of all, the Kindle version on my iPad works perfectly - no quirks or glitches.  Every recipe has a picture, and even the index has a thumbnail picture of every single recipe.If you get only one Paleo cookbook, make it this one.PS -- A tip from me for a better-looking loaf of the \\\\\\\\\"World-Famous Sandwich Bread\\\\\\\\\" ==> [[ASIN:B0017Z0EW6 Fat Daddio\\'s Anodized Aluminum Bread Pan, 7.75 Inch x 3.75 Inch x 2.75 Inch]] is the PERFECT pan to bake the bread in - you\\'ll get small square slices, instead of wide/shallow rectangular slices.  Be sure to get the 7.75-inch x 3.75-inch x 2.75-inch size.7.75 Inch x 3.75 Inch x 2.75 Inch]] is the PERFECT pan to bake the bread in - you\\'ll get small square slices, instead of wide/shallow rectangular slices.  Be sure to get the 7.75-inch x 3.75-inch x 2.75-inch size.'"
      ]
     },
     "execution_count": 5,
     "metadata": {},
     "output_type": "execute_result"
    }
   ],
   "source": [
    "soup = BeautifulSoup(text, 'html.parser')\n",
    "text=soup.get_text()\n",
    "text"
   ]
  },
  {
   "cell_type": "markdown",
   "metadata": {},
   "source": [
    "#### Converting Emojis and Emoticons\n",
    "***What is the difference between emoji and emoticons?***\n",
    "\n",
    "*   :-) is an emoticon\n",
    "*   😜 → emoji."
   ]
  },
  {
   "cell_type": "code",
   "execution_count": 6,
   "metadata": {},
   "outputs": [
    {
     "data": {
      "text/plain": [
       "'Stop kissing frogs frog frog frog frog I\\'ve been trying Paleo/grain-free cookbooks since I first discovered this healthy way of eating earlier this year. . .and I\\'ve kissed a lot of frogs.One sold here on Amazon [[ASIN:0578116405 Satisfying Eats: Grain Free, Sugar Free & Hunger Free Cookbook]] has a strange warm-and-fuzzy cult following and an undeserved rating (from her groupies, I think) that I fell for.  First I bought the Kindle edition (for my iPad) that was so full of quirks and glitches that it was practically useless, so I ordered the hard copy only to learn that it (1st edition) was LOADED with mistakes.  The author posted an errata on her website that was just as confusing as the mistakes in the cookbook.  I should have sent it back. The few things I did make from the cookbook where an utter disaster, especially the bread/muffin/cookie things.I also got the Wheat Belly Cookbook that\\'s loaded with truly awful recipes, including the basic bread recipe that went directly into the trash after cutting the first slice.  I sent this one back [[ASIN:1936608863 Make it Paleo: Over 200 Grain Free Recipes For Any Occasion]] because it was nothing special and hopelessly repetitive.However, I\\'ve finally found my prince.  This cookbook is a gem.  The author\\'s \\\\\\\\\"World-Famous Sandwich Bread\\\\\\\\\" is the new benchmark for all grain-free everyday sandwich loaves - it\\'s as close to wheat flour bread as any I\\'ve tasted.  And I could happily live the rest of my life eating only \\\\\\\\\"Slow Cooker Sesame-Orange Chicken\\\\\\\\\" over \\\\\\\\\"Coconut-Lime Rice\\\\\\\\\" (cauliflower rice like no other - you\\'ll be fooled).  Best of all, the Kindle version on my iPad works perfectly - no quirks or glitches.  Every recipe has a picture, and even the index has a thumbnail picture of every single recipe.If you get only one Paleo cookbook, make it this one.PS -- A tip from me for a better-looking loaf of the \\\\\\\\\"World-Famous Sandwich Bread\\\\\\\\\" ==> [[ASIN:B0017Z0EW6 Fat Daddio\\'s Anodized Aluminum Bread Pan, 7.75 Inch x 3.75 Inch x 2.75 Inch]] is the PERFECT pan to bake the bread in - you\\'ll get small square slices, instead of wide/shallow rectangular slices.  Be sure to get the 7.75-inch x 3.75-inch x 2.75-inch size.7.75 Inch x 3.75 Inch x 2.75 Inch]] is the PERFECT pan to bake the bread in - you\\'ll get small square slices, instead of wide/shallow rectangular slices.  Be sure to get the 7.75-inch x 3.75-inch x 2.75-inch size.'"
      ]
     },
     "execution_count": 6,
     "metadata": {},
     "output_type": "execute_result"
    }
   ],
   "source": [
    "# converting emoji to text using emoji package\n",
    "text =emoji.demojize(text, delimiters=(\"\", \"\"))\n",
    "text"
   ]
  },
  {
   "cell_type": "code",
   "execution_count": 7,
   "metadata": {},
   "outputs": [
    {
     "data": {
      "text/plain": [
       "'Stop kissing frogs frog frog frog frog I\\'ve been trying Paleo/grain-free cookbooks since I first discovered this healthy way of eating earlier this year. . .and I\\'ve kissed a lot of frogs.One sold here on Amazon [[ASIN:0578116405 Satisfying Eats: Grain Free, Sugar Free & Hunger Free Cookbook]] has a strange warm-and-fuzzy cult following and an undeserved rating (from her groupies, I think) that I fell for. First I bought the Kindle edition (for my iPad) that was so full of quirks and glitches that it was practically useless, so I ordered the hard copy only to learn that it (1st edition) was LOADED with mistakes. The author posted an errata on her website that was just as confusing as the mistakes in the cookbook. I should have sent it back. The few things I did make from the cookbook where an utter disaster, especially the bread/muffin/cookie things.I also got the Wheat Belly Cookbook that\\'s loaded with truly awful recipes, including the basic bread recipe that went directly into the trash after cutting the first slice. I sent this one back [[ASIN:1936608863 Make it Paleo: Over 200 Grain Free Recipes For Any Occasion]] because it was nothing special and hopelessly repetitive.However, I\\'ve finally found my prince. This cookbook is a gem. The author\\'s \\\\\\\\\"World-Famous Sandwich Bread\\\\\\\\\" is the new benchmark for all grain-free everyday sandwich loaves - it\\'s as close to wheat flour bread as any I\\'ve tasted. And I could happily live the rest of my life eating only \\\\\\\\\"Slow Cooker Sesame-Orange Chicken\\\\\\\\\" over \\\\\\\\\"Coconut-Lime Rice\\\\\\\\\" (cauliflower rice like no other - you\\'ll be fooled). Best of all, the Kindle version on my iPad works perfectly - no quirks or glitches. Every recipe has a picture, and even the index has a thumbnail picture of every single recipe.If you get only one Paleo cookbook, make it this one.PS -- A tip from me for a better-looking loaf of the \\\\\\\\\"World-Famous Sandwich Bread\\\\\\\\\" ==> [[ASIN:B0017Z0EW6 Fat Daddio\\'s Anodized Aluminum Bread Pan, 7.75 Inch x 3.75 Inch x 2.75 Inch]] is the PERFECT pan to bake the bread in - you\\'ll get small square slices, instead of wide/shallow rectangular slices. Be sure to get the 7.75-inch x 3.75-inch x 2.75-inch size.7.75 Inch x 3.75 Inch x 2.75 Inch]] is the PERFECT pan to bake the bread in - you\\'ll get small square slices, instead of wide/shallow rectangular slices. Be sure to get the 7.75-inch x 3.75-inch x 2.75-inch size. '"
      ]
     },
     "execution_count": 7,
     "metadata": {},
     "output_type": "execute_result"
    }
   ],
   "source": [
    "# converting emoticon to text using emot package\n",
    "def emoticon_to_text(text):\n",
    "  res=\"\"\n",
    "  emot_obj = emot.core.emot()\n",
    "  for word in text.split():\n",
    "    emoticons_dict=emot_obj.emoticons(word)\n",
    "    if emoticons_dict['flag']:\n",
    "      mean=emoticons_dict['mean'][0].split()\n",
    "      word=\"_\".join(mean)\n",
    "    res=res+word+\" \"\n",
    "  return res\n",
    "\n",
    "text=emoticon_to_text(text)\n",
    "text"
   ]
  },
  {
   "cell_type": "markdown",
   "metadata": {},
   "source": [
    "#### Removing Contractions\n",
    "There are so many contractions in the text we type so to expand them we will use the contractions library.\n",
    "\n",
    "For example, the text “I’ll eat pizza” and if we remove the punctuations them the text will look like this “I ll will eat pizza”. Here, “I ll” doesn’t hold any information to the text that’s why we use the contraction."
   ]
  },
  {
   "cell_type": "code",
   "execution_count": 8,
   "metadata": {},
   "outputs": [
    {
     "data": {
      "text/plain": [
       "'Stop kissing frogs frog frog frog frog I have been trying Paleo/grain-free cookbooks since I first discovered this healthy way of eating earlier this year. . .and I have kissed a lot of frogs.One sold here on Amazon [[ASIN:0578116405 Satisfying Eats: Grain Free, Sugar Free & Hunger Free Cookbook]] has a strange warm-and-fuzzy cult following and an undeserved rating (from her groupies, I think) that I fell for. First I bought the Kindle edition (for my iPad) that was so full of quirks and glitches that it was practically useless, so I ordered the hard copy only to learn that it (1st edition) was LOADED with mistakes. The author posted an errata on her website that was just as confusing as the mistakes in the cookbook. I should have sent it back. The few things I did make from the cookbook where an utter disaster, especially the bread/muffin/cookie things.I also got the Wheat Belly Cookbook that is loaded with truly awful recipes, including the basic bread recipe that went directly into the trash after cutting the first slice. I sent this one back [[ASIN:1936608863 Make it Paleo: Over 200 Grain Free Recipes For Any Occasion]] because it was nothing special and hopelessly repetitive.However, I have finally found my prince. This cookbook is a gem. The author\\'s \\\\\\\\\"World-Famous Sandwich Bread\\\\\\\\\" is the new benchmark for all grain-free everyday sandwich loaves - it is as close to wheat flour bread as any I have tasted. And I could happily live the rest of my life eating only \\\\\\\\\"Slow Cooker Sesame-Orange Chicken\\\\\\\\\" over \\\\\\\\\"Coconut-Lime Rice\\\\\\\\\" (cauliflower rice like no other - you will be fooled). Best of all, the Kindle version on my iPad works perfectly - no quirks or glitches. Every recipe has a picture, and even the index has a thumbnail picture of every single recipe.If you get only one Paleo cookbook, make it this one.PS -- A tip from me for a better-looking loaf of the \\\\\\\\\"World-Famous Sandwich Bread\\\\\\\\\" ==> [[ASIN:B0017Z0EW6 Fat Daddio\\'s Anodized Aluminum Bread Pan, 7.75 Inch x 3.75 Inch x 2.75 Inch]] is the PERFECT pan to bake the bread in - you will get small square slices, instead of wide/shallow rectangular slices. Be sure to get the 7.75-inch x 3.75-inch x 2.75-inch size.7.75 Inch x 3.75 Inch x 2.75 Inch]] is the PERFECT pan to bake the bread in - you will get small square slices, instead of wide/shallow rectangular slices. Be sure to get the 7.75-inch x 3.75-inch x 2.75-inch size. '"
      ]
     },
     "execution_count": 8,
     "metadata": {},
     "output_type": "execute_result"
    }
   ],
   "source": [
    "text = contractions.fix(text)\n",
    "text"
   ]
  },
  {
   "cell_type": "markdown",
   "metadata": {},
   "source": [
    "#### Lower Casing the Data\n",
    "From the first glance we just lower case the data. The idea is to convert the input text into the same casing format so that it converts ‘DATA’, ’Data’, ‘DaTa’, ‘DATa’ into ‘data’."
   ]
  },
  {
   "cell_type": "code",
   "execution_count": 9,
   "metadata": {},
   "outputs": [
    {
     "data": {
      "text/plain": [
       "'stop kissing frogs frog frog frog frog i have been trying paleo/grain-free cookbooks since i first discovered this healthy way of eating earlier this year. . .and i have kissed a lot of frogs.one sold here on amazon [[asin:0578116405 satisfying eats: grain free, sugar free & hunger free cookbook]] has a strange warm-and-fuzzy cult following and an undeserved rating (from her groupies, i think) that i fell for. first i bought the kindle edition (for my ipad) that was so full of quirks and glitches that it was practically useless, so i ordered the hard copy only to learn that it (1st edition) was loaded with mistakes. the author posted an errata on her website that was just as confusing as the mistakes in the cookbook. i should have sent it back. the few things i did make from the cookbook where an utter disaster, especially the bread/muffin/cookie things.i also got the wheat belly cookbook that is loaded with truly awful recipes, including the basic bread recipe that went directly into the trash after cutting the first slice. i sent this one back [[asin:1936608863 make it paleo: over 200 grain free recipes for any occasion]] because it was nothing special and hopelessly repetitive.however, i have finally found my prince. this cookbook is a gem. the author\\'s \\\\\\\\\"world-famous sandwich bread\\\\\\\\\" is the new benchmark for all grain-free everyday sandwich loaves - it is as close to wheat flour bread as any i have tasted. and i could happily live the rest of my life eating only \\\\\\\\\"slow cooker sesame-orange chicken\\\\\\\\\" over \\\\\\\\\"coconut-lime rice\\\\\\\\\" (cauliflower rice like no other - you will be fooled). best of all, the kindle version on my ipad works perfectly - no quirks or glitches. every recipe has a picture, and even the index has a thumbnail picture of every single recipe.if you get only one paleo cookbook, make it this one.ps -- a tip from me for a better-looking loaf of the \\\\\\\\\"world-famous sandwich bread\\\\\\\\\" ==> [[asin:b0017z0ew6 fat daddio\\'s anodized aluminum bread pan, 7.75 inch x 3.75 inch x 2.75 inch]] is the perfect pan to bake the bread in - you will get small square slices, instead of wide/shallow rectangular slices. be sure to get the 7.75-inch x 3.75-inch x 2.75-inch size.7.75 inch x 3.75 inch x 2.75 inch]] is the perfect pan to bake the bread in - you will get small square slices, instead of wide/shallow rectangular slices. be sure to get the 7.75-inch x 3.75-inch x 2.75-inch size. '"
      ]
     },
     "execution_count": 9,
     "metadata": {},
     "output_type": "execute_result"
    }
   ],
   "source": [
    "text=text.lower()\n",
    "text"
   ]
  },
  {
   "cell_type": "markdown",
   "metadata": {},
   "source": [
    "#### remove text in square brackets, "
   ]
  },
  {
   "cell_type": "code",
   "execution_count": 10,
   "metadata": {},
   "outputs": [],
   "source": [
    "# reference https://stackoverflow.com/a/14603508\n",
    "def remove_text_inside_brackets(text, brackets=\"()[]\"):\n",
    "    count = [0] * (len(brackets) // 2) # count open/close brackets\n",
    "    saved_chars = []\n",
    "    for character in text:\n",
    "        for i, b in enumerate(brackets):\n",
    "            if character == b: # found bracket\n",
    "                kind, is_close = divmod(i, 2)\n",
    "                count[kind] += (-1)**is_close # `+1`: open, `-1`: close\n",
    "                if count[kind] < 0: # unbalanced bracket\n",
    "                    count[kind] = 0  # keep it\n",
    "                else:  # found bracket to remove\n",
    "                    break\n",
    "        else: # character is not a [balanced] bracket\n",
    "            if not any(count): # outside brackets\n",
    "                saved_chars.append(character)\n",
    "    return ''.join(saved_chars)"
   ]
  },
  {
   "cell_type": "code",
   "execution_count": 11,
   "metadata": {},
   "outputs": [
    {
     "data": {
      "text/plain": [
       "'stop kissing frogs frog frog frog frog i have been trying paleo/grain-free cookbooks since i first discovered this healthy way of eating earlier this year. . .and i have kissed a lot of frogs.one sold here on amazon  has a strange warm-and-fuzzy cult following and an undeserved rating  that i fell for. first i bought the kindle edition  that was so full of quirks and glitches that it was practically useless, so i ordered the hard copy only to learn that it  was loaded with mistakes. the author posted an errata on her website that was just as confusing as the mistakes in the cookbook. i should have sent it back. the few things i did make from the cookbook where an utter disaster, especially the bread/muffin/cookie things.i also got the wheat belly cookbook that is loaded with truly awful recipes, including the basic bread recipe that went directly into the trash after cutting the first slice. i sent this one back  because it was nothing special and hopelessly repetitive.however, i have finally found my prince. this cookbook is a gem. the author\\'s \\\\\\\\\"world-famous sandwich bread\\\\\\\\\" is the new benchmark for all grain-free everyday sandwich loaves - it is as close to wheat flour bread as any i have tasted. and i could happily live the rest of my life eating only \\\\\\\\\"slow cooker sesame-orange chicken\\\\\\\\\" over \\\\\\\\\"coconut-lime rice\\\\\\\\\" . best of all, the kindle version on my ipad works perfectly - no quirks or glitches. every recipe has a picture, and even the index has a thumbnail picture of every single recipe.if you get only one paleo cookbook, make it this one.ps -- a tip from me for a better-looking loaf of the \\\\\\\\\"world-famous sandwich bread\\\\\\\\\" ==>  is the perfect pan to bake the bread in - you will get small square slices, instead of wide/shallow rectangular slices. be sure to get the 7.75-inch x 3.75-inch x 2.75-inch size.7.75 inch x 3.75 inch x 2.75 inch]] is the perfect pan to bake the bread in - you will get small square slices, instead of wide/shallow rectangular slices. be sure to get the 7.75-inch x 3.75-inch x 2.75-inch size. '"
      ]
     },
     "execution_count": 11,
     "metadata": {},
     "output_type": "execute_result"
    }
   ],
   "source": [
    "text = remove_text_inside_brackets(text)\n",
    "text"
   ]
  },
  {
   "cell_type": "markdown",
   "metadata": {},
   "source": [
    "#### Removing Punctuations and Numbers\n",
    "The second most common text processing technique is removing punctuations from the textual data. The punctuation removal process will help to treat each text equally. For example, the word data and data! are treated equally after the process of removal of punctuations. <br> <br>\n",
    "string.punctuation in python contains these symbols !\"#$%&\\'()*+,-./:;?@[\\\\]^_{|}~`"
   ]
  },
  {
   "cell_type": "code",
   "execution_count": 12,
   "metadata": {},
   "outputs": [
    {
     "data": {
      "text/plain": [
       "'stop kissing frogs frog frog frog frog i have been trying paleo grain free cookbooks since i first discovered this healthy way of eating earlier this year     and i have kissed a lot of frogs one sold here on amazon  has a strange warm and fuzzy cult following and an undeserved rating  that i fell for  first i bought the kindle edition  that was so full of quirks and glitches that it was practically useless  so i ordered the hard copy only to learn that it  was loaded with mistakes  the author posted an errata on her website that was just as confusing as the mistakes in the cookbook  i should have sent it back  the few things i did make from the cookbook where an utter disaster  especially the bread muffin cookie things i also got the wheat belly cookbook that is loaded with truly awful recipes  including the basic bread recipe that went directly into the trash after cutting the first slice  i sent this one back  because it was nothing special and hopelessly repetitive however  i have finally found my prince  this cookbook is a gem  the author s    world famous sandwich bread    is the new benchmark for all grain free everyday sandwich loaves   it is as close to wheat flour bread as any i have tasted  and i could happily live the rest of my life eating only    slow cooker sesame orange chicken    over    coconut lime rice      best of all  the kindle version on my ipad works perfectly   no quirks or glitches  every recipe has a picture  and even the index has a thumbnail picture of every single recipe if you get only one paleo cookbook  make it this one ps    a tip from me for a better looking loaf of the    world famous sandwich bread         is the perfect pan to bake the bread in   you will get small square slices  instead of wide shallow rectangular slices  be sure to get the      inch x      inch x      inch size      inch x      inch x      inch   is the perfect pan to bake the bread in   you will get small square slices  instead of wide shallow rectangular slices  be sure to get the      inch x      inch x      inch size  '"
      ]
     },
     "execution_count": 12,
     "metadata": {},
     "output_type": "execute_result"
    }
   ],
   "source": [
    "# text=\"\".join([i if i not in string.punctuation else \" \" for i in text ])\n",
    "\n",
    "# Remove punctuations and numbers\n",
    "text = re.sub('[^a-zA-Z]', ' ', text)\n",
    "text"
   ]
  },
  {
   "cell_type": "markdown",
   "metadata": {},
   "source": [
    "#### Spelling Correction\n",
    "One another important text preprocessing step is spelling correction. Typos are common in text data and we might want to correct those spelling mistakes before we do our analysis.<br>\n",
    "\n",
    "If we are interested in wrinting a spell corrector of our own, we can probably start with famous code from Peter Norvig.<br>\n",
    "\n",
    "In this notebook, let us use the python package pyspellchecker for our spelling correction.<br>"
   ]
  },
  {
   "cell_type": "code",
   "execution_count": 13,
   "metadata": {},
   "outputs": [],
   "source": [
    "def correct_spellings(text):\n",
    "  spell = SpellChecker()\n",
    "  corrected_text = []\n",
    "  misspelled_words = spell.unknown(text.split())\n",
    "  for word in text.split():\n",
    "      if word in misspelled_words:\n",
    "          corrected_text.append(spell.correction(word))\n",
    "      else:\n",
    "          corrected_text.append(word)\n",
    "  return \" \".join(corrected_text)"
   ]
  },
  {
   "cell_type": "code",
   "execution_count": 14,
   "metadata": {},
   "outputs": [
    {
     "data": {
      "text/plain": [
       "'thanks for reading the notebook'"
      ]
     },
     "execution_count": 14,
     "metadata": {},
     "output_type": "execute_result"
    }
   ],
   "source": [
    "sen = \"thnks for readin the notebook\"\n",
    "sen =correct_spellings(sen)\n",
    "sen"
   ]
  },
  {
   "cell_type": "code",
   "execution_count": 15,
   "metadata": {},
   "outputs": [
    {
     "data": {
      "text/plain": [
       "'stop kissing frogs frog frog frog frog i have been trying paleo grain free cookbooks since i first discovered this healthy way of eating earlier this year and i have kissed a lot of frogs one sold here on amazon has a strange warm and fuzzy cult following and an undeserved rating that i fell for first i bought the kindle edition that was so full of quirks and glitches that it was practically useless so i ordered the hard copy only to learn that it was loaded with mistakes the author posted an errand on her website that was just as confusing as the mistakes in the cookbook i should have sent it back the few things i did make from the cookbook where an utter disaster especially the bread muffin cookie things i also got the wheat belly cookbook that is loaded with truly awful recipes including the basic bread recipe that went directly into the trash after cutting the first slice i sent this one back because it was nothing special and hopelessly repetitive however i have finally found my prince this cookbook is a gem the author i world famous sandwich bread is the new benchmark for all grain free everyday sandwich loaves it is as close to wheat flour bread as any i have tasted and i could happily live the rest of my life eating only slow cooker sesame orange chicken over coconut lime rice best of all the kindle version on my ipad works perfectly no quirks or glitches every recipe has a picture and even the index has a thumbnail picture of every single recipe if you get only one paleo cookbook make it this one is a tip from me for a better looking loaf of the world famous sandwich bread is the perfect pan to bake the bread in you will get small square slices instead of wide shallow rectangular slices be sure to get the inch i inch i inch size inch i inch i inch is the perfect pan to bake the bread in you will get small square slices instead of wide shallow rectangular slices be sure to get the inch i inch i inch size'"
      ]
     },
     "execution_count": 15,
     "metadata": {},
     "output_type": "execute_result"
    }
   ],
   "source": [
    "text = correct_spellings(text)\n",
    "text"
   ]
  },
  {
   "cell_type": "markdown",
   "metadata": {},
   "source": [
    "#### Removal of Stop Words"
   ]
  },
  {
   "cell_type": "code",
   "execution_count": 16,
   "metadata": {},
   "outputs": [
    {
     "data": {
      "text/plain": [
       "'stop kissing frogs frog frog frog frog trying paleo grain free cookbooks since first discovered healthy way eating earlier year kissed lot frogs one sold amazon strange warm fuzzy cult following undeserved rating fell first bought kindle edition full quirks glitches practically useless ordered hard copy learn loaded mistakes author posted errand website confusing mistakes cookbook sent back things make cookbook utter disaster especially bread muffin cookie things also got wheat belly cookbook loaded truly awful recipes including basic bread recipe went directly trash cutting first slice sent one back nothing special hopelessly repetitive however finally found prince cookbook gem author world famous sandwich bread new benchmark grain free everyday sandwich loaves close wheat flour bread tasted could happily live rest life eating slow cooker sesame orange chicken coconut lime rice best kindle version ipad works perfectly quirks glitches every recipe picture even index thumbnail picture every single recipe get one paleo cookbook make one tip better looking loaf world famous sandwich bread perfect pan bake bread get small square slices instead wide shallow rectangular slices sure get inch inch inch size inch inch inch perfect pan bake bread get small square slices instead wide shallow rectangular slices sure get inch inch inch size'"
      ]
     },
     "execution_count": 16,
     "metadata": {},
     "output_type": "execute_result"
    }
   ],
   "source": [
    "def stop_words_remover(text):\n",
    "  stop = stopwords.words('english')\n",
    "  return \" \".join(x for x in text.split() if x not in stop)\n",
    "\n",
    "text = stop_words_remover(text)\n",
    "text"
   ]
  },
  {
   "cell_type": "code",
   "execution_count": 17,
   "metadata": {},
   "outputs": [
    {
     "data": {
      "text/plain": [
       "'stop kissing frogs frog frog frog frog trying paleo grain free cookbooks since first discovered healthy way eating earlier year kissed lot frogs one sold amazon strange warm fuzzy cult following undeserved rating fell first bought kindle edition full quirks glitches practically useless ordered hard copy learn loaded mistakes author posted errand website confusing mistakes cookbook sent back things make cookbook utter disaster especially bread muffin cookie things also got wheat belly cookbook loaded truly awful recipes including basic bread recipe went directly trash cutting first slice sent one back nothing special hopelessly repetitive however finally found prince cookbook gem author world famous sandwich bread new benchmark grain free everyday sandwich loaves close wheat flour bread tasted could happily live rest life eating slow cooker sesame orange chicken coconut lime rice best kindle version ipad works perfectly quirks glitches every recipe picture even index thumbnail picture every single recipe get one paleo cookbook make one tip better looking loaf world famous sandwich bread perfect pan bake bread get small square slices instead wide shallow rectangular slices sure get inch inch inch size inch inch inch perfect pan bake bread get small square slices instead wide shallow rectangular slices sure get inch inch inch size'"
      ]
     },
     "execution_count": 17,
     "metadata": {},
     "output_type": "execute_result"
    }
   ],
   "source": [
    "# Single character removal\n",
    "text = re.sub(r\"\\s+[a-zA-Z]\\s+\", '', text)\n",
    "\n",
    "# Removing multiple spaces\n",
    "# text = re.sub(r'\\s+', ' ', sentence)\n",
    "text"
   ]
  },
  {
   "cell_type": "markdown",
   "metadata": {},
   "source": [
    "#### Removal of Frequent words\n",
    "In the previos preprocessing step, we removed the stopwords based on language information. But say, if we have a domain specific corpus, we might also have some frequent words which are of not so much importance to us.<br>\n",
    "\n",
    "So this step is to remove the frequent words in the given corpus. If we use something like tfidf, this is automatically taken care of.<br>\n",
    "\n",
    "Let us get the most common words and then remove them <br>"
   ]
  },
  {
   "cell_type": "code",
   "execution_count": 18,
   "metadata": {},
   "outputs": [
    {
     "data": {
      "text/plain": [
       "'stop kissing frogs trying paleo grain free cookbooks since discovered healthy way eating earlier year kissed lot frogs sold amazon strange warm fuzzy cult following undeserved rating fell bought kindle edition full quirks glitches practically useless ordered hard copy learn loaded mistakes author posted errand website confusing mistakes sent back things make utter disaster especially muffin cookie things also got wheat belly loaded truly awful recipes including basic went directly trash cutting slice sent back nothing special hopelessly repetitive however finally found prince gem author world famous new benchmark grain free everyday loaves close wheat flour tasted could happily live rest life eating slow cooker sesame orange chicken coconut lime rice best kindle version ipad works perfectly quirks glitches every picture even index thumbnail picture every single paleo make tip better looking loaf world famous perfect pan bake small square instead wide shallow rectangular sure size perfect pan bake small square instead wide shallow rectangular sure size'"
      ]
     },
     "execution_count": 18,
     "metadata": {},
     "output_type": "execute_result"
    }
   ],
   "source": [
    "def remove_freqwords(text):\n",
    "  cnt = Counter()\n",
    "  for word in text.split():\n",
    "    cnt[word] += 1\n",
    "  cnt.most_common(10)\n",
    "  FREQWORDS = set([w for (w, wc) in cnt.most_common(10)])\n",
    "  return \" \".join([word for word in str(text).split() if word not in FREQWORDS])\n",
    "\n",
    "text = remove_freqwords(text)\n",
    "text"
   ]
  },
  {
   "cell_type": "markdown",
   "metadata": {},
   "source": [
    "#### Removal of Rare words\n",
    "This is very similar to previous preprocessing step but we will remove the rare words from the corpus."
   ]
  },
  {
   "cell_type": "code",
   "execution_count": 19,
   "metadata": {},
   "outputs": [
    {
     "data": {
      "text/plain": [
       "'stop kissing frogs trying paleo grain free cookbooks since discovered healthy way eating earlier year kissed lot frogs sold amazon strange warm fuzzy cult following undeserved rating fell bought kindle edition full quirks glitches practically useless ordered hard copy learn loaded mistakes author posted errand website confusing mistakes sent back things make utter disaster especially muffin cookie things also got wheat belly loaded truly awful recipes including basic went directly trash cutting slice sent back nothing special hopelessly repetitive however finally found prince gem author world famous new benchmark grain free everyday loaves close wheat flour tasted could happily live rest life eating slow cooker sesame orange chicken coconut lime rice best kindle version ipad works perfectly quirks glitches every picture even index thumbnail picture every single paleo make tip better looking loaf world famous perfect pan bake small square instead wide shallow rectangular sure size perfect pan bake small square instead wide shallow rectangular sure size'"
      ]
     },
     "execution_count": 19,
     "metadata": {},
     "output_type": "execute_result"
    }
   ],
   "source": [
    "def remove_rarewords(text):\n",
    "    cnt = Counter()\n",
    "    n_rare_words = 10\n",
    "    RAREWORDS = set([w for (w, wc) in cnt.most_common()[:-n_rare_words-1:-1]])\n",
    "    return \" \".join([word for word in str(text).split() if word not in RAREWORDS])\n",
    "\n",
    "text= remove_rarewords(text)\n",
    "text"
   ]
  },
  {
   "cell_type": "markdown",
   "metadata": {},
   "source": [
    "#### Lemmatization & Stemming"
   ]
  },
  {
   "cell_type": "markdown",
   "metadata": {},
   "source": [
    "##### Stemming\n",
    "Stemming is the process of reducing inflected (or sometimes derived) words to their word stem, base or root form (From Wikipedia)<br>\n",
    "\n",
    "For example, if there are two words in the corpus walks and walking, then stemming will stem the suffix to make them walk. But say in another example, we have two words console and consoling, the stemmer will remove the suffix and make them consol which is not a proper english word.<br>\n",
    "\n",
    "There are several type of stemming algorithms available and one of the famous one is porter stemmer which is widely used. We can use nltk package for the same.<br>"
   ]
  },
  {
   "cell_type": "code",
   "execution_count": 20,
   "metadata": {},
   "outputs": [
    {
     "name": "stdout",
     "output_type": "stream",
     "text": [
      "stop kiss frog tri paleo grain free cookbook sinc discov healthi way eat earlier year kiss lot frog sold amazon strang warm fuzzi cult follow undeserv rate fell bought kindl edit full quirk glitch practic useless order hard copi learn load mistak author post errand websit confus mistak sent back thing make utter disast especi muffin cooki thing also got wheat belli load truli aw recip includ basic went directli trash cut slice sent back noth special hopelessli repetit howev final found princ gem author world famou new benchmark grain free everyday loav close wheat flour tast could happili live rest life eat slow cooker sesam orang chicken coconut lime rice best kindl version ipad work perfectli quirk glitch everi pictur even index thumbnail pictur everi singl paleo make tip better look loaf world famou perfect pan bake small squar instead wide shallow rectangular sure size perfect pan bake small squar instead wide shallow rectangular sure size\n"
     ]
    }
   ],
   "source": [
    "stemmer = PorterStemmer()\n",
    "\n",
    "def stem_words(text):\n",
    "    return \" \".join([stemmer.stem(word) for word in text.split()])\n",
    "\n",
    "print(stem_words(text))"
   ]
  },
  {
   "cell_type": "markdown",
   "metadata": {},
   "source": [
    "We can see that words like trying and since have tranformed to root words due to stemming. This is not intented. What can we do fort hat? We can use Lemmatization in such cases."
   ]
  },
  {
   "cell_type": "markdown",
   "metadata": {},
   "source": [
    "##### Lemmatization\n",
    "Lemmatization is similar to stemming in reducing inflected words to their word stem but differs in the way that it makes sure the root word (also called as lemma) belongs to the language.<br>\n",
    "\n",
    "As a result, this one is generally slower than stemming process. So depending on the speed requirement, we can choose to use either stemming or lemmatization.<br>\n",
    "\n",
    "Let us use the WordNetLemmatizer in nltk to lemmatize our sentences.<br>\n",
    "\n",
    "lemmatization process depends on the POS tag to come up with the correct lemma.So we also need to provide the POS tag of the word along with the word for lemmatizer in nltk. Depending on the POS, the lemmatizer may return different results.<br>\n",
    "\n",
    "Let us take the example, stripes and check the lemma when it is both verb and noun.<br>"
   ]
  },
  {
   "cell_type": "code",
   "execution_count": 21,
   "metadata": {},
   "outputs": [
    {
     "name": "stdout",
     "output_type": "stream",
     "text": [
      "Word is : running\n",
      "stemmer result :  run\n",
      "Lemma result :  running\n",
      "Lemma result for verb :  run\n",
      "Lemma result for noun :  running\n"
     ]
    }
   ],
   "source": [
    "lemmatizer = WordNetLemmatizer()\n",
    "\n",
    "print(\"Word is : running\")\n",
    "print(\"stemmer result : \",stemmer.stem(\"running\"))\n",
    "print(\"Lemma result : \",lemmatizer.lemmatize(\"running\"))\n",
    "print(\"Lemma result for verb : \",lemmatizer.lemmatize(\"running\", 'v'))\n",
    "print(\"Lemma result for noun : \",lemmatizer.lemmatize(\"running\", 'n'))"
   ]
  },
  {
   "cell_type": "code",
   "execution_count": 22,
   "metadata": {},
   "outputs": [
    {
     "data": {
      "text/plain": [
       "'stop kiss frog try paleo grain free cookbook since discover healthy way eat early year kiss lot frog sell amazon strange warm fuzzy cult follow undeserved rating fell bought kindle edition full quirk glitch practically useless order hard copy learn load mistake author post errand website confuse mistake send back thing make utter disaster especially muffin cookie thing also get wheat belly load truly awful recipe include basic go directly trash cut slice send back nothing special hopelessly repetitive however finally find prince gem author world famous new benchmark grain free everyday loaves close wheat flour taste could happily live rest life eat slow cooker sesame orange chicken coconut lime rice best kindle version ipad work perfectly quirks glitch every picture even index thumbnail picture every single paleo make tip well look loaf world famous perfect pan bake small square instead wide shallow rectangular sure size perfect pan bake small square instead wide shallow rectangular sure size'"
      ]
     },
     "execution_count": 22,
     "metadata": {},
     "output_type": "execute_result"
    }
   ],
   "source": [
    "def lemmatize_words(text):\n",
    "    wordnet_map = {\"N\":wordnet.NOUN, \"V\":wordnet.VERB, \"J\":wordnet.ADJ, \"R\":wordnet.ADV}\n",
    "    pos_tagged_text = nltk.pos_tag(text.split())\n",
    "    return \" \".join([lemmatizer.lemmatize(word, wordnet_map.get(pos[0], wordnet.NOUN)) for word, pos in pos_tagged_text])\n",
    "\n",
    "text= lemmatize_words(text)\n",
    "text"
   ]
  },
  {
   "cell_type": "code",
   "execution_count": 23,
   "metadata": {},
   "outputs": [],
   "source": [
    "def apply_all_text_cleaners(text):\n",
    "    text = BeautifulSoup(text, 'html.parser').get_text() #parse html\n",
    "    text = emoji.demojize(text, delimiters=(\"\", \"\")) # emoji to text\n",
    "    text = emoticon_to_text(text) #emoticons to text\n",
    "    text = contractions.fix(text) # replace contractions: i'll to i will\n",
    "    text = text.lower() # normalising text to lower case\n",
    "    text = remove_text_inside_brackets(text) \n",
    "    text = re.sub('[^a-zA-Z]', ' ', text) # Removing Punctuations and Numbers\n",
    "    text = stop_words_remover(text)\n",
    "    text = re.sub(r\"\\s+[a-zA-Z]\\s+\", '', text) # Single character removal\n",
    "    text = remove_freqwords(text)\n",
    "    text= remove_rarewords(text)\n",
    "    text= lemmatize_words(text)\n",
    "    return text\n"
   ]
  },
  {
   "cell_type": "code",
   "execution_count": 24,
   "metadata": {},
   "outputs": [],
   "source": [
    "test = 'Stop kissing frogs 🐸 🐸 🐸 🐸 I\\'ve been trying Paleo/grain-free cookbooks since I first discovered this healthy way of eating earlier this year. . .and I\\'ve kissed a lot of frogs.<br /><br />One sold here on Amazon [[ASIN:0578116405 Satisfying Eats: Grain Free, Sugar Free & Hunger Free Cookbook]] has a strange warm-and-fuzzy cult following and an undeserved rating (from her groupies, I think) that I fell for.  First I bought the Kindle edition (for my iPad) that was so full of quirks and glitches that it was practically useless, so I ordered the hard copy only to learn that it (1st edition) was LOADED with mistakes.  The author posted an errata on her website that was just as confusing as the mistakes in the cookbook.  I should have sent it back. The few things I did make from the cookbook where an utter disaster, especially the bread/muffin/cookie things.<br /><br />I also got the Wheat Belly Cookbook that\\'s loaded with truly awful recipes, including the basic bread recipe that went directly into the trash after cutting the first slice.  I sent this one back [[ASIN:1936608863 Make it Paleo: Over 200 Grain Free Recipes For Any Occasion]] because it was nothing special and hopelessly repetitive.<br /><br />However, I\\'ve finally found my prince.  This cookbook is a gem.  The author\\'s \\\\\\\\\"World-Famous Sandwich Bread\\\\\\\\\" is the new benchmark for all grain-free everyday sandwich loaves - it\\'s as close to wheat flour bread as any I\\'ve tasted.  And I could happily live the rest of my life eating only \\\\\\\\\"Slow Cooker Sesame-Orange Chicken\\\\\\\\\" over \\\\\\\\\"Coconut-Lime Rice\\\\\\\\\" (cauliflower rice like no other - you\\'ll be fooled).  Best of all, the Kindle version on my iPad works perfectly - no quirks or glitches.  Every recipe has a picture, and even the index has a thumbnail picture of every single recipe.<br /><br />If you get only one Paleo cookbook, make it this one.<br /><br />PS -- A tip from me for a better-looking loaf of the \\\\\\\\\"World-Famous Sandwich Bread\\\\\\\\\" ==> [[ASIN:B0017Z0EW6 Fat Daddio\\'s Anodized Aluminum Bread Pan, 7.75 Inch x 3.75 Inch x 2.75 Inch]] is the PERFECT pan to bake the bread in - you\\'ll get small square slices, instead of wide/shallow rectangular slices.  Be sure to get the 7.75-inch x 3.75-inch x 2.75-inch size.7.75 Inch x 3.75 Inch x 2.75 Inch]] is the PERFECT pan to bake the bread in - you\\'ll get small square slices, instead of wide/shallow rectangular slices.  Be sure to get the 7.75-inch x 3.75-inch x 2.75-inch size.'"
   ]
  },
  {
   "cell_type": "code",
   "execution_count": 25,
   "metadata": {},
   "outputs": [
    {
     "data": {
      "text/plain": [
       "'stop kiss frog try paleo grain free cookbook since discover healthy way eat early year kiss lot frog sell amazon strange warm fuzzy cult follow undeserved rating fell bought kindle edition full quirk glitch practically useless order hard copy learn load mistake author post errata website confuse mistake send back thing make utter disaster especially muffin cookie thing also get wheat belly load truly awful recipe include basic go directly trash cut slice send back nothing special hopelessly repetitive however finally find prince gem author world famous new benchmark grain free everyday loaves close wheat flour taste could happily live rest life eat slow cooker sesame orange chicken coconut lime rice best kindle version ipad work perfectly quirks glitch every picture even index thumbnail picture every single paleo make p tip well look loaf world famous perfect pan bake small square instead wide shallow rectangular sure size perfect pan bake small square instead wide shallow rectangular sure size'"
      ]
     },
     "execution_count": 25,
     "metadata": {},
     "output_type": "execute_result"
    }
   ],
   "source": [
    "test = apply_all_text_cleaners(test)\n",
    "test"
   ]
  },
  {
   "cell_type": "code",
   "execution_count": 26,
   "metadata": {},
   "outputs": [
    {
     "name": "stdout",
     "output_type": "stream",
     "text": [
      "False\n"
     ]
    }
   ],
   "source": [
    "print(text==test)"
   ]
  },
  {
   "cell_type": "code",
   "execution_count": 27,
   "metadata": {},
   "outputs": [
    {
     "name": "stderr",
     "output_type": "stream",
     "text": [
      "C:\\Users\\Yogesh\\anaconda3\\lib\\site-packages\\bs4\\__init__.py:435: MarkupResemblesLocatorWarning: The input looks more like a filename than markup. You may want to open this file and pass the filehandle into Beautiful Soup.\n",
      "  warnings.warn(\n"
     ]
    }
   ],
   "source": [
    "df['Text'] = df['review'].apply(lambda x: apply_all_text_cleaners(x))"
   ]
  },
  {
   "cell_type": "code",
   "execution_count": 29,
   "metadata": {},
   "outputs": [],
   "source": [
    "df.to_csv('output/Amazon_reviews_cleaned.csv', index=False)"
   ]
  },
  {
   "cell_type": "code",
   "execution_count": 30,
   "metadata": {},
   "outputs": [
    {
     "data": {
      "text/html": [
       "<div>\n",
       "<style scoped>\n",
       "    .dataframe tbody tr th:only-of-type {\n",
       "        vertical-align: middle;\n",
       "    }\n",
       "\n",
       "    .dataframe tbody tr th {\n",
       "        vertical-align: top;\n",
       "    }\n",
       "\n",
       "    .dataframe thead th {\n",
       "        text-align: right;\n",
       "    }\n",
       "</style>\n",
       "<table border=\"1\" class=\"dataframe\">\n",
       "  <thead>\n",
       "    <tr style=\"text-align: right;\">\n",
       "      <th></th>\n",
       "      <th>star_rating</th>\n",
       "      <th>review</th>\n",
       "      <th>sentiment_score</th>\n",
       "      <th>review_category</th>\n",
       "      <th>Text</th>\n",
       "    </tr>\n",
       "  </thead>\n",
       "  <tbody>\n",
       "    <tr>\n",
       "      <th>0</th>\n",
       "      <td>5</td>\n",
       "      <td>CHOOSE  THE RIGHT  COLORING PENCILS This is th...</td>\n",
       "      <td>positive</td>\n",
       "      <td>product</td>\n",
       "      <td>choose right list item use beautiful intricate...</td>\n",
       "    </tr>\n",
       "    <tr>\n",
       "      <th>1</th>\n",
       "      <td>5</td>\n",
       "      <td>Great Taste, A Little Complicated I'll start b...</td>\n",
       "      <td>positive</td>\n",
       "      <td>product</td>\n",
       "      <td>great taste start say book amazing world good ...</td>\n",
       "    </tr>\n",
       "    <tr>\n",
       "      <th>2</th>\n",
       "      <td>5</td>\n",
       "      <td>Beyond Science and Religion...Endorsement and ...</td>\n",
       "      <td>positive</td>\n",
       "      <td>product</td>\n",
       "      <td>beyond religion endorsement support another su...</td>\n",
       "    </tr>\n",
       "    <tr>\n",
       "      <th>3</th>\n",
       "      <td>5</td>\n",
       "      <td>A truly unique work for this generation EDIT: ...</td>\n",
       "      <td>positive</td>\n",
       "      <td>product</td>\n",
       "      <td>unique edit point ridiculous literally purchas...</td>\n",
       "    </tr>\n",
       "    <tr>\n",
       "      <th>4</th>\n",
       "      <td>5</td>\n",
       "      <td>Stop kissing frogs 🐸 🐸 🐸 🐸 I've been trying Pa...</td>\n",
       "      <td>positive</td>\n",
       "      <td>product</td>\n",
       "      <td>stop kiss frog try paleo grain free cookbook s...</td>\n",
       "    </tr>\n",
       "    <tr>\n",
       "      <th>...</th>\n",
       "      <td>...</td>\n",
       "      <td>...</td>\n",
       "      <td>...</td>\n",
       "      <td>...</td>\n",
       "      <td>...</td>\n",
       "    </tr>\n",
       "    <tr>\n",
       "      <th>582130</th>\n",
       "      <td>3</td>\n",
       "      <td>It's ok I haven't yet found a cookbook for my ...</td>\n",
       "      <td>neutral</td>\n",
       "      <td>product</td>\n",
       "      <td>want eat</td>\n",
       "    </tr>\n",
       "    <tr>\n",
       "      <th>582131</th>\n",
       "      <td>3</td>\n",
       "      <td>Book is in great condition I have several Al-a...</td>\n",
       "      <td>neutral</td>\n",
       "      <td>product</td>\n",
       "      <td>chance really plan put read</td>\n",
       "    </tr>\n",
       "    <tr>\n",
       "      <th>582132</th>\n",
       "      <td>3</td>\n",
       "      <td>Achieving Career Success on your Terms It's a ...</td>\n",
       "      <td>neutral</td>\n",
       "      <td>product</td>\n",
       "      <td>woman white corporation iwould recommend book ...</td>\n",
       "    </tr>\n",
       "    <tr>\n",
       "      <th>582133</th>\n",
       "      <td>3</td>\n",
       "      <td>good reference got book to have an updated IM ...</td>\n",
       "      <td>neutral</td>\n",
       "      <td>product</td>\n",
       "      <td>detail yet</td>\n",
       "    </tr>\n",
       "    <tr>\n",
       "      <th>582134</th>\n",
       "      <td>3</td>\n",
       "      <td>Fifty Shades Darker Loved the first book and h...</td>\n",
       "      <td>neutral</td>\n",
       "      <td>product</td>\n",
       "      <td>get little boring towards end think need read ...</td>\n",
       "    </tr>\n",
       "  </tbody>\n",
       "</table>\n",
       "<p>582135 rows × 5 columns</p>\n",
       "</div>"
      ],
      "text/plain": [
       "        star_rating                                             review  \\\n",
       "0                 5  CHOOSE  THE RIGHT  COLORING PENCILS This is th...   \n",
       "1                 5  Great Taste, A Little Complicated I'll start b...   \n",
       "2                 5  Beyond Science and Religion...Endorsement and ...   \n",
       "3                 5  A truly unique work for this generation EDIT: ...   \n",
       "4                 5  Stop kissing frogs 🐸 🐸 🐸 🐸 I've been trying Pa...   \n",
       "...             ...                                                ...   \n",
       "582130            3  It's ok I haven't yet found a cookbook for my ...   \n",
       "582131            3  Book is in great condition I have several Al-a...   \n",
       "582132            3  Achieving Career Success on your Terms It's a ...   \n",
       "582133            3  good reference got book to have an updated IM ...   \n",
       "582134            3  Fifty Shades Darker Loved the first book and h...   \n",
       "\n",
       "       sentiment_score review_category  \\\n",
       "0             positive         product   \n",
       "1             positive         product   \n",
       "2             positive         product   \n",
       "3             positive         product   \n",
       "4             positive         product   \n",
       "...                ...             ...   \n",
       "582130         neutral         product   \n",
       "582131         neutral         product   \n",
       "582132         neutral         product   \n",
       "582133         neutral         product   \n",
       "582134         neutral         product   \n",
       "\n",
       "                                                     Text  \n",
       "0       choose right list item use beautiful intricate...  \n",
       "1       great taste start say book amazing world good ...  \n",
       "2       beyond religion endorsement support another su...  \n",
       "3       unique edit point ridiculous literally purchas...  \n",
       "4       stop kiss frog try paleo grain free cookbook s...  \n",
       "...                                                   ...  \n",
       "582130                                           want eat  \n",
       "582131                        chance really plan put read  \n",
       "582132  woman white corporation iwould recommend book ...  \n",
       "582133                                         detail yet  \n",
       "582134  get little boring towards end think need read ...  \n",
       "\n",
       "[582135 rows x 5 columns]"
      ]
     },
     "execution_count": 30,
     "metadata": {},
     "output_type": "execute_result"
    }
   ],
   "source": [
    "df"
   ]
  },
  {
   "cell_type": "code",
   "execution_count": 32,
   "metadata": {},
   "outputs": [
    {
     "name": "stdout",
     "output_type": "stream",
     "text": [
      "<class 'pandas.core.frame.DataFrame'>\n",
      "RangeIndex: 582135 entries, 0 to 582134\n",
      "Data columns (total 5 columns):\n",
      " #   Column           Non-Null Count   Dtype \n",
      "---  ------           --------------   ----- \n",
      " 0   star_rating      582135 non-null  int64 \n",
      " 1   review           582135 non-null  object\n",
      " 2   sentiment_score  582135 non-null  object\n",
      " 3   review_category  582135 non-null  object\n",
      " 4   Text             582135 non-null  object\n",
      "dtypes: int64(1), object(4)\n",
      "memory usage: 22.2+ MB\n"
     ]
    }
   ],
   "source": [
    "df.info()"
   ]
  },
  {
   "cell_type": "code",
   "execution_count": 33,
   "metadata": {},
   "outputs": [
    {
     "data": {
      "text/plain": [
       "5    197774\n",
       "4    181205\n",
       "1     78520\n",
       "3     75613\n",
       "2     49023\n",
       "Name: star_rating, dtype: int64"
      ]
     },
     "execution_count": 33,
     "metadata": {},
     "output_type": "execute_result"
    }
   ],
   "source": [
    "df[\"star_rating\"].value_counts()"
   ]
  },
  {
   "cell_type": "code",
   "execution_count": 34,
   "metadata": {},
   "outputs": [
    {
     "data": {
      "text/plain": [
       "star_rating        0\n",
       "review             0\n",
       "sentiment_score    0\n",
       "review_category    0\n",
       "Text               0\n",
       "dtype: int64"
      ]
     },
     "execution_count": 34,
     "metadata": {},
     "output_type": "execute_result"
    }
   ],
   "source": [
    "df.isna().sum()"
   ]
  },
  {
   "cell_type": "code",
   "execution_count": 35,
   "metadata": {},
   "outputs": [
    {
     "data": {
      "text/html": [
       "<div>\n",
       "<style scoped>\n",
       "    .dataframe tbody tr th:only-of-type {\n",
       "        vertical-align: middle;\n",
       "    }\n",
       "\n",
       "    .dataframe tbody tr th {\n",
       "        vertical-align: top;\n",
       "    }\n",
       "\n",
       "    .dataframe thead th {\n",
       "        text-align: right;\n",
       "    }\n",
       "</style>\n",
       "<table border=\"1\" class=\"dataframe\">\n",
       "  <thead>\n",
       "    <tr style=\"text-align: right;\">\n",
       "      <th></th>\n",
       "      <th>review</th>\n",
       "      <th>Text</th>\n",
       "    </tr>\n",
       "  </thead>\n",
       "  <tbody>\n",
       "    <tr>\n",
       "      <th>0</th>\n",
       "      <td>CHOOSE  THE RIGHT  COLORING PENCILS This is th...</td>\n",
       "      <td>choose right list item use beautiful intricate...</td>\n",
       "    </tr>\n",
       "    <tr>\n",
       "      <th>1</th>\n",
       "      <td>Great Taste, A Little Complicated I'll start b...</td>\n",
       "      <td>great taste start say book amazing world good ...</td>\n",
       "    </tr>\n",
       "    <tr>\n",
       "      <th>2</th>\n",
       "      <td>Beyond Science and Religion...Endorsement and ...</td>\n",
       "      <td>beyond religion endorsement support another su...</td>\n",
       "    </tr>\n",
       "    <tr>\n",
       "      <th>3</th>\n",
       "      <td>A truly unique work for this generation EDIT: ...</td>\n",
       "      <td>unique edit point ridiculous literally purchas...</td>\n",
       "    </tr>\n",
       "    <tr>\n",
       "      <th>4</th>\n",
       "      <td>Stop kissing frogs 🐸 🐸 🐸 🐸 I've been trying Pa...</td>\n",
       "      <td>stop kiss frog try paleo grain free cookbook s...</td>\n",
       "    </tr>\n",
       "  </tbody>\n",
       "</table>\n",
       "</div>"
      ],
      "text/plain": [
       "                                              review  \\\n",
       "0  CHOOSE  THE RIGHT  COLORING PENCILS This is th...   \n",
       "1  Great Taste, A Little Complicated I'll start b...   \n",
       "2  Beyond Science and Religion...Endorsement and ...   \n",
       "3  A truly unique work for this generation EDIT: ...   \n",
       "4  Stop kissing frogs 🐸 🐸 🐸 🐸 I've been trying Pa...   \n",
       "\n",
       "                                                Text  \n",
       "0  choose right list item use beautiful intricate...  \n",
       "1  great taste start say book amazing world good ...  \n",
       "2  beyond religion endorsement support another su...  \n",
       "3  unique edit point ridiculous literally purchas...  \n",
       "4  stop kiss frog try paleo grain free cookbook s...  "
      ]
     },
     "execution_count": 35,
     "metadata": {},
     "output_type": "execute_result"
    }
   ],
   "source": [
    "df[['review','Text']].head()"
   ]
  },
  {
   "cell_type": "code",
   "execution_count": null,
   "metadata": {},
   "outputs": [],
   "source": []
  }
 ],
 "metadata": {
  "colab": {
   "collapsed_sections": [
    "UQ67amRYamFu",
    "n0s4Y9KmaqvA",
    "PsQrL9pYcaCD",
    "oRuQsr1jcpyd",
    "dvQHrvdARMMK",
    "wVqAJNvIUF9I"
   ],
   "name": "1_Data_cleaning_and_feature_extraction.ipynb",
   "provenance": []
  },
  "kernelspec": {
   "display_name": "Python 3 (ipykernel)",
   "language": "python",
   "name": "python3"
  },
  "language_info": {
   "codemirror_mode": {
    "name": "ipython",
    "version": 3
   },
   "file_extension": ".py",
   "mimetype": "text/x-python",
   "name": "python",
   "nbconvert_exporter": "python",
   "pygments_lexer": "ipython3",
   "version": "3.9.12"
  }
 },
 "nbformat": 4,
 "nbformat_minor": 1
}
