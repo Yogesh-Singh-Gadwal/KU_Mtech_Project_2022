{
  "cells": [
    {
      "cell_type": "code",
      "execution_count": 1,
      "metadata": {
        "id": "8-2JOVVwL0k5"
      },
      "outputs": [],
      "source": [
        "import string\n",
        "import re\n",
        "import matplotlib.pyplot as plt\n",
        "import numpy as np\n",
        "\n",
        "from numpy import array, asarray, zeros\n",
        "import pandas as pd\n",
        "from sklearn.model_selection import train_test_split\n",
        "from sklearn.feature_extraction.text import CountVectorizer\n",
        "from sklearn.metrics import precision_score, recall_score, f1_score\n",
        "from sklearn.preprocessing import MultiLabelBinarizer\n",
        "from tqdm import tqdm\n",
        "from sklearn.metrics import classification_report,confusion_matrix\n",
        "\n",
        "from tensorflow import keras\n",
        "from keras.preprocessing.text import Tokenizer\n",
        "from keras_preprocessing.sequence import pad_sequences\n",
        "from keras.layers.core import Activation, Dropout, Dense\n",
        "from tensorflow.keras.layers import Embedding\n",
        "from tensorflow.keras.layers import BatchNormalization\n",
        "from keras.layers import LSTM, CuDNNLSTM, Dense, Dropout, GlobalMaxPool1D, Bidirectional, Conv1D, MaxPooling1D\n",
        "from keras.models import Sequential\n",
        "from keras.callbacks import EarlyStopping, ModelCheckpoint"
      ]
    },
    {
      "cell_type": "code",
      "source": [
        "from google.colab import drive\n",
        "drive.mount('/content/drive')"
      ],
      "metadata": {
        "colab": {
          "base_uri": "https://localhost:8080/"
        },
        "id": "k0iRC1eBL23p",
        "outputId": "24322c51-4496-4c40-e1b6-8dc0ca4d9d3d"
      },
      "execution_count": 2,
      "outputs": [
        {
          "output_type": "stream",
          "name": "stdout",
          "text": [
            "Drive already mounted at /content/drive; to attempt to forcibly remount, call drive.mount(\"/content/drive\", force_remount=True).\n"
          ]
        }
      ]
    },
    {
      "cell_type": "code",
      "source": [
        "%cd /content/drive/My Drive/ML/\n",
        "%ls"
      ],
      "metadata": {
        "colab": {
          "base_uri": "https://localhost:8080/"
        },
        "id": "evzYrhVgMXsP",
        "outputId": "a91b18c7-80af-4a92-9d05-513e8a79d482"
      },
      "execution_count": 3,
      "outputs": [
        {
          "output_type": "stream",
          "name": "stdout",
          "text": [
            "/content/drive/My Drive/ML\n",
            "model_plot4a.png                   project_amazon_review_3_mod.ipynb\n",
            "\u001b[0m\u001b[01;34mmodels\u001b[0m/                            project_amazon_review_4_mod.ipynb\n",
            "\u001b[01;34moutput\u001b[0m/                            project_amazon_review_5_mod.ipynb\n",
            "project_amazon_review_1_mod.ipynb  \u001b[01;34mweights\u001b[0m/\n",
            "project_amazon_review_2_mod.ipynb\n"
          ]
        }
      ]
    },
    {
      "cell_type": "markdown",
      "metadata": {
        "id": "Q2CUSFFQL0k7"
      },
      "source": [
        "### Put category list in list due to make it compatible with MultiLabelBinarizer"
      ]
    },
    {
      "cell_type": "code",
      "execution_count": 4,
      "metadata": {
        "colab": {
          "base_uri": "https://localhost:8080/",
          "height": 206
        },
        "id": "s1cO6SqUL0k9",
        "outputId": "0d27f572-4d5a-48ce-9deb-7a8d5f0737e6"
      },
      "outputs": [
        {
          "output_type": "execute_result",
          "data": {
            "text/plain": [
              "                                                text star_rating  \\\n",
              "0  choose right list item beautiful intricate det...         5.0   \n",
              "1  sorry bill work downtown washington november j...         1.0   \n",
              "2  great taste start say book amazing world good ...         5.0   \n",
              "3  beyond religion endorsement support another su...         5.0   \n",
              "4  unique work generation edit would point ridicu...         5.0   \n",
              "\n",
              "  sentiment_class category_class  \n",
              "0        Positive        product  \n",
              "1        Negative        product  \n",
              "2        Positive        product  \n",
              "3        Positive        product  \n",
              "4        Positive        product  "
            ],
            "text/html": [
              "\n",
              "  <div id=\"df-62250a5f-a86c-4ff8-8b8f-9b5bb01f540a\">\n",
              "    <div class=\"colab-df-container\">\n",
              "      <div>\n",
              "<style scoped>\n",
              "    .dataframe tbody tr th:only-of-type {\n",
              "        vertical-align: middle;\n",
              "    }\n",
              "\n",
              "    .dataframe tbody tr th {\n",
              "        vertical-align: top;\n",
              "    }\n",
              "\n",
              "    .dataframe thead th {\n",
              "        text-align: right;\n",
              "    }\n",
              "</style>\n",
              "<table border=\"1\" class=\"dataframe\">\n",
              "  <thead>\n",
              "    <tr style=\"text-align: right;\">\n",
              "      <th></th>\n",
              "      <th>text</th>\n",
              "      <th>star_rating</th>\n",
              "      <th>sentiment_class</th>\n",
              "      <th>category_class</th>\n",
              "    </tr>\n",
              "  </thead>\n",
              "  <tbody>\n",
              "    <tr>\n",
              "      <th>0</th>\n",
              "      <td>choose right list item beautiful intricate det...</td>\n",
              "      <td>5.0</td>\n",
              "      <td>Positive</td>\n",
              "      <td>product</td>\n",
              "    </tr>\n",
              "    <tr>\n",
              "      <th>1</th>\n",
              "      <td>sorry bill work downtown washington november j...</td>\n",
              "      <td>1.0</td>\n",
              "      <td>Negative</td>\n",
              "      <td>product</td>\n",
              "    </tr>\n",
              "    <tr>\n",
              "      <th>2</th>\n",
              "      <td>great taste start say book amazing world good ...</td>\n",
              "      <td>5.0</td>\n",
              "      <td>Positive</td>\n",
              "      <td>product</td>\n",
              "    </tr>\n",
              "    <tr>\n",
              "      <th>3</th>\n",
              "      <td>beyond religion endorsement support another su...</td>\n",
              "      <td>5.0</td>\n",
              "      <td>Positive</td>\n",
              "      <td>product</td>\n",
              "    </tr>\n",
              "    <tr>\n",
              "      <th>4</th>\n",
              "      <td>unique work generation edit would point ridicu...</td>\n",
              "      <td>5.0</td>\n",
              "      <td>Positive</td>\n",
              "      <td>product</td>\n",
              "    </tr>\n",
              "  </tbody>\n",
              "</table>\n",
              "</div>\n",
              "      <button class=\"colab-df-convert\" onclick=\"convertToInteractive('df-62250a5f-a86c-4ff8-8b8f-9b5bb01f540a')\"\n",
              "              title=\"Convert this dataframe to an interactive table.\"\n",
              "              style=\"display:none;\">\n",
              "        \n",
              "  <svg xmlns=\"http://www.w3.org/2000/svg\" height=\"24px\"viewBox=\"0 0 24 24\"\n",
              "       width=\"24px\">\n",
              "    <path d=\"M0 0h24v24H0V0z\" fill=\"none\"/>\n",
              "    <path d=\"M18.56 5.44l.94 2.06.94-2.06 2.06-.94-2.06-.94-.94-2.06-.94 2.06-2.06.94zm-11 1L8.5 8.5l.94-2.06 2.06-.94-2.06-.94L8.5 2.5l-.94 2.06-2.06.94zm10 10l.94 2.06.94-2.06 2.06-.94-2.06-.94-.94-2.06-.94 2.06-2.06.94z\"/><path d=\"M17.41 7.96l-1.37-1.37c-.4-.4-.92-.59-1.43-.59-.52 0-1.04.2-1.43.59L10.3 9.45l-7.72 7.72c-.78.78-.78 2.05 0 2.83L4 21.41c.39.39.9.59 1.41.59.51 0 1.02-.2 1.41-.59l7.78-7.78 2.81-2.81c.8-.78.8-2.07 0-2.86zM5.41 20L4 18.59l7.72-7.72 1.47 1.35L5.41 20z\"/>\n",
              "  </svg>\n",
              "      </button>\n",
              "      \n",
              "  <style>\n",
              "    .colab-df-container {\n",
              "      display:flex;\n",
              "      flex-wrap:wrap;\n",
              "      gap: 12px;\n",
              "    }\n",
              "\n",
              "    .colab-df-convert {\n",
              "      background-color: #E8F0FE;\n",
              "      border: none;\n",
              "      border-radius: 50%;\n",
              "      cursor: pointer;\n",
              "      display: none;\n",
              "      fill: #1967D2;\n",
              "      height: 32px;\n",
              "      padding: 0 0 0 0;\n",
              "      width: 32px;\n",
              "    }\n",
              "\n",
              "    .colab-df-convert:hover {\n",
              "      background-color: #E2EBFA;\n",
              "      box-shadow: 0px 1px 2px rgba(60, 64, 67, 0.3), 0px 1px 3px 1px rgba(60, 64, 67, 0.15);\n",
              "      fill: #174EA6;\n",
              "    }\n",
              "\n",
              "    [theme=dark] .colab-df-convert {\n",
              "      background-color: #3B4455;\n",
              "      fill: #D2E3FC;\n",
              "    }\n",
              "\n",
              "    [theme=dark] .colab-df-convert:hover {\n",
              "      background-color: #434B5C;\n",
              "      box-shadow: 0px 1px 3px 1px rgba(0, 0, 0, 0.15);\n",
              "      filter: drop-shadow(0px 1px 2px rgba(0, 0, 0, 0.3));\n",
              "      fill: #FFFFFF;\n",
              "    }\n",
              "  </style>\n",
              "\n",
              "      <script>\n",
              "        const buttonEl =\n",
              "          document.querySelector('#df-62250a5f-a86c-4ff8-8b8f-9b5bb01f540a button.colab-df-convert');\n",
              "        buttonEl.style.display =\n",
              "          google.colab.kernel.accessAllowed ? 'block' : 'none';\n",
              "\n",
              "        async function convertToInteractive(key) {\n",
              "          const element = document.querySelector('#df-62250a5f-a86c-4ff8-8b8f-9b5bb01f540a');\n",
              "          const dataTable =\n",
              "            await google.colab.kernel.invokeFunction('convertToInteractive',\n",
              "                                                     [key], {});\n",
              "          if (!dataTable) return;\n",
              "\n",
              "          const docLinkHtml = 'Like what you see? Visit the ' +\n",
              "            '<a target=\"_blank\" href=https://colab.research.google.com/notebooks/data_table.ipynb>data table notebook</a>'\n",
              "            + ' to learn more about interactive tables.';\n",
              "          element.innerHTML = '';\n",
              "          dataTable['output_type'] = 'display_data';\n",
              "          await google.colab.output.renderOutput(dataTable, element);\n",
              "          const docLink = document.createElement('div');\n",
              "          docLink.innerHTML = docLinkHtml;\n",
              "          element.appendChild(docLink);\n",
              "        }\n",
              "      </script>\n",
              "    </div>\n",
              "  </div>\n",
              "  "
            ]
          },
          "metadata": {},
          "execution_count": 4
        }
      ],
      "source": [
        "data = pd.read_csv('output/Amazon_reviews_mid_f1.csv', dtype=str,)\n",
        "data.head()\n"
      ]
    },
    {
      "cell_type": "code",
      "source": [
        "data[\"classes\"]=data[\"star_rating\"]+\", \"+data['sentiment_class']+\", \"+data['category_class']\n",
        "data.head()"
      ],
      "metadata": {
        "colab": {
          "base_uri": "https://localhost:8080/",
          "height": 206
        },
        "id": "QsGsfehte5yp",
        "outputId": "473e6dfe-84c7-4cea-f02d-52818e916a5f"
      },
      "execution_count": 5,
      "outputs": [
        {
          "output_type": "execute_result",
          "data": {
            "text/plain": [
              "                                                text star_rating  \\\n",
              "0  choose right list item beautiful intricate det...         5.0   \n",
              "1  sorry bill work downtown washington november j...         1.0   \n",
              "2  great taste start say book amazing world good ...         5.0   \n",
              "3  beyond religion endorsement support another su...         5.0   \n",
              "4  unique work generation edit would point ridicu...         5.0   \n",
              "\n",
              "  sentiment_class category_class                 classes  \n",
              "0        Positive        product  5.0, Positive, product  \n",
              "1        Negative        product  1.0, Negative, product  \n",
              "2        Positive        product  5.0, Positive, product  \n",
              "3        Positive        product  5.0, Positive, product  \n",
              "4        Positive        product  5.0, Positive, product  "
            ],
            "text/html": [
              "\n",
              "  <div id=\"df-630cd803-5ad0-4eb4-99df-a7422d33cf48\">\n",
              "    <div class=\"colab-df-container\">\n",
              "      <div>\n",
              "<style scoped>\n",
              "    .dataframe tbody tr th:only-of-type {\n",
              "        vertical-align: middle;\n",
              "    }\n",
              "\n",
              "    .dataframe tbody tr th {\n",
              "        vertical-align: top;\n",
              "    }\n",
              "\n",
              "    .dataframe thead th {\n",
              "        text-align: right;\n",
              "    }\n",
              "</style>\n",
              "<table border=\"1\" class=\"dataframe\">\n",
              "  <thead>\n",
              "    <tr style=\"text-align: right;\">\n",
              "      <th></th>\n",
              "      <th>text</th>\n",
              "      <th>star_rating</th>\n",
              "      <th>sentiment_class</th>\n",
              "      <th>category_class</th>\n",
              "      <th>classes</th>\n",
              "    </tr>\n",
              "  </thead>\n",
              "  <tbody>\n",
              "    <tr>\n",
              "      <th>0</th>\n",
              "      <td>choose right list item beautiful intricate det...</td>\n",
              "      <td>5.0</td>\n",
              "      <td>Positive</td>\n",
              "      <td>product</td>\n",
              "      <td>5.0, Positive, product</td>\n",
              "    </tr>\n",
              "    <tr>\n",
              "      <th>1</th>\n",
              "      <td>sorry bill work downtown washington november j...</td>\n",
              "      <td>1.0</td>\n",
              "      <td>Negative</td>\n",
              "      <td>product</td>\n",
              "      <td>1.0, Negative, product</td>\n",
              "    </tr>\n",
              "    <tr>\n",
              "      <th>2</th>\n",
              "      <td>great taste start say book amazing world good ...</td>\n",
              "      <td>5.0</td>\n",
              "      <td>Positive</td>\n",
              "      <td>product</td>\n",
              "      <td>5.0, Positive, product</td>\n",
              "    </tr>\n",
              "    <tr>\n",
              "      <th>3</th>\n",
              "      <td>beyond religion endorsement support another su...</td>\n",
              "      <td>5.0</td>\n",
              "      <td>Positive</td>\n",
              "      <td>product</td>\n",
              "      <td>5.0, Positive, product</td>\n",
              "    </tr>\n",
              "    <tr>\n",
              "      <th>4</th>\n",
              "      <td>unique work generation edit would point ridicu...</td>\n",
              "      <td>5.0</td>\n",
              "      <td>Positive</td>\n",
              "      <td>product</td>\n",
              "      <td>5.0, Positive, product</td>\n",
              "    </tr>\n",
              "  </tbody>\n",
              "</table>\n",
              "</div>\n",
              "      <button class=\"colab-df-convert\" onclick=\"convertToInteractive('df-630cd803-5ad0-4eb4-99df-a7422d33cf48')\"\n",
              "              title=\"Convert this dataframe to an interactive table.\"\n",
              "              style=\"display:none;\">\n",
              "        \n",
              "  <svg xmlns=\"http://www.w3.org/2000/svg\" height=\"24px\"viewBox=\"0 0 24 24\"\n",
              "       width=\"24px\">\n",
              "    <path d=\"M0 0h24v24H0V0z\" fill=\"none\"/>\n",
              "    <path d=\"M18.56 5.44l.94 2.06.94-2.06 2.06-.94-2.06-.94-.94-2.06-.94 2.06-2.06.94zm-11 1L8.5 8.5l.94-2.06 2.06-.94-2.06-.94L8.5 2.5l-.94 2.06-2.06.94zm10 10l.94 2.06.94-2.06 2.06-.94-2.06-.94-.94-2.06-.94 2.06-2.06.94z\"/><path d=\"M17.41 7.96l-1.37-1.37c-.4-.4-.92-.59-1.43-.59-.52 0-1.04.2-1.43.59L10.3 9.45l-7.72 7.72c-.78.78-.78 2.05 0 2.83L4 21.41c.39.39.9.59 1.41.59.51 0 1.02-.2 1.41-.59l7.78-7.78 2.81-2.81c.8-.78.8-2.07 0-2.86zM5.41 20L4 18.59l7.72-7.72 1.47 1.35L5.41 20z\"/>\n",
              "  </svg>\n",
              "      </button>\n",
              "      \n",
              "  <style>\n",
              "    .colab-df-container {\n",
              "      display:flex;\n",
              "      flex-wrap:wrap;\n",
              "      gap: 12px;\n",
              "    }\n",
              "\n",
              "    .colab-df-convert {\n",
              "      background-color: #E8F0FE;\n",
              "      border: none;\n",
              "      border-radius: 50%;\n",
              "      cursor: pointer;\n",
              "      display: none;\n",
              "      fill: #1967D2;\n",
              "      height: 32px;\n",
              "      padding: 0 0 0 0;\n",
              "      width: 32px;\n",
              "    }\n",
              "\n",
              "    .colab-df-convert:hover {\n",
              "      background-color: #E2EBFA;\n",
              "      box-shadow: 0px 1px 2px rgba(60, 64, 67, 0.3), 0px 1px 3px 1px rgba(60, 64, 67, 0.15);\n",
              "      fill: #174EA6;\n",
              "    }\n",
              "\n",
              "    [theme=dark] .colab-df-convert {\n",
              "      background-color: #3B4455;\n",
              "      fill: #D2E3FC;\n",
              "    }\n",
              "\n",
              "    [theme=dark] .colab-df-convert:hover {\n",
              "      background-color: #434B5C;\n",
              "      box-shadow: 0px 1px 3px 1px rgba(0, 0, 0, 0.15);\n",
              "      filter: drop-shadow(0px 1px 2px rgba(0, 0, 0, 0.3));\n",
              "      fill: #FFFFFF;\n",
              "    }\n",
              "  </style>\n",
              "\n",
              "      <script>\n",
              "        const buttonEl =\n",
              "          document.querySelector('#df-630cd803-5ad0-4eb4-99df-a7422d33cf48 button.colab-df-convert');\n",
              "        buttonEl.style.display =\n",
              "          google.colab.kernel.accessAllowed ? 'block' : 'none';\n",
              "\n",
              "        async function convertToInteractive(key) {\n",
              "          const element = document.querySelector('#df-630cd803-5ad0-4eb4-99df-a7422d33cf48');\n",
              "          const dataTable =\n",
              "            await google.colab.kernel.invokeFunction('convertToInteractive',\n",
              "                                                     [key], {});\n",
              "          if (!dataTable) return;\n",
              "\n",
              "          const docLinkHtml = 'Like what you see? Visit the ' +\n",
              "            '<a target=\"_blank\" href=https://colab.research.google.com/notebooks/data_table.ipynb>data table notebook</a>'\n",
              "            + ' to learn more about interactive tables.';\n",
              "          element.innerHTML = '';\n",
              "          dataTable['output_type'] = 'display_data';\n",
              "          await google.colab.output.renderOutput(dataTable, element);\n",
              "          const docLink = document.createElement('div');\n",
              "          docLink.innerHTML = docLinkHtml;\n",
              "          element.appendChild(docLink);\n",
              "        }\n",
              "      </script>\n",
              "    </div>\n",
              "  </div>\n",
              "  "
            ]
          },
          "metadata": {},
          "execution_count": 5
        }
      ]
    },
    {
      "cell_type": "code",
      "execution_count": 6,
      "metadata": {
        "id": "JMh0Z4hqL0k-"
      },
      "outputs": [],
      "source": [
        "X = data[\"text\"]\n",
        "category_names = ['star_rating','sentiment_class', 'category_class']\n",
        "Y = data[category_names]"
      ]
    },
    {
      "cell_type": "code",
      "source": [
        "from sklearn import preprocessing\n",
        "  \n",
        "# label_encoder object knows how to understand word labels.\n",
        "label_encoder = preprocessing.LabelEncoder()\n",
        "\n",
        "# Encode labels in column 'species'.\n",
        "Y[\"sentiment_class\"]= label_encoder.fit_transform(Y[\"sentiment_class\"])\n",
        "Y[\"category_class\"] = label_encoder.fit_transform(Y[\"category_class\"])\n",
        "Y[\"star_rating\"] = Y[\"star_rating\"].astype(float)\n"
      ],
      "metadata": {
        "colab": {
          "base_uri": "https://localhost:8080/"
        },
        "id": "xfs16ynzQHI6",
        "outputId": "9e1a8e38-5a7d-44f2-befa-dfce95b91640"
      },
      "execution_count": 7,
      "outputs": [
        {
          "output_type": "stream",
          "name": "stderr",
          "text": [
            "/usr/local/lib/python3.7/dist-packages/ipykernel_launcher.py:7: SettingWithCopyWarning: \n",
            "A value is trying to be set on a copy of a slice from a DataFrame.\n",
            "Try using .loc[row_indexer,col_indexer] = value instead\n",
            "\n",
            "See the caveats in the documentation: https://pandas.pydata.org/pandas-docs/stable/user_guide/indexing.html#returning-a-view-versus-a-copy\n",
            "  import sys\n",
            "/usr/local/lib/python3.7/dist-packages/ipykernel_launcher.py:8: SettingWithCopyWarning: \n",
            "A value is trying to be set on a copy of a slice from a DataFrame.\n",
            "Try using .loc[row_indexer,col_indexer] = value instead\n",
            "\n",
            "See the caveats in the documentation: https://pandas.pydata.org/pandas-docs/stable/user_guide/indexing.html#returning-a-view-versus-a-copy\n",
            "  \n",
            "/usr/local/lib/python3.7/dist-packages/ipykernel_launcher.py:9: SettingWithCopyWarning: \n",
            "A value is trying to be set on a copy of a slice from a DataFrame.\n",
            "Try using .loc[row_indexer,col_indexer] = value instead\n",
            "\n",
            "See the caveats in the documentation: https://pandas.pydata.org/pandas-docs/stable/user_guide/indexing.html#returning-a-view-versus-a-copy\n",
            "  if __name__ == '__main__':\n"
          ]
        }
      ]
    },
    {
      "cell_type": "markdown",
      "metadata": {
        "id": "CBnhPFcgL0k-"
      },
      "source": [
        "### Use stratified splits because of class imbalance"
      ]
    },
    {
      "cell_type": "code",
      "execution_count": 8,
      "metadata": {
        "id": "HGFPNUDQL0k-"
      },
      "outputs": [],
      "source": [
        "test_split = 0.2\n",
        "\n",
        "# Initial train and test split.\n",
        "x_train, x_test, y_train, y_test = train_test_split(X, Y, test_size=test_split, stratify = Y.values, shuffle = True, random_state=4)"
      ]
    },
    {
      "cell_type": "code",
      "execution_count": 9,
      "metadata": {
        "colab": {
          "base_uri": "https://localhost:8080/"
        },
        "id": "TFsyKdnsL0k-",
        "outputId": "6a576e7f-2c14-4e1a-c4e9-8ae48e8b3058"
      },
      "outputs": [
        {
          "output_type": "stream",
          "name": "stdout",
          "text": [
            "(44100,)\n",
            "(11026,)\n",
            "(44100, 3)\n",
            "(11026, 3)\n"
          ]
        }
      ],
      "source": [
        "print(x_train.shape)\n",
        "print(x_test.shape)\n",
        "print(y_train.shape)\n",
        "print(y_test.shape)"
      ]
    },
    {
      "cell_type": "code",
      "execution_count": 10,
      "metadata": {
        "id": "6WnBxmuVL0k_"
      },
      "outputs": [],
      "source": [
        "# vectorizer = CountVectorizer(tokenizer = lambda x: x.split(\",\"), binary = \"true\")\n",
        "# y_train = vectorizer.fit_transform(y_train).toarray()\n",
        "# y_test = vectorizer.transform(y_test).toarray()\n",
        "# Import label encoder\n"
      ]
    },
    {
      "cell_type": "markdown",
      "metadata": {
        "id": "M2SD5ppFL0k_"
      },
      "source": [
        "We first get percentile estimates of the sequence lengths. The purpose will be clear in a moment."
      ]
    },
    {
      "cell_type": "code",
      "execution_count": 11,
      "metadata": {
        "colab": {
          "base_uri": "https://localhost:8080/"
        },
        "id": "BKTkiy-mL0k_",
        "outputId": "bdb018e0-c4f0-49aa-a112-643e49dce826"
      },
      "outputs": [
        {
          "output_type": "execute_result",
          "data": {
            "text/plain": [
              "count    55126.000000\n",
              "mean        84.183235\n",
              "std        160.130414\n",
              "min         10.000000\n",
              "25%         16.000000\n",
              "50%         33.000000\n",
              "75%         84.000000\n",
              "max       3759.000000\n",
              "Name: text, dtype: float64"
            ]
          },
          "metadata": {},
          "execution_count": 11
        }
      ],
      "source": [
        "data[\"text\"].apply(lambda x: len(x.split(\" \"))).describe()"
      ]
    },
    {
      "cell_type": "markdown",
      "metadata": {
        "id": "9ecYzbn0L0k_"
      },
      "source": [
        "Notice that 50% of the abstracts have a length of 8. So, any number close to that value is a good enough approximate for the maximum sequence length. However, I will chose max_len according to max value"
      ]
    },
    {
      "cell_type": "code",
      "execution_count": 12,
      "metadata": {
        "colab": {
          "base_uri": "https://localhost:8080/"
        },
        "id": "b5uZMOoJL0k_",
        "outputId": "40a8cb59-54ad-4cbb-9b87-197a343a94ce"
      },
      "outputs": [
        {
          "output_type": "stream",
          "name": "stdout",
          "text": [
            "Vocab size:  92076\n"
          ]
        }
      ],
      "source": [
        "tokenizer = Tokenizer()\n",
        "tokenizer.fit_on_texts(x_train)\n",
        "\n",
        "x_train = tokenizer.texts_to_sequences(x_train)\n",
        "x_test = tokenizer.texts_to_sequences(x_test)\n",
        "\n",
        "vocab_size = len(tokenizer.word_index) + 1\n",
        "print(\"Vocab size: \", vocab_size)\n",
        "\n",
        "maxlen = 100\n",
        "\n",
        "x_train = pad_sequences(x_train, padding='post', maxlen=maxlen)\n",
        "x_test = pad_sequences(x_test, padding='post', maxlen=maxlen)"
      ]
    },
    {
      "cell_type": "code",
      "execution_count": 13,
      "metadata": {
        "colab": {
          "base_uri": "https://localhost:8080/"
        },
        "id": "1LJiulhVL0lA",
        "outputId": "3d25de96-8e0a-4da2-8d9d-c68de60df787"
      },
      "outputs": [
        {
          "output_type": "stream",
          "name": "stdout",
          "text": [
            "(44100, 100)\n",
            "(11026, 100)\n",
            "(44100, 3)\n",
            "(11026, 3)\n"
          ]
        }
      ],
      "source": [
        "print(x_train.shape)\n",
        "print(x_test.shape)\n",
        "print(y_train.shape)\n",
        "print(y_test.shape)"
      ]
    },
    {
      "cell_type": "code",
      "execution_count": 14,
      "metadata": {
        "id": "Padzc4-rL0lA"
      },
      "outputs": [],
      "source": [
        "embeddings_dictionary = dict()\n",
        "\n",
        "glove_file = open('output/glove.6B.100d.txt', encoding=\"utf8\")\n",
        "\n",
        "for line in glove_file:\n",
        "    records = line.split()\n",
        "    word = records[0]\n",
        "    vector_dimensions = asarray(records[1:], dtype='float32')\n",
        "    embeddings_dictionary[word] = vector_dimensions\n",
        "glove_file.close()\n",
        "\n",
        "embedding_matrix = zeros((vocab_size, 100))\n",
        "for word, index in tokenizer.word_index.items():\n",
        "    embedding_vector = embeddings_dictionary.get(word)\n",
        "    if embedding_vector is not None:\n",
        "        embedding_matrix[index] = embedding_vector"
      ]
    },
    {
      "cell_type": "code",
      "execution_count": 15,
      "metadata": {
        "id": "aI4mY_i4L0lA"
      },
      "outputs": [],
      "source": [
        "# # MODEL 1\n",
        "\n",
        "# model = keras.Sequential()\n",
        "# # Configuring the parameters\n",
        "# model.add(Embedding(vocab_size, 100, weights=[embedding_matrix], trainable=False))\n",
        "# # model.add(Embedding(vocab_size, 100))\n",
        "# model.add(LSTM(128, return_sequences=True))\n",
        "# model.add(BatchNormalization())\n",
        "# # Adding a dropout layer\n",
        "# model.add(Dropout(0.4))\n",
        "# model.add(LSTM(64))\n",
        "# model.add(Dropout(0.3))\n",
        "# # Adding a dense output layer with sigmoid activation\n",
        "# model.add(Dense(y_train.shape[1], activation='sigmoid'))\n",
        "\n",
        "\n",
        "# model.summary()"
      ]
    },
    {
      "cell_type": "code",
      "execution_count": 16,
      "metadata": {
        "id": "3Dpc1yVAL0lB",
        "colab": {
          "base_uri": "https://localhost:8080/"
        },
        "outputId": "1ccb0409-2eb0-43c1-ad46-b40bc43b7c4d"
      },
      "outputs": [
        {
          "output_type": "stream",
          "name": "stdout",
          "text": [
            "Model: \"sequential\"\n",
            "_________________________________________________________________\n",
            " Layer (type)                Output Shape              Param #   \n",
            "=================================================================\n",
            " embedding (Embedding)       (None, 100, 128)          11785728  \n",
            "                                                                 \n",
            " dropout (Dropout)           (None, 100, 128)          0         \n",
            "                                                                 \n",
            " conv1d (Conv1D)             (None, 98, 256)           98560     \n",
            "                                                                 \n",
            " max_pooling1d (MaxPooling1D  (None, 32, 256)          0         \n",
            " )                                                               \n",
            "                                                                 \n",
            " conv1d_1 (Conv1D)           (None, 30, 512)           393728    \n",
            "                                                                 \n",
            " max_pooling1d_1 (MaxPooling  (None, 10, 512)          0         \n",
            " 1D)                                                             \n",
            "                                                                 \n",
            " dropout_1 (Dropout)         (None, 10, 512)           0         \n",
            "                                                                 \n",
            " bidirectional (Bidirectiona  (None, 10, 512)          1576960   \n",
            " l)                                                              \n",
            "                                                                 \n",
            " global_max_pooling1d (Globa  (None, 512)              0         \n",
            " lMaxPooling1D)                                                  \n",
            "                                                                 \n",
            " dense (Dense)               (None, 256)               131328    \n",
            "                                                                 \n",
            " dense_1 (Dense)             (None, 128)               32896     \n",
            "                                                                 \n",
            " dropout_2 (Dropout)         (None, 128)               0         \n",
            "                                                                 \n",
            " dense_2 (Dense)             (None, 3)                 387       \n",
            "                                                                 \n",
            "=================================================================\n",
            "Total params: 14,019,587\n",
            "Trainable params: 14,019,587\n",
            "Non-trainable params: 0\n",
            "_________________________________________________________________\n"
          ]
        }
      ],
      "source": [
        "# Constants for model configuration\n",
        "GPU = True\n",
        "MAX_WORDS = 100\n",
        "NO_OF_CLASSES = 3\n",
        "VOCAB_SIZE = vocab_size\n",
        "EPOCHS = 50\n",
        "BATCH_SIZE = 1024\n",
        "# Making the model\n",
        "model = Sequential()\n",
        "model.add(Embedding(VOCAB_SIZE, 128, input_length=MAX_WORDS))\n",
        "\n",
        "model.add(Dropout(0.5))\n",
        "\n",
        "model.add(Conv1D(filters=256, kernel_size=3, activation='relu'))\n",
        "model.add(MaxPooling1D(3))\n",
        "\n",
        "model.add(Conv1D(filters=512, kernel_size=3, activation='relu'))\n",
        "model.add(MaxPooling1D(3))\n",
        "\n",
        "model.add(Dropout(0.5))\n",
        "\n",
        "model.add(Bidirectional(CuDNNLSTM(256, return_sequences = True)))\n",
        "\n",
        "model.add(GlobalMaxPool1D())\n",
        "\n",
        "model.add(Dense(256, activation=\"relu\"))\n",
        "\n",
        "model.add(Dense(128, activation=\"relu\"))\n",
        "\n",
        "model.add(Dropout(0.5))\n",
        "\n",
        "model.add(Dense(NO_OF_CLASSES, activation='softmax'))\n",
        "\n",
        "\n",
        "model.summary()"
      ]
    },
    {
      "cell_type": "code",
      "source": [
        "# Compiling the model\n",
        "model.compile(loss='categorical_crossentropy', optimizer='adam', metrics=['accuracy'])"
      ],
      "metadata": {
        "id": "ajvJiGyTmZS3"
      },
      "execution_count": 17,
      "outputs": []
    },
    {
      "cell_type": "code",
      "source": [
        "# Added early stopping system to monnitor validation loss on each epoch and stops training when validation loss start to increase\n",
        "monitor = EarlyStopping(monitor='val_loss', \n",
        "                        patience=5, \n",
        "                        mode='min',\n",
        "                        restore_best_weights=True)\n",
        "\n",
        "# Saving the model in every epochs for some experiments\n",
        "checkpoint = ModelCheckpoint(filepath=\"weights/model.{epoch:02d}-{val_loss:.2f}.h5\")"
      ],
      "metadata": {
        "id": "ua112nwsmZYL"
      },
      "execution_count": 18,
      "outputs": []
    },
    {
      "cell_type": "code",
      "source": [
        "# Starting the training process\n",
        "history =  model.fit(x_train, \n",
        "          y_train, \n",
        "          validation_data=(x_test, y_test), \n",
        "          epochs=EPOCHS, \n",
        "          batch_size=BATCH_SIZE, \n",
        "          callbacks=[monitor, checkpoint])"
      ],
      "metadata": {
        "colab": {
          "base_uri": "https://localhost:8080/"
        },
        "id": "yUtQiOz7mZa3",
        "outputId": "385e4d27-d5f4-4e93-933b-79f0b4cfb590"
      },
      "execution_count": 19,
      "outputs": [
        {
          "output_type": "stream",
          "name": "stdout",
          "text": [
            "Epoch 1/50\n",
            "44/44 [==============================] - 11s 140ms/step - loss: 435.8663 - accuracy: 0.8774 - val_loss: 1551.8376 - val_accuracy: 0.9093\n",
            "Epoch 2/50\n",
            "44/44 [==============================] - 5s 112ms/step - loss: 4433.5576 - accuracy: 0.8933 - val_loss: 8863.8232 - val_accuracy: 0.9093\n",
            "Epoch 3/50\n",
            "44/44 [==============================] - 5s 115ms/step - loss: 15679.7402 - accuracy: 0.8935 - val_loss: 24651.3848 - val_accuracy: 0.9093\n",
            "Epoch 4/50\n",
            "44/44 [==============================] - 5s 118ms/step - loss: 36035.6484 - accuracy: 0.8945 - val_loss: 49904.7695 - val_accuracy: 0.9093\n",
            "Epoch 5/50\n",
            "44/44 [==============================] - 5s 120ms/step - loss: 66263.0547 - accuracy: 0.8941 - val_loss: 84805.1016 - val_accuracy: 0.9093\n",
            "Epoch 6/50\n",
            "44/44 [==============================] - 5s 116ms/step - loss: 105525.4375 - accuracy: 0.8934 - val_loss: 129240.0156 - val_accuracy: 0.9093\n"
          ]
        }
      ]
    },
    {
      "cell_type": "code",
      "source": [
        "# Saving the model\n",
        "model.save('weights/model_best_CuDNNLSTM.h5')"
      ],
      "metadata": {
        "id": "9eIDES2zmZdj"
      },
      "execution_count": 20,
      "outputs": []
    },
    {
      "cell_type": "code",
      "source": [],
      "metadata": {
        "id": "_W6yCvDCmZgG"
      },
      "execution_count": 20,
      "outputs": []
    },
    {
      "cell_type": "code",
      "source": [
        "model2 = keras.models.load_model('weights/model_best_CuDNNLSTM.h5')"
      ],
      "metadata": {
        "id": "gXP05XggmZiy"
      },
      "execution_count": 21,
      "outputs": []
    },
    {
      "cell_type": "code",
      "source": [
        "model2.compile(loss='categorical_crossentropy', optimizer='adam', metrics=['accuracy'])"
      ],
      "metadata": {
        "id": "adOAyX8_mZld"
      },
      "execution_count": 22,
      "outputs": []
    },
    {
      "cell_type": "code",
      "source": [],
      "metadata": {
        "id": "XF3IsmURmZoL"
      },
      "execution_count": 22,
      "outputs": []
    },
    {
      "cell_type": "code",
      "source": [
        "review = \"product great\"\n",
        "\n",
        "review_vec = tokenizer.texts_to_sequences([review])\n",
        "    \n",
        "review_vec_pad = pad_sequences(review_vec, MAX_WORDS, padding='post')\n",
        "    \n",
        "# Predicting the class\n",
        "# predict_class = model2.predict_classes(review_vec_pad)\n",
        "predict_x=model.predict(review_vec_pad) \n",
        "classes_x=np.argmax(predict_x,axis=1)\n",
        "    \n",
        "# Predicting probs\n",
        "predict_prob = model2.predict(review_vec_pad)\n",
        "    \n",
        "# Printing the class and prob values\n",
        "print(classes_x[0] + 1, predict_prob)"
      ],
      "metadata": {
        "colab": {
          "base_uri": "https://localhost:8080/"
        },
        "id": "uHkCQPeBmZq2",
        "outputId": "8f6e179f-7305-43f6-b4aa-6481979ee72b"
      },
      "execution_count": 23,
      "outputs": [
        {
          "output_type": "stream",
          "name": "stdout",
          "text": [
            "1/1 [==============================] - 0s 391ms/step\n",
            "1/1 [==============================] - 0s 280ms/step\n",
            "1 [[1. 0. 0.]]\n"
          ]
        }
      ]
    },
    {
      "cell_type": "code",
      "source": [],
      "metadata": {
        "id": "LqXhAz_lmZt1"
      },
      "execution_count": 23,
      "outputs": []
    },
    {
      "cell_type": "code",
      "source": [],
      "metadata": {
        "id": "bHC54MKCmZwO"
      },
      "execution_count": 23,
      "outputs": []
    },
    {
      "cell_type": "code",
      "execution_count": 24,
      "metadata": {
        "id": "WfWGGaW-L0lB"
      },
      "outputs": [],
      "source": [
        "# METRICS = [\n",
        "# #     keras.metrics.BinaryAccuracy(name='accuracy'),\n",
        "#     \"categorical_accuracy\",\n",
        "#     keras.metrics.Precision(name='precision'),\n",
        "#     keras.metrics.Recall(name='recall'),\n",
        "# ]"
      ]
    },
    {
      "cell_type": "code",
      "execution_count": 25,
      "metadata": {
        "id": "4jRZtgnJL0lB"
      },
      "outputs": [],
      "source": [
        "# # Define optimizer\n",
        "# optimizer = keras.optimizers.Adam(learning_rate=5e-5)\n",
        "\n",
        "# model.compile(loss='binary_crossentropy', optimizer=optimizer, metrics = METRICS)"
      ]
    },
    {
      "cell_type": "code",
      "execution_count": 26,
      "metadata": {
        "id": "LTge81uqL0lB"
      },
      "outputs": [],
      "source": [
        "# history = model.fit(x_train,y_train,\n",
        "#                     epochs = 5,\n",
        "#                     verbose = 1,\n",
        "#                     validation_split=0.3,\n",
        "#                     batch_size=128)"
      ]
    },
    {
      "cell_type": "code",
      "execution_count": 27,
      "metadata": {
        "id": "ITr50uXBL0lC"
      },
      "outputs": [],
      "source": [
        "# model.save(\"models/model_last.h5\")"
      ]
    },
    {
      "cell_type": "code",
      "execution_count": 30,
      "metadata": {
        "colab": {
          "base_uri": "https://localhost:8080/",
          "height": 296
        },
        "id": "amdEMqtiL0lC",
        "outputId": "78ff0b0d-a633-4d29-f8f8-2e6a00dd53b3"
      },
      "outputs": [
        {
          "output_type": "display_data",
          "data": {
            "text/plain": [
              "<Figure size 432x288 with 1 Axes>"
            ],
            "image/png": "[encoded data removed]"
          },
          "metadata": {
            "needs_background": "light"
          }
        }
      ],
      "source": [
        "def plot_result(item):\n",
        "    plt.plot(history.history[item], label=item)\n",
        "    plt.plot(history.history[\"val_\" + item], label=\"val_\" + item)\n",
        "    plt.xlabel(\"Epochs\")\n",
        "    plt.ylabel(item)\n",
        "    plt.title(\"Train and Validation {} Over Epochs\".format(item), fontsize=14)\n",
        "    plt.legend()\n",
        "    plt.grid()\n",
        "    plt.show()\n",
        "\n",
        "\n",
        "plot_result(\"loss\")\n"
      ]
    },
    {
      "cell_type": "code",
      "source": [
        "plot_result(\"accuracy\")"
      ],
      "metadata": {
        "colab": {
          "base_uri": "https://localhost:8080/",
          "height": 296
        },
        "id": "4vDfDH39tNiC",
        "outputId": "5443b993-de94-499b-ae0b-2a377c0a9783"
      },
      "execution_count": 32,
      "outputs": [
        {
          "output_type": "display_data",
          "data": {
            "text/plain": [
              "<Figure size 432x288 with 1 Axes>"
            ],
            "image/png": "[encoded data removed]"
          },
          "metadata": {
            "needs_background": "light"
          }
        }
      ]
    },
    {
      "cell_type": "markdown",
      "metadata": {
        "id": "vDgjelYBL0lC"
      },
      "source": [
        "## Evaluate the model"
      ]
    },
    {
      "cell_type": "code",
      "execution_count": null,
      "metadata": {
        "id": "n58t2f4mL0lC"
      },
      "outputs": [],
      "source": [
        "from sklearn.metrics import precision_score, recall_score, f1_score\n",
        "\n",
        "predictions=model.predict([x_test])\n",
        "thresholds=[0.1,0.2,0.3,0.4,0.5,0.6,0.7]\n",
        "\n",
        "for val in thresholds:\n",
        "    print(\"For threshold: \", val)\n",
        "    pred=predictions.copy()\n",
        "  \n",
        "    pred[pred>=val]=1\n",
        "    pred[pred<val]=0\n",
        "  \n",
        "    precision = precision_score(y_test, pred, average='micro')\n",
        "    recall = recall_score(y_test, pred, average='micro')\n",
        "    f1 = f1_score(y_test, pred, average='micro')\n",
        "   \n",
        "    print(\"Micro-average quality numbers\")\n",
        "    print(\"Precision: {:.4f}, Recall: {:.4f}, F1-measure: {:.4f}\".format(precision, recall, f1))"
      ]
    },
    {
      "cell_type": "code",
      "source": [
        "Y_pred = model.predict(x_test)\n"
      ],
      "metadata": {
        "id": "gqgU8r14Ymr2"
      },
      "execution_count": null,
      "outputs": []
    },
    {
      "cell_type": "code",
      "execution_count": null,
      "metadata": {
        "id": "2wkhKMVIL0lC"
      },
      "outputs": [],
      "source": [
        "def predict_sample(text):\n",
        "    encoded_text = tokenizer.texts_to_sequences(text)\n",
        "    \n",
        "    padded_docs = pad_sequences(encoded_text, maxlen=maxlen, padding='post')\n",
        "    \n",
        "    pred = model.predict(padded_docs).tolist()\n",
        "    for i in range(len(pred[0])):\n",
        "        if(pred[0][i] < 0.4):\n",
        "            pred[0][i] = 0\n",
        "        else:\n",
        "            pred[0][i] = 1\n",
        "    \n",
        "    print(\"Predicted tags -->\", vectorizer.inverse_transform(pred[0])[0])"
      ]
    },
    {
      "cell_type": "code",
      "execution_count": null,
      "metadata": {
        "id": "tfNQkuy5L0lD"
      },
      "outputs": [],
      "source": [
        "import pickle\n",
        "\n",
        "# saving\n",
        "with open('models/tokenizer_last.pickle', 'wb') as handle:\n",
        "    pickle.dump(tokenizer, handle, protocol=pickle.HIGHEST_PROTOCOL)"
      ]
    },
    {
      "cell_type": "code",
      "execution_count": null,
      "metadata": {
        "id": "vwGXzsOwL0lD"
      },
      "outputs": [],
      "source": [
        "import dill\n",
        "\n",
        "dill.dumps(vectorizer, open('models/vectorizer.pkl', 'wb'))"
      ]
    },
    {
      "cell_type": "code",
      "execution_count": null,
      "metadata": {
        "id": "WddgmI8YL0lD"
      },
      "outputs": [],
      "source": [
        "from tensorflow import keras\n",
        "model = keras.models.load_model('models/model_last.h5')"
      ]
    },
    {
      "cell_type": "code",
      "execution_count": null,
      "metadata": {
        "id": "-25-ngTNL0lD"
      },
      "outputs": [],
      "source": [
        "import pickle\n",
        "\n",
        "# loading\n",
        "with open('models/tokenizer_last.pickle', 'rb') as handle:\n",
        "    tokenizer = pickle.load(handle)"
      ]
    },
    {
      "cell_type": "code",
      "execution_count": null,
      "metadata": {
        "id": "u2-17RcRL0lD"
      },
      "outputs": [],
      "source": [
        "encoded_text = tokenizer.texts_to_sequences(data[\"text\"][5])\n",
        "    \n",
        "padded_docs = pad_sequences(encoded_text, maxlen=100, padding='post')\n",
        "\n",
        "pred = model.predict(padded_docs).tolist()\n",
        "for i in range(len(pred[0])):\n",
        "    if(pred[0][i] < 0.4):\n",
        "        pred[0][i] = 0\n",
        "    else:\n",
        "        pred[0][i] = 1\n",
        "\n",
        "vectorizer.inverse_transform(pred)[0]"
      ]
    }
  ],
  "metadata": {
    "kernelspec": {
      "display_name": "Python 3 (ipykernel)",
      "language": "python",
      "name": "python3"
    },
    "language_info": {
      "codemirror_mode": {
        "name": "ipython",
        "version": 3
      },
      "file_extension": ".py",
      "mimetype": "text/x-python",
      "name": "python",
      "nbconvert_exporter": "python",
      "pygments_lexer": "ipython3",
      "version": "3.9.12"
    },
    "vscode": {
      "interpreter": {
        "hash": "709a9979bd33cf9f10abb3e3a3ff77d3a2a63a6deba24ffb30c74e97b51e3150"
      }
    },
    "colab": {
      "provenance": []
    },
    "accelerator": "GPU",
    "gpuClass": "standard"
  },
  "nbformat": 4,
  "nbformat_minor": 0
}